{
 "cells": [
  {
   "cell_type": "markdown",
   "metadata": {
    "id": "GmBiKZH9MBUT"
   },
   "source": [
    "# Store Sales - Time Series Forecasting \n"
   ]
  },
  {
   "cell_type": "markdown",
   "metadata": {
    "id": "QC-s0Zii2WCI"
   },
   "source": [
    "<img src='https://drive.google.com/uc?export=view&id=1g2YT_grNukNIA79WR9c02naVEZju5u8e' width=25000px>"
   ]
  },
  {
   "cell_type": "markdown",
   "metadata": {
    "id": "MczXYJB2UqlZ"
   },
   "source": [
    "## **`Business problem statement`**\n",
    "\n",
    "In this “getting started” competition, you’ll use time-series forecasting to forecast store sales on data from Corporación Favorita, a large Ecuadorian-based grocery retailer.\n",
    "\n",
    "Specifically, you'll build a model that more accurately predicts the unit sales for thousands of items sold at different Favorita stores. You'll practice your machine learning skills with an approachable training dataset of dates, store, and item information, promotions, and unit sales."
   ]
  },
  {
   "cell_type": "markdown",
   "metadata": {
    "id": "oE_U6hK_Us4I"
   },
   "source": [
    "## **`Dataset Description`**\n",
    "\n",
    "In this competition, you will predict sales for the thousands of product families sold at Favorita stores located in Ecuador. The training data includes dates, store and product information, whether that item was being promoted, as well as the sales numbers. Additional files include supplementary information that may be useful in building your models."
   ]
  },
  {
   "cell_type": "markdown",
   "metadata": {
    "id": "7pbkH9bUUtxB"
   },
   "source": [
    "## **`File Descriptions and Data Field Information`**\n",
    "\n",
    "`train.csv` :\n",
    "\n",
    "The training data, comprising time series of features store_nbr, family, and onpromotion as well as the target sales.\n",
    "store_nbr identifies the store at which the products are sold.\n",
    "family identifies the type of product sold.\n",
    "sales gives the total sales for a product family at a particular store at a given date. Fractional values are possible since products can be sold in fractional units (1.5 kg of cheese, for instance, as opposed to 1 bag of chips).\n",
    "onpromotion gives the total number of items in a product family that were being promoted at a store at a given date.\n",
    "\n",
    "`test.csv` :\n",
    "\n",
    "The test data, having the same features as the training data. You will predict the target sales for the dates in this file.\n",
    "The dates in the test data are for the 15 days after the last date in the training data.\n",
    "\n",
    "`sample_submission.csv` : \n",
    "\n",
    "A sample submission file in the correct format.\n",
    "stores.csv\n",
    "Store metadata, including city, state, type, and cluster.\n",
    "cluster is a grouping of similar stores.\n",
    "\n",
    "`oil.csv` : \n",
    "\n",
    "Daily oil price. Includes values during both the train and test data timeframes. (Ecuador is an oil-dependent country and it's economical health is highly vulnerable to shocks in oil prices.)\n",
    "\n",
    "`holidays_events.csv` : \n",
    "\n",
    "Holidays and Events, with metadata\n",
    "NOTE: Pay special attention to the transferred column. A holiday that is transferred officially falls on that calendar day, but was moved to another date by the government. A transferred day is more like a normal day than a holiday. To find the day that it was actually celebrated, look for the corresponding row where type is Transfer. For example, the holiday Independencia de Guayaquil was transferred from 2012-10-09 to 2012-10-12, which means it was celebrated on 2012-10-12. Days that are type Bridge are extra days that are added to a holiday (e.g., to extend the break across a long weekend). These are frequently made up by the type Work Day which is a day not normally scheduled for work (e.g., Saturday) that is meant to payback the Bridge.\n",
    "Additional holidays are days added a regular calendar holiday, for example, as typically happens around Christmas (making Christmas Eve a holiday).\n",
    "\n",
    "`Additional Notes` : \n",
    "\n",
    "Wages in the public sector are paid every two weeks on the 15 th and on the last day of the month. Supermarket sales could be affected by this.\n",
    "A magnitude 7.8 earthquake struck Ecuador on April 16, 2016. People rallied in relief efforts donating water and other first need products which greatly affected supermarket sales for several weeks after the earthquake."
   ]
  },
  {
   "cell_type": "markdown",
   "metadata": {
    "id": "IxyL1aHw4OMV"
   },
   "source": [
    "<img src='https://drive.google.com/uc?export=view&id=1Vjxyj0RL7uYkNQ0xpMiILOPUJpAVpc7l' width=1000px>\n"
   ]
  },
  {
   "cell_type": "markdown",
   "metadata": {
    "id": "PJCv49kWUt0F"
   },
   "source": [
    "## `Evaluation` :\n",
    "The evaluation metric for this competition is Root Mean Squared Logarithmic Error.\n",
    "\n",
    "The RMSLE is calculated as:\n",
    "\n",
    "$$RMSLE = \\sqrt{ \\frac{1}{n} \\sum_{i=1}^n \\left(\\log (1 + \\hat{y}_i) - \\log (1 + y_i)\\right)^2}$$\n",
    "\n",
    "where:\n",
    "\n",
    " $n$ is the total number of instances,\n",
    "\n",
    " $\\hat{y}_i$ is the predicted value of the target for instance (i),\n",
    "\n",
    " ${y}_i$ is the actual value of the target for instance (i)\n",
    " \n",
    " $log$ is the natural logarithm."
   ]
  },
  {
   "cell_type": "markdown",
   "metadata": {
    "id": "zoSGbXldMG7f"
   },
   "source": [
    "# Install and import libraries"
   ]
  },
  {
   "cell_type": "code",
   "execution_count": 1,
   "metadata": {
    "executionInfo": {
     "elapsed": 16990,
     "status": "ok",
     "timestamp": 1677545037029,
     "user": {
      "displayName": "Rahul Gowda",
      "userId": "07531651890169502464"
     },
     "user_tz": -330
    },
    "id": "cNV7TnWJMBUY"
   },
   "outputs": [],
   "source": [
    "!pip install opendatasets -q\n",
    "!pip install xgboost -q"
   ]
  },
  {
   "cell_type": "code",
   "execution_count": 2,
   "metadata": {
    "executionInfo": {
     "elapsed": 4909,
     "status": "ok",
     "timestamp": 1677545041930,
     "user": {
      "displayName": "Rahul Gowda",
      "userId": "07531651890169502464"
     },
     "user_tz": -330
    },
    "id": "rziJDzGXMJAv"
   },
   "outputs": [],
   "source": [
    "#Data Importing\n",
    "import opendatasets as od\n",
    "import os\n",
    "import calendar\n",
    "from datetime import datetime\n",
    "\n",
    "# Data wrangling\n",
    "import pandas as pd\n",
    "import numpy as np\n",
    "\n",
    "# Data visualisation\n",
    "import seaborn as sns\n",
    "sns.set_style('darkgrid')\n",
    "import matplotlib as plt\n",
    "import matplotlib.pyplot as plt\n",
    "from pylab import rcParams\n",
    "import plotly.graph_objects as go\n",
    "from plotly.subplots import make_subplots\n",
    "import plotly.express as px\n",
    "import plotly.figure_factory as ff\n",
    "import plotly.offline as offline\n",
    "import plotly.graph_objs as go\n",
    "%matplotlib inline \n",
    "\n",
    "# Remove warnings\n",
    "import warnings\n",
    "warnings.filterwarnings('ignore')\n",
    "\n",
    "#sklearn\n",
    "from sklearn.model_selection import train_test_split\n",
    "from sklearn.metrics import r2_score\n",
    "from sklearn.metrics import mean_squared_error\n",
    "from sklearn.metrics import mean_squared_log_error\n",
    "from sklearn.metrics import mean_absolute_error\n",
    "from sklearn.metrics import mean_absolute_percentage_error\n",
    "from sklearn.model_selection import GridSearchCV, RandomizedSearchCV\n",
    "from sklearn.preprocessing import LabelEncoder\n",
    "from sklearn.tree import DecisionTreeRegressor, plot_tree\n",
    "from sklearn.ensemble import RandomForestRegressor\n",
    "from xgboost import XGBRegressor\n"
   ]
  },
  {
   "cell_type": "markdown",
   "metadata": {
    "id": "yM1a6uHTMgNx"
   },
   "source": [
    "# Download and extract data"
   ]
  },
  {
   "cell_type": "code",
   "execution_count": 3,
   "metadata": {
    "executionInfo": {
     "elapsed": 37,
     "status": "ok",
     "timestamp": 1677545041930,
     "user": {
      "displayName": "Rahul Gowda",
      "userId": "07531651890169502464"
     },
     "user_tz": -330
    },
    "id": "9kfTj9QiMS2r"
   },
   "outputs": [],
   "source": [
    "dataset_url='https://www.kaggle.com/competitions/store-sales-time-series-forecasting/data'"
   ]
  },
  {
   "cell_type": "code",
   "execution_count": 4,
   "metadata": {
    "colab": {
     "base_uri": "https://localhost:8080/"
    },
    "executionInfo": {
     "elapsed": 11450,
     "status": "ok",
     "timestamp": 1677545053344,
     "user": {
      "displayName": "Rahul Gowda",
      "userId": "07531651890169502464"
     },
     "user_tz": -330
    },
    "id": "ITsMd8_VMhsB",
    "outputId": "35b816f1-95cd-41dc-fe50-e47d62c0aea7"
   },
   "outputs": [
    {
     "name": "stdout",
     "output_type": "stream",
     "text": [
      "Please provide your Kaggle credentials to download this dataset. Learn more: http://bit.ly/kaggle-creds\n",
      "Your Kaggle username: iyumrahul\n",
      "Your Kaggle Key: ··········\n",
      "Downloading store-sales-time-series-forecasting.zip to ./store-sales-time-series-forecasting\n"
     ]
    },
    {
     "name": "stderr",
     "output_type": "stream",
     "text": [
      "100%|██████████| 21.4M/21.4M [00:00<00:00, 36.7MB/s]\n"
     ]
    },
    {
     "name": "stdout",
     "output_type": "stream",
     "text": [
      "\n",
      "Extracting archive ./store-sales-time-series-forecasting/store-sales-time-series-forecasting.zip to ./store-sales-time-series-forecasting\n"
     ]
    }
   ],
   "source": [
    "od.download(dataset_url)"
   ]
  },
  {
   "cell_type": "code",
   "execution_count": 5,
   "metadata": {
    "colab": {
     "base_uri": "https://localhost:8080/"
    },
    "executionInfo": {
     "elapsed": 26,
     "status": "ok",
     "timestamp": 1677545053345,
     "user": {
      "displayName": "Rahul Gowda",
      "userId": "07531651890169502464"
     },
     "user_tz": -330
    },
    "id": "ZW7OckDWMi0X",
    "outputId": "c8064144-4102-4e59-add8-f8630f8d076c"
   },
   "outputs": [
    {
     "name": "stdout",
     "output_type": "stream",
     "text": [
      "total 119M\n",
      "-rw-r--r-- 1 root root  22K Feb 28 00:44 holidays_events.csv\n",
      "-rw-r--r-- 1 root root  21K Feb 28 00:44 oil.csv\n",
      "-rw-r--r-- 1 root root 335K Feb 28 00:44 sample_submission.csv\n",
      "-rw-r--r-- 1 root root 1.4K Feb 28 00:44 stores.csv\n",
      "-rw-r--r-- 1 root root 999K Feb 28 00:44 test.csv\n",
      "-rw-r--r-- 1 root root 117M Feb 28 00:44 train.csv\n",
      "-rw-r--r-- 1 root root 1.5M Feb 28 00:44 transactions.csv\n"
     ]
    }
   ],
   "source": [
    "!ls -lh ./store-sales-time-series-forecasting"
   ]
  },
  {
   "cell_type": "markdown",
   "metadata": {
    "id": "hg-pD5ltMqhh"
   },
   "source": [
    "## Reading the data"
   ]
  },
  {
   "cell_type": "code",
   "execution_count": 6,
   "metadata": {
    "colab": {
     "base_uri": "https://localhost:8080/"
    },
    "executionInfo": {
     "elapsed": 4785,
     "status": "ok",
     "timestamp": 1677545058117,
     "user": {
      "displayName": "Rahul Gowda",
      "userId": "07531651890169502464"
     },
     "user_tz": -330
    },
    "id": "gdIsww3XMov6",
    "outputId": "026198b3-da96-4e60-c250-9226174bc32d"
   },
   "outputs": [
    {
     "name": "stdout",
     "output_type": "stream",
     "text": [
      "CPU times: user 2.76 s, sys: 495 ms, total: 3.25 s\n",
      "Wall time: 4.58 s\n"
     ]
    }
   ],
   "source": [
    "%%time\n",
    "holiday_data=pd.read_csv('/content/store-sales-time-series-forecasting/holidays_events.csv', parse_dates=['date'])\n",
    "\n",
    "oil_data=pd.read_csv('/content/store-sales-time-series-forecasting/oil.csv', parse_dates=['date'], dtype={'dcoilwtico' :'float32'})\n",
    "\n",
    "store_data=pd.read_csv('/content/store-sales-time-series-forecasting/stores.csv', dtype={'store_nbr':'int16','cluster':'int16'})\n",
    "\n",
    "transaction_data=pd.read_csv('/content/store-sales-time-series-forecasting/transactions.csv', parse_dates=['date'], dtype={'store_nbr':'int16','transactions':'int32'})\n",
    "\n",
    "test_data=pd.read_csv('/content/store-sales-time-series-forecasting/test.csv', parse_dates=['date'], dtype= {'id':'int16','store_nbr':'int16','onpromotion':'int16'} )\n",
    "\n",
    "train_data=pd.read_csv('/content/store-sales-time-series-forecasting/train.csv', parse_dates=['date'], dtype={'id':'int16','store_nbr':'int16','sales':'float32','onpromotion':'int32'} )"
   ]
  },
  {
   "cell_type": "markdown",
   "metadata": {
    "id": "Yq3gte6YM_z9"
   },
   "source": [
    "# Exploring the data"
   ]
  },
  {
   "cell_type": "markdown",
   "metadata": {
    "id": "zqND0J8aNEYt"
   },
   "source": [
    "**Train Dataset** "
   ]
  },
  {
   "cell_type": "code",
   "execution_count": 7,
   "metadata": {
    "colab": {
     "base_uri": "https://localhost:8080/"
    },
    "executionInfo": {
     "elapsed": 671,
     "status": "ok",
     "timestamp": 1677545058775,
     "user": {
      "displayName": "Rahul Gowda",
      "userId": "07531651890169502464"
     },
     "user_tz": -330
    },
    "id": "tNQU_HDoaY2X",
    "outputId": "ac7207bf-8707-4091-a770-3cfdb5c3122b"
   },
   "outputs": [
    {
     "name": "stdout",
     "output_type": "stream",
     "text": [
      "   id       date  store_nbr      family  sales  onpromotion\n",
      "0   0 2013-01-01          1  AUTOMOTIVE    0.0            0\n",
      "1   1 2013-01-01          1   BABY CARE    0.0            0\n",
      "2   2 2013-01-01          1      BEAUTY    0.0            0\n",
      "3   3 2013-01-01          1   BEVERAGES    0.0            0\n",
      "4   4 2013-01-01          1       BOOKS    0.0            0\n",
      "Null values in training set  id             0\n",
      "date           0\n",
      "store_nbr      0\n",
      "family         0\n",
      "sales          0\n",
      "onpromotion    0\n",
      "dtype: int64\n"
     ]
    }
   ],
   "source": [
    "print(train_data.head())\n",
    "\n",
    "print('Null values in training set ',train_data.isna().sum())"
   ]
  },
  {
   "cell_type": "code",
   "execution_count": 8,
   "metadata": {
    "colab": {
     "base_uri": "https://localhost:8080/"
    },
    "executionInfo": {
     "elapsed": 23,
     "status": "ok",
     "timestamp": 1677545058776,
     "user": {
      "displayName": "Rahul Gowda",
      "userId": "07531651890169502464"
     },
     "user_tz": -330
    },
    "id": "po8ahLNtbzT6",
    "outputId": "6b797ef6-b36b-41f0-ad51-6d4c5d1142df"
   },
   "outputs": [
    {
     "data": {
      "text/plain": [
       "array(['AUTOMOTIVE', 'BABY CARE', 'BEAUTY', 'BEVERAGES', 'BOOKS',\n",
       "       'BREAD/BAKERY', 'CELEBRATION', 'CLEANING', 'DAIRY', 'DELI', 'EGGS',\n",
       "       'FROZEN FOODS', 'GROCERY I', 'GROCERY II', 'HARDWARE',\n",
       "       'HOME AND KITCHEN I', 'HOME AND KITCHEN II', 'HOME APPLIANCES',\n",
       "       'HOME CARE', 'LADIESWEAR', 'LAWN AND GARDEN', 'LINGERIE',\n",
       "       'LIQUOR,WINE,BEER', 'MAGAZINES', 'MEATS', 'PERSONAL CARE',\n",
       "       'PET SUPPLIES', 'PLAYERS AND ELECTRONICS', 'POULTRY',\n",
       "       'PREPARED FOODS', 'PRODUCE', 'SCHOOL AND OFFICE SUPPLIES',\n",
       "       'SEAFOOD'], dtype=object)"
      ]
     },
     "execution_count": 8,
     "metadata": {},
     "output_type": "execute_result"
    }
   ],
   "source": [
    "train_data.family.unique()"
   ]
  },
  {
   "cell_type": "code",
   "execution_count": 9,
   "metadata": {
    "executionInfo": {
     "elapsed": 413,
     "status": "ok",
     "timestamp": 1677545059172,
     "user": {
      "displayName": "Rahul Gowda",
      "userId": "07531651890169502464"
     },
     "user_tz": -330
    },
    "id": "Ns8N1spMb1gn"
   },
   "outputs": [],
   "source": [
    "def replace_fam_vals(df):\n",
    "  df.replace('BABY CARE','BABY_CARE',inplace=True)\n",
    "  df.replace('BREAD/BAKERY','BREAD_BAKERY',inplace=True)\n",
    "  df.replace('FROZEN FOODS','FROZEN_FOODS',inplace=True)\n",
    "  df.replace('GROCERY I','GROCERY_I',inplace=True)\n",
    "  df.replace('GROCERY II','GROCERY_II',inplace=True)\n",
    "  df.replace('HOME APPLIANCES','HOME_APPLIANCES',inplace=True)\n",
    "  df.replace('HOME CARE','HOME_CARE',inplace=True)\n",
    "  df.replace('HOME AND KITCHEN I','HOME_AND_KITCHEN_I',inplace=True)\n",
    "  df.replace('HOME AND KITCHEN II','HOME_AND_KITCHEN_II',inplace=True)\n",
    "  df.replace('LAWN AND GARDEN','LAWN_AND_GARDEN',inplace=True)\n",
    "  df.replace('LIQUOR,WINE,BEER','LIQUOR_WINE_BEER',inplace=True)\n",
    "  df.replace('PERSONAL CARE','PERSONAL_CARE',inplace=True)\n",
    "  df.replace('PET SUPPLIES','PET_SUPPLIES',inplace=True)\n",
    "  df.replace('PLAYERS AND ELECTRONICS','PLAYERS_AND_ELECTRONICS',inplace=True)\n",
    "  df.replace('PREPARED FOODS','PREPARED_FOODS',inplace=True)\n",
    "  df.replace('SCHOOL AND OFFICE SUPPLIES','SCHOOL_AND_OFFICE_SUPPLIES',inplace=True)\n",
    "  return df"
   ]
  },
  {
   "cell_type": "code",
   "execution_count": 10,
   "metadata": {
    "colab": {
     "base_uri": "https://localhost:8080/"
    },
    "executionInfo": {
     "elapsed": 2553,
     "status": "ok",
     "timestamp": 1677545061721,
     "user": {
      "displayName": "Rahul Gowda",
      "userId": "07531651890169502464"
     },
     "user_tz": -330
    },
    "id": "FElYovw3b3YG",
    "outputId": "838117af-f3a5-4b9e-b1ec-c4d59ea583f5"
   },
   "outputs": [
    {
     "data": {
      "text/plain": [
       "0                          AUTOMOTIVE\n",
       "1                           BABY_CARE\n",
       "2                              BEAUTY\n",
       "3                           BEVERAGES\n",
       "4                               BOOKS\n",
       "                      ...            \n",
       "3000883                       POULTRY\n",
       "3000884                PREPARED_FOODS\n",
       "3000885                       PRODUCE\n",
       "3000886    SCHOOL_AND_OFFICE_SUPPLIES\n",
       "3000887                       SEAFOOD\n",
       "Name: family, Length: 3000888, dtype: object"
      ]
     },
     "execution_count": 10,
     "metadata": {},
     "output_type": "execute_result"
    }
   ],
   "source": [
    "replace_fam_vals(train_data.family)"
   ]
  },
  {
   "cell_type": "markdown",
   "metadata": {
    "id": "6rGkOeaYalvR"
   },
   "source": [
    "**Test Dataset**"
   ]
  },
  {
   "cell_type": "code",
   "execution_count": 11,
   "metadata": {
    "colab": {
     "base_uri": "https://localhost:8080/"
    },
    "executionInfo": {
     "elapsed": 94,
     "status": "ok",
     "timestamp": 1677545061723,
     "user": {
      "displayName": "Rahul Gowda",
      "userId": "07531651890169502464"
     },
     "user_tz": -330
    },
    "id": "A7TX9IjHai0B",
    "outputId": "d5cba480-a5a8-44c3-8dbf-54c7f339a8ab"
   },
   "outputs": [
    {
     "name": "stdout",
     "output_type": "stream",
     "text": [
      "      id       date  store_nbr      family  onpromotion\n",
      "0 -13768 2017-08-16          1  AUTOMOTIVE            0\n",
      "1 -13767 2017-08-16          1   BABY CARE            0\n",
      "2 -13766 2017-08-16          1      BEAUTY            2\n",
      "3 -13765 2017-08-16          1   BEVERAGES           20\n",
      "4 -13764 2017-08-16          1       BOOKS            0\n",
      "Null values in testing set  id             0\n",
      "date           0\n",
      "store_nbr      0\n",
      "family         0\n",
      "onpromotion    0\n",
      "dtype: int64\n"
     ]
    }
   ],
   "source": [
    "print(test_data.head())\n",
    "\n",
    "print('Null values in testing set ',test_data.isna().sum())"
   ]
  },
  {
   "cell_type": "code",
   "execution_count": 12,
   "metadata": {
    "colab": {
     "base_uri": "https://localhost:8080/"
    },
    "executionInfo": {
     "elapsed": 87,
     "status": "ok",
     "timestamp": 1677545061724,
     "user": {
      "displayName": "Rahul Gowda",
      "userId": "07531651890169502464"
     },
     "user_tz": -330
    },
    "id": "mgezYaoWwKll",
    "outputId": "f826ebc0-8ab5-48cd-a3d6-f9f4be3d5db7"
   },
   "outputs": [
    {
     "data": {
      "text/plain": [
       "(Timestamp('2017-08-31 00:00:00'), Timestamp('2017-08-16 00:00:00'))"
      ]
     },
     "execution_count": 12,
     "metadata": {},
     "output_type": "execute_result"
    }
   ],
   "source": [
    "test_data.date.max(),test_data.date.min()"
   ]
  },
  {
   "cell_type": "code",
   "execution_count": 13,
   "metadata": {
    "colab": {
     "base_uri": "https://localhost:8080/"
    },
    "executionInfo": {
     "elapsed": 85,
     "status": "ok",
     "timestamp": 1677545061725,
     "user": {
      "displayName": "Rahul Gowda",
      "userId": "07531651890169502464"
     },
     "user_tz": -330
    },
    "id": "itmdkvjQb6if",
    "outputId": "41ae7705-b4b0-4fc1-e169-c006a59400ae"
   },
   "outputs": [
    {
     "data": {
      "text/plain": [
       "0                        AUTOMOTIVE\n",
       "1                         BABY_CARE\n",
       "2                            BEAUTY\n",
       "3                         BEVERAGES\n",
       "4                             BOOKS\n",
       "                    ...            \n",
       "28507                       POULTRY\n",
       "28508                PREPARED_FOODS\n",
       "28509                       PRODUCE\n",
       "28510    SCHOOL_AND_OFFICE_SUPPLIES\n",
       "28511                       SEAFOOD\n",
       "Name: family, Length: 28512, dtype: object"
      ]
     },
     "execution_count": 13,
     "metadata": {},
     "output_type": "execute_result"
    }
   ],
   "source": [
    "replace_fam_vals(test_data.family)"
   ]
  },
  {
   "cell_type": "markdown",
   "metadata": {
    "id": "zSNKIL-layqR"
   },
   "source": [
    "**Store Dataset**"
   ]
  },
  {
   "cell_type": "code",
   "execution_count": 14,
   "metadata": {
    "colab": {
     "base_uri": "https://localhost:8080/"
    },
    "executionInfo": {
     "elapsed": 82,
     "status": "ok",
     "timestamp": 1677545061725,
     "user": {
      "displayName": "Rahul Gowda",
      "userId": "07531651890169502464"
     },
     "user_tz": -330
    },
    "id": "0Gi4wsBhayBz",
    "outputId": "8013bc33-9143-4199-9c0b-2ae7922ceb55"
   },
   "outputs": [
    {
     "name": "stdout",
     "output_type": "stream",
     "text": [
      "   store_nbr           city                           state type  cluster\n",
      "0          1          Quito                       Pichincha    D       13\n",
      "1          2          Quito                       Pichincha    D       13\n",
      "2          3          Quito                       Pichincha    D        8\n",
      "3          4          Quito                       Pichincha    D        9\n",
      "4          5  Santo Domingo  Santo Domingo de los Tsachilas    D        4\n",
      "Null values in store dataset  store_nbr    0\n",
      "city         0\n",
      "state        0\n",
      "type         0\n",
      "cluster      0\n",
      "dtype: int64\n"
     ]
    }
   ],
   "source": [
    "print(store_data.head())\n",
    "\n",
    "print('Null values in store dataset ',store_data.isna().sum())"
   ]
  },
  {
   "cell_type": "markdown",
   "metadata": {
    "id": "sY7k_TQta-Hg"
   },
   "source": [
    "**Transaction Dataset**"
   ]
  },
  {
   "cell_type": "code",
   "execution_count": 15,
   "metadata": {
    "colab": {
     "base_uri": "https://localhost:8080/"
    },
    "executionInfo": {
     "elapsed": 80,
     "status": "ok",
     "timestamp": 1677545061726,
     "user": {
      "displayName": "Rahul Gowda",
      "userId": "07531651890169502464"
     },
     "user_tz": -330
    },
    "id": "TcZZFAhia9H1",
    "outputId": "8502241e-f16e-44cf-d775-00a4aed9ffcf"
   },
   "outputs": [
    {
     "name": "stdout",
     "output_type": "stream",
     "text": [
      "        date  store_nbr  transactions\n",
      "0 2013-01-01         25           770\n",
      "1 2013-01-02          1          2111\n",
      "2 2013-01-02          2          2358\n",
      "3 2013-01-02          3          3487\n",
      "4 2013-01-02          4          1922\n",
      "Null values in transaction dataset  date            0\n",
      "store_nbr       0\n",
      "transactions    0\n",
      "dtype: int64\n"
     ]
    }
   ],
   "source": [
    "print(transaction_data.head())\n",
    "\n",
    "print('Null values in transaction dataset ',transaction_data.isna().sum())"
   ]
  },
  {
   "cell_type": "markdown",
   "metadata": {
    "id": "2HtmL6dZa-m_"
   },
   "source": [
    "**Oil Dataset**"
   ]
  },
  {
   "cell_type": "code",
   "execution_count": 16,
   "metadata": {
    "colab": {
     "base_uri": "https://localhost:8080/"
    },
    "executionInfo": {
     "elapsed": 77,
     "status": "ok",
     "timestamp": 1677545061726,
     "user": {
      "displayName": "Rahul Gowda",
      "userId": "07531651890169502464"
     },
     "user_tz": -330
    },
    "id": "xomfkIzpa-8R",
    "outputId": "5d31ac6d-6157-402e-8c8a-f360463c2167"
   },
   "outputs": [
    {
     "name": "stdout",
     "output_type": "stream",
     "text": [
      "        date  dcoilwtico\n",
      "0 2013-01-01         NaN\n",
      "1 2013-01-02   93.139999\n",
      "2 2013-01-03   92.970001\n",
      "3 2013-01-04   93.120003\n",
      "4 2013-01-07   93.199997\n",
      "Null values in Oil dataset  date           0\n",
      "dcoilwtico    43\n",
      "dtype: int64\n"
     ]
    }
   ],
   "source": [
    "print(oil_data.head())\n",
    "\n",
    "print('Null values in Oil dataset ',oil_data.isna().sum())"
   ]
  },
  {
   "cell_type": "code",
   "execution_count": 17,
   "metadata": {
    "colab": {
     "base_uri": "https://localhost:8080/",
     "height": 300
    },
    "executionInfo": {
     "elapsed": 74,
     "status": "ok",
     "timestamp": 1677545061727,
     "user": {
      "displayName": "Rahul Gowda",
      "userId": "07531651890169502464"
     },
     "user_tz": -330
    },
    "id": "iQYyRooKbcFn",
    "outputId": "7e5eeaff-7fbd-4efb-bd08-89d7156cab57"
   },
   "outputs": [
    {
     "data": {
      "text/html": [
       "\n",
       "  <div id=\"df-f8d1bdf4-07c0-4a45-bfd5-286bba362d7e\">\n",
       "    <div class=\"colab-df-container\">\n",
       "      <div>\n",
       "<style scoped>\n",
       "    .dataframe tbody tr th:only-of-type {\n",
       "        vertical-align: middle;\n",
       "    }\n",
       "\n",
       "    .dataframe tbody tr th {\n",
       "        vertical-align: top;\n",
       "    }\n",
       "\n",
       "    .dataframe thead th {\n",
       "        text-align: right;\n",
       "    }\n",
       "</style>\n",
       "<table border=\"1\" class=\"dataframe\">\n",
       "  <thead>\n",
       "    <tr style=\"text-align: right;\">\n",
       "      <th></th>\n",
       "      <th>dcoilwtico</th>\n",
       "    </tr>\n",
       "  </thead>\n",
       "  <tbody>\n",
       "    <tr>\n",
       "      <th>count</th>\n",
       "      <td>1175.000000</td>\n",
       "    </tr>\n",
       "    <tr>\n",
       "      <th>mean</th>\n",
       "      <td>67.714363</td>\n",
       "    </tr>\n",
       "    <tr>\n",
       "      <th>std</th>\n",
       "      <td>25.630476</td>\n",
       "    </tr>\n",
       "    <tr>\n",
       "      <th>min</th>\n",
       "      <td>26.190001</td>\n",
       "    </tr>\n",
       "    <tr>\n",
       "      <th>25%</th>\n",
       "      <td>46.404999</td>\n",
       "    </tr>\n",
       "    <tr>\n",
       "      <th>50%</th>\n",
       "      <td>53.189999</td>\n",
       "    </tr>\n",
       "    <tr>\n",
       "      <th>75%</th>\n",
       "      <td>95.660004</td>\n",
       "    </tr>\n",
       "    <tr>\n",
       "      <th>max</th>\n",
       "      <td>110.620003</td>\n",
       "    </tr>\n",
       "  </tbody>\n",
       "</table>\n",
       "</div>\n",
       "      <button class=\"colab-df-convert\" onclick=\"convertToInteractive('df-f8d1bdf4-07c0-4a45-bfd5-286bba362d7e')\"\n",
       "              title=\"Convert this dataframe to an interactive table.\"\n",
       "              style=\"display:none;\">\n",
       "        \n",
       "  <svg xmlns=\"http://www.w3.org/2000/svg\" height=\"24px\"viewBox=\"0 0 24 24\"\n",
       "       width=\"24px\">\n",
       "    <path d=\"M0 0h24v24H0V0z\" fill=\"none\"/>\n",
       "    <path d=\"M18.56 5.44l.94 2.06.94-2.06 2.06-.94-2.06-.94-.94-2.06-.94 2.06-2.06.94zm-11 1L8.5 8.5l.94-2.06 2.06-.94-2.06-.94L8.5 2.5l-.94 2.06-2.06.94zm10 10l.94 2.06.94-2.06 2.06-.94-2.06-.94-.94-2.06-.94 2.06-2.06.94z\"/><path d=\"M17.41 7.96l-1.37-1.37c-.4-.4-.92-.59-1.43-.59-.52 0-1.04.2-1.43.59L10.3 9.45l-7.72 7.72c-.78.78-.78 2.05 0 2.83L4 21.41c.39.39.9.59 1.41.59.51 0 1.02-.2 1.41-.59l7.78-7.78 2.81-2.81c.8-.78.8-2.07 0-2.86zM5.41 20L4 18.59l7.72-7.72 1.47 1.35L5.41 20z\"/>\n",
       "  </svg>\n",
       "      </button>\n",
       "      \n",
       "  <style>\n",
       "    .colab-df-container {\n",
       "      display:flex;\n",
       "      flex-wrap:wrap;\n",
       "      gap: 12px;\n",
       "    }\n",
       "\n",
       "    .colab-df-convert {\n",
       "      background-color: #E8F0FE;\n",
       "      border: none;\n",
       "      border-radius: 50%;\n",
       "      cursor: pointer;\n",
       "      display: none;\n",
       "      fill: #1967D2;\n",
       "      height: 32px;\n",
       "      padding: 0 0 0 0;\n",
       "      width: 32px;\n",
       "    }\n",
       "\n",
       "    .colab-df-convert:hover {\n",
       "      background-color: #E2EBFA;\n",
       "      box-shadow: 0px 1px 2px rgba(60, 64, 67, 0.3), 0px 1px 3px 1px rgba(60, 64, 67, 0.15);\n",
       "      fill: #174EA6;\n",
       "    }\n",
       "\n",
       "    [theme=dark] .colab-df-convert {\n",
       "      background-color: #3B4455;\n",
       "      fill: #D2E3FC;\n",
       "    }\n",
       "\n",
       "    [theme=dark] .colab-df-convert:hover {\n",
       "      background-color: #434B5C;\n",
       "      box-shadow: 0px 1px 3px 1px rgba(0, 0, 0, 0.15);\n",
       "      filter: drop-shadow(0px 1px 2px rgba(0, 0, 0, 0.3));\n",
       "      fill: #FFFFFF;\n",
       "    }\n",
       "  </style>\n",
       "\n",
       "      <script>\n",
       "        const buttonEl =\n",
       "          document.querySelector('#df-f8d1bdf4-07c0-4a45-bfd5-286bba362d7e button.colab-df-convert');\n",
       "        buttonEl.style.display =\n",
       "          google.colab.kernel.accessAllowed ? 'block' : 'none';\n",
       "\n",
       "        async function convertToInteractive(key) {\n",
       "          const element = document.querySelector('#df-f8d1bdf4-07c0-4a45-bfd5-286bba362d7e');\n",
       "          const dataTable =\n",
       "            await google.colab.kernel.invokeFunction('convertToInteractive',\n",
       "                                                     [key], {});\n",
       "          if (!dataTable) return;\n",
       "\n",
       "          const docLinkHtml = 'Like what you see? Visit the ' +\n",
       "            '<a target=\"_blank\" href=https://colab.research.google.com/notebooks/data_table.ipynb>data table notebook</a>'\n",
       "            + ' to learn more about interactive tables.';\n",
       "          element.innerHTML = '';\n",
       "          dataTable['output_type'] = 'display_data';\n",
       "          await google.colab.output.renderOutput(dataTable, element);\n",
       "          const docLink = document.createElement('div');\n",
       "          docLink.innerHTML = docLinkHtml;\n",
       "          element.appendChild(docLink);\n",
       "        }\n",
       "      </script>\n",
       "    </div>\n",
       "  </div>\n",
       "  "
      ],
      "text/plain": [
       "        dcoilwtico\n",
       "count  1175.000000\n",
       "mean     67.714363\n",
       "std      25.630476\n",
       "min      26.190001\n",
       "25%      46.404999\n",
       "50%      53.189999\n",
       "75%      95.660004\n",
       "max     110.620003"
      ]
     },
     "execution_count": 17,
     "metadata": {},
     "output_type": "execute_result"
    }
   ],
   "source": [
    "oil_data.describe()"
   ]
  },
  {
   "cell_type": "code",
   "execution_count": 18,
   "metadata": {
    "colab": {
     "base_uri": "https://localhost:8080/",
     "height": 112
    },
    "executionInfo": {
     "elapsed": 73,
     "status": "ok",
     "timestamp": 1677545061728,
     "user": {
      "displayName": "Rahul Gowda",
      "userId": "07531651890169502464"
     },
     "user_tz": -330
    },
    "id": "4N8QDOfBbcJL",
    "outputId": "f4c0c3e0-9333-42af-83c3-b6810938fe4c"
   },
   "outputs": [
    {
     "data": {
      "text/html": [
       "\n",
       "  <div id=\"df-e037d183-20e0-4fa1-b421-c32f844d123b\">\n",
       "    <div class=\"colab-df-container\">\n",
       "      <div>\n",
       "<style scoped>\n",
       "    .dataframe tbody tr th:only-of-type {\n",
       "        vertical-align: middle;\n",
       "    }\n",
       "\n",
       "    .dataframe tbody tr th {\n",
       "        vertical-align: top;\n",
       "    }\n",
       "\n",
       "    .dataframe thead th {\n",
       "        text-align: right;\n",
       "    }\n",
       "</style>\n",
       "<table border=\"1\" class=\"dataframe\">\n",
       "  <thead>\n",
       "    <tr style=\"text-align: right;\">\n",
       "      <th></th>\n",
       "      <th>date</th>\n",
       "      <th>dcoilwtico</th>\n",
       "    </tr>\n",
       "  </thead>\n",
       "  <tbody>\n",
       "    <tr>\n",
       "      <th>1174</th>\n",
       "      <td>2017-07-03</td>\n",
       "      <td>NaN</td>\n",
       "    </tr>\n",
       "    <tr>\n",
       "      <th>1175</th>\n",
       "      <td>2017-07-04</td>\n",
       "      <td>NaN</td>\n",
       "    </tr>\n",
       "  </tbody>\n",
       "</table>\n",
       "</div>\n",
       "      <button class=\"colab-df-convert\" onclick=\"convertToInteractive('df-e037d183-20e0-4fa1-b421-c32f844d123b')\"\n",
       "              title=\"Convert this dataframe to an interactive table.\"\n",
       "              style=\"display:none;\">\n",
       "        \n",
       "  <svg xmlns=\"http://www.w3.org/2000/svg\" height=\"24px\"viewBox=\"0 0 24 24\"\n",
       "       width=\"24px\">\n",
       "    <path d=\"M0 0h24v24H0V0z\" fill=\"none\"/>\n",
       "    <path d=\"M18.56 5.44l.94 2.06.94-2.06 2.06-.94-2.06-.94-.94-2.06-.94 2.06-2.06.94zm-11 1L8.5 8.5l.94-2.06 2.06-.94-2.06-.94L8.5 2.5l-.94 2.06-2.06.94zm10 10l.94 2.06.94-2.06 2.06-.94-2.06-.94-.94-2.06-.94 2.06-2.06.94z\"/><path d=\"M17.41 7.96l-1.37-1.37c-.4-.4-.92-.59-1.43-.59-.52 0-1.04.2-1.43.59L10.3 9.45l-7.72 7.72c-.78.78-.78 2.05 0 2.83L4 21.41c.39.39.9.59 1.41.59.51 0 1.02-.2 1.41-.59l7.78-7.78 2.81-2.81c.8-.78.8-2.07 0-2.86zM5.41 20L4 18.59l7.72-7.72 1.47 1.35L5.41 20z\"/>\n",
       "  </svg>\n",
       "      </button>\n",
       "      \n",
       "  <style>\n",
       "    .colab-df-container {\n",
       "      display:flex;\n",
       "      flex-wrap:wrap;\n",
       "      gap: 12px;\n",
       "    }\n",
       "\n",
       "    .colab-df-convert {\n",
       "      background-color: #E8F0FE;\n",
       "      border: none;\n",
       "      border-radius: 50%;\n",
       "      cursor: pointer;\n",
       "      display: none;\n",
       "      fill: #1967D2;\n",
       "      height: 32px;\n",
       "      padding: 0 0 0 0;\n",
       "      width: 32px;\n",
       "    }\n",
       "\n",
       "    .colab-df-convert:hover {\n",
       "      background-color: #E2EBFA;\n",
       "      box-shadow: 0px 1px 2px rgba(60, 64, 67, 0.3), 0px 1px 3px 1px rgba(60, 64, 67, 0.15);\n",
       "      fill: #174EA6;\n",
       "    }\n",
       "\n",
       "    [theme=dark] .colab-df-convert {\n",
       "      background-color: #3B4455;\n",
       "      fill: #D2E3FC;\n",
       "    }\n",
       "\n",
       "    [theme=dark] .colab-df-convert:hover {\n",
       "      background-color: #434B5C;\n",
       "      box-shadow: 0px 1px 3px 1px rgba(0, 0, 0, 0.15);\n",
       "      filter: drop-shadow(0px 1px 2px rgba(0, 0, 0, 0.3));\n",
       "      fill: #FFFFFF;\n",
       "    }\n",
       "  </style>\n",
       "\n",
       "      <script>\n",
       "        const buttonEl =\n",
       "          document.querySelector('#df-e037d183-20e0-4fa1-b421-c32f844d123b button.colab-df-convert');\n",
       "        buttonEl.style.display =\n",
       "          google.colab.kernel.accessAllowed ? 'block' : 'none';\n",
       "\n",
       "        async function convertToInteractive(key) {\n",
       "          const element = document.querySelector('#df-e037d183-20e0-4fa1-b421-c32f844d123b');\n",
       "          const dataTable =\n",
       "            await google.colab.kernel.invokeFunction('convertToInteractive',\n",
       "                                                     [key], {});\n",
       "          if (!dataTable) return;\n",
       "\n",
       "          const docLinkHtml = 'Like what you see? Visit the ' +\n",
       "            '<a target=\"_blank\" href=https://colab.research.google.com/notebooks/data_table.ipynb>data table notebook</a>'\n",
       "            + ' to learn more about interactive tables.';\n",
       "          element.innerHTML = '';\n",
       "          dataTable['output_type'] = 'display_data';\n",
       "          await google.colab.output.renderOutput(dataTable, element);\n",
       "          const docLink = document.createElement('div');\n",
       "          docLink.innerHTML = docLinkHtml;\n",
       "          element.appendChild(docLink);\n",
       "        }\n",
       "      </script>\n",
       "    </div>\n",
       "  </div>\n",
       "  "
      ],
      "text/plain": [
       "           date  dcoilwtico\n",
       "1174 2017-07-03         NaN\n",
       "1175 2017-07-04         NaN"
      ]
     },
     "execution_count": 18,
     "metadata": {},
     "output_type": "execute_result"
    }
   ],
   "source": [
    "oil_data.dcoilwtico[0]=93.00\n",
    "\n",
    "for i in list(oil_data[oil_data.dcoilwtico.isna()].index):\n",
    "  p= i-1\n",
    "  c= i+1\n",
    "  mean = np.mean([oil_data.dcoilwtico[p],oil_data.dcoilwtico[c]])\n",
    "  oil_data.dcoilwtico[i]=mean\n",
    "\n",
    "oil_data[oil_data.dcoilwtico.isna()]"
   ]
  },
  {
   "cell_type": "code",
   "execution_count": 19,
   "metadata": {
    "colab": {
     "base_uri": "https://localhost:8080/"
    },
    "executionInfo": {
     "elapsed": 72,
     "status": "ok",
     "timestamp": 1677545061728,
     "user": {
      "displayName": "Rahul Gowda",
      "userId": "07531651890169502464"
     },
     "user_tz": -330
    },
    "id": "sQK2ax5Dbo7_",
    "outputId": "7ca46297-3403-4d4d-8a0c-a1b300e07231"
   },
   "outputs": [
    {
     "name": "stdout",
     "output_type": "stream",
     "text": [
      "date          2017-06-30 00:00:00\n",
      "dcoilwtico                  46.02\n",
      "Name: 1173, dtype: object\n"
     ]
    }
   ],
   "source": [
    "print(oil_data.loc[1173])\n",
    "oil_data.dcoilwtico[1174]=46.02\n",
    "oil_data.dcoilwtico[1175]=46.02"
   ]
  },
  {
   "cell_type": "markdown",
   "metadata": {
    "id": "uQ-udOA3a_IX"
   },
   "source": [
    "**Holiday Dataset** "
   ]
  },
  {
   "cell_type": "code",
   "execution_count": 20,
   "metadata": {
    "colab": {
     "base_uri": "https://localhost:8080/",
     "height": 423
    },
    "executionInfo": {
     "elapsed": 70,
     "status": "ok",
     "timestamp": 1677545061729,
     "user": {
      "displayName": "Rahul Gowda",
      "userId": "07531651890169502464"
     },
     "user_tz": -330
    },
    "id": "DUvMNPBTa_UY",
    "outputId": "d00a1284-641e-4956-b833-d67d13ccc62b"
   },
   "outputs": [
    {
     "data": {
      "text/html": [
       "\n",
       "  <div id=\"df-ff69b731-fc27-443a-8e89-fa9737b496f2\">\n",
       "    <div class=\"colab-df-container\">\n",
       "      <div>\n",
       "<style scoped>\n",
       "    .dataframe tbody tr th:only-of-type {\n",
       "        vertical-align: middle;\n",
       "    }\n",
       "\n",
       "    .dataframe tbody tr th {\n",
       "        vertical-align: top;\n",
       "    }\n",
       "\n",
       "    .dataframe thead th {\n",
       "        text-align: right;\n",
       "    }\n",
       "</style>\n",
       "<table border=\"1\" class=\"dataframe\">\n",
       "  <thead>\n",
       "    <tr style=\"text-align: right;\">\n",
       "      <th></th>\n",
       "      <th>date</th>\n",
       "      <th>type</th>\n",
       "      <th>locale</th>\n",
       "      <th>locale_name</th>\n",
       "      <th>description</th>\n",
       "      <th>transferred</th>\n",
       "    </tr>\n",
       "  </thead>\n",
       "  <tbody>\n",
       "    <tr>\n",
       "      <th>0</th>\n",
       "      <td>2012-03-02</td>\n",
       "      <td>Holiday</td>\n",
       "      <td>Local</td>\n",
       "      <td>Manta</td>\n",
       "      <td>Fundacion de Manta</td>\n",
       "      <td>False</td>\n",
       "    </tr>\n",
       "    <tr>\n",
       "      <th>1</th>\n",
       "      <td>2012-04-01</td>\n",
       "      <td>Holiday</td>\n",
       "      <td>Regional</td>\n",
       "      <td>Cotopaxi</td>\n",
       "      <td>Provincializacion de Cotopaxi</td>\n",
       "      <td>False</td>\n",
       "    </tr>\n",
       "    <tr>\n",
       "      <th>2</th>\n",
       "      <td>2012-04-12</td>\n",
       "      <td>Holiday</td>\n",
       "      <td>Local</td>\n",
       "      <td>Cuenca</td>\n",
       "      <td>Fundacion de Cuenca</td>\n",
       "      <td>False</td>\n",
       "    </tr>\n",
       "    <tr>\n",
       "      <th>3</th>\n",
       "      <td>2012-04-14</td>\n",
       "      <td>Holiday</td>\n",
       "      <td>Local</td>\n",
       "      <td>Libertad</td>\n",
       "      <td>Cantonizacion de Libertad</td>\n",
       "      <td>False</td>\n",
       "    </tr>\n",
       "    <tr>\n",
       "      <th>4</th>\n",
       "      <td>2012-04-21</td>\n",
       "      <td>Holiday</td>\n",
       "      <td>Local</td>\n",
       "      <td>Riobamba</td>\n",
       "      <td>Cantonizacion de Riobamba</td>\n",
       "      <td>False</td>\n",
       "    </tr>\n",
       "    <tr>\n",
       "      <th>...</th>\n",
       "      <td>...</td>\n",
       "      <td>...</td>\n",
       "      <td>...</td>\n",
       "      <td>...</td>\n",
       "      <td>...</td>\n",
       "      <td>...</td>\n",
       "    </tr>\n",
       "    <tr>\n",
       "      <th>345</th>\n",
       "      <td>2017-12-22</td>\n",
       "      <td>Additional</td>\n",
       "      <td>National</td>\n",
       "      <td>Ecuador</td>\n",
       "      <td>Navidad-3</td>\n",
       "      <td>False</td>\n",
       "    </tr>\n",
       "    <tr>\n",
       "      <th>346</th>\n",
       "      <td>2017-12-23</td>\n",
       "      <td>Additional</td>\n",
       "      <td>National</td>\n",
       "      <td>Ecuador</td>\n",
       "      <td>Navidad-2</td>\n",
       "      <td>False</td>\n",
       "    </tr>\n",
       "    <tr>\n",
       "      <th>347</th>\n",
       "      <td>2017-12-24</td>\n",
       "      <td>Additional</td>\n",
       "      <td>National</td>\n",
       "      <td>Ecuador</td>\n",
       "      <td>Navidad-1</td>\n",
       "      <td>False</td>\n",
       "    </tr>\n",
       "    <tr>\n",
       "      <th>348</th>\n",
       "      <td>2017-12-25</td>\n",
       "      <td>Holiday</td>\n",
       "      <td>National</td>\n",
       "      <td>Ecuador</td>\n",
       "      <td>Navidad</td>\n",
       "      <td>False</td>\n",
       "    </tr>\n",
       "    <tr>\n",
       "      <th>349</th>\n",
       "      <td>2017-12-26</td>\n",
       "      <td>Additional</td>\n",
       "      <td>National</td>\n",
       "      <td>Ecuador</td>\n",
       "      <td>Navidad+1</td>\n",
       "      <td>False</td>\n",
       "    </tr>\n",
       "  </tbody>\n",
       "</table>\n",
       "<p>350 rows × 6 columns</p>\n",
       "</div>\n",
       "      <button class=\"colab-df-convert\" onclick=\"convertToInteractive('df-ff69b731-fc27-443a-8e89-fa9737b496f2')\"\n",
       "              title=\"Convert this dataframe to an interactive table.\"\n",
       "              style=\"display:none;\">\n",
       "        \n",
       "  <svg xmlns=\"http://www.w3.org/2000/svg\" height=\"24px\"viewBox=\"0 0 24 24\"\n",
       "       width=\"24px\">\n",
       "    <path d=\"M0 0h24v24H0V0z\" fill=\"none\"/>\n",
       "    <path d=\"M18.56 5.44l.94 2.06.94-2.06 2.06-.94-2.06-.94-.94-2.06-.94 2.06-2.06.94zm-11 1L8.5 8.5l.94-2.06 2.06-.94-2.06-.94L8.5 2.5l-.94 2.06-2.06.94zm10 10l.94 2.06.94-2.06 2.06-.94-2.06-.94-.94-2.06-.94 2.06-2.06.94z\"/><path d=\"M17.41 7.96l-1.37-1.37c-.4-.4-.92-.59-1.43-.59-.52 0-1.04.2-1.43.59L10.3 9.45l-7.72 7.72c-.78.78-.78 2.05 0 2.83L4 21.41c.39.39.9.59 1.41.59.51 0 1.02-.2 1.41-.59l7.78-7.78 2.81-2.81c.8-.78.8-2.07 0-2.86zM5.41 20L4 18.59l7.72-7.72 1.47 1.35L5.41 20z\"/>\n",
       "  </svg>\n",
       "      </button>\n",
       "      \n",
       "  <style>\n",
       "    .colab-df-container {\n",
       "      display:flex;\n",
       "      flex-wrap:wrap;\n",
       "      gap: 12px;\n",
       "    }\n",
       "\n",
       "    .colab-df-convert {\n",
       "      background-color: #E8F0FE;\n",
       "      border: none;\n",
       "      border-radius: 50%;\n",
       "      cursor: pointer;\n",
       "      display: none;\n",
       "      fill: #1967D2;\n",
       "      height: 32px;\n",
       "      padding: 0 0 0 0;\n",
       "      width: 32px;\n",
       "    }\n",
       "\n",
       "    .colab-df-convert:hover {\n",
       "      background-color: #E2EBFA;\n",
       "      box-shadow: 0px 1px 2px rgba(60, 64, 67, 0.3), 0px 1px 3px 1px rgba(60, 64, 67, 0.15);\n",
       "      fill: #174EA6;\n",
       "    }\n",
       "\n",
       "    [theme=dark] .colab-df-convert {\n",
       "      background-color: #3B4455;\n",
       "      fill: #D2E3FC;\n",
       "    }\n",
       "\n",
       "    [theme=dark] .colab-df-convert:hover {\n",
       "      background-color: #434B5C;\n",
       "      box-shadow: 0px 1px 3px 1px rgba(0, 0, 0, 0.15);\n",
       "      filter: drop-shadow(0px 1px 2px rgba(0, 0, 0, 0.3));\n",
       "      fill: #FFFFFF;\n",
       "    }\n",
       "  </style>\n",
       "\n",
       "      <script>\n",
       "        const buttonEl =\n",
       "          document.querySelector('#df-ff69b731-fc27-443a-8e89-fa9737b496f2 button.colab-df-convert');\n",
       "        buttonEl.style.display =\n",
       "          google.colab.kernel.accessAllowed ? 'block' : 'none';\n",
       "\n",
       "        async function convertToInteractive(key) {\n",
       "          const element = document.querySelector('#df-ff69b731-fc27-443a-8e89-fa9737b496f2');\n",
       "          const dataTable =\n",
       "            await google.colab.kernel.invokeFunction('convertToInteractive',\n",
       "                                                     [key], {});\n",
       "          if (!dataTable) return;\n",
       "\n",
       "          const docLinkHtml = 'Like what you see? Visit the ' +\n",
       "            '<a target=\"_blank\" href=https://colab.research.google.com/notebooks/data_table.ipynb>data table notebook</a>'\n",
       "            + ' to learn more about interactive tables.';\n",
       "          element.innerHTML = '';\n",
       "          dataTable['output_type'] = 'display_data';\n",
       "          await google.colab.output.renderOutput(dataTable, element);\n",
       "          const docLink = document.createElement('div');\n",
       "          docLink.innerHTML = docLinkHtml;\n",
       "          element.appendChild(docLink);\n",
       "        }\n",
       "      </script>\n",
       "    </div>\n",
       "  </div>\n",
       "  "
      ],
      "text/plain": [
       "          date        type    locale locale_name  \\\n",
       "0   2012-03-02     Holiday     Local       Manta   \n",
       "1   2012-04-01     Holiday  Regional    Cotopaxi   \n",
       "2   2012-04-12     Holiday     Local      Cuenca   \n",
       "3   2012-04-14     Holiday     Local    Libertad   \n",
       "4   2012-04-21     Holiday     Local    Riobamba   \n",
       "..         ...         ...       ...         ...   \n",
       "345 2017-12-22  Additional  National     Ecuador   \n",
       "346 2017-12-23  Additional  National     Ecuador   \n",
       "347 2017-12-24  Additional  National     Ecuador   \n",
       "348 2017-12-25     Holiday  National     Ecuador   \n",
       "349 2017-12-26  Additional  National     Ecuador   \n",
       "\n",
       "                       description  transferred  \n",
       "0               Fundacion de Manta        False  \n",
       "1    Provincializacion de Cotopaxi        False  \n",
       "2              Fundacion de Cuenca        False  \n",
       "3        Cantonizacion de Libertad        False  \n",
       "4        Cantonizacion de Riobamba        False  \n",
       "..                             ...          ...  \n",
       "345                      Navidad-3        False  \n",
       "346                      Navidad-2        False  \n",
       "347                      Navidad-1        False  \n",
       "348                        Navidad        False  \n",
       "349                      Navidad+1        False  \n",
       "\n",
       "[350 rows x 6 columns]"
      ]
     },
     "execution_count": 20,
     "metadata": {},
     "output_type": "execute_result"
    }
   ],
   "source": [
    "holiday_data"
   ]
  },
  {
   "cell_type": "markdown",
   "metadata": {
    "id": "mhHmflRfcNt6"
   },
   "source": [
    "**Additional Earthquake**"
   ]
  },
  {
   "cell_type": "code",
   "execution_count": 21,
   "metadata": {
    "colab": {
     "base_uri": "https://localhost:8080/",
     "height": 1000
    },
    "executionInfo": {
     "elapsed": 69,
     "status": "ok",
     "timestamp": 1677545061730,
     "user": {
      "displayName": "Rahul Gowda",
      "userId": "07531651890169502464"
     },
     "user_tz": -330
    },
    "id": "MbxJtHf8cKKd",
    "outputId": "5d987fec-64b8-4150-953c-d078ec45ffa6"
   },
   "outputs": [
    {
     "data": {
      "text/html": [
       "\n",
       "  <div id=\"df-17fa995b-78d4-4a6f-94bd-80317d17ddda\">\n",
       "    <div class=\"colab-df-container\">\n",
       "      <div>\n",
       "<style scoped>\n",
       "    .dataframe tbody tr th:only-of-type {\n",
       "        vertical-align: middle;\n",
       "    }\n",
       "\n",
       "    .dataframe tbody tr th {\n",
       "        vertical-align: top;\n",
       "    }\n",
       "\n",
       "    .dataframe thead th {\n",
       "        text-align: right;\n",
       "    }\n",
       "</style>\n",
       "<table border=\"1\" class=\"dataframe\">\n",
       "  <thead>\n",
       "    <tr style=\"text-align: right;\">\n",
       "      <th></th>\n",
       "      <th>date</th>\n",
       "      <th>earthquake</th>\n",
       "    </tr>\n",
       "  </thead>\n",
       "  <tbody>\n",
       "    <tr>\n",
       "      <th>0</th>\n",
       "      <td>2016-04-16</td>\n",
       "      <td>Terremoto Manabi</td>\n",
       "    </tr>\n",
       "    <tr>\n",
       "      <th>1</th>\n",
       "      <td>2016-04-17</td>\n",
       "      <td>Terremoto Manabi+1</td>\n",
       "    </tr>\n",
       "    <tr>\n",
       "      <th>2</th>\n",
       "      <td>2016-04-18</td>\n",
       "      <td>Terremoto Manabi+2</td>\n",
       "    </tr>\n",
       "    <tr>\n",
       "      <th>3</th>\n",
       "      <td>2016-04-19</td>\n",
       "      <td>Terremoto Manabi+3</td>\n",
       "    </tr>\n",
       "    <tr>\n",
       "      <th>4</th>\n",
       "      <td>2016-04-20</td>\n",
       "      <td>Terremoto Manabi+4</td>\n",
       "    </tr>\n",
       "    <tr>\n",
       "      <th>5</th>\n",
       "      <td>2016-04-21</td>\n",
       "      <td>Terremoto Manabi+5</td>\n",
       "    </tr>\n",
       "    <tr>\n",
       "      <th>6</th>\n",
       "      <td>2016-04-22</td>\n",
       "      <td>Terremoto Manabi+6</td>\n",
       "    </tr>\n",
       "    <tr>\n",
       "      <th>7</th>\n",
       "      <td>2016-04-23</td>\n",
       "      <td>Terremoto Manabi+7</td>\n",
       "    </tr>\n",
       "    <tr>\n",
       "      <th>8</th>\n",
       "      <td>2016-04-24</td>\n",
       "      <td>Terremoto Manabi+8</td>\n",
       "    </tr>\n",
       "    <tr>\n",
       "      <th>9</th>\n",
       "      <td>2016-04-25</td>\n",
       "      <td>Terremoto Manabi+9</td>\n",
       "    </tr>\n",
       "    <tr>\n",
       "      <th>10</th>\n",
       "      <td>2016-04-26</td>\n",
       "      <td>Terremoto Manabi+10</td>\n",
       "    </tr>\n",
       "    <tr>\n",
       "      <th>11</th>\n",
       "      <td>2016-04-27</td>\n",
       "      <td>Terremoto Manabi+11</td>\n",
       "    </tr>\n",
       "    <tr>\n",
       "      <th>12</th>\n",
       "      <td>2016-04-28</td>\n",
       "      <td>Terremoto Manabi+12</td>\n",
       "    </tr>\n",
       "    <tr>\n",
       "      <th>13</th>\n",
       "      <td>2016-04-29</td>\n",
       "      <td>Terremoto Manabi+13</td>\n",
       "    </tr>\n",
       "    <tr>\n",
       "      <th>14</th>\n",
       "      <td>2016-04-30</td>\n",
       "      <td>Terremoto Manabi+14</td>\n",
       "    </tr>\n",
       "    <tr>\n",
       "      <th>15</th>\n",
       "      <td>2016-05-01</td>\n",
       "      <td>Terremoto Manabi+15</td>\n",
       "    </tr>\n",
       "    <tr>\n",
       "      <th>16</th>\n",
       "      <td>2016-05-02</td>\n",
       "      <td>Terremoto Manabi+16</td>\n",
       "    </tr>\n",
       "    <tr>\n",
       "      <th>17</th>\n",
       "      <td>2016-05-03</td>\n",
       "      <td>Terremoto Manabi+17</td>\n",
       "    </tr>\n",
       "    <tr>\n",
       "      <th>18</th>\n",
       "      <td>2016-05-04</td>\n",
       "      <td>Terremoto Manabi+18</td>\n",
       "    </tr>\n",
       "    <tr>\n",
       "      <th>19</th>\n",
       "      <td>2016-05-05</td>\n",
       "      <td>Terremoto Manabi+19</td>\n",
       "    </tr>\n",
       "    <tr>\n",
       "      <th>20</th>\n",
       "      <td>2016-05-06</td>\n",
       "      <td>Terremoto Manabi+20</td>\n",
       "    </tr>\n",
       "    <tr>\n",
       "      <th>21</th>\n",
       "      <td>2016-05-07</td>\n",
       "      <td>Terremoto Manabi+21</td>\n",
       "    </tr>\n",
       "    <tr>\n",
       "      <th>22</th>\n",
       "      <td>2016-05-08</td>\n",
       "      <td>Terremoto Manabi+22</td>\n",
       "    </tr>\n",
       "    <tr>\n",
       "      <th>23</th>\n",
       "      <td>2016-05-09</td>\n",
       "      <td>Terremoto Manabi+23</td>\n",
       "    </tr>\n",
       "    <tr>\n",
       "      <th>24</th>\n",
       "      <td>2016-05-10</td>\n",
       "      <td>Terremoto Manabi+24</td>\n",
       "    </tr>\n",
       "    <tr>\n",
       "      <th>25</th>\n",
       "      <td>2016-05-11</td>\n",
       "      <td>Terremoto Manabi+25</td>\n",
       "    </tr>\n",
       "    <tr>\n",
       "      <th>26</th>\n",
       "      <td>2016-05-12</td>\n",
       "      <td>Terremoto Manabi+26</td>\n",
       "    </tr>\n",
       "    <tr>\n",
       "      <th>27</th>\n",
       "      <td>2016-05-13</td>\n",
       "      <td>Terremoto Manabi+27</td>\n",
       "    </tr>\n",
       "    <tr>\n",
       "      <th>28</th>\n",
       "      <td>2016-05-14</td>\n",
       "      <td>Terremoto Manabi+28</td>\n",
       "    </tr>\n",
       "    <tr>\n",
       "      <th>29</th>\n",
       "      <td>2016-05-15</td>\n",
       "      <td>Terremoto Manabi+29</td>\n",
       "    </tr>\n",
       "    <tr>\n",
       "      <th>30</th>\n",
       "      <td>2016-05-16</td>\n",
       "      <td>Terremoto Manabi+30</td>\n",
       "    </tr>\n",
       "  </tbody>\n",
       "</table>\n",
       "</div>\n",
       "      <button class=\"colab-df-convert\" onclick=\"convertToInteractive('df-17fa995b-78d4-4a6f-94bd-80317d17ddda')\"\n",
       "              title=\"Convert this dataframe to an interactive table.\"\n",
       "              style=\"display:none;\">\n",
       "        \n",
       "  <svg xmlns=\"http://www.w3.org/2000/svg\" height=\"24px\"viewBox=\"0 0 24 24\"\n",
       "       width=\"24px\">\n",
       "    <path d=\"M0 0h24v24H0V0z\" fill=\"none\"/>\n",
       "    <path d=\"M18.56 5.44l.94 2.06.94-2.06 2.06-.94-2.06-.94-.94-2.06-.94 2.06-2.06.94zm-11 1L8.5 8.5l.94-2.06 2.06-.94-2.06-.94L8.5 2.5l-.94 2.06-2.06.94zm10 10l.94 2.06.94-2.06 2.06-.94-2.06-.94-.94-2.06-.94 2.06-2.06.94z\"/><path d=\"M17.41 7.96l-1.37-1.37c-.4-.4-.92-.59-1.43-.59-.52 0-1.04.2-1.43.59L10.3 9.45l-7.72 7.72c-.78.78-.78 2.05 0 2.83L4 21.41c.39.39.9.59 1.41.59.51 0 1.02-.2 1.41-.59l7.78-7.78 2.81-2.81c.8-.78.8-2.07 0-2.86zM5.41 20L4 18.59l7.72-7.72 1.47 1.35L5.41 20z\"/>\n",
       "  </svg>\n",
       "      </button>\n",
       "      \n",
       "  <style>\n",
       "    .colab-df-container {\n",
       "      display:flex;\n",
       "      flex-wrap:wrap;\n",
       "      gap: 12px;\n",
       "    }\n",
       "\n",
       "    .colab-df-convert {\n",
       "      background-color: #E8F0FE;\n",
       "      border: none;\n",
       "      border-radius: 50%;\n",
       "      cursor: pointer;\n",
       "      display: none;\n",
       "      fill: #1967D2;\n",
       "      height: 32px;\n",
       "      padding: 0 0 0 0;\n",
       "      width: 32px;\n",
       "    }\n",
       "\n",
       "    .colab-df-convert:hover {\n",
       "      background-color: #E2EBFA;\n",
       "      box-shadow: 0px 1px 2px rgba(60, 64, 67, 0.3), 0px 1px 3px 1px rgba(60, 64, 67, 0.15);\n",
       "      fill: #174EA6;\n",
       "    }\n",
       "\n",
       "    [theme=dark] .colab-df-convert {\n",
       "      background-color: #3B4455;\n",
       "      fill: #D2E3FC;\n",
       "    }\n",
       "\n",
       "    [theme=dark] .colab-df-convert:hover {\n",
       "      background-color: #434B5C;\n",
       "      box-shadow: 0px 1px 3px 1px rgba(0, 0, 0, 0.15);\n",
       "      filter: drop-shadow(0px 1px 2px rgba(0, 0, 0, 0.3));\n",
       "      fill: #FFFFFF;\n",
       "    }\n",
       "  </style>\n",
       "\n",
       "      <script>\n",
       "        const buttonEl =\n",
       "          document.querySelector('#df-17fa995b-78d4-4a6f-94bd-80317d17ddda button.colab-df-convert');\n",
       "        buttonEl.style.display =\n",
       "          google.colab.kernel.accessAllowed ? 'block' : 'none';\n",
       "\n",
       "        async function convertToInteractive(key) {\n",
       "          const element = document.querySelector('#df-17fa995b-78d4-4a6f-94bd-80317d17ddda');\n",
       "          const dataTable =\n",
       "            await google.colab.kernel.invokeFunction('convertToInteractive',\n",
       "                                                     [key], {});\n",
       "          if (!dataTable) return;\n",
       "\n",
       "          const docLinkHtml = 'Like what you see? Visit the ' +\n",
       "            '<a target=\"_blank\" href=https://colab.research.google.com/notebooks/data_table.ipynb>data table notebook</a>'\n",
       "            + ' to learn more about interactive tables.';\n",
       "          element.innerHTML = '';\n",
       "          dataTable['output_type'] = 'display_data';\n",
       "          await google.colab.output.renderOutput(dataTable, element);\n",
       "          const docLink = document.createElement('div');\n",
       "          docLink.innerHTML = docLinkHtml;\n",
       "          element.appendChild(docLink);\n",
       "        }\n",
       "      </script>\n",
       "    </div>\n",
       "  </div>\n",
       "  "
      ],
      "text/plain": [
       "         date           earthquake\n",
       "0  2016-04-16     Terremoto Manabi\n",
       "1  2016-04-17   Terremoto Manabi+1\n",
       "2  2016-04-18   Terremoto Manabi+2\n",
       "3  2016-04-19   Terremoto Manabi+3\n",
       "4  2016-04-20   Terremoto Manabi+4\n",
       "5  2016-04-21   Terremoto Manabi+5\n",
       "6  2016-04-22   Terremoto Manabi+6\n",
       "7  2016-04-23   Terremoto Manabi+7\n",
       "8  2016-04-24   Terremoto Manabi+8\n",
       "9  2016-04-25   Terremoto Manabi+9\n",
       "10 2016-04-26  Terremoto Manabi+10\n",
       "11 2016-04-27  Terremoto Manabi+11\n",
       "12 2016-04-28  Terremoto Manabi+12\n",
       "13 2016-04-29  Terremoto Manabi+13\n",
       "14 2016-04-30  Terremoto Manabi+14\n",
       "15 2016-05-01  Terremoto Manabi+15\n",
       "16 2016-05-02  Terremoto Manabi+16\n",
       "17 2016-05-03  Terremoto Manabi+17\n",
       "18 2016-05-04  Terremoto Manabi+18\n",
       "19 2016-05-05  Terremoto Manabi+19\n",
       "20 2016-05-06  Terremoto Manabi+20\n",
       "21 2016-05-07  Terremoto Manabi+21\n",
       "22 2016-05-08  Terremoto Manabi+22\n",
       "23 2016-05-09  Terremoto Manabi+23\n",
       "24 2016-05-10  Terremoto Manabi+24\n",
       "25 2016-05-11  Terremoto Manabi+25\n",
       "26 2016-05-12  Terremoto Manabi+26\n",
       "27 2016-05-13  Terremoto Manabi+27\n",
       "28 2016-05-14  Terremoto Manabi+28\n",
       "29 2016-05-15  Terremoto Manabi+29\n",
       "30 2016-05-16  Terremoto Manabi+30"
      ]
     },
     "execution_count": 21,
     "metadata": {},
     "output_type": "execute_result"
    }
   ],
   "source": [
    "earthquake = holiday_data[holiday_data['description'].str.startswith('Terremoto Manabi')]\n",
    "earthquake = earthquake[['date', 'description']].reset_index(drop=True)\n",
    "earthquake.rename({'description': 'earthquake'}, axis=1, inplace=True)\n",
    "earthquake"
   ]
  },
  {
   "cell_type": "markdown",
   "metadata": {
    "id": "17kT2raYcnN-"
   },
   "source": [
    "**Additional Holidays (New Year)**"
   ]
  },
  {
   "cell_type": "code",
   "execution_count": 22,
   "metadata": {
    "colab": {
     "base_uri": "https://localhost:8080/",
     "height": 237
    },
    "executionInfo": {
     "elapsed": 68,
     "status": "ok",
     "timestamp": 1677545061730,
     "user": {
      "displayName": "Rahul Gowda",
      "userId": "07531651890169502464"
     },
     "user_tz": -330
    },
    "id": "cgoNMq2FcTi_",
    "outputId": "9e5824a4-d823-4098-8037-e87bf708591e"
   },
   "outputs": [
    {
     "data": {
      "text/html": [
       "\n",
       "  <div id=\"df-f41e4e47-e94b-497a-a3f4-223ba2e40ba7\">\n",
       "    <div class=\"colab-df-container\">\n",
       "      <div>\n",
       "<style scoped>\n",
       "    .dataframe tbody tr th:only-of-type {\n",
       "        vertical-align: middle;\n",
       "    }\n",
       "\n",
       "    .dataframe tbody tr th {\n",
       "        vertical-align: top;\n",
       "    }\n",
       "\n",
       "    .dataframe thead th {\n",
       "        text-align: right;\n",
       "    }\n",
       "</style>\n",
       "<table border=\"1\" class=\"dataframe\">\n",
       "  <thead>\n",
       "    <tr style=\"text-align: right;\">\n",
       "      <th></th>\n",
       "      <th>date</th>\n",
       "      <th>locale</th>\n",
       "      <th>locale_name</th>\n",
       "      <th>transferred</th>\n",
       "    </tr>\n",
       "  </thead>\n",
       "  <tbody>\n",
       "    <tr>\n",
       "      <th>0</th>\n",
       "      <td>2012-01-01</td>\n",
       "      <td>National</td>\n",
       "      <td>Ecuador</td>\n",
       "      <td>False</td>\n",
       "    </tr>\n",
       "    <tr>\n",
       "      <th>1</th>\n",
       "      <td>2013-01-01</td>\n",
       "      <td>National</td>\n",
       "      <td>Ecuador</td>\n",
       "      <td>False</td>\n",
       "    </tr>\n",
       "    <tr>\n",
       "      <th>2</th>\n",
       "      <td>2014-01-01</td>\n",
       "      <td>National</td>\n",
       "      <td>Ecuador</td>\n",
       "      <td>False</td>\n",
       "    </tr>\n",
       "    <tr>\n",
       "      <th>3</th>\n",
       "      <td>2015-01-01</td>\n",
       "      <td>National</td>\n",
       "      <td>Ecuador</td>\n",
       "      <td>False</td>\n",
       "    </tr>\n",
       "    <tr>\n",
       "      <th>4</th>\n",
       "      <td>2016-01-01</td>\n",
       "      <td>National</td>\n",
       "      <td>Ecuador</td>\n",
       "      <td>False</td>\n",
       "    </tr>\n",
       "    <tr>\n",
       "      <th>5</th>\n",
       "      <td>2017-01-01</td>\n",
       "      <td>National</td>\n",
       "      <td>Ecuador</td>\n",
       "      <td>False</td>\n",
       "    </tr>\n",
       "  </tbody>\n",
       "</table>\n",
       "</div>\n",
       "      <button class=\"colab-df-convert\" onclick=\"convertToInteractive('df-f41e4e47-e94b-497a-a3f4-223ba2e40ba7')\"\n",
       "              title=\"Convert this dataframe to an interactive table.\"\n",
       "              style=\"display:none;\">\n",
       "        \n",
       "  <svg xmlns=\"http://www.w3.org/2000/svg\" height=\"24px\"viewBox=\"0 0 24 24\"\n",
       "       width=\"24px\">\n",
       "    <path d=\"M0 0h24v24H0V0z\" fill=\"none\"/>\n",
       "    <path d=\"M18.56 5.44l.94 2.06.94-2.06 2.06-.94-2.06-.94-.94-2.06-.94 2.06-2.06.94zm-11 1L8.5 8.5l.94-2.06 2.06-.94-2.06-.94L8.5 2.5l-.94 2.06-2.06.94zm10 10l.94 2.06.94-2.06 2.06-.94-2.06-.94-.94-2.06-.94 2.06-2.06.94z\"/><path d=\"M17.41 7.96l-1.37-1.37c-.4-.4-.92-.59-1.43-.59-.52 0-1.04.2-1.43.59L10.3 9.45l-7.72 7.72c-.78.78-.78 2.05 0 2.83L4 21.41c.39.39.9.59 1.41.59.51 0 1.02-.2 1.41-.59l7.78-7.78 2.81-2.81c.8-.78.8-2.07 0-2.86zM5.41 20L4 18.59l7.72-7.72 1.47 1.35L5.41 20z\"/>\n",
       "  </svg>\n",
       "      </button>\n",
       "      \n",
       "  <style>\n",
       "    .colab-df-container {\n",
       "      display:flex;\n",
       "      flex-wrap:wrap;\n",
       "      gap: 12px;\n",
       "    }\n",
       "\n",
       "    .colab-df-convert {\n",
       "      background-color: #E8F0FE;\n",
       "      border: none;\n",
       "      border-radius: 50%;\n",
       "      cursor: pointer;\n",
       "      display: none;\n",
       "      fill: #1967D2;\n",
       "      height: 32px;\n",
       "      padding: 0 0 0 0;\n",
       "      width: 32px;\n",
       "    }\n",
       "\n",
       "    .colab-df-convert:hover {\n",
       "      background-color: #E2EBFA;\n",
       "      box-shadow: 0px 1px 2px rgba(60, 64, 67, 0.3), 0px 1px 3px 1px rgba(60, 64, 67, 0.15);\n",
       "      fill: #174EA6;\n",
       "    }\n",
       "\n",
       "    [theme=dark] .colab-df-convert {\n",
       "      background-color: #3B4455;\n",
       "      fill: #D2E3FC;\n",
       "    }\n",
       "\n",
       "    [theme=dark] .colab-df-convert:hover {\n",
       "      background-color: #434B5C;\n",
       "      box-shadow: 0px 1px 3px 1px rgba(0, 0, 0, 0.15);\n",
       "      filter: drop-shadow(0px 1px 2px rgba(0, 0, 0, 0.3));\n",
       "      fill: #FFFFFF;\n",
       "    }\n",
       "  </style>\n",
       "\n",
       "      <script>\n",
       "        const buttonEl =\n",
       "          document.querySelector('#df-f41e4e47-e94b-497a-a3f4-223ba2e40ba7 button.colab-df-convert');\n",
       "        buttonEl.style.display =\n",
       "          google.colab.kernel.accessAllowed ? 'block' : 'none';\n",
       "\n",
       "        async function convertToInteractive(key) {\n",
       "          const element = document.querySelector('#df-f41e4e47-e94b-497a-a3f4-223ba2e40ba7');\n",
       "          const dataTable =\n",
       "            await google.colab.kernel.invokeFunction('convertToInteractive',\n",
       "                                                     [key], {});\n",
       "          if (!dataTable) return;\n",
       "\n",
       "          const docLinkHtml = 'Like what you see? Visit the ' +\n",
       "            '<a target=\"_blank\" href=https://colab.research.google.com/notebooks/data_table.ipynb>data table notebook</a>'\n",
       "            + ' to learn more about interactive tables.';\n",
       "          element.innerHTML = '';\n",
       "          dataTable['output_type'] = 'display_data';\n",
       "          await google.colab.output.renderOutput(dataTable, element);\n",
       "          const docLink = document.createElement('div');\n",
       "          docLink.innerHTML = docLinkHtml;\n",
       "          element.appendChild(docLink);\n",
       "        }\n",
       "      </script>\n",
       "    </div>\n",
       "  </div>\n",
       "  "
      ],
      "text/plain": [
       "        date    locale locale_name  transferred\n",
       "0 2012-01-01  National     Ecuador        False\n",
       "1 2013-01-01  National     Ecuador        False\n",
       "2 2014-01-01  National     Ecuador        False\n",
       "3 2015-01-01  National     Ecuador        False\n",
       "4 2016-01-01  National     Ecuador        False\n",
       "5 2017-01-01  National     Ecuador        False"
      ]
     },
     "execution_count": 22,
     "metadata": {},
     "output_type": "execute_result"
    }
   ],
   "source": [
    "additional_date = ['2012-01-01', '2013-01-01', '2014-01-01', '2015-01-01', '2016-01-01', '2017-01-01']\n",
    "additional_holidays = pd.DataFrame({'date':additional_date, 'locale':'National',\n",
    "                                    'locale_name':'Ecuador','transferred':False})\n",
    "additional_holidays['date'] = pd.to_datetime(additional_holidays['date'])\n",
    "additional_holidays"
   ]
  },
  {
   "cell_type": "code",
   "execution_count": 23,
   "metadata": {
    "colab": {
     "base_uri": "https://localhost:8080/",
     "height": 423
    },
    "executionInfo": {
     "elapsed": 68,
     "status": "ok",
     "timestamp": 1677545061731,
     "user": {
      "displayName": "Rahul Gowda",
      "userId": "07531651890169502464"
     },
     "user_tz": -330
    },
    "id": "nr4m4athcsvs",
    "outputId": "2d89595c-7c58-4691-b40a-5f39e3751eb5"
   },
   "outputs": [
    {
     "data": {
      "text/html": [
       "\n",
       "  <div id=\"df-e068c69c-4c4f-4045-a025-eb030288e2e4\">\n",
       "    <div class=\"colab-df-container\">\n",
       "      <div>\n",
       "<style scoped>\n",
       "    .dataframe tbody tr th:only-of-type {\n",
       "        vertical-align: middle;\n",
       "    }\n",
       "\n",
       "    .dataframe tbody tr th {\n",
       "        vertical-align: top;\n",
       "    }\n",
       "\n",
       "    .dataframe thead th {\n",
       "        text-align: right;\n",
       "    }\n",
       "</style>\n",
       "<table border=\"1\" class=\"dataframe\">\n",
       "  <thead>\n",
       "    <tr style=\"text-align: right;\">\n",
       "      <th></th>\n",
       "      <th>date</th>\n",
       "      <th>type</th>\n",
       "      <th>locale</th>\n",
       "      <th>locale_name</th>\n",
       "      <th>description</th>\n",
       "      <th>transferred</th>\n",
       "    </tr>\n",
       "  </thead>\n",
       "  <tbody>\n",
       "    <tr>\n",
       "      <th>0</th>\n",
       "      <td>2012-03-02</td>\n",
       "      <td>Holiday</td>\n",
       "      <td>Local</td>\n",
       "      <td>Manta</td>\n",
       "      <td>Fundacion de Manta</td>\n",
       "      <td>False</td>\n",
       "    </tr>\n",
       "    <tr>\n",
       "      <th>1</th>\n",
       "      <td>2012-04-01</td>\n",
       "      <td>Holiday</td>\n",
       "      <td>Regional</td>\n",
       "      <td>Cotopaxi</td>\n",
       "      <td>Provincializacion de Cotopaxi</td>\n",
       "      <td>False</td>\n",
       "    </tr>\n",
       "    <tr>\n",
       "      <th>2</th>\n",
       "      <td>2012-04-12</td>\n",
       "      <td>Holiday</td>\n",
       "      <td>Local</td>\n",
       "      <td>Cuenca</td>\n",
       "      <td>Fundacion de Cuenca</td>\n",
       "      <td>False</td>\n",
       "    </tr>\n",
       "    <tr>\n",
       "      <th>3</th>\n",
       "      <td>2012-04-14</td>\n",
       "      <td>Holiday</td>\n",
       "      <td>Local</td>\n",
       "      <td>Libertad</td>\n",
       "      <td>Cantonizacion de Libertad</td>\n",
       "      <td>False</td>\n",
       "    </tr>\n",
       "    <tr>\n",
       "      <th>4</th>\n",
       "      <td>2012-04-21</td>\n",
       "      <td>Holiday</td>\n",
       "      <td>Local</td>\n",
       "      <td>Riobamba</td>\n",
       "      <td>Cantonizacion de Riobamba</td>\n",
       "      <td>False</td>\n",
       "    </tr>\n",
       "    <tr>\n",
       "      <th>...</th>\n",
       "      <td>...</td>\n",
       "      <td>...</td>\n",
       "      <td>...</td>\n",
       "      <td>...</td>\n",
       "      <td>...</td>\n",
       "      <td>...</td>\n",
       "    </tr>\n",
       "    <tr>\n",
       "      <th>1</th>\n",
       "      <td>2013-01-01</td>\n",
       "      <td>NaN</td>\n",
       "      <td>National</td>\n",
       "      <td>Ecuador</td>\n",
       "      <td>NaN</td>\n",
       "      <td>False</td>\n",
       "    </tr>\n",
       "    <tr>\n",
       "      <th>2</th>\n",
       "      <td>2014-01-01</td>\n",
       "      <td>NaN</td>\n",
       "      <td>National</td>\n",
       "      <td>Ecuador</td>\n",
       "      <td>NaN</td>\n",
       "      <td>False</td>\n",
       "    </tr>\n",
       "    <tr>\n",
       "      <th>3</th>\n",
       "      <td>2015-01-01</td>\n",
       "      <td>NaN</td>\n",
       "      <td>National</td>\n",
       "      <td>Ecuador</td>\n",
       "      <td>NaN</td>\n",
       "      <td>False</td>\n",
       "    </tr>\n",
       "    <tr>\n",
       "      <th>4</th>\n",
       "      <td>2016-01-01</td>\n",
       "      <td>NaN</td>\n",
       "      <td>National</td>\n",
       "      <td>Ecuador</td>\n",
       "      <td>NaN</td>\n",
       "      <td>False</td>\n",
       "    </tr>\n",
       "    <tr>\n",
       "      <th>5</th>\n",
       "      <td>2017-01-01</td>\n",
       "      <td>NaN</td>\n",
       "      <td>National</td>\n",
       "      <td>Ecuador</td>\n",
       "      <td>NaN</td>\n",
       "      <td>False</td>\n",
       "    </tr>\n",
       "  </tbody>\n",
       "</table>\n",
       "<p>356 rows × 6 columns</p>\n",
       "</div>\n",
       "      <button class=\"colab-df-convert\" onclick=\"convertToInteractive('df-e068c69c-4c4f-4045-a025-eb030288e2e4')\"\n",
       "              title=\"Convert this dataframe to an interactive table.\"\n",
       "              style=\"display:none;\">\n",
       "        \n",
       "  <svg xmlns=\"http://www.w3.org/2000/svg\" height=\"24px\"viewBox=\"0 0 24 24\"\n",
       "       width=\"24px\">\n",
       "    <path d=\"M0 0h24v24H0V0z\" fill=\"none\"/>\n",
       "    <path d=\"M18.56 5.44l.94 2.06.94-2.06 2.06-.94-2.06-.94-.94-2.06-.94 2.06-2.06.94zm-11 1L8.5 8.5l.94-2.06 2.06-.94-2.06-.94L8.5 2.5l-.94 2.06-2.06.94zm10 10l.94 2.06.94-2.06 2.06-.94-2.06-.94-.94-2.06-.94 2.06-2.06.94z\"/><path d=\"M17.41 7.96l-1.37-1.37c-.4-.4-.92-.59-1.43-.59-.52 0-1.04.2-1.43.59L10.3 9.45l-7.72 7.72c-.78.78-.78 2.05 0 2.83L4 21.41c.39.39.9.59 1.41.59.51 0 1.02-.2 1.41-.59l7.78-7.78 2.81-2.81c.8-.78.8-2.07 0-2.86zM5.41 20L4 18.59l7.72-7.72 1.47 1.35L5.41 20z\"/>\n",
       "  </svg>\n",
       "      </button>\n",
       "      \n",
       "  <style>\n",
       "    .colab-df-container {\n",
       "      display:flex;\n",
       "      flex-wrap:wrap;\n",
       "      gap: 12px;\n",
       "    }\n",
       "\n",
       "    .colab-df-convert {\n",
       "      background-color: #E8F0FE;\n",
       "      border: none;\n",
       "      border-radius: 50%;\n",
       "      cursor: pointer;\n",
       "      display: none;\n",
       "      fill: #1967D2;\n",
       "      height: 32px;\n",
       "      padding: 0 0 0 0;\n",
       "      width: 32px;\n",
       "    }\n",
       "\n",
       "    .colab-df-convert:hover {\n",
       "      background-color: #E2EBFA;\n",
       "      box-shadow: 0px 1px 2px rgba(60, 64, 67, 0.3), 0px 1px 3px 1px rgba(60, 64, 67, 0.15);\n",
       "      fill: #174EA6;\n",
       "    }\n",
       "\n",
       "    [theme=dark] .colab-df-convert {\n",
       "      background-color: #3B4455;\n",
       "      fill: #D2E3FC;\n",
       "    }\n",
       "\n",
       "    [theme=dark] .colab-df-convert:hover {\n",
       "      background-color: #434B5C;\n",
       "      box-shadow: 0px 1px 3px 1px rgba(0, 0, 0, 0.15);\n",
       "      filter: drop-shadow(0px 1px 2px rgba(0, 0, 0, 0.3));\n",
       "      fill: #FFFFFF;\n",
       "    }\n",
       "  </style>\n",
       "\n",
       "      <script>\n",
       "        const buttonEl =\n",
       "          document.querySelector('#df-e068c69c-4c4f-4045-a025-eb030288e2e4 button.colab-df-convert');\n",
       "        buttonEl.style.display =\n",
       "          google.colab.kernel.accessAllowed ? 'block' : 'none';\n",
       "\n",
       "        async function convertToInteractive(key) {\n",
       "          const element = document.querySelector('#df-e068c69c-4c4f-4045-a025-eb030288e2e4');\n",
       "          const dataTable =\n",
       "            await google.colab.kernel.invokeFunction('convertToInteractive',\n",
       "                                                     [key], {});\n",
       "          if (!dataTable) return;\n",
       "\n",
       "          const docLinkHtml = 'Like what you see? Visit the ' +\n",
       "            '<a target=\"_blank\" href=https://colab.research.google.com/notebooks/data_table.ipynb>data table notebook</a>'\n",
       "            + ' to learn more about interactive tables.';\n",
       "          element.innerHTML = '';\n",
       "          dataTable['output_type'] = 'display_data';\n",
       "          await google.colab.output.renderOutput(dataTable, element);\n",
       "          const docLink = document.createElement('div');\n",
       "          docLink.innerHTML = docLinkHtml;\n",
       "          element.appendChild(docLink);\n",
       "        }\n",
       "      </script>\n",
       "    </div>\n",
       "  </div>\n",
       "  "
      ],
      "text/plain": [
       "         date     type    locale locale_name                    description  \\\n",
       "0  2012-03-02  Holiday     Local       Manta             Fundacion de Manta   \n",
       "1  2012-04-01  Holiday  Regional    Cotopaxi  Provincializacion de Cotopaxi   \n",
       "2  2012-04-12  Holiday     Local      Cuenca            Fundacion de Cuenca   \n",
       "3  2012-04-14  Holiday     Local    Libertad      Cantonizacion de Libertad   \n",
       "4  2012-04-21  Holiday     Local    Riobamba      Cantonizacion de Riobamba   \n",
       "..        ...      ...       ...         ...                            ...   \n",
       "1  2013-01-01      NaN  National     Ecuador                            NaN   \n",
       "2  2014-01-01      NaN  National     Ecuador                            NaN   \n",
       "3  2015-01-01      NaN  National     Ecuador                            NaN   \n",
       "4  2016-01-01      NaN  National     Ecuador                            NaN   \n",
       "5  2017-01-01      NaN  National     Ecuador                            NaN   \n",
       "\n",
       "    transferred  \n",
       "0         False  \n",
       "1         False  \n",
       "2         False  \n",
       "3         False  \n",
       "4         False  \n",
       "..          ...  \n",
       "1         False  \n",
       "2         False  \n",
       "3         False  \n",
       "4         False  \n",
       "5         False  \n",
       "\n",
       "[356 rows x 6 columns]"
      ]
     },
     "execution_count": 23,
     "metadata": {},
     "output_type": "execute_result"
    }
   ],
   "source": [
    "\n",
    "holiday_data = holiday_data.drop_duplicates()\n",
    "holiday_data = pd.concat([holiday_data.reset_index(drop=True),  additional_holidays.reset_index(drop=True)], axis=0)\n",
    "holiday_data"
   ]
  },
  {
   "cell_type": "markdown",
   "metadata": {
    "id": "HVWSaS-Jd_Du"
   },
   "source": [
    "Merging the train dataset with stores dataset"
   ]
  },
  {
   "cell_type": "code",
   "execution_count": 24,
   "metadata": {
    "executionInfo": {
     "elapsed": 2607,
     "status": "ok",
     "timestamp": 1677545064271,
     "user": {
      "displayName": "Rahul Gowda",
      "userId": "07531651890169502464"
     },
     "user_tz": -330
    },
    "id": "ARkE9-L-dnqi"
   },
   "outputs": [],
   "source": [
    "train_data =train_data.merge(store_data ,how = 'left', on = 'store_nbr')\n",
    "test_data = test_data.merge(store_data, how = 'left', on = 'store_nbr')"
   ]
  },
  {
   "cell_type": "markdown",
   "metadata": {
    "id": "H92PbQAJeAC-"
   },
   "source": [
    "Merging the train dataset with holidays dataset"
   ]
  },
  {
   "cell_type": "code",
   "execution_count": 25,
   "metadata": {
    "executionInfo": {
     "elapsed": 2272,
     "status": "ok",
     "timestamp": 1677545066540,
     "user": {
      "displayName": "Rahul Gowda",
      "userId": "07531651890169502464"
     },
     "user_tz": -330
    },
    "id": "XqwogonDeBtH"
   },
   "outputs": [],
   "source": [
    "train_data = train_data.merge(holiday_data,how = 'left', on = ['date'])\n",
    "test_data = test_data.merge(holiday_data,how = 'left', on = ['date'])"
   ]
  },
  {
   "cell_type": "markdown",
   "metadata": {
    "id": "lmcQz4aOeCAd"
   },
   "source": [
    "Merging the train dataset with oil dataset"
   ]
  },
  {
   "cell_type": "code",
   "execution_count": 26,
   "metadata": {
    "executionInfo": {
     "elapsed": 1362,
     "status": "ok",
     "timestamp": 1677545067897,
     "user": {
      "displayName": "Rahul Gowda",
      "userId": "07531651890169502464"
     },
     "user_tz": -330
    },
    "id": "PAdVuvN4eCIm"
   },
   "outputs": [],
   "source": [
    "train_data =pd.merge(train_data,oil_data, how = 'left', on = 'date')\n",
    "test_data = pd.merge(test_data,oil_data, how = 'left', on = 'date')"
   ]
  },
  {
   "cell_type": "code",
   "execution_count": 27,
   "metadata": {
    "executionInfo": {
     "elapsed": 36,
     "status": "ok",
     "timestamp": 1677545067898,
     "user": {
      "displayName": "Rahul Gowda",
      "userId": "07531651890169502464"
     },
     "user_tz": -330
    },
    "id": "UC_xeN79eYuh"
   },
   "outputs": [],
   "source": [
    "train_data.rename(columns = {'type_x': 'store_type'},inplace=True)\n",
    "test_data.rename(columns = {'type_x': 'store_type'},inplace=True)"
   ]
  },
  {
   "cell_type": "code",
   "execution_count": 28,
   "metadata": {
    "executionInfo": {
     "elapsed": 36,
     "status": "ok",
     "timestamp": 1677545067899,
     "user": {
      "displayName": "Rahul Gowda",
      "userId": "07531651890169502464"
     },
     "user_tz": -330
    },
    "id": "S_a2Eh5fjZwK"
   },
   "outputs": [],
   "source": [
    "train_data.rename(columns = {'type_y': 'type'},inplace=True)\n",
    "test_data.rename(columns = {'type_y': 'type'},inplace=True)"
   ]
  },
  {
   "cell_type": "code",
   "execution_count": 29,
   "metadata": {
    "colab": {
     "base_uri": "https://localhost:8080/",
     "height": 206
    },
    "executionInfo": {
     "elapsed": 36,
     "status": "ok",
     "timestamp": 1677545067900,
     "user": {
      "displayName": "Rahul Gowda",
      "userId": "07531651890169502464"
     },
     "user_tz": -330
    },
    "id": "KSAbhFjihaNu",
    "outputId": "5a22faa2-1631-4ee4-9479-a770fe094df4"
   },
   "outputs": [
    {
     "data": {
      "text/html": [
       "\n",
       "  <div id=\"df-a1a7dcd7-4395-4633-8d62-38d4b872e26d\">\n",
       "    <div class=\"colab-df-container\">\n",
       "      <div>\n",
       "<style scoped>\n",
       "    .dataframe tbody tr th:only-of-type {\n",
       "        vertical-align: middle;\n",
       "    }\n",
       "\n",
       "    .dataframe tbody tr th {\n",
       "        vertical-align: top;\n",
       "    }\n",
       "\n",
       "    .dataframe thead th {\n",
       "        text-align: right;\n",
       "    }\n",
       "</style>\n",
       "<table border=\"1\" class=\"dataframe\">\n",
       "  <thead>\n",
       "    <tr style=\"text-align: right;\">\n",
       "      <th></th>\n",
       "      <th>id</th>\n",
       "      <th>date</th>\n",
       "      <th>store_nbr</th>\n",
       "      <th>family</th>\n",
       "      <th>sales</th>\n",
       "      <th>onpromotion</th>\n",
       "      <th>city</th>\n",
       "      <th>state</th>\n",
       "      <th>store_type</th>\n",
       "      <th>cluster</th>\n",
       "      <th>type</th>\n",
       "      <th>locale</th>\n",
       "      <th>locale_name</th>\n",
       "      <th>description</th>\n",
       "      <th>transferred</th>\n",
       "      <th>dcoilwtico</th>\n",
       "    </tr>\n",
       "  </thead>\n",
       "  <tbody>\n",
       "    <tr>\n",
       "      <th>0</th>\n",
       "      <td>0</td>\n",
       "      <td>2013-01-01</td>\n",
       "      <td>1</td>\n",
       "      <td>AUTOMOTIVE</td>\n",
       "      <td>0.0</td>\n",
       "      <td>0</td>\n",
       "      <td>Quito</td>\n",
       "      <td>Pichincha</td>\n",
       "      <td>D</td>\n",
       "      <td>13</td>\n",
       "      <td>Holiday</td>\n",
       "      <td>National</td>\n",
       "      <td>Ecuador</td>\n",
       "      <td>Primer dia del ano</td>\n",
       "      <td>False</td>\n",
       "      <td>93.0</td>\n",
       "    </tr>\n",
       "    <tr>\n",
       "      <th>1</th>\n",
       "      <td>0</td>\n",
       "      <td>2013-01-01</td>\n",
       "      <td>1</td>\n",
       "      <td>AUTOMOTIVE</td>\n",
       "      <td>0.0</td>\n",
       "      <td>0</td>\n",
       "      <td>Quito</td>\n",
       "      <td>Pichincha</td>\n",
       "      <td>D</td>\n",
       "      <td>13</td>\n",
       "      <td>NaN</td>\n",
       "      <td>National</td>\n",
       "      <td>Ecuador</td>\n",
       "      <td>NaN</td>\n",
       "      <td>False</td>\n",
       "      <td>93.0</td>\n",
       "    </tr>\n",
       "    <tr>\n",
       "      <th>2</th>\n",
       "      <td>1</td>\n",
       "      <td>2013-01-01</td>\n",
       "      <td>1</td>\n",
       "      <td>BABY_CARE</td>\n",
       "      <td>0.0</td>\n",
       "      <td>0</td>\n",
       "      <td>Quito</td>\n",
       "      <td>Pichincha</td>\n",
       "      <td>D</td>\n",
       "      <td>13</td>\n",
       "      <td>Holiday</td>\n",
       "      <td>National</td>\n",
       "      <td>Ecuador</td>\n",
       "      <td>Primer dia del ano</td>\n",
       "      <td>False</td>\n",
       "      <td>93.0</td>\n",
       "    </tr>\n",
       "    <tr>\n",
       "      <th>3</th>\n",
       "      <td>1</td>\n",
       "      <td>2013-01-01</td>\n",
       "      <td>1</td>\n",
       "      <td>BABY_CARE</td>\n",
       "      <td>0.0</td>\n",
       "      <td>0</td>\n",
       "      <td>Quito</td>\n",
       "      <td>Pichincha</td>\n",
       "      <td>D</td>\n",
       "      <td>13</td>\n",
       "      <td>NaN</td>\n",
       "      <td>National</td>\n",
       "      <td>Ecuador</td>\n",
       "      <td>NaN</td>\n",
       "      <td>False</td>\n",
       "      <td>93.0</td>\n",
       "    </tr>\n",
       "    <tr>\n",
       "      <th>4</th>\n",
       "      <td>2</td>\n",
       "      <td>2013-01-01</td>\n",
       "      <td>1</td>\n",
       "      <td>BEAUTY</td>\n",
       "      <td>0.0</td>\n",
       "      <td>0</td>\n",
       "      <td>Quito</td>\n",
       "      <td>Pichincha</td>\n",
       "      <td>D</td>\n",
       "      <td>13</td>\n",
       "      <td>Holiday</td>\n",
       "      <td>National</td>\n",
       "      <td>Ecuador</td>\n",
       "      <td>Primer dia del ano</td>\n",
       "      <td>False</td>\n",
       "      <td>93.0</td>\n",
       "    </tr>\n",
       "  </tbody>\n",
       "</table>\n",
       "</div>\n",
       "      <button class=\"colab-df-convert\" onclick=\"convertToInteractive('df-a1a7dcd7-4395-4633-8d62-38d4b872e26d')\"\n",
       "              title=\"Convert this dataframe to an interactive table.\"\n",
       "              style=\"display:none;\">\n",
       "        \n",
       "  <svg xmlns=\"http://www.w3.org/2000/svg\" height=\"24px\"viewBox=\"0 0 24 24\"\n",
       "       width=\"24px\">\n",
       "    <path d=\"M0 0h24v24H0V0z\" fill=\"none\"/>\n",
       "    <path d=\"M18.56 5.44l.94 2.06.94-2.06 2.06-.94-2.06-.94-.94-2.06-.94 2.06-2.06.94zm-11 1L8.5 8.5l.94-2.06 2.06-.94-2.06-.94L8.5 2.5l-.94 2.06-2.06.94zm10 10l.94 2.06.94-2.06 2.06-.94-2.06-.94-.94-2.06-.94 2.06-2.06.94z\"/><path d=\"M17.41 7.96l-1.37-1.37c-.4-.4-.92-.59-1.43-.59-.52 0-1.04.2-1.43.59L10.3 9.45l-7.72 7.72c-.78.78-.78 2.05 0 2.83L4 21.41c.39.39.9.59 1.41.59.51 0 1.02-.2 1.41-.59l7.78-7.78 2.81-2.81c.8-.78.8-2.07 0-2.86zM5.41 20L4 18.59l7.72-7.72 1.47 1.35L5.41 20z\"/>\n",
       "  </svg>\n",
       "      </button>\n",
       "      \n",
       "  <style>\n",
       "    .colab-df-container {\n",
       "      display:flex;\n",
       "      flex-wrap:wrap;\n",
       "      gap: 12px;\n",
       "    }\n",
       "\n",
       "    .colab-df-convert {\n",
       "      background-color: #E8F0FE;\n",
       "      border: none;\n",
       "      border-radius: 50%;\n",
       "      cursor: pointer;\n",
       "      display: none;\n",
       "      fill: #1967D2;\n",
       "      height: 32px;\n",
       "      padding: 0 0 0 0;\n",
       "      width: 32px;\n",
       "    }\n",
       "\n",
       "    .colab-df-convert:hover {\n",
       "      background-color: #E2EBFA;\n",
       "      box-shadow: 0px 1px 2px rgba(60, 64, 67, 0.3), 0px 1px 3px 1px rgba(60, 64, 67, 0.15);\n",
       "      fill: #174EA6;\n",
       "    }\n",
       "\n",
       "    [theme=dark] .colab-df-convert {\n",
       "      background-color: #3B4455;\n",
       "      fill: #D2E3FC;\n",
       "    }\n",
       "\n",
       "    [theme=dark] .colab-df-convert:hover {\n",
       "      background-color: #434B5C;\n",
       "      box-shadow: 0px 1px 3px 1px rgba(0, 0, 0, 0.15);\n",
       "      filter: drop-shadow(0px 1px 2px rgba(0, 0, 0, 0.3));\n",
       "      fill: #FFFFFF;\n",
       "    }\n",
       "  </style>\n",
       "\n",
       "      <script>\n",
       "        const buttonEl =\n",
       "          document.querySelector('#df-a1a7dcd7-4395-4633-8d62-38d4b872e26d button.colab-df-convert');\n",
       "        buttonEl.style.display =\n",
       "          google.colab.kernel.accessAllowed ? 'block' : 'none';\n",
       "\n",
       "        async function convertToInteractive(key) {\n",
       "          const element = document.querySelector('#df-a1a7dcd7-4395-4633-8d62-38d4b872e26d');\n",
       "          const dataTable =\n",
       "            await google.colab.kernel.invokeFunction('convertToInteractive',\n",
       "                                                     [key], {});\n",
       "          if (!dataTable) return;\n",
       "\n",
       "          const docLinkHtml = 'Like what you see? Visit the ' +\n",
       "            '<a target=\"_blank\" href=https://colab.research.google.com/notebooks/data_table.ipynb>data table notebook</a>'\n",
       "            + ' to learn more about interactive tables.';\n",
       "          element.innerHTML = '';\n",
       "          dataTable['output_type'] = 'display_data';\n",
       "          await google.colab.output.renderOutput(dataTable, element);\n",
       "          const docLink = document.createElement('div');\n",
       "          docLink.innerHTML = docLinkHtml;\n",
       "          element.appendChild(docLink);\n",
       "        }\n",
       "      </script>\n",
       "    </div>\n",
       "  </div>\n",
       "  "
      ],
      "text/plain": [
       "   id       date  store_nbr      family  sales  onpromotion   city      state  \\\n",
       "0   0 2013-01-01          1  AUTOMOTIVE    0.0            0  Quito  Pichincha   \n",
       "1   0 2013-01-01          1  AUTOMOTIVE    0.0            0  Quito  Pichincha   \n",
       "2   1 2013-01-01          1   BABY_CARE    0.0            0  Quito  Pichincha   \n",
       "3   1 2013-01-01          1   BABY_CARE    0.0            0  Quito  Pichincha   \n",
       "4   2 2013-01-01          1      BEAUTY    0.0            0  Quito  Pichincha   \n",
       "\n",
       "  store_type  cluster     type    locale locale_name         description  \\\n",
       "0          D       13  Holiday  National     Ecuador  Primer dia del ano   \n",
       "1          D       13      NaN  National     Ecuador                 NaN   \n",
       "2          D       13  Holiday  National     Ecuador  Primer dia del ano   \n",
       "3          D       13      NaN  National     Ecuador                 NaN   \n",
       "4          D       13  Holiday  National     Ecuador  Primer dia del ano   \n",
       "\n",
       "  transferred  dcoilwtico  \n",
       "0       False        93.0  \n",
       "1       False        93.0  \n",
       "2       False        93.0  \n",
       "3       False        93.0  \n",
       "4       False        93.0  "
      ]
     },
     "execution_count": 29,
     "metadata": {},
     "output_type": "execute_result"
    }
   ],
   "source": [
    "train_data.head()"
   ]
  },
  {
   "cell_type": "code",
   "execution_count": 30,
   "metadata": {
    "colab": {
     "base_uri": "https://localhost:8080/"
    },
    "executionInfo": {
     "elapsed": 640,
     "status": "ok",
     "timestamp": 1677545068506,
     "user": {
      "displayName": "Rahul Gowda",
      "userId": "07531651890169502464"
     },
     "user_tz": -330
    },
    "id": "1yWHTd16nRNI",
    "outputId": "eb986d8a-3edc-44f5-f12a-3fd1587a12a0"
   },
   "outputs": [
    {
     "data": {
      "text/plain": [
       "Index(['id', 'date', 'store_nbr', 'family', 'sales', 'onpromotion', 'city',\n",
       "       'state', 'store_type', 'cluster', 'type', 'locale', 'locale_name',\n",
       "       'description', 'transferred', 'dcoilwtico'],\n",
       "      dtype='object')"
      ]
     },
     "execution_count": 30,
     "metadata": {},
     "output_type": "execute_result"
    }
   ],
   "source": [
    "train_data.columns"
   ]
  },
  {
   "cell_type": "code",
   "execution_count": 31,
   "metadata": {
    "colab": {
     "base_uri": "https://localhost:8080/"
    },
    "executionInfo": {
     "elapsed": 27,
     "status": "ok",
     "timestamp": 1677545068507,
     "user": {
      "displayName": "Rahul Gowda",
      "userId": "07531651890169502464"
     },
     "user_tz": -330
    },
    "id": "LHsELKuHgUww",
    "outputId": "1632a6cd-2267-4f14-962b-898742e9dd13"
   },
   "outputs": [
    {
     "data": {
      "text/plain": [
       "(3063258, 16)"
      ]
     },
     "execution_count": 31,
     "metadata": {},
     "output_type": "execute_result"
    }
   ],
   "source": [
    "train_data.shape"
   ]
  },
  {
   "cell_type": "code",
   "execution_count": 32,
   "metadata": {
    "colab": {
     "base_uri": "https://localhost:8080/"
    },
    "executionInfo": {
     "elapsed": 21,
     "status": "ok",
     "timestamp": 1677545068507,
     "user": {
      "displayName": "Rahul Gowda",
      "userId": "07531651890169502464"
     },
     "user_tz": -330
    },
    "id": "t-j92Xe9gWhe",
    "outputId": "70018dfa-8981-4e37-9e0b-0a3c53514da0"
   },
   "outputs": [
    {
     "data": {
      "text/plain": [
       "(28512, 15)"
      ]
     },
     "execution_count": 32,
     "metadata": {},
     "output_type": "execute_result"
    }
   ],
   "source": [
    "test_data.shape"
   ]
  },
  {
   "cell_type": "code",
   "execution_count": 33,
   "metadata": {
    "colab": {
     "base_uri": "https://localhost:8080/"
    },
    "executionInfo": {
     "elapsed": 2266,
     "status": "ok",
     "timestamp": 1677545070756,
     "user": {
      "displayName": "Rahul Gowda",
      "userId": "07531651890169502464"
     },
     "user_tz": -330
    },
    "id": "2O9mefhOvWTw",
    "outputId": "e9cdb461-3493-4d24-d1ab-869994ef48d9"
   },
   "outputs": [
    {
     "data": {
      "text/plain": [
       "id                   0\n",
       "date                 0\n",
       "store_nbr            0\n",
       "family               0\n",
       "sales                0\n",
       "onpromotion          0\n",
       "city                 0\n",
       "state                0\n",
       "store_type           0\n",
       "cluster              0\n",
       "type           2560734\n",
       "locale         2551824\n",
       "locale_name    2551824\n",
       "description    2560734\n",
       "transferred    2551824\n",
       "dcoilwtico      880308\n",
       "dtype: int64"
      ]
     },
     "execution_count": 33,
     "metadata": {},
     "output_type": "execute_result"
    }
   ],
   "source": [
    "train_data.isna().sum()"
   ]
  },
  {
   "cell_type": "markdown",
   "metadata": {
    "id": "3A_KB7l4vwM6"
   },
   "source": [
    "Imputing missing Values"
   ]
  },
  {
   "cell_type": "code",
   "execution_count": 34,
   "metadata": {
    "executionInfo": {
     "elapsed": 2373,
     "status": "ok",
     "timestamp": 1677545073115,
     "user": {
      "displayName": "Rahul Gowda",
      "userId": "07531651890169502464"
     },
     "user_tz": -330
    },
    "id": "43KBg7z-vupq"
   },
   "outputs": [],
   "source": [
    "# Apart from holidays all are working days\n",
    "train_data['type'].fillna('working_day',inplace=True)\n",
    "test_data['type'].fillna('working_day',inplace=True)\n",
    "\n",
    "# All the NaN value in 'locale' column are working days hence it is National\n",
    "train_data['locale'].fillna('National', inplace=True)\n",
    "test_data['locale'].fillna('National', inplace=True)\n",
    "\n",
    "# All the NaN value in 'locale' column are working days hence it is National\n",
    "train_data['description'].fillna('Unkown', inplace=True)\n",
    "test_data['description'].fillna('Unkown', inplace=True)\n",
    "\n",
    "# Filling the blanks with the value before nan\n",
    "train_data['dcoilwtico'].fillna(method = 'ffill', inplace=True)\n",
    "test_data['dcoilwtico'].fillna(method = 'ffill', inplace=True)\n",
    "\n",
    "# All the NaN values are working days hence not tranferred\n",
    "train_data['transferred'].fillna(False, inplace=True)\n",
    "test_data['transferred'].fillna(False, inplace=True)"
   ]
  },
  {
   "cell_type": "code",
   "execution_count": 35,
   "metadata": {
    "colab": {
     "base_uri": "https://localhost:8080/"
    },
    "executionInfo": {
     "elapsed": 4087,
     "status": "ok",
     "timestamp": 1677545077197,
     "user": {
      "displayName": "Rahul Gowda",
      "userId": "07531651890169502464"
     },
     "user_tz": -330
    },
    "id": "ysGoSBJWv33M",
    "outputId": "f5f9916f-3e48-4455-843b-65d1e4bb3429"
   },
   "outputs": [
    {
     "data": {
      "text/plain": [
       "id                   0\n",
       "date                 0\n",
       "store_nbr            0\n",
       "family               0\n",
       "sales                0\n",
       "onpromotion          0\n",
       "city                 0\n",
       "state                0\n",
       "store_type           0\n",
       "cluster              0\n",
       "type                 0\n",
       "locale               0\n",
       "locale_name    2551824\n",
       "description          0\n",
       "transferred          0\n",
       "dcoilwtico           0\n",
       "dtype: int64"
      ]
     },
     "execution_count": 35,
     "metadata": {},
     "output_type": "execute_result"
    }
   ],
   "source": [
    "train_data.isna().sum()"
   ]
  },
  {
   "cell_type": "markdown",
   "metadata": {
    "id": "4OW3sg1eeCQd"
   },
   "source": [
    "# Feature Engineering"
   ]
  },
  {
   "cell_type": "markdown",
   "metadata": {
    "id": "RpzlNpnagcrt"
   },
   "source": [
    "This function performs the following feature engineering tasks:\n",
    "The `holiday_feature_engineering` function takes a pandas DataFrame that contains information about holidays and events as input, and it returns a modified DataFrame that includes new columns representing useful features derived from the original data.\n",
    "\n",
    "Here's a brief summary of what the function does:\n",
    "\n",
    "First, it makes a copy of the input DataFrame to avoid modifying the original data.\n",
    "Next, it converts the 'date' column to a datetime data type, and it creates new columns for the year, month, day, and weekday of each holiday/event date.\n",
    "It fills any missing values in the 'type' column with 'Work Day'.\n",
    "It creates a new column called 'is_holiday' which is True for rows where the 'type' column is not 'Work Day'.\n",
    "It creates a new column called 'is_transfer' which is True for rows where the 'type' column is 'Transfer'.\n",
    "It creates a new column called 'is_additional' which is True for rows where the 'type' column starts with 'Additional'.\n",
    "Finally, it drops the original 'type' column since the new columns created from it provide more detailed information about each holiday/event."
   ]
  },
  {
   "cell_type": "code",
   "execution_count": 36,
   "metadata": {
    "executionInfo": {
     "elapsed": 14,
     "status": "ok",
     "timestamp": 1677545077198,
     "user": {
      "displayName": "Rahul Gowda",
      "userId": "07531651890169502464"
     },
     "user_tz": -330
    },
    "id": "odYQu_x-nkSN"
   },
   "outputs": [],
   "source": [
    "import pandas as pd\n",
    "import numpy as np\n",
    "\n",
    "def holiday_feature_engineering(df):\n",
    "    # convert date column to datetime\n",
    "    df_copy = df.copy()\n",
    "    df_copy['date'] = pd.to_datetime(df_copy['date'], format='%Y-%m-%d')\n",
    "\n",
    "    # create year, month, day, and weekday columns\n",
    "    df_copy['year'] = df_copy['date'].dt.year\n",
    "    df_copy['month'] = df_copy['date'].dt.month\n",
    "    df_copy['day'] = df_copy['date'].dt.day\n",
    "    df_copy['weekday'] = df_copy['date'].dt.day_name()\n",
    "\n",
    "    # fill NaN values in type column with 'Work Day'\n",
    "    df_copy['type'].fillna('Work Day', inplace=True)\n",
    "\n",
    "    # create binary column for holidays and work days\n",
    "    df_copy['is_holiday'] = np.where((df_copy['type'] != 'Work Day') & (df_copy['transferred'] == False), 1, 0)\n",
    "    df_copy['is_work_day'] = np.where((df_copy['type'] == 'Work Day') | (df_copy['transferred'] == True), 1, 0)\n",
    "\n",
    "    # group by year, month, and is_holiday columns to get holiday count per month\n",
    "    holidays_per_month = df_copy.groupby(['year', 'month', 'is_holiday'], as_index=False)['date'].count()\n",
    "    holidays_per_month.rename(columns={'date': 'holiday_count'}, inplace=True)\n",
    "    holidays_per_month = holidays_per_month[holidays_per_month['is_holiday'] == 1]\n",
    "\n",
    "    # merge holiday count per month with original dataframe\n",
    "    df_copy = pd.merge(df_copy, holidays_per_month[['year', 'month', 'holiday_count']], on=['year', 'month'], how='left')\n",
    "\n",
    "    return df_copy\n"
   ]
  },
  {
   "cell_type": "code",
   "execution_count": 37,
   "metadata": {
    "executionInfo": {
     "elapsed": 14344,
     "status": "ok",
     "timestamp": 1677545091529,
     "user": {
      "displayName": "Rahul Gowda",
      "userId": "07531651890169502464"
     },
     "user_tz": -330
    },
    "id": "sjyYfsjIgIex"
   },
   "outputs": [],
   "source": [
    "train_data=holiday_feature_engineering(train_data)\n",
    "test_data=holiday_feature_engineering(test_data)"
   ]
  },
  {
   "cell_type": "code",
   "execution_count": 38,
   "metadata": {
    "colab": {
     "base_uri": "https://localhost:8080/"
    },
    "executionInfo": {
     "elapsed": 38,
     "status": "ok",
     "timestamp": 1677545091529,
     "user": {
      "displayName": "Rahul Gowda",
      "userId": "07531651890169502464"
     },
     "user_tz": -330
    },
    "id": "V4_1jY8NwcfW",
    "outputId": "ee41636a-0ae5-49e7-e7ac-3441a79653f6"
   },
   "outputs": [
    {
     "data": {
      "text/plain": [
       "Timestamp('2013-01-01 00:00:00')"
      ]
     },
     "execution_count": 38,
     "metadata": {},
     "output_type": "execute_result"
    }
   ],
   "source": [
    "train_data.date.min()"
   ]
  },
  {
   "cell_type": "code",
   "execution_count": 39,
   "metadata": {
    "colab": {
     "base_uri": "https://localhost:8080/"
    },
    "executionInfo": {
     "elapsed": 1216,
     "status": "ok",
     "timestamp": 1677545092729,
     "user": {
      "displayName": "Rahul Gowda",
      "userId": "07531651890169502464"
     },
     "user_tz": -330
    },
    "id": "O8YJ4MYohXUZ",
    "outputId": "00b92798-9dc6-4558-b6ef-6eb3b7753f98"
   },
   "outputs": [
    {
     "data": {
      "text/plain": [
       "id                     0\n",
       "date                   0\n",
       "store_nbr              0\n",
       "family                 0\n",
       "sales                  0\n",
       "onpromotion            0\n",
       "city                   0\n",
       "state                  0\n",
       "store_type             0\n",
       "cluster                0\n",
       "type                   0\n",
       "locale                 0\n",
       "locale_name      2551824\n",
       "description            0\n",
       "transferred            0\n",
       "dcoilwtico             0\n",
       "year                   0\n",
       "month                  0\n",
       "day                    0\n",
       "weekday                0\n",
       "is_holiday             0\n",
       "is_work_day            0\n",
       "holiday_count          0\n",
       "dtype: int64"
      ]
     },
     "execution_count": 39,
     "metadata": {},
     "output_type": "execute_result"
    }
   ],
   "source": [
    "train_data.isna().sum()"
   ]
  },
  {
   "cell_type": "code",
   "execution_count": 40,
   "metadata": {
    "executionInfo": {
     "elapsed": 13,
     "status": "ok",
     "timestamp": 1677545092729,
     "user": {
      "displayName": "Rahul Gowda",
      "userId": "07531651890169502464"
     },
     "user_tz": -330
    },
    "id": "ei-7_ffiot2V"
   },
   "outputs": [],
   "source": [
    "def wage_feature_engineering(df):\n",
    "    # Convert date column to datetime format\n",
    "    df['date'] = pd.to_datetime(df['date'])\n",
    "    \n",
    "    # Create a new column for day of the month\n",
    "    df['day'] = df['date'].dt.day\n",
    "    \n",
    "    # Create a new column for whether the day is a pay day or not\n",
    "    df['pay_day'] = ((df['day'] == 15) | (df['day'] == df['date'].dt.daysinmonth)).astype(int)\n",
    "    \n",
    "    # Create a new column for whether the previous day was a pay day or not\n",
    "    df['prev_pay_day'] = df['pay_day'].shift(1).fillna(0)\n",
    "    \n",
    "    return df\n"
   ]
  },
  {
   "cell_type": "markdown",
   "metadata": {
    "id": "KMdfDB4GqJyX"
   },
   "source": [
    "This function takes a pandas DataFrame as input, and assumes that it contains a 'date' column in string format (e.g. '2019-01-01'). The function first converts this column to a pandas datetime format so that it can be used for date calculations.\n",
    "\n",
    "Next, the function creates a new 'day' column that contains the day of the month (1-31) for each date in the DataFrame.\n",
    "\n",
    "The function then creates a new binary 'pay_day' column that is 1 for the 15th and last day of the month, and 0 otherwise. This column is created using a boolean expression that checks if the 'day' column is equal to 15 or the number of days in the month, which is obtained using the '.dt.daysinmonth' method.\n",
    "\n",
    "Finally, the function creates another binary 'prev_pay_day' column that indicates whether the previous day was a pay day or not. This is done by shifting the 'pay_day' column by one day using the '.shift(1)' method, and filling in the first missing value with 0 using the '.fillna(0)' method.\n",
    "\n",
    "These features could then be used in a machine learning model to help capture the potential impact of bi-weekly public sector wages on supermarket sales."
   ]
  },
  {
   "cell_type": "code",
   "execution_count": 41,
   "metadata": {
    "executionInfo": {
     "elapsed": 648,
     "status": "ok",
     "timestamp": 1677545093364,
     "user": {
      "displayName": "Rahul Gowda",
      "userId": "07531651890169502464"
     },
     "user_tz": -330
    },
    "id": "NJgu0FynpK8C"
   },
   "outputs": [],
   "source": [
    "train_data = wage_feature_engineering(train_data)\n",
    "test_data = wage_feature_engineering(test_data)"
   ]
  },
  {
   "cell_type": "code",
   "execution_count": 42,
   "metadata": {
    "colab": {
     "base_uri": "https://localhost:8080/"
    },
    "executionInfo": {
     "elapsed": 1381,
     "status": "ok",
     "timestamp": 1677545094742,
     "user": {
      "displayName": "Rahul Gowda",
      "userId": "07531651890169502464"
     },
     "user_tz": -330
    },
    "id": "yAt3nKEXpQOV",
    "outputId": "7e2b54a8-d3ad-47e0-d3af-e17d90660aa4"
   },
   "outputs": [
    {
     "data": {
      "text/plain": [
       "id                     0\n",
       "date                   0\n",
       "store_nbr              0\n",
       "family                 0\n",
       "sales                  0\n",
       "onpromotion            0\n",
       "city                   0\n",
       "state                  0\n",
       "store_type             0\n",
       "cluster                0\n",
       "type                   0\n",
       "locale                 0\n",
       "locale_name      2551824\n",
       "description            0\n",
       "transferred            0\n",
       "dcoilwtico             0\n",
       "year                   0\n",
       "month                  0\n",
       "day                    0\n",
       "weekday                0\n",
       "is_holiday             0\n",
       "is_work_day            0\n",
       "holiday_count          0\n",
       "pay_day                0\n",
       "prev_pay_day           0\n",
       "dtype: int64"
      ]
     },
     "execution_count": 42,
     "metadata": {},
     "output_type": "execute_result"
    }
   ],
   "source": [
    "train_data.isna().sum()"
   ]
  },
  {
   "cell_type": "code",
   "execution_count": 43,
   "metadata": {
    "executionInfo": {
     "elapsed": 15,
     "status": "ok",
     "timestamp": 1677545094743,
     "user": {
      "displayName": "Rahul Gowda",
      "userId": "07531651890169502464"
     },
     "user_tz": -330
    },
    "id": "pL27rSouBXTQ"
   },
   "outputs": [],
   "source": [
    "def extract_earthquake_feature(df, col_name):\n",
    "    \"\"\"\n",
    "    Extracts the earthquake feature from a pandas DataFrame.\n",
    "\n",
    "    Parameters:\n",
    "    df (pandas.DataFrame): The DataFrame to extract the feature from.\n",
    "    col_name (str): The name of the column containing the event descriptions.\n",
    "\n",
    "    Returns:\n",
    "    pandas.Series: A binary series indicating whether an earthquake occurred on each day.\n",
    "    \"\"\"\n",
    "\n",
    "    # Create new binary feature indicating whether an earthquake occurred\n",
    "    has_earthquake = df[col_name].str.contains('Terremoto').astype(int)\n",
    "\n",
    "    return has_earthquake\n"
   ]
  },
  {
   "cell_type": "code",
   "execution_count": 44,
   "metadata": {
    "executionInfo": {
     "elapsed": 1506,
     "status": "ok",
     "timestamp": 1677545096236,
     "user": {
      "displayName": "Rahul Gowda",
      "userId": "07531651890169502464"
     },
     "user_tz": -330
    },
    "id": "nMBKV7vDCKTk"
   },
   "outputs": [],
   "source": [
    "train_data['has_earthquake'] = extract_earthquake_feature(train_data, 'description')\n",
    "test_data['has_earthquake'] = extract_earthquake_feature(test_data, 'description')"
   ]
  },
  {
   "cell_type": "code",
   "execution_count": 45,
   "metadata": {
    "executionInfo": {
     "elapsed": 1072,
     "status": "ok",
     "timestamp": 1677545097303,
     "user": {
      "displayName": "Rahul Gowda",
      "userId": "07531651890169502464"
     },
     "user_tz": -330
    },
    "id": "30201KZ3DzJk"
   },
   "outputs": [],
   "source": [
    "train_data.drop(['locale_name','description'],axis=1,inplace=True)\n",
    "test_data.drop(['locale_name','description'],axis=1,inplace=True)"
   ]
  },
  {
   "cell_type": "code",
   "execution_count": 46,
   "metadata": {
    "colab": {
     "base_uri": "https://localhost:8080/"
    },
    "executionInfo": {
     "elapsed": 24,
     "status": "ok",
     "timestamp": 1677545097304,
     "user": {
      "displayName": "Rahul Gowda",
      "userId": "07531651890169502464"
     },
     "user_tz": -330
    },
    "id": "rgFaUX_CFS6a",
    "outputId": "22358ed6-e019-4804-df62-0e66f2ba873a"
   },
   "outputs": [
    {
     "data": {
      "text/plain": [
       "(3063258, 24)"
      ]
     },
     "execution_count": 46,
     "metadata": {},
     "output_type": "execute_result"
    }
   ],
   "source": [
    "train_data.shape"
   ]
  },
  {
   "cell_type": "code",
   "execution_count": 47,
   "metadata": {
    "colab": {
     "base_uri": "https://localhost:8080/"
    },
    "executionInfo": {
     "elapsed": 17,
     "status": "ok",
     "timestamp": 1677545097304,
     "user": {
      "displayName": "Rahul Gowda",
      "userId": "07531651890169502464"
     },
     "user_tz": -330
    },
    "id": "krBZ5IeuFVhB",
    "outputId": "c59cfbb9-1b92-40d7-a048-faf020cbe0c9"
   },
   "outputs": [
    {
     "data": {
      "text/plain": [
       "(28512, 23)"
      ]
     },
     "execution_count": 47,
     "metadata": {},
     "output_type": "execute_result"
    }
   ],
   "source": [
    "test_data.shape"
   ]
  },
  {
   "cell_type": "markdown",
   "metadata": {
    "id": "NY6Wyq79FAm3"
   },
   "source": [
    "# Exploratory Data Analysis"
   ]
  },
  {
   "cell_type": "markdown",
   "metadata": {
    "id": "0H3A0R8XFPdx"
   },
   "source": [
    "## Data available in each year"
   ]
  },
  {
   "cell_type": "code",
   "execution_count": 48,
   "metadata": {
    "colab": {
     "base_uri": "https://localhost:8080/",
     "height": 513
    },
    "executionInfo": {
     "elapsed": 1327,
     "status": "ok",
     "timestamp": 1677545098619,
     "user": {
      "displayName": "Rahul Gowda",
      "userId": "07531651890169502464"
     },
     "user_tz": -330
    },
    "id": "k7BuS8t1FD_U",
    "outputId": "df92475d-abdc-4bca-c612-6ed6686c9d79"
   },
   "outputs": [
    {
     "data": {
      "image/png": "[encoded data removed]",
      "text/plain": [
       "<Figure size 576x576 with 1 Axes>"
      ]
     },
     "metadata": {
      "needs_background": "light"
     },
     "output_type": "display_data"
    }
   ],
   "source": [
    "plt.figure(figsize=(8, 8))\n",
    "sns.countplot(x=pd.to_datetime(train_data.date).dt.year)\n",
    "plt.title('No. of Rows per Year')\n",
    "plt.show();"
   ]
  },
  {
   "cell_type": "markdown",
   "metadata": {
    "id": "1Y8AqdQ3FZbx"
   },
   "source": [
    "## Correlations"
   ]
  },
  {
   "cell_type": "code",
   "execution_count": 49,
   "metadata": {
    "colab": {
     "base_uri": "https://localhost:8080/",
     "height": 571
    },
    "executionInfo": {
     "elapsed": 4348,
     "status": "ok",
     "timestamp": 1677545102936,
     "user": {
      "displayName": "Rahul Gowda",
      "userId": "07531651890169502464"
     },
     "user_tz": -330
    },
    "id": "2d1R4CkXFSAD",
    "outputId": "55fa89ac-208f-4435-b572-747fb848deb1"
   },
   "outputs": [
    {
     "data": {
      "image/png": "[encoded data removed]",
      "text/plain": [
       "<Figure size 1080x576 with 1 Axes>"
      ]
     },
     "metadata": {
      "needs_background": "light"
     },
     "output_type": "display_data"
    }
   ],
   "source": [
    "plt.figure(figsize=(15, 8))\n",
    "sns.heatmap(train_data[train_data.columns[1:]].corr(),\n",
    "        annot=True,\n",
    "        fmt='.1f',\n",
    "        cmap='Blues',\n",
    "        square=True,\n",
    "        linewidths=1,\n",
    "        cbar=False)\n",
    "plt.title(\"Correlations\",fontsize = 15)\n",
    "plt.show()"
   ]
  },
  {
   "cell_type": "markdown",
   "metadata": {
    "id": "tEUf0iftFeOK"
   },
   "source": [
    "## **Asking Questions**"
   ]
  },
  {
   "cell_type": "markdown",
   "metadata": {
    "id": "7elTCivN3mUr"
   },
   "source": [
    "### 1. Did Earhquake affect the store sales?\n",
    "There's an additional note about the data\n",
    "<img src='https://drive.google.com/uc?export=view&id=1OdZuv-Ug5eYcZbdBxxCr1WDPPcv8vsE0' width=1000px>\n"
   ]
  },
  {
   "cell_type": "code",
   "execution_count": 50,
   "metadata": {
    "colab": {
     "base_uri": "https://localhost:8080/",
     "height": 295
    },
    "executionInfo": {
     "elapsed": 730,
     "status": "ok",
     "timestamp": 1677545103631,
     "user": {
      "displayName": "Rahul Gowda",
      "userId": "07531651890169502464"
     },
     "user_tz": -330
    },
    "id": "S5tKYSrzFjG7",
    "outputId": "a121161b-e55b-4eb3-ac34-3d267acbc526"
   },
   "outputs": [
    {
     "data": {
      "image/png": "[encoded data removed]",
      "text/plain": [
       "<Figure size 432x288 with 1 Axes>"
      ]
     },
     "metadata": {
      "needs_background": "light"
     },
     "output_type": "display_data"
    }
   ],
   "source": [
    "# Group the sales data by payday and calculate the average sales for each group\n",
    "avg_sales_by_payday = train_data.groupby('pay_day')['sales'].mean()\n",
    "\n",
    "# Plot the average sales by payday\n",
    "plt.bar(['Non-Payday', 'Payday'], avg_sales_by_payday)\n",
    "plt.title('Average Supermarket Sales by Payday')\n",
    "plt.xlabel('Payday')\n",
    "plt.ylabel('Average Sales')\n",
    "plt.show()"
   ]
  },
  {
   "cell_type": "markdown",
   "metadata": {
    "id": "r3cG58Z3F0-d"
   },
   "source": [
    "`Observations` :    \n",
    "Wages in the public sector are paid every two weeks on the 15 th and on the last day of the month. Supermarket sales are **not affected by this**."
   ]
  },
  {
   "cell_type": "code",
   "execution_count": 51,
   "metadata": {
    "colab": {
     "base_uri": "https://localhost:8080/",
     "height": 331
    },
    "executionInfo": {
     "elapsed": 550,
     "status": "ok",
     "timestamp": 1677545104153,
     "user": {
      "displayName": "Rahul Gowda",
      "userId": "07531651890169502464"
     },
     "user_tz": -330
    },
    "id": "0h8qxtZ7FbSj",
    "outputId": "99ea6b34-441b-4442-c884-4f467f8e772d"
   },
   "outputs": [
    {
     "data": {
      "text/html": [
       "\n",
       "  <div id=\"df-6597f855-fbcd-4a7e-85f0-36d748e1d615\">\n",
       "    <div class=\"colab-df-container\">\n",
       "      <div>\n",
       "<style scoped>\n",
       "    .dataframe tbody tr th:only-of-type {\n",
       "        vertical-align: middle;\n",
       "    }\n",
       "\n",
       "    .dataframe tbody tr th {\n",
       "        vertical-align: top;\n",
       "    }\n",
       "\n",
       "    .dataframe thead th {\n",
       "        text-align: right;\n",
       "    }\n",
       "</style>\n",
       "<table border=\"1\" class=\"dataframe\">\n",
       "  <thead>\n",
       "    <tr style=\"text-align: right;\">\n",
       "      <th>family</th>\n",
       "      <th>AUTOMOTIVE</th>\n",
       "      <th>BABY_CARE</th>\n",
       "      <th>BEAUTY</th>\n",
       "      <th>BEVERAGES</th>\n",
       "      <th>BOOKS</th>\n",
       "      <th>BREAD_BAKERY</th>\n",
       "      <th>CELEBRATION</th>\n",
       "      <th>CLEANING</th>\n",
       "      <th>DAIRY</th>\n",
       "      <th>DELI</th>\n",
       "      <th>...</th>\n",
       "      <th>MAGAZINES</th>\n",
       "      <th>MEATS</th>\n",
       "      <th>PERSONAL_CARE</th>\n",
       "      <th>PET_SUPPLIES</th>\n",
       "      <th>PLAYERS_AND_ELECTRONICS</th>\n",
       "      <th>POULTRY</th>\n",
       "      <th>PREPARED_FOODS</th>\n",
       "      <th>PRODUCE</th>\n",
       "      <th>SCHOOL_AND_OFFICE_SUPPLIES</th>\n",
       "      <th>SEAFOOD</th>\n",
       "    </tr>\n",
       "    <tr>\n",
       "      <th>date</th>\n",
       "      <th></th>\n",
       "      <th></th>\n",
       "      <th></th>\n",
       "      <th></th>\n",
       "      <th></th>\n",
       "      <th></th>\n",
       "      <th></th>\n",
       "      <th></th>\n",
       "      <th></th>\n",
       "      <th></th>\n",
       "      <th></th>\n",
       "      <th></th>\n",
       "      <th></th>\n",
       "      <th></th>\n",
       "      <th></th>\n",
       "      <th></th>\n",
       "      <th></th>\n",
       "      <th></th>\n",
       "      <th></th>\n",
       "      <th></th>\n",
       "      <th></th>\n",
       "    </tr>\n",
       "  </thead>\n",
       "  <tbody>\n",
       "    <tr>\n",
       "      <th>2013</th>\n",
       "      <td>4.560932</td>\n",
       "      <td>0.000000</td>\n",
       "      <td>2.330347</td>\n",
       "      <td>1088.542358</td>\n",
       "      <td>0.000000</td>\n",
       "      <td>354.853516</td>\n",
       "      <td>0.000000</td>\n",
       "      <td>899.277161</td>\n",
       "      <td>365.894867</td>\n",
       "      <td>195.494293</td>\n",
       "      <td>...</td>\n",
       "      <td>0.000000</td>\n",
       "      <td>313.938690</td>\n",
       "      <td>190.713257</td>\n",
       "      <td>0.000000</td>\n",
       "      <td>0.000000</td>\n",
       "      <td>190.441727</td>\n",
       "      <td>90.362183</td>\n",
       "      <td>2.411589</td>\n",
       "      <td>0.000000</td>\n",
       "      <td>23.941057</td>\n",
       "    </tr>\n",
       "    <tr>\n",
       "      <th>2014</th>\n",
       "      <td>6.042413</td>\n",
       "      <td>0.043011</td>\n",
       "      <td>3.086021</td>\n",
       "      <td>2646.471924</td>\n",
       "      <td>0.000000</td>\n",
       "      <td>388.987701</td>\n",
       "      <td>12.830346</td>\n",
       "      <td>1057.511353</td>\n",
       "      <td>709.575256</td>\n",
       "      <td>227.415344</td>\n",
       "      <td>...</td>\n",
       "      <td>1.170251</td>\n",
       "      <td>332.993347</td>\n",
       "      <td>231.297485</td>\n",
       "      <td>4.785543</td>\n",
       "      <td>9.594385</td>\n",
       "      <td>390.943054</td>\n",
       "      <td>97.848579</td>\n",
       "      <td>2002.596313</td>\n",
       "      <td>1.335125</td>\n",
       "      <td>23.890751</td>\n",
       "    </tr>\n",
       "    <tr>\n",
       "      <th>2015</th>\n",
       "      <td>6.902031</td>\n",
       "      <td>0.000000</td>\n",
       "      <td>2.538232</td>\n",
       "      <td>1385.922363</td>\n",
       "      <td>0.000000</td>\n",
       "      <td>500.669403</td>\n",
       "      <td>0.000000</td>\n",
       "      <td>1115.107544</td>\n",
       "      <td>737.664856</td>\n",
       "      <td>301.454895</td>\n",
       "      <td>...</td>\n",
       "      <td>0.000000</td>\n",
       "      <td>326.473816</td>\n",
       "      <td>289.569885</td>\n",
       "      <td>0.000000</td>\n",
       "      <td>0.000000</td>\n",
       "      <td>384.931152</td>\n",
       "      <td>95.655190</td>\n",
       "      <td>4.124851</td>\n",
       "      <td>0.000000</td>\n",
       "      <td>26.169935</td>\n",
       "    </tr>\n",
       "    <tr>\n",
       "      <th>2016</th>\n",
       "      <td>7.203106</td>\n",
       "      <td>0.264038</td>\n",
       "      <td>4.261051</td>\n",
       "      <td>2967.511963</td>\n",
       "      <td>0.000000</td>\n",
       "      <td>492.651520</td>\n",
       "      <td>13.970132</td>\n",
       "      <td>1057.762817</td>\n",
       "      <td>843.405029</td>\n",
       "      <td>272.667236</td>\n",
       "      <td>...</td>\n",
       "      <td>5.959976</td>\n",
       "      <td>324.644165</td>\n",
       "      <td>290.982666</td>\n",
       "      <td>5.780765</td>\n",
       "      <td>8.557945</td>\n",
       "      <td>368.022827</td>\n",
       "      <td>107.821007</td>\n",
       "      <td>2262.134521</td>\n",
       "      <td>1.922342</td>\n",
       "      <td>23.449707</td>\n",
       "    </tr>\n",
       "    <tr>\n",
       "      <th>2017</th>\n",
       "      <td>7.642772</td>\n",
       "      <td>0.264038</td>\n",
       "      <td>4.212067</td>\n",
       "      <td>3664.010254</td>\n",
       "      <td>0.281959</td>\n",
       "      <td>573.421265</td>\n",
       "      <td>13.947432</td>\n",
       "      <td>1197.510742</td>\n",
       "      <td>972.788513</td>\n",
       "      <td>320.441528</td>\n",
       "      <td>...</td>\n",
       "      <td>6.161888</td>\n",
       "      <td>367.350983</td>\n",
       "      <td>325.296906</td>\n",
       "      <td>8.627837</td>\n",
       "      <td>11.180407</td>\n",
       "      <td>388.023895</td>\n",
       "      <td>111.916695</td>\n",
       "      <td>2396.963135</td>\n",
       "      <td>4.925926</td>\n",
       "      <td>25.063908</td>\n",
       "    </tr>\n",
       "  </tbody>\n",
       "</table>\n",
       "<p>5 rows × 33 columns</p>\n",
       "</div>\n",
       "      <button class=\"colab-df-convert\" onclick=\"convertToInteractive('df-6597f855-fbcd-4a7e-85f0-36d748e1d615')\"\n",
       "              title=\"Convert this dataframe to an interactive table.\"\n",
       "              style=\"display:none;\">\n",
       "        \n",
       "  <svg xmlns=\"http://www.w3.org/2000/svg\" height=\"24px\"viewBox=\"0 0 24 24\"\n",
       "       width=\"24px\">\n",
       "    <path d=\"M0 0h24v24H0V0z\" fill=\"none\"/>\n",
       "    <path d=\"M18.56 5.44l.94 2.06.94-2.06 2.06-.94-2.06-.94-.94-2.06-.94 2.06-2.06.94zm-11 1L8.5 8.5l.94-2.06 2.06-.94-2.06-.94L8.5 2.5l-.94 2.06-2.06.94zm10 10l.94 2.06.94-2.06 2.06-.94-2.06-.94-.94-2.06-.94 2.06-2.06.94z\"/><path d=\"M17.41 7.96l-1.37-1.37c-.4-.4-.92-.59-1.43-.59-.52 0-1.04.2-1.43.59L10.3 9.45l-7.72 7.72c-.78.78-.78 2.05 0 2.83L4 21.41c.39.39.9.59 1.41.59.51 0 1.02-.2 1.41-.59l7.78-7.78 2.81-2.81c.8-.78.8-2.07 0-2.86zM5.41 20L4 18.59l7.72-7.72 1.47 1.35L5.41 20z\"/>\n",
       "  </svg>\n",
       "      </button>\n",
       "      \n",
       "  <style>\n",
       "    .colab-df-container {\n",
       "      display:flex;\n",
       "      flex-wrap:wrap;\n",
       "      gap: 12px;\n",
       "    }\n",
       "\n",
       "    .colab-df-convert {\n",
       "      background-color: #E8F0FE;\n",
       "      border: none;\n",
       "      border-radius: 50%;\n",
       "      cursor: pointer;\n",
       "      display: none;\n",
       "      fill: #1967D2;\n",
       "      height: 32px;\n",
       "      padding: 0 0 0 0;\n",
       "      width: 32px;\n",
       "    }\n",
       "\n",
       "    .colab-df-convert:hover {\n",
       "      background-color: #E2EBFA;\n",
       "      box-shadow: 0px 1px 2px rgba(60, 64, 67, 0.3), 0px 1px 3px 1px rgba(60, 64, 67, 0.15);\n",
       "      fill: #174EA6;\n",
       "    }\n",
       "\n",
       "    [theme=dark] .colab-df-convert {\n",
       "      background-color: #3B4455;\n",
       "      fill: #D2E3FC;\n",
       "    }\n",
       "\n",
       "    [theme=dark] .colab-df-convert:hover {\n",
       "      background-color: #434B5C;\n",
       "      box-shadow: 0px 1px 3px 1px rgba(0, 0, 0, 0.15);\n",
       "      filter: drop-shadow(0px 1px 2px rgba(0, 0, 0, 0.3));\n",
       "      fill: #FFFFFF;\n",
       "    }\n",
       "  </style>\n",
       "\n",
       "      <script>\n",
       "        const buttonEl =\n",
       "          document.querySelector('#df-6597f855-fbcd-4a7e-85f0-36d748e1d615 button.colab-df-convert');\n",
       "        buttonEl.style.display =\n",
       "          google.colab.kernel.accessAllowed ? 'block' : 'none';\n",
       "\n",
       "        async function convertToInteractive(key) {\n",
       "          const element = document.querySelector('#df-6597f855-fbcd-4a7e-85f0-36d748e1d615');\n",
       "          const dataTable =\n",
       "            await google.colab.kernel.invokeFunction('convertToInteractive',\n",
       "                                                     [key], {});\n",
       "          if (!dataTable) return;\n",
       "\n",
       "          const docLinkHtml = 'Like what you see? Visit the ' +\n",
       "            '<a target=\"_blank\" href=https://colab.research.google.com/notebooks/data_table.ipynb>data table notebook</a>'\n",
       "            + ' to learn more about interactive tables.';\n",
       "          element.innerHTML = '';\n",
       "          dataTable['output_type'] = 'display_data';\n",
       "          await google.colab.output.renderOutput(dataTable, element);\n",
       "          const docLink = document.createElement('div');\n",
       "          docLink.innerHTML = docLinkHtml;\n",
       "          element.appendChild(docLink);\n",
       "        }\n",
       "      </script>\n",
       "    </div>\n",
       "  </div>\n",
       "  "
      ],
      "text/plain": [
       "family  AUTOMOTIVE  BABY_CARE    BEAUTY    BEVERAGES     BOOKS  BREAD_BAKERY  \\\n",
       "date                                                                           \n",
       "2013      4.560932   0.000000  2.330347  1088.542358  0.000000    354.853516   \n",
       "2014      6.042413   0.043011  3.086021  2646.471924  0.000000    388.987701   \n",
       "2015      6.902031   0.000000  2.538232  1385.922363  0.000000    500.669403   \n",
       "2016      7.203106   0.264038  4.261051  2967.511963  0.000000    492.651520   \n",
       "2017      7.642772   0.264038  4.212067  3664.010254  0.281959    573.421265   \n",
       "\n",
       "family  CELEBRATION     CLEANING       DAIRY        DELI  ...  MAGAZINES  \\\n",
       "date                                                      ...              \n",
       "2013       0.000000   899.277161  365.894867  195.494293  ...   0.000000   \n",
       "2014      12.830346  1057.511353  709.575256  227.415344  ...   1.170251   \n",
       "2015       0.000000  1115.107544  737.664856  301.454895  ...   0.000000   \n",
       "2016      13.970132  1057.762817  843.405029  272.667236  ...   5.959976   \n",
       "2017      13.947432  1197.510742  972.788513  320.441528  ...   6.161888   \n",
       "\n",
       "family       MEATS  PERSONAL_CARE  PET_SUPPLIES  PLAYERS_AND_ELECTRONICS  \\\n",
       "date                                                                       \n",
       "2013    313.938690     190.713257      0.000000                 0.000000   \n",
       "2014    332.993347     231.297485      4.785543                 9.594385   \n",
       "2015    326.473816     289.569885      0.000000                 0.000000   \n",
       "2016    324.644165     290.982666      5.780765                 8.557945   \n",
       "2017    367.350983     325.296906      8.627837                11.180407   \n",
       "\n",
       "family     POULTRY  PREPARED_FOODS      PRODUCE  SCHOOL_AND_OFFICE_SUPPLIES  \\\n",
       "date                                                                          \n",
       "2013    190.441727       90.362183     2.411589                    0.000000   \n",
       "2014    390.943054       97.848579  2002.596313                    1.335125   \n",
       "2015    384.931152       95.655190     4.124851                    0.000000   \n",
       "2016    368.022827      107.821007  2262.134521                    1.922342   \n",
       "2017    388.023895      111.916695  2396.963135                    4.925926   \n",
       "\n",
       "family    SEAFOOD  \n",
       "date               \n",
       "2013    23.941057  \n",
       "2014    23.890751  \n",
       "2015    26.169935  \n",
       "2016    23.449707  \n",
       "2017    25.063908  \n",
       "\n",
       "[5 rows x 33 columns]"
      ]
     },
     "execution_count": 51,
     "metadata": {},
     "output_type": "execute_result"
    }
   ],
   "source": [
    "# March\n",
    "march= pd.pivot_table(train_data[(train_data.date.dt.month.isin([3]))], \n",
    "               index=train_data.date.dt.year, columns=\"family\", \n",
    "               values=\"sales\", aggfunc=\"mean\")\n",
    "march"
   ]
  },
  {
   "cell_type": "code",
   "execution_count": 52,
   "metadata": {
    "executionInfo": {
     "elapsed": 47,
     "status": "ok",
     "timestamp": 1677545104154,
     "user": {
      "displayName": "Rahul Gowda",
      "userId": "07531651890169502464"
     },
     "user_tz": -330
    },
    "id": "4BXjChr-F3Sc"
   },
   "outputs": [],
   "source": [
    "march= march.sum(axis=1).reset_index()\n",
    "march['month']= 'march'"
   ]
  },
  {
   "cell_type": "code",
   "execution_count": 53,
   "metadata": {
    "colab": {
     "base_uri": "https://localhost:8080/",
     "height": 331
    },
    "executionInfo": {
     "elapsed": 635,
     "status": "ok",
     "timestamp": 1677545104743,
     "user": {
      "displayName": "Rahul Gowda",
      "userId": "07531651890169502464"
     },
     "user_tz": -330
    },
    "id": "iEvFOFP3F4_K",
    "outputId": "37b62c77-7e7e-41c1-b276-8911e43158ea"
   },
   "outputs": [
    {
     "data": {
      "text/html": [
       "\n",
       "  <div id=\"df-26747035-2abc-444c-8ce0-73fd645d8cd0\">\n",
       "    <div class=\"colab-df-container\">\n",
       "      <div>\n",
       "<style scoped>\n",
       "    .dataframe tbody tr th:only-of-type {\n",
       "        vertical-align: middle;\n",
       "    }\n",
       "\n",
       "    .dataframe tbody tr th {\n",
       "        vertical-align: top;\n",
       "    }\n",
       "\n",
       "    .dataframe thead th {\n",
       "        text-align: right;\n",
       "    }\n",
       "</style>\n",
       "<table border=\"1\" class=\"dataframe\">\n",
       "  <thead>\n",
       "    <tr style=\"text-align: right;\">\n",
       "      <th>family</th>\n",
       "      <th>AUTOMOTIVE</th>\n",
       "      <th>BABY_CARE</th>\n",
       "      <th>BEAUTY</th>\n",
       "      <th>BEVERAGES</th>\n",
       "      <th>BOOKS</th>\n",
       "      <th>BREAD_BAKERY</th>\n",
       "      <th>CELEBRATION</th>\n",
       "      <th>CLEANING</th>\n",
       "      <th>DAIRY</th>\n",
       "      <th>DELI</th>\n",
       "      <th>...</th>\n",
       "      <th>MAGAZINES</th>\n",
       "      <th>MEATS</th>\n",
       "      <th>PERSONAL_CARE</th>\n",
       "      <th>PET_SUPPLIES</th>\n",
       "      <th>PLAYERS_AND_ELECTRONICS</th>\n",
       "      <th>POULTRY</th>\n",
       "      <th>PREPARED_FOODS</th>\n",
       "      <th>PRODUCE</th>\n",
       "      <th>SCHOOL_AND_OFFICE_SUPPLIES</th>\n",
       "      <th>SEAFOOD</th>\n",
       "    </tr>\n",
       "    <tr>\n",
       "      <th>date</th>\n",
       "      <th></th>\n",
       "      <th></th>\n",
       "      <th></th>\n",
       "      <th></th>\n",
       "      <th></th>\n",
       "      <th></th>\n",
       "      <th></th>\n",
       "      <th></th>\n",
       "      <th></th>\n",
       "      <th></th>\n",
       "      <th></th>\n",
       "      <th></th>\n",
       "      <th></th>\n",
       "      <th></th>\n",
       "      <th></th>\n",
       "      <th></th>\n",
       "      <th></th>\n",
       "      <th></th>\n",
       "      <th></th>\n",
       "      <th></th>\n",
       "      <th></th>\n",
       "    </tr>\n",
       "  </thead>\n",
       "  <tbody>\n",
       "    <tr>\n",
       "      <th>2013</th>\n",
       "      <td>4.620370</td>\n",
       "      <td>0.000000</td>\n",
       "      <td>2.265432</td>\n",
       "      <td>1076.000610</td>\n",
       "      <td>0.000000</td>\n",
       "      <td>351.001984</td>\n",
       "      <td>0.000000</td>\n",
       "      <td>877.299988</td>\n",
       "      <td>345.425934</td>\n",
       "      <td>195.162781</td>\n",
       "      <td>...</td>\n",
       "      <td>0.000000</td>\n",
       "      <td>321.711823</td>\n",
       "      <td>201.569748</td>\n",
       "      <td>0.000000</td>\n",
       "      <td>0.000000</td>\n",
       "      <td>188.420074</td>\n",
       "      <td>80.945480</td>\n",
       "      <td>3.893827</td>\n",
       "      <td>0.000000</td>\n",
       "      <td>21.172472</td>\n",
       "    </tr>\n",
       "    <tr>\n",
       "      <th>2014</th>\n",
       "      <td>5.201234</td>\n",
       "      <td>0.000000</td>\n",
       "      <td>2.394444</td>\n",
       "      <td>1304.398193</td>\n",
       "      <td>0.000000</td>\n",
       "      <td>353.837921</td>\n",
       "      <td>0.000000</td>\n",
       "      <td>896.440735</td>\n",
       "      <td>678.221619</td>\n",
       "      <td>215.213913</td>\n",
       "      <td>...</td>\n",
       "      <td>0.000000</td>\n",
       "      <td>302.611755</td>\n",
       "      <td>225.521606</td>\n",
       "      <td>0.000000</td>\n",
       "      <td>0.000000</td>\n",
       "      <td>347.227844</td>\n",
       "      <td>92.550209</td>\n",
       "      <td>4.414815</td>\n",
       "      <td>0.000000</td>\n",
       "      <td>19.701996</td>\n",
       "    </tr>\n",
       "    <tr>\n",
       "      <th>2015</th>\n",
       "      <td>5.584568</td>\n",
       "      <td>0.000000</td>\n",
       "      <td>2.467901</td>\n",
       "      <td>1424.164795</td>\n",
       "      <td>0.000000</td>\n",
       "      <td>493.748901</td>\n",
       "      <td>0.000000</td>\n",
       "      <td>1129.893188</td>\n",
       "      <td>729.123474</td>\n",
       "      <td>296.434967</td>\n",
       "      <td>...</td>\n",
       "      <td>1.345679</td>\n",
       "      <td>322.410065</td>\n",
       "      <td>280.970978</td>\n",
       "      <td>0.000000</td>\n",
       "      <td>0.000000</td>\n",
       "      <td>372.965118</td>\n",
       "      <td>95.475380</td>\n",
       "      <td>4.421605</td>\n",
       "      <td>0.000000</td>\n",
       "      <td>24.681154</td>\n",
       "    </tr>\n",
       "    <tr>\n",
       "      <th>2016</th>\n",
       "      <td>7.145759</td>\n",
       "      <td>0.225806</td>\n",
       "      <td>5.077658</td>\n",
       "      <td>3529.085938</td>\n",
       "      <td>0.000000</td>\n",
       "      <td>525.742310</td>\n",
       "      <td>14.065711</td>\n",
       "      <td>1226.231812</td>\n",
       "      <td>874.803467</td>\n",
       "      <td>291.756439</td>\n",
       "      <td>...</td>\n",
       "      <td>6.841697</td>\n",
       "      <td>358.389191</td>\n",
       "      <td>390.849457</td>\n",
       "      <td>6.707288</td>\n",
       "      <td>11.523895</td>\n",
       "      <td>395.592438</td>\n",
       "      <td>108.034630</td>\n",
       "      <td>2217.003418</td>\n",
       "      <td>5.556750</td>\n",
       "      <td>24.055408</td>\n",
       "    </tr>\n",
       "    <tr>\n",
       "      <th>2017</th>\n",
       "      <td>8.161290</td>\n",
       "      <td>0.185783</td>\n",
       "      <td>4.617085</td>\n",
       "      <td>3649.302246</td>\n",
       "      <td>0.161888</td>\n",
       "      <td>539.214478</td>\n",
       "      <td>13.926523</td>\n",
       "      <td>1236.851807</td>\n",
       "      <td>960.898438</td>\n",
       "      <td>318.637543</td>\n",
       "      <td>...</td>\n",
       "      <td>7.077061</td>\n",
       "      <td>351.644806</td>\n",
       "      <td>335.820190</td>\n",
       "      <td>9.063321</td>\n",
       "      <td>12.238949</td>\n",
       "      <td>372.121277</td>\n",
       "      <td>101.319824</td>\n",
       "      <td>2303.228760</td>\n",
       "      <td>17.576464</td>\n",
       "      <td>22.631514</td>\n",
       "    </tr>\n",
       "  </tbody>\n",
       "</table>\n",
       "<p>5 rows × 33 columns</p>\n",
       "</div>\n",
       "      <button class=\"colab-df-convert\" onclick=\"convertToInteractive('df-26747035-2abc-444c-8ce0-73fd645d8cd0')\"\n",
       "              title=\"Convert this dataframe to an interactive table.\"\n",
       "              style=\"display:none;\">\n",
       "        \n",
       "  <svg xmlns=\"http://www.w3.org/2000/svg\" height=\"24px\"viewBox=\"0 0 24 24\"\n",
       "       width=\"24px\">\n",
       "    <path d=\"M0 0h24v24H0V0z\" fill=\"none\"/>\n",
       "    <path d=\"M18.56 5.44l.94 2.06.94-2.06 2.06-.94-2.06-.94-.94-2.06-.94 2.06-2.06.94zm-11 1L8.5 8.5l.94-2.06 2.06-.94-2.06-.94L8.5 2.5l-.94 2.06-2.06.94zm10 10l.94 2.06.94-2.06 2.06-.94-2.06-.94-.94-2.06-.94 2.06-2.06.94z\"/><path d=\"M17.41 7.96l-1.37-1.37c-.4-.4-.92-.59-1.43-.59-.52 0-1.04.2-1.43.59L10.3 9.45l-7.72 7.72c-.78.78-.78 2.05 0 2.83L4 21.41c.39.39.9.59 1.41.59.51 0 1.02-.2 1.41-.59l7.78-7.78 2.81-2.81c.8-.78.8-2.07 0-2.86zM5.41 20L4 18.59l7.72-7.72 1.47 1.35L5.41 20z\"/>\n",
       "  </svg>\n",
       "      </button>\n",
       "      \n",
       "  <style>\n",
       "    .colab-df-container {\n",
       "      display:flex;\n",
       "      flex-wrap:wrap;\n",
       "      gap: 12px;\n",
       "    }\n",
       "\n",
       "    .colab-df-convert {\n",
       "      background-color: #E8F0FE;\n",
       "      border: none;\n",
       "      border-radius: 50%;\n",
       "      cursor: pointer;\n",
       "      display: none;\n",
       "      fill: #1967D2;\n",
       "      height: 32px;\n",
       "      padding: 0 0 0 0;\n",
       "      width: 32px;\n",
       "    }\n",
       "\n",
       "    .colab-df-convert:hover {\n",
       "      background-color: #E2EBFA;\n",
       "      box-shadow: 0px 1px 2px rgba(60, 64, 67, 0.3), 0px 1px 3px 1px rgba(60, 64, 67, 0.15);\n",
       "      fill: #174EA6;\n",
       "    }\n",
       "\n",
       "    [theme=dark] .colab-df-convert {\n",
       "      background-color: #3B4455;\n",
       "      fill: #D2E3FC;\n",
       "    }\n",
       "\n",
       "    [theme=dark] .colab-df-convert:hover {\n",
       "      background-color: #434B5C;\n",
       "      box-shadow: 0px 1px 3px 1px rgba(0, 0, 0, 0.15);\n",
       "      filter: drop-shadow(0px 1px 2px rgba(0, 0, 0, 0.3));\n",
       "      fill: #FFFFFF;\n",
       "    }\n",
       "  </style>\n",
       "\n",
       "      <script>\n",
       "        const buttonEl =\n",
       "          document.querySelector('#df-26747035-2abc-444c-8ce0-73fd645d8cd0 button.colab-df-convert');\n",
       "        buttonEl.style.display =\n",
       "          google.colab.kernel.accessAllowed ? 'block' : 'none';\n",
       "\n",
       "        async function convertToInteractive(key) {\n",
       "          const element = document.querySelector('#df-26747035-2abc-444c-8ce0-73fd645d8cd0');\n",
       "          const dataTable =\n",
       "            await google.colab.kernel.invokeFunction('convertToInteractive',\n",
       "                                                     [key], {});\n",
       "          if (!dataTable) return;\n",
       "\n",
       "          const docLinkHtml = 'Like what you see? Visit the ' +\n",
       "            '<a target=\"_blank\" href=https://colab.research.google.com/notebooks/data_table.ipynb>data table notebook</a>'\n",
       "            + ' to learn more about interactive tables.';\n",
       "          element.innerHTML = '';\n",
       "          dataTable['output_type'] = 'display_data';\n",
       "          await google.colab.output.renderOutput(dataTable, element);\n",
       "          const docLink = document.createElement('div');\n",
       "          docLink.innerHTML = docLinkHtml;\n",
       "          element.appendChild(docLink);\n",
       "        }\n",
       "      </script>\n",
       "    </div>\n",
       "  </div>\n",
       "  "
      ],
      "text/plain": [
       "family  AUTOMOTIVE  BABY_CARE    BEAUTY    BEVERAGES     BOOKS  BREAD_BAKERY  \\\n",
       "date                                                                           \n",
       "2013      4.620370   0.000000  2.265432  1076.000610  0.000000    351.001984   \n",
       "2014      5.201234   0.000000  2.394444  1304.398193  0.000000    353.837921   \n",
       "2015      5.584568   0.000000  2.467901  1424.164795  0.000000    493.748901   \n",
       "2016      7.145759   0.225806  5.077658  3529.085938  0.000000    525.742310   \n",
       "2017      8.161290   0.185783  4.617085  3649.302246  0.161888    539.214478   \n",
       "\n",
       "family  CELEBRATION     CLEANING       DAIRY        DELI  ...  MAGAZINES  \\\n",
       "date                                                      ...              \n",
       "2013       0.000000   877.299988  345.425934  195.162781  ...   0.000000   \n",
       "2014       0.000000   896.440735  678.221619  215.213913  ...   0.000000   \n",
       "2015       0.000000  1129.893188  729.123474  296.434967  ...   1.345679   \n",
       "2016      14.065711  1226.231812  874.803467  291.756439  ...   6.841697   \n",
       "2017      13.926523  1236.851807  960.898438  318.637543  ...   7.077061   \n",
       "\n",
       "family       MEATS  PERSONAL_CARE  PET_SUPPLIES  PLAYERS_AND_ELECTRONICS  \\\n",
       "date                                                                       \n",
       "2013    321.711823     201.569748      0.000000                 0.000000   \n",
       "2014    302.611755     225.521606      0.000000                 0.000000   \n",
       "2015    322.410065     280.970978      0.000000                 0.000000   \n",
       "2016    358.389191     390.849457      6.707288                11.523895   \n",
       "2017    351.644806     335.820190      9.063321                12.238949   \n",
       "\n",
       "family     POULTRY  PREPARED_FOODS      PRODUCE  SCHOOL_AND_OFFICE_SUPPLIES  \\\n",
       "date                                                                          \n",
       "2013    188.420074       80.945480     3.893827                    0.000000   \n",
       "2014    347.227844       92.550209     4.414815                    0.000000   \n",
       "2015    372.965118       95.475380     4.421605                    0.000000   \n",
       "2016    395.592438      108.034630  2217.003418                    5.556750   \n",
       "2017    372.121277      101.319824  2303.228760                   17.576464   \n",
       "\n",
       "family    SEAFOOD  \n",
       "date               \n",
       "2013    21.172472  \n",
       "2014    19.701996  \n",
       "2015    24.681154  \n",
       "2016    24.055408  \n",
       "2017    22.631514  \n",
       "\n",
       "[5 rows x 33 columns]"
      ]
     },
     "execution_count": 53,
     "metadata": {},
     "output_type": "execute_result"
    }
   ],
   "source": [
    "# April\n",
    "april= pd.pivot_table(train_data[(train_data.date.dt.month.isin([4]))], \n",
    "               index=train_data.date.dt.year, columns=\"family\", \n",
    "               values=\"sales\", aggfunc=\"mean\")\n",
    "april"
   ]
  },
  {
   "cell_type": "code",
   "execution_count": 54,
   "metadata": {
    "executionInfo": {
     "elapsed": 28,
     "status": "ok",
     "timestamp": 1677545104744,
     "user": {
      "displayName": "Rahul Gowda",
      "userId": "07531651890169502464"
     },
     "user_tz": -330
    },
    "id": "szQCzP4WF6A8"
   },
   "outputs": [],
   "source": [
    "april= april.sum(axis=1).reset_index()\n",
    "april['month']= 'april'"
   ]
  },
  {
   "cell_type": "code",
   "execution_count": 55,
   "metadata": {
    "colab": {
     "base_uri": "https://localhost:8080/",
     "height": 331
    },
    "executionInfo": {
     "elapsed": 641,
     "status": "ok",
     "timestamp": 1677545105358,
     "user": {
      "displayName": "Rahul Gowda",
      "userId": "07531651890169502464"
     },
     "user_tz": -330
    },
    "id": "O3liiA3yF7Ub",
    "outputId": "10a3ba85-68f3-4642-b094-514f613d6d8c"
   },
   "outputs": [
    {
     "data": {
      "text/html": [
       "\n",
       "  <div id=\"df-34c1a4db-6f06-472b-a9d6-e4f4794ecbb3\">\n",
       "    <div class=\"colab-df-container\">\n",
       "      <div>\n",
       "<style scoped>\n",
       "    .dataframe tbody tr th:only-of-type {\n",
       "        vertical-align: middle;\n",
       "    }\n",
       "\n",
       "    .dataframe tbody tr th {\n",
       "        vertical-align: top;\n",
       "    }\n",
       "\n",
       "    .dataframe thead th {\n",
       "        text-align: right;\n",
       "    }\n",
       "</style>\n",
       "<table border=\"1\" class=\"dataframe\">\n",
       "  <thead>\n",
       "    <tr style=\"text-align: right;\">\n",
       "      <th>family</th>\n",
       "      <th>AUTOMOTIVE</th>\n",
       "      <th>BABY_CARE</th>\n",
       "      <th>BEAUTY</th>\n",
       "      <th>BEVERAGES</th>\n",
       "      <th>BOOKS</th>\n",
       "      <th>BREAD_BAKERY</th>\n",
       "      <th>CELEBRATION</th>\n",
       "      <th>CLEANING</th>\n",
       "      <th>DAIRY</th>\n",
       "      <th>DELI</th>\n",
       "      <th>...</th>\n",
       "      <th>MAGAZINES</th>\n",
       "      <th>MEATS</th>\n",
       "      <th>PERSONAL_CARE</th>\n",
       "      <th>PET_SUPPLIES</th>\n",
       "      <th>PLAYERS_AND_ELECTRONICS</th>\n",
       "      <th>POULTRY</th>\n",
       "      <th>PREPARED_FOODS</th>\n",
       "      <th>PRODUCE</th>\n",
       "      <th>SCHOOL_AND_OFFICE_SUPPLIES</th>\n",
       "      <th>SEAFOOD</th>\n",
       "    </tr>\n",
       "    <tr>\n",
       "      <th>date</th>\n",
       "      <th></th>\n",
       "      <th></th>\n",
       "      <th></th>\n",
       "      <th></th>\n",
       "      <th></th>\n",
       "      <th></th>\n",
       "      <th></th>\n",
       "      <th></th>\n",
       "      <th></th>\n",
       "      <th></th>\n",
       "      <th></th>\n",
       "      <th></th>\n",
       "      <th></th>\n",
       "      <th></th>\n",
       "      <th></th>\n",
       "      <th></th>\n",
       "      <th></th>\n",
       "      <th></th>\n",
       "      <th></th>\n",
       "      <th></th>\n",
       "      <th></th>\n",
       "    </tr>\n",
       "  </thead>\n",
       "  <tbody>\n",
       "    <tr>\n",
       "      <th>2013</th>\n",
       "      <td>5.378472</td>\n",
       "      <td>0.000000</td>\n",
       "      <td>2.226852</td>\n",
       "      <td>1096.029541</td>\n",
       "      <td>0.0000</td>\n",
       "      <td>369.368378</td>\n",
       "      <td>0.000000</td>\n",
       "      <td>885.340881</td>\n",
       "      <td>356.175934</td>\n",
       "      <td>208.577560</td>\n",
       "      <td>...</td>\n",
       "      <td>0.000000</td>\n",
       "      <td>325.077484</td>\n",
       "      <td>184.948502</td>\n",
       "      <td>0.000000</td>\n",
       "      <td>0.000000</td>\n",
       "      <td>193.017914</td>\n",
       "      <td>85.113380</td>\n",
       "      <td>5.654514</td>\n",
       "      <td>0.000000</td>\n",
       "      <td>22.309168</td>\n",
       "    </tr>\n",
       "    <tr>\n",
       "      <th>2014</th>\n",
       "      <td>4.823775</td>\n",
       "      <td>0.000000</td>\n",
       "      <td>2.163680</td>\n",
       "      <td>1243.594971</td>\n",
       "      <td>0.0000</td>\n",
       "      <td>371.376617</td>\n",
       "      <td>0.000000</td>\n",
       "      <td>895.068115</td>\n",
       "      <td>658.005981</td>\n",
       "      <td>226.424026</td>\n",
       "      <td>...</td>\n",
       "      <td>0.000000</td>\n",
       "      <td>327.115540</td>\n",
       "      <td>238.545990</td>\n",
       "      <td>0.000000</td>\n",
       "      <td>0.000000</td>\n",
       "      <td>358.785248</td>\n",
       "      <td>87.823662</td>\n",
       "      <td>5.432497</td>\n",
       "      <td>0.000000</td>\n",
       "      <td>21.444462</td>\n",
       "    </tr>\n",
       "    <tr>\n",
       "      <th>2015</th>\n",
       "      <td>5.572879</td>\n",
       "      <td>0.000000</td>\n",
       "      <td>3.011947</td>\n",
       "      <td>2111.170898</td>\n",
       "      <td>0.0000</td>\n",
       "      <td>527.189026</td>\n",
       "      <td>0.000000</td>\n",
       "      <td>1143.790283</td>\n",
       "      <td>772.585449</td>\n",
       "      <td>314.021210</td>\n",
       "      <td>...</td>\n",
       "      <td>1.768220</td>\n",
       "      <td>353.459930</td>\n",
       "      <td>300.913391</td>\n",
       "      <td>0.111111</td>\n",
       "      <td>0.000000</td>\n",
       "      <td>396.078827</td>\n",
       "      <td>94.243752</td>\n",
       "      <td>6.076464</td>\n",
       "      <td>0.000000</td>\n",
       "      <td>25.392372</td>\n",
       "    </tr>\n",
       "    <tr>\n",
       "      <th>2016</th>\n",
       "      <td>7.206878</td>\n",
       "      <td>0.283069</td>\n",
       "      <td>4.660317</td>\n",
       "      <td>3192.553467</td>\n",
       "      <td>0.0000</td>\n",
       "      <td>564.665771</td>\n",
       "      <td>13.887831</td>\n",
       "      <td>1188.984619</td>\n",
       "      <td>930.013733</td>\n",
       "      <td>300.740814</td>\n",
       "      <td>...</td>\n",
       "      <td>6.860847</td>\n",
       "      <td>357.126556</td>\n",
       "      <td>338.059265</td>\n",
       "      <td>6.907407</td>\n",
       "      <td>9.784127</td>\n",
       "      <td>391.916992</td>\n",
       "      <td>106.388954</td>\n",
       "      <td>2309.795166</td>\n",
       "      <td>7.102645</td>\n",
       "      <td>24.105692</td>\n",
       "    </tr>\n",
       "    <tr>\n",
       "      <th>2017</th>\n",
       "      <td>7.059737</td>\n",
       "      <td>0.166667</td>\n",
       "      <td>5.900239</td>\n",
       "      <td>3487.099854</td>\n",
       "      <td>0.0908</td>\n",
       "      <td>566.843262</td>\n",
       "      <td>13.338112</td>\n",
       "      <td>1352.649902</td>\n",
       "      <td>966.421143</td>\n",
       "      <td>322.572418</td>\n",
       "      <td>...</td>\n",
       "      <td>6.640980</td>\n",
       "      <td>367.788177</td>\n",
       "      <td>310.506561</td>\n",
       "      <td>8.976703</td>\n",
       "      <td>12.050776</td>\n",
       "      <td>392.489777</td>\n",
       "      <td>91.215553</td>\n",
       "      <td>2460.593018</td>\n",
       "      <td>5.769414</td>\n",
       "      <td>23.695576</td>\n",
       "    </tr>\n",
       "  </tbody>\n",
       "</table>\n",
       "<p>5 rows × 33 columns</p>\n",
       "</div>\n",
       "      <button class=\"colab-df-convert\" onclick=\"convertToInteractive('df-34c1a4db-6f06-472b-a9d6-e4f4794ecbb3')\"\n",
       "              title=\"Convert this dataframe to an interactive table.\"\n",
       "              style=\"display:none;\">\n",
       "        \n",
       "  <svg xmlns=\"http://www.w3.org/2000/svg\" height=\"24px\"viewBox=\"0 0 24 24\"\n",
       "       width=\"24px\">\n",
       "    <path d=\"M0 0h24v24H0V0z\" fill=\"none\"/>\n",
       "    <path d=\"M18.56 5.44l.94 2.06.94-2.06 2.06-.94-2.06-.94-.94-2.06-.94 2.06-2.06.94zm-11 1L8.5 8.5l.94-2.06 2.06-.94-2.06-.94L8.5 2.5l-.94 2.06-2.06.94zm10 10l.94 2.06.94-2.06 2.06-.94-2.06-.94-.94-2.06-.94 2.06-2.06.94z\"/><path d=\"M17.41 7.96l-1.37-1.37c-.4-.4-.92-.59-1.43-.59-.52 0-1.04.2-1.43.59L10.3 9.45l-7.72 7.72c-.78.78-.78 2.05 0 2.83L4 21.41c.39.39.9.59 1.41.59.51 0 1.02-.2 1.41-.59l7.78-7.78 2.81-2.81c.8-.78.8-2.07 0-2.86zM5.41 20L4 18.59l7.72-7.72 1.47 1.35L5.41 20z\"/>\n",
       "  </svg>\n",
       "      </button>\n",
       "      \n",
       "  <style>\n",
       "    .colab-df-container {\n",
       "      display:flex;\n",
       "      flex-wrap:wrap;\n",
       "      gap: 12px;\n",
       "    }\n",
       "\n",
       "    .colab-df-convert {\n",
       "      background-color: #E8F0FE;\n",
       "      border: none;\n",
       "      border-radius: 50%;\n",
       "      cursor: pointer;\n",
       "      display: none;\n",
       "      fill: #1967D2;\n",
       "      height: 32px;\n",
       "      padding: 0 0 0 0;\n",
       "      width: 32px;\n",
       "    }\n",
       "\n",
       "    .colab-df-convert:hover {\n",
       "      background-color: #E2EBFA;\n",
       "      box-shadow: 0px 1px 2px rgba(60, 64, 67, 0.3), 0px 1px 3px 1px rgba(60, 64, 67, 0.15);\n",
       "      fill: #174EA6;\n",
       "    }\n",
       "\n",
       "    [theme=dark] .colab-df-convert {\n",
       "      background-color: #3B4455;\n",
       "      fill: #D2E3FC;\n",
       "    }\n",
       "\n",
       "    [theme=dark] .colab-df-convert:hover {\n",
       "      background-color: #434B5C;\n",
       "      box-shadow: 0px 1px 3px 1px rgba(0, 0, 0, 0.15);\n",
       "      filter: drop-shadow(0px 1px 2px rgba(0, 0, 0, 0.3));\n",
       "      fill: #FFFFFF;\n",
       "    }\n",
       "  </style>\n",
       "\n",
       "      <script>\n",
       "        const buttonEl =\n",
       "          document.querySelector('#df-34c1a4db-6f06-472b-a9d6-e4f4794ecbb3 button.colab-df-convert');\n",
       "        buttonEl.style.display =\n",
       "          google.colab.kernel.accessAllowed ? 'block' : 'none';\n",
       "\n",
       "        async function convertToInteractive(key) {\n",
       "          const element = document.querySelector('#df-34c1a4db-6f06-472b-a9d6-e4f4794ecbb3');\n",
       "          const dataTable =\n",
       "            await google.colab.kernel.invokeFunction('convertToInteractive',\n",
       "                                                     [key], {});\n",
       "          if (!dataTable) return;\n",
       "\n",
       "          const docLinkHtml = 'Like what you see? Visit the ' +\n",
       "            '<a target=\"_blank\" href=https://colab.research.google.com/notebooks/data_table.ipynb>data table notebook</a>'\n",
       "            + ' to learn more about interactive tables.';\n",
       "          element.innerHTML = '';\n",
       "          dataTable['output_type'] = 'display_data';\n",
       "          await google.colab.output.renderOutput(dataTable, element);\n",
       "          const docLink = document.createElement('div');\n",
       "          docLink.innerHTML = docLinkHtml;\n",
       "          element.appendChild(docLink);\n",
       "        }\n",
       "      </script>\n",
       "    </div>\n",
       "  </div>\n",
       "  "
      ],
      "text/plain": [
       "family  AUTOMOTIVE  BABY_CARE    BEAUTY    BEVERAGES   BOOKS  BREAD_BAKERY  \\\n",
       "date                                                                         \n",
       "2013      5.378472   0.000000  2.226852  1096.029541  0.0000    369.368378   \n",
       "2014      4.823775   0.000000  2.163680  1243.594971  0.0000    371.376617   \n",
       "2015      5.572879   0.000000  3.011947  2111.170898  0.0000    527.189026   \n",
       "2016      7.206878   0.283069  4.660317  3192.553467  0.0000    564.665771   \n",
       "2017      7.059737   0.166667  5.900239  3487.099854  0.0908    566.843262   \n",
       "\n",
       "family  CELEBRATION     CLEANING       DAIRY        DELI  ...  MAGAZINES  \\\n",
       "date                                                      ...              \n",
       "2013       0.000000   885.340881  356.175934  208.577560  ...   0.000000   \n",
       "2014       0.000000   895.068115  658.005981  226.424026  ...   0.000000   \n",
       "2015       0.000000  1143.790283  772.585449  314.021210  ...   1.768220   \n",
       "2016      13.887831  1188.984619  930.013733  300.740814  ...   6.860847   \n",
       "2017      13.338112  1352.649902  966.421143  322.572418  ...   6.640980   \n",
       "\n",
       "family       MEATS  PERSONAL_CARE  PET_SUPPLIES  PLAYERS_AND_ELECTRONICS  \\\n",
       "date                                                                       \n",
       "2013    325.077484     184.948502      0.000000                 0.000000   \n",
       "2014    327.115540     238.545990      0.000000                 0.000000   \n",
       "2015    353.459930     300.913391      0.111111                 0.000000   \n",
       "2016    357.126556     338.059265      6.907407                 9.784127   \n",
       "2017    367.788177     310.506561      8.976703                12.050776   \n",
       "\n",
       "family     POULTRY  PREPARED_FOODS      PRODUCE  SCHOOL_AND_OFFICE_SUPPLIES  \\\n",
       "date                                                                          \n",
       "2013    193.017914       85.113380     5.654514                    0.000000   \n",
       "2014    358.785248       87.823662     5.432497                    0.000000   \n",
       "2015    396.078827       94.243752     6.076464                    0.000000   \n",
       "2016    391.916992      106.388954  2309.795166                    7.102645   \n",
       "2017    392.489777       91.215553  2460.593018                    5.769414   \n",
       "\n",
       "family    SEAFOOD  \n",
       "date               \n",
       "2013    22.309168  \n",
       "2014    21.444462  \n",
       "2015    25.392372  \n",
       "2016    24.105692  \n",
       "2017    23.695576  \n",
       "\n",
       "[5 rows x 33 columns]"
      ]
     },
     "execution_count": 55,
     "metadata": {},
     "output_type": "execute_result"
    }
   ],
   "source": [
    "# May\n",
    "may= pd.pivot_table(train_data[(train_data.date.dt.month.isin([5]))], \n",
    "               index=train_data.date.dt.year, columns=\"family\", \n",
    "               values=\"sales\", aggfunc=\"mean\")\n",
    "may"
   ]
  },
  {
   "cell_type": "code",
   "execution_count": 56,
   "metadata": {
    "executionInfo": {
     "elapsed": 31,
     "status": "ok",
     "timestamp": 1677545105359,
     "user": {
      "displayName": "Rahul Gowda",
      "userId": "07531651890169502464"
     },
     "user_tz": -330
    },
    "id": "GdHGhkM2F9oF"
   },
   "outputs": [],
   "source": [
    "may= may.sum(axis=1).reset_index()\n",
    "may['month']= 'may'"
   ]
  },
  {
   "cell_type": "code",
   "execution_count": 57,
   "metadata": {
    "colab": {
     "base_uri": "https://localhost:8080/",
     "height": 417
    },
    "executionInfo": {
     "elapsed": 536,
     "status": "ok",
     "timestamp": 1677545105865,
     "user": {
      "displayName": "Rahul Gowda",
      "userId": "07531651890169502464"
     },
     "user_tz": -330
    },
    "id": "VoOnD2t5F-3u",
    "outputId": "503ee2e2-bd23-429c-a9e0-13ce888ad479"
   },
   "outputs": [
    {
     "data": {
      "text/html": [
       "<html>\n",
       "<head><meta charset=\"utf-8\" /></head>\n",
       "<body>\n",
       "    <div>            <script src=\"https://cdnjs.cloudflare.com/ajax/libs/mathjax/2.7.5/MathJax.js?config=TeX-AMS-MML_SVG\"></script><script type=\"text/javascript\">if (window.MathJax) {MathJax.Hub.Config({SVG: {font: \"STIX-Web\"}});}</script>                <script type=\"text/javascript\">window.PlotlyConfig = {MathJaxConfig: 'local'};</script>\n",
       "        <script src=\"https://cdn.plot.ly/plotly-2.8.3.min.js\"></script>                <div id=\"53bff769-9cac-4f63-99e5-4e67798364cd\" class=\"plotly-graph-div\" style=\"height:400px; width:700px;\"></div>            <script type=\"text/javascript\">                                    window.PLOTLYENV=window.PLOTLYENV || {};                                    if (document.getElementById(\"53bff769-9cac-4f63-99e5-4e67798364cd\")) {                    Plotly.newPlot(                        \"53bff769-9cac-4f63-99e5-4e67798364cd\",                        [{\"marker\":{\"color\":\"rgb(100,100,100)\"},\"name\":\"March\",\"x\":[2013,2014,2015,2016,2017,2013,2014,2015,2016,2017,2013,2014,2015,2016,2017],\"y\":[6827.05908203125,12165.8203125,9318.1650390625,13818.267578125,15952.220703125],\"type\":\"bar\"},{\"marker\":{\"color\":\"#f77e90\"},\"name\":\"April\",\"x\":[2013,2014,2015,2016,2017,2013,2014,2015,2016,2017,2013,2014,2015,2016,2017],\"y\":[6786.0888671875,7939.0439453125,9231.5234375,16107.5888671875,15911.7041015625],\"type\":\"bar\"},{\"marker\":{\"color\":\"rgb(100,100,100)\"},\"name\":\"May\",\"x\":[2013,2014,2015,2016,2017,2013,2014,2015,2016,2017,2013,2014,2015,2016,2017],\"y\":[6936.0908203125,7992.703125,10591.6181640625,15103.1572265625,16076.3701171875],\"type\":\"bar\"}],                        {\"template\":{\"data\":{\"bar\":[{\"error_x\":{\"color\":\"#2a3f5f\"},\"error_y\":{\"color\":\"#2a3f5f\"},\"marker\":{\"line\":{\"color\":\"#E5ECF6\",\"width\":0.5},\"pattern\":{\"fillmode\":\"overlay\",\"size\":10,\"solidity\":0.2}},\"type\":\"bar\"}],\"barpolar\":[{\"marker\":{\"line\":{\"color\":\"#E5ECF6\",\"width\":0.5},\"pattern\":{\"fillmode\":\"overlay\",\"size\":10,\"solidity\":0.2}},\"type\":\"barpolar\"}],\"carpet\":[{\"aaxis\":{\"endlinecolor\":\"#2a3f5f\",\"gridcolor\":\"white\",\"linecolor\":\"white\",\"minorgridcolor\":\"white\",\"startlinecolor\":\"#2a3f5f\"},\"baxis\":{\"endlinecolor\":\"#2a3f5f\",\"gridcolor\":\"white\",\"linecolor\":\"white\",\"minorgridcolor\":\"white\",\"startlinecolor\":\"#2a3f5f\"},\"type\":\"carpet\"}],\"choropleth\":[{\"colorbar\":{\"outlinewidth\":0,\"ticks\":\"\"},\"type\":\"choropleth\"}],\"contour\":[{\"colorbar\":{\"outlinewidth\":0,\"ticks\":\"\"},\"colorscale\":[[0.0,\"#0d0887\"],[0.1111111111111111,\"#46039f\"],[0.2222222222222222,\"#7201a8\"],[0.3333333333333333,\"#9c179e\"],[0.4444444444444444,\"#bd3786\"],[0.5555555555555556,\"#d8576b\"],[0.6666666666666666,\"#ed7953\"],[0.7777777777777778,\"#fb9f3a\"],[0.8888888888888888,\"#fdca26\"],[1.0,\"#f0f921\"]],\"type\":\"contour\"}],\"contourcarpet\":[{\"colorbar\":{\"outlinewidth\":0,\"ticks\":\"\"},\"type\":\"contourcarpet\"}],\"heatmap\":[{\"colorbar\":{\"outlinewidth\":0,\"ticks\":\"\"},\"colorscale\":[[0.0,\"#0d0887\"],[0.1111111111111111,\"#46039f\"],[0.2222222222222222,\"#7201a8\"],[0.3333333333333333,\"#9c179e\"],[0.4444444444444444,\"#bd3786\"],[0.5555555555555556,\"#d8576b\"],[0.6666666666666666,\"#ed7953\"],[0.7777777777777778,\"#fb9f3a\"],[0.8888888888888888,\"#fdca26\"],[1.0,\"#f0f921\"]],\"type\":\"heatmap\"}],\"heatmapgl\":[{\"colorbar\":{\"outlinewidth\":0,\"ticks\":\"\"},\"colorscale\":[[0.0,\"#0d0887\"],[0.1111111111111111,\"#46039f\"],[0.2222222222222222,\"#7201a8\"],[0.3333333333333333,\"#9c179e\"],[0.4444444444444444,\"#bd3786\"],[0.5555555555555556,\"#d8576b\"],[0.6666666666666666,\"#ed7953\"],[0.7777777777777778,\"#fb9f3a\"],[0.8888888888888888,\"#fdca26\"],[1.0,\"#f0f921\"]],\"type\":\"heatmapgl\"}],\"histogram\":[{\"marker\":{\"pattern\":{\"fillmode\":\"overlay\",\"size\":10,\"solidity\":0.2}},\"type\":\"histogram\"}],\"histogram2d\":[{\"colorbar\":{\"outlinewidth\":0,\"ticks\":\"\"},\"colorscale\":[[0.0,\"#0d0887\"],[0.1111111111111111,\"#46039f\"],[0.2222222222222222,\"#7201a8\"],[0.3333333333333333,\"#9c179e\"],[0.4444444444444444,\"#bd3786\"],[0.5555555555555556,\"#d8576b\"],[0.6666666666666666,\"#ed7953\"],[0.7777777777777778,\"#fb9f3a\"],[0.8888888888888888,\"#fdca26\"],[1.0,\"#f0f921\"]],\"type\":\"histogram2d\"}],\"histogram2dcontour\":[{\"colorbar\":{\"outlinewidth\":0,\"ticks\":\"\"},\"colorscale\":[[0.0,\"#0d0887\"],[0.1111111111111111,\"#46039f\"],[0.2222222222222222,\"#7201a8\"],[0.3333333333333333,\"#9c179e\"],[0.4444444444444444,\"#bd3786\"],[0.5555555555555556,\"#d8576b\"],[0.6666666666666666,\"#ed7953\"],[0.7777777777777778,\"#fb9f3a\"],[0.8888888888888888,\"#fdca26\"],[1.0,\"#f0f921\"]],\"type\":\"histogram2dcontour\"}],\"mesh3d\":[{\"colorbar\":{\"outlinewidth\":0,\"ticks\":\"\"},\"type\":\"mesh3d\"}],\"parcoords\":[{\"line\":{\"colorbar\":{\"outlinewidth\":0,\"ticks\":\"\"}},\"type\":\"parcoords\"}],\"pie\":[{\"automargin\":true,\"type\":\"pie\"}],\"scatter\":[{\"marker\":{\"colorbar\":{\"outlinewidth\":0,\"ticks\":\"\"}},\"type\":\"scatter\"}],\"scatter3d\":[{\"line\":{\"colorbar\":{\"outlinewidth\":0,\"ticks\":\"\"}},\"marker\":{\"colorbar\":{\"outlinewidth\":0,\"ticks\":\"\"}},\"type\":\"scatter3d\"}],\"scattercarpet\":[{\"marker\":{\"colorbar\":{\"outlinewidth\":0,\"ticks\":\"\"}},\"type\":\"scattercarpet\"}],\"scattergeo\":[{\"marker\":{\"colorbar\":{\"outlinewidth\":0,\"ticks\":\"\"}},\"type\":\"scattergeo\"}],\"scattergl\":[{\"marker\":{\"colorbar\":{\"outlinewidth\":0,\"ticks\":\"\"}},\"type\":\"scattergl\"}],\"scattermapbox\":[{\"marker\":{\"colorbar\":{\"outlinewidth\":0,\"ticks\":\"\"}},\"type\":\"scattermapbox\"}],\"scatterpolar\":[{\"marker\":{\"colorbar\":{\"outlinewidth\":0,\"ticks\":\"\"}},\"type\":\"scatterpolar\"}],\"scatterpolargl\":[{\"marker\":{\"colorbar\":{\"outlinewidth\":0,\"ticks\":\"\"}},\"type\":\"scatterpolargl\"}],\"scatterternary\":[{\"marker\":{\"colorbar\":{\"outlinewidth\":0,\"ticks\":\"\"}},\"type\":\"scatterternary\"}],\"surface\":[{\"colorbar\":{\"outlinewidth\":0,\"ticks\":\"\"},\"colorscale\":[[0.0,\"#0d0887\"],[0.1111111111111111,\"#46039f\"],[0.2222222222222222,\"#7201a8\"],[0.3333333333333333,\"#9c179e\"],[0.4444444444444444,\"#bd3786\"],[0.5555555555555556,\"#d8576b\"],[0.6666666666666666,\"#ed7953\"],[0.7777777777777778,\"#fb9f3a\"],[0.8888888888888888,\"#fdca26\"],[1.0,\"#f0f921\"]],\"type\":\"surface\"}],\"table\":[{\"cells\":{\"fill\":{\"color\":\"#EBF0F8\"},\"line\":{\"color\":\"white\"}},\"header\":{\"fill\":{\"color\":\"#C8D4E3\"},\"line\":{\"color\":\"white\"}},\"type\":\"table\"}]},\"layout\":{\"annotationdefaults\":{\"arrowcolor\":\"#2a3f5f\",\"arrowhead\":0,\"arrowwidth\":1},\"autotypenumbers\":\"strict\",\"coloraxis\":{\"colorbar\":{\"outlinewidth\":0,\"ticks\":\"\"}},\"colorscale\":{\"diverging\":[[0,\"#8e0152\"],[0.1,\"#c51b7d\"],[0.2,\"#de77ae\"],[0.3,\"#f1b6da\"],[0.4,\"#fde0ef\"],[0.5,\"#f7f7f7\"],[0.6,\"#e6f5d0\"],[0.7,\"#b8e186\"],[0.8,\"#7fbc41\"],[0.9,\"#4d9221\"],[1,\"#276419\"]],\"sequential\":[[0.0,\"#0d0887\"],[0.1111111111111111,\"#46039f\"],[0.2222222222222222,\"#7201a8\"],[0.3333333333333333,\"#9c179e\"],[0.4444444444444444,\"#bd3786\"],[0.5555555555555556,\"#d8576b\"],[0.6666666666666666,\"#ed7953\"],[0.7777777777777778,\"#fb9f3a\"],[0.8888888888888888,\"#fdca26\"],[1.0,\"#f0f921\"]],\"sequentialminus\":[[0.0,\"#0d0887\"],[0.1111111111111111,\"#46039f\"],[0.2222222222222222,\"#7201a8\"],[0.3333333333333333,\"#9c179e\"],[0.4444444444444444,\"#bd3786\"],[0.5555555555555556,\"#d8576b\"],[0.6666666666666666,\"#ed7953\"],[0.7777777777777778,\"#fb9f3a\"],[0.8888888888888888,\"#fdca26\"],[1.0,\"#f0f921\"]]},\"colorway\":[\"#636efa\",\"#EF553B\",\"#00cc96\",\"#ab63fa\",\"#FFA15A\",\"#19d3f3\",\"#FF6692\",\"#B6E880\",\"#FF97FF\",\"#FECB52\"],\"font\":{\"color\":\"#2a3f5f\"},\"geo\":{\"bgcolor\":\"white\",\"lakecolor\":\"white\",\"landcolor\":\"#E5ECF6\",\"showlakes\":true,\"showland\":true,\"subunitcolor\":\"white\"},\"hoverlabel\":{\"align\":\"left\"},\"hovermode\":\"closest\",\"mapbox\":{\"style\":\"light\"},\"paper_bgcolor\":\"white\",\"plot_bgcolor\":\"#E5ECF6\",\"polar\":{\"angularaxis\":{\"gridcolor\":\"white\",\"linecolor\":\"white\",\"ticks\":\"\"},\"bgcolor\":\"#E5ECF6\",\"radialaxis\":{\"gridcolor\":\"white\",\"linecolor\":\"white\",\"ticks\":\"\"}},\"scene\":{\"xaxis\":{\"backgroundcolor\":\"#E5ECF6\",\"gridcolor\":\"white\",\"gridwidth\":2,\"linecolor\":\"white\",\"showbackground\":true,\"ticks\":\"\",\"zerolinecolor\":\"white\"},\"yaxis\":{\"backgroundcolor\":\"#E5ECF6\",\"gridcolor\":\"white\",\"gridwidth\":2,\"linecolor\":\"white\",\"showbackground\":true,\"ticks\":\"\",\"zerolinecolor\":\"white\"},\"zaxis\":{\"backgroundcolor\":\"#E5ECF6\",\"gridcolor\":\"white\",\"gridwidth\":2,\"linecolor\":\"white\",\"showbackground\":true,\"ticks\":\"\",\"zerolinecolor\":\"white\"}},\"shapedefaults\":{\"line\":{\"color\":\"#2a3f5f\"}},\"ternary\":{\"aaxis\":{\"gridcolor\":\"white\",\"linecolor\":\"white\",\"ticks\":\"\"},\"baxis\":{\"gridcolor\":\"white\",\"linecolor\":\"white\",\"ticks\":\"\"},\"bgcolor\":\"#E5ECF6\",\"caxis\":{\"gridcolor\":\"white\",\"linecolor\":\"white\",\"ticks\":\"\"}},\"title\":{\"x\":0.05},\"xaxis\":{\"automargin\":true,\"gridcolor\":\"white\",\"linecolor\":\"white\",\"ticks\":\"\",\"title\":{\"standoff\":15},\"zerolinecolor\":\"white\",\"zerolinewidth\":2},\"yaxis\":{\"automargin\":true,\"gridcolor\":\"white\",\"linecolor\":\"white\",\"ticks\":\"\",\"title\":{\"standoff\":15},\"zerolinecolor\":\"white\",\"zerolinewidth\":2}}},\"title\":{\"text\":\"Earthquake Effect On Sales\",\"x\":0.5},\"width\":700,\"height\":400},                        {\"responsive\": true}                    ).then(function(){\n",
       "                            \n",
       "var gd = document.getElementById('53bff769-9cac-4f63-99e5-4e67798364cd');\n",
       "var x = new MutationObserver(function (mutations, observer) {{\n",
       "        var display = window.getComputedStyle(gd).display;\n",
       "        if (!display || display === 'none') {{\n",
       "            console.log([gd, 'removed!']);\n",
       "            Plotly.purge(gd);\n",
       "            observer.disconnect();\n",
       "        }}\n",
       "}});\n",
       "\n",
       "// Listen for the removal of the full notebook cells\n",
       "var notebookContainer = gd.closest('#notebook-container');\n",
       "if (notebookContainer) {{\n",
       "    x.observe(notebookContainer, {childList: true});\n",
       "}}\n",
       "\n",
       "// Listen for the clearing of the current output cell\n",
       "var outputEl = gd.closest('.output');\n",
       "if (outputEl) {{\n",
       "    x.observe(outputEl, {childList: true});\n",
       "}}\n",
       "\n",
       "                        })                };                            </script>        </div>\n",
       "</body>\n",
       "</html>"
      ]
     },
     "metadata": {},
     "output_type": "display_data"
    }
   ],
   "source": [
    "ee= march.append(april).append(may).reset_index().drop(['index'], axis=1)\n",
    "trace1 = go.Bar(x=ee.date, y=ee[0][ee.month=='march'],\n",
    "                marker=dict(color='rgb(100,100,100)'),\n",
    "                name='March')\n",
    "trace2 = go.Bar(x=ee.date, y=ee[0][ee.month=='april'],\n",
    "                marker=dict(color='#f77e90'),\n",
    "                name='April')\n",
    "trace3 = go.Bar(x=ee.date, y=ee[0][ee.month=='may'],\n",
    "                marker=dict(color='rgb(100,100,100)'),\n",
    "                name='May')\n",
    "data = [trace1, trace2, trace3]\n",
    "\n",
    "fig = go.Figure(data = data)\n",
    "fig.layout.update({'title': 'Earthquake Effect On Sales'})\n",
    "fig.layout.update({'width':700,'height':400})\n",
    "fig.update_layout(title_x=0.5)\n",
    "fig.show()"
   ]
  },
  {
   "cell_type": "markdown",
   "metadata": {
    "id": "mAI2vPd9GCJN"
   },
   "source": [
    "`Observations` :\n",
    "* There is an increase in April's sales in 2016\n",
    "\n",
    "* By comparing all the years groceries always made sales high. "
   ]
  },
  {
   "cell_type": "markdown",
   "metadata": {
    "id": "-5CxhMybGE-n"
   },
   "source": [
    "### 2. How amny number of stores are there in each type of stores and How many store of different type in the different cluster?"
   ]
  },
  {
   "cell_type": "code",
   "execution_count": 58,
   "metadata": {
    "colab": {
     "base_uri": "https://localhost:8080/",
     "height": 404
    },
    "executionInfo": {
     "elapsed": 22405,
     "status": "ok",
     "timestamp": 1677545128245,
     "user": {
      "displayName": "Rahul Gowda",
      "userId": "07531651890169502464"
     },
     "user_tz": -330
    },
    "id": "6rPUfmHVGCqg",
    "outputId": "f2c3a3ab-a967-4f8f-c2c5-572e6055b2e9"
   },
   "outputs": [
    {
     "data": {
      "image/png": "[encoded data removed]",
      "text/plain": [
       "<Figure size 1296x432 with 2 Axes>"
      ]
     },
     "metadata": {
      "needs_background": "light"
     },
     "output_type": "display_data"
    }
   ],
   "source": [
    "fig,axes = plt.subplots(1,2,figsize= (18,6))\n",
    "sns.countplot(data= train_data,  x = \"store_type\", ax=axes[0])\n",
    "axes[0].ticklabel_format(style='plain', axis='y')\n",
    "axes[0].set_title(\"Number of stores by Type\")\n",
    "sns.stripplot(x=\"store_type\", y= \"cluster\", data= train_data, ax = axes[1])\n",
    "axes[1].set_title(\"Stores by cluster\")\n",
    "sns.despine();\n",
    "plt.show()"
   ]
  },
  {
   "cell_type": "markdown",
   "metadata": {
    "id": "1p1Z7EcXGJYH"
   },
   "source": [
    "`Observations` :     \n",
    "* Type D stores are largest in number of the other five types of stores.\n",
    "* Type E stores are the smallest in number.\n",
    "\n",
    "The right side of the graph show the cluster ( grouping of similar stores) Number.\n",
    "\n",
    "\n",
    "Type | Cluster Number\n",
    "--- | ---\n",
    "`A` | **5, 11, 14, 17**\n",
    "`B` | **6, 10, 16**\n",
    "`C` | **3, 7, 12, 15**\n",
    "`D` | **1, 2, 4, 8, 9, 10, 13**\n",
    "`E` | **10**\n",
    "\n",
    "\n"
   ]
  },
  {
   "cell_type": "markdown",
   "metadata": {
    "id": "6noSl5A6GLm_"
   },
   "source": [
    "### 3. What are the Top 10 Products sold?"
   ]
  },
  {
   "cell_type": "code",
   "execution_count": 59,
   "metadata": {
    "colab": {
     "base_uri": "https://localhost:8080/",
     "height": 417
    },
    "executionInfo": {
     "elapsed": 684,
     "status": "ok",
     "timestamp": 1677545128922,
     "user": {
      "displayName": "Rahul Gowda",
      "userId": "07531651890169502464"
     },
     "user_tz": -330
    },
    "id": "0yfA4LdIGH1x",
    "outputId": "a4403e0e-fb40-4250-c2b4-f85df07ae694"
   },
   "outputs": [
    {
     "data": {
      "text/html": [
       "<html>\n",
       "<head><meta charset=\"utf-8\" /></head>\n",
       "<body>\n",
       "    <div>            <script src=\"https://cdnjs.cloudflare.com/ajax/libs/mathjax/2.7.5/MathJax.js?config=TeX-AMS-MML_SVG\"></script><script type=\"text/javascript\">if (window.MathJax) {MathJax.Hub.Config({SVG: {font: \"STIX-Web\"}});}</script>                <script type=\"text/javascript\">window.PlotlyConfig = {MathJaxConfig: 'local'};</script>\n",
       "        <script src=\"https://cdn.plot.ly/plotly-2.8.3.min.js\"></script>                <div id=\"710ebbaf-01e0-4561-a684-beb54629464b\" class=\"plotly-graph-div\" style=\"height:400px; width:700px;\"></div>            <script type=\"text/javascript\">                                    window.PLOTLYENV=window.PLOTLYENV || {};                                    if (document.getElementById(\"710ebbaf-01e0-4561-a684-beb54629464b\")) {                    Plotly.newPlot(                        \"710ebbaf-01e0-4561-a684-beb54629464b\",                        [{\"marker\":{\"color\":[\"#71c7ec\",\"#71c7ec\",\"#107dac\",\"#107dac\",\"#107dac\",\"#107dac\",\"#107dac\",\"#107dac\",\"#107dac\",\"#107dac\",\"#107dac\",\"#107dac\",\"#107dac\",\"#107dac\",\"#107dac\"]},\"name\":\"Family\",\"orientation\":\"h\",\"x\":[3779.527587890625,2388.114990234375,1351.4892578125,1071.075439453125,709.1426391601562,462.8275146484375,350.0671081542969,340.9865417480469,270.4114685058594,264.8689270019531,176.78280639648438,171.0936737060547,157.81593322753906,96.60089874267578,85.53807067871094],\"y\":[\"GROCERY_I\",\"BEVERAGES\",\"PRODUCE\",\"CLEANING\",\"DAIRY\",\"BREAD_BAKERY\",\"POULTRY\",\"MEATS\",\"PERSONAL_CARE\",\"DELI\",\"HOME_CARE\",\"EGGS\",\"FROZEN_FOODS\",\"PREPARED_FOODS\",\"LIQUOR_WINE_BEER\"],\"type\":\"bar\"}],                        {\"template\":{\"data\":{\"bar\":[{\"error_x\":{\"color\":\"#2a3f5f\"},\"error_y\":{\"color\":\"#2a3f5f\"},\"marker\":{\"line\":{\"color\":\"#E5ECF6\",\"width\":0.5},\"pattern\":{\"fillmode\":\"overlay\",\"size\":10,\"solidity\":0.2}},\"type\":\"bar\"}],\"barpolar\":[{\"marker\":{\"line\":{\"color\":\"#E5ECF6\",\"width\":0.5},\"pattern\":{\"fillmode\":\"overlay\",\"size\":10,\"solidity\":0.2}},\"type\":\"barpolar\"}],\"carpet\":[{\"aaxis\":{\"endlinecolor\":\"#2a3f5f\",\"gridcolor\":\"white\",\"linecolor\":\"white\",\"minorgridcolor\":\"white\",\"startlinecolor\":\"#2a3f5f\"},\"baxis\":{\"endlinecolor\":\"#2a3f5f\",\"gridcolor\":\"white\",\"linecolor\":\"white\",\"minorgridcolor\":\"white\",\"startlinecolor\":\"#2a3f5f\"},\"type\":\"carpet\"}],\"choropleth\":[{\"colorbar\":{\"outlinewidth\":0,\"ticks\":\"\"},\"type\":\"choropleth\"}],\"contour\":[{\"colorbar\":{\"outlinewidth\":0,\"ticks\":\"\"},\"colorscale\":[[0.0,\"#0d0887\"],[0.1111111111111111,\"#46039f\"],[0.2222222222222222,\"#7201a8\"],[0.3333333333333333,\"#9c179e\"],[0.4444444444444444,\"#bd3786\"],[0.5555555555555556,\"#d8576b\"],[0.6666666666666666,\"#ed7953\"],[0.7777777777777778,\"#fb9f3a\"],[0.8888888888888888,\"#fdca26\"],[1.0,\"#f0f921\"]],\"type\":\"contour\"}],\"contourcarpet\":[{\"colorbar\":{\"outlinewidth\":0,\"ticks\":\"\"},\"type\":\"contourcarpet\"}],\"heatmap\":[{\"colorbar\":{\"outlinewidth\":0,\"ticks\":\"\"},\"colorscale\":[[0.0,\"#0d0887\"],[0.1111111111111111,\"#46039f\"],[0.2222222222222222,\"#7201a8\"],[0.3333333333333333,\"#9c179e\"],[0.4444444444444444,\"#bd3786\"],[0.5555555555555556,\"#d8576b\"],[0.6666666666666666,\"#ed7953\"],[0.7777777777777778,\"#fb9f3a\"],[0.8888888888888888,\"#fdca26\"],[1.0,\"#f0f921\"]],\"type\":\"heatmap\"}],\"heatmapgl\":[{\"colorbar\":{\"outlinewidth\":0,\"ticks\":\"\"},\"colorscale\":[[0.0,\"#0d0887\"],[0.1111111111111111,\"#46039f\"],[0.2222222222222222,\"#7201a8\"],[0.3333333333333333,\"#9c179e\"],[0.4444444444444444,\"#bd3786\"],[0.5555555555555556,\"#d8576b\"],[0.6666666666666666,\"#ed7953\"],[0.7777777777777778,\"#fb9f3a\"],[0.8888888888888888,\"#fdca26\"],[1.0,\"#f0f921\"]],\"type\":\"heatmapgl\"}],\"histogram\":[{\"marker\":{\"pattern\":{\"fillmode\":\"overlay\",\"size\":10,\"solidity\":0.2}},\"type\":\"histogram\"}],\"histogram2d\":[{\"colorbar\":{\"outlinewidth\":0,\"ticks\":\"\"},\"colorscale\":[[0.0,\"#0d0887\"],[0.1111111111111111,\"#46039f\"],[0.2222222222222222,\"#7201a8\"],[0.3333333333333333,\"#9c179e\"],[0.4444444444444444,\"#bd3786\"],[0.5555555555555556,\"#d8576b\"],[0.6666666666666666,\"#ed7953\"],[0.7777777777777778,\"#fb9f3a\"],[0.8888888888888888,\"#fdca26\"],[1.0,\"#f0f921\"]],\"type\":\"histogram2d\"}],\"histogram2dcontour\":[{\"colorbar\":{\"outlinewidth\":0,\"ticks\":\"\"},\"colorscale\":[[0.0,\"#0d0887\"],[0.1111111111111111,\"#46039f\"],[0.2222222222222222,\"#7201a8\"],[0.3333333333333333,\"#9c179e\"],[0.4444444444444444,\"#bd3786\"],[0.5555555555555556,\"#d8576b\"],[0.6666666666666666,\"#ed7953\"],[0.7777777777777778,\"#fb9f3a\"],[0.8888888888888888,\"#fdca26\"],[1.0,\"#f0f921\"]],\"type\":\"histogram2dcontour\"}],\"mesh3d\":[{\"colorbar\":{\"outlinewidth\":0,\"ticks\":\"\"},\"type\":\"mesh3d\"}],\"parcoords\":[{\"line\":{\"colorbar\":{\"outlinewidth\":0,\"ticks\":\"\"}},\"type\":\"parcoords\"}],\"pie\":[{\"automargin\":true,\"type\":\"pie\"}],\"scatter\":[{\"marker\":{\"colorbar\":{\"outlinewidth\":0,\"ticks\":\"\"}},\"type\":\"scatter\"}],\"scatter3d\":[{\"line\":{\"colorbar\":{\"outlinewidth\":0,\"ticks\":\"\"}},\"marker\":{\"colorbar\":{\"outlinewidth\":0,\"ticks\":\"\"}},\"type\":\"scatter3d\"}],\"scattercarpet\":[{\"marker\":{\"colorbar\":{\"outlinewidth\":0,\"ticks\":\"\"}},\"type\":\"scattercarpet\"}],\"scattergeo\":[{\"marker\":{\"colorbar\":{\"outlinewidth\":0,\"ticks\":\"\"}},\"type\":\"scattergeo\"}],\"scattergl\":[{\"marker\":{\"colorbar\":{\"outlinewidth\":0,\"ticks\":\"\"}},\"type\":\"scattergl\"}],\"scattermapbox\":[{\"marker\":{\"colorbar\":{\"outlinewidth\":0,\"ticks\":\"\"}},\"type\":\"scattermapbox\"}],\"scatterpolar\":[{\"marker\":{\"colorbar\":{\"outlinewidth\":0,\"ticks\":\"\"}},\"type\":\"scatterpolar\"}],\"scatterpolargl\":[{\"marker\":{\"colorbar\":{\"outlinewidth\":0,\"ticks\":\"\"}},\"type\":\"scatterpolargl\"}],\"scatterternary\":[{\"marker\":{\"colorbar\":{\"outlinewidth\":0,\"ticks\":\"\"}},\"type\":\"scatterternary\"}],\"surface\":[{\"colorbar\":{\"outlinewidth\":0,\"ticks\":\"\"},\"colorscale\":[[0.0,\"#0d0887\"],[0.1111111111111111,\"#46039f\"],[0.2222222222222222,\"#7201a8\"],[0.3333333333333333,\"#9c179e\"],[0.4444444444444444,\"#bd3786\"],[0.5555555555555556,\"#d8576b\"],[0.6666666666666666,\"#ed7953\"],[0.7777777777777778,\"#fb9f3a\"],[0.8888888888888888,\"#fdca26\"],[1.0,\"#f0f921\"]],\"type\":\"surface\"}],\"table\":[{\"cells\":{\"fill\":{\"color\":\"#EBF0F8\"},\"line\":{\"color\":\"white\"}},\"header\":{\"fill\":{\"color\":\"#C8D4E3\"},\"line\":{\"color\":\"white\"}},\"type\":\"table\"}]},\"layout\":{\"annotationdefaults\":{\"arrowcolor\":\"#2a3f5f\",\"arrowhead\":0,\"arrowwidth\":1},\"autotypenumbers\":\"strict\",\"coloraxis\":{\"colorbar\":{\"outlinewidth\":0,\"ticks\":\"\"}},\"colorscale\":{\"diverging\":[[0,\"#8e0152\"],[0.1,\"#c51b7d\"],[0.2,\"#de77ae\"],[0.3,\"#f1b6da\"],[0.4,\"#fde0ef\"],[0.5,\"#f7f7f7\"],[0.6,\"#e6f5d0\"],[0.7,\"#b8e186\"],[0.8,\"#7fbc41\"],[0.9,\"#4d9221\"],[1,\"#276419\"]],\"sequential\":[[0.0,\"#0d0887\"],[0.1111111111111111,\"#46039f\"],[0.2222222222222222,\"#7201a8\"],[0.3333333333333333,\"#9c179e\"],[0.4444444444444444,\"#bd3786\"],[0.5555555555555556,\"#d8576b\"],[0.6666666666666666,\"#ed7953\"],[0.7777777777777778,\"#fb9f3a\"],[0.8888888888888888,\"#fdca26\"],[1.0,\"#f0f921\"]],\"sequentialminus\":[[0.0,\"#0d0887\"],[0.1111111111111111,\"#46039f\"],[0.2222222222222222,\"#7201a8\"],[0.3333333333333333,\"#9c179e\"],[0.4444444444444444,\"#bd3786\"],[0.5555555555555556,\"#d8576b\"],[0.6666666666666666,\"#ed7953\"],[0.7777777777777778,\"#fb9f3a\"],[0.8888888888888888,\"#fdca26\"],[1.0,\"#f0f921\"]]},\"colorway\":[\"#636efa\",\"#EF553B\",\"#00cc96\",\"#ab63fa\",\"#FFA15A\",\"#19d3f3\",\"#FF6692\",\"#B6E880\",\"#FF97FF\",\"#FECB52\"],\"font\":{\"color\":\"#2a3f5f\"},\"geo\":{\"bgcolor\":\"white\",\"lakecolor\":\"white\",\"landcolor\":\"#E5ECF6\",\"showlakes\":true,\"showland\":true,\"subunitcolor\":\"white\"},\"hoverlabel\":{\"align\":\"left\"},\"hovermode\":\"closest\",\"mapbox\":{\"style\":\"light\"},\"paper_bgcolor\":\"white\",\"plot_bgcolor\":\"#E5ECF6\",\"polar\":{\"angularaxis\":{\"gridcolor\":\"white\",\"linecolor\":\"white\",\"ticks\":\"\"},\"bgcolor\":\"#E5ECF6\",\"radialaxis\":{\"gridcolor\":\"white\",\"linecolor\":\"white\",\"ticks\":\"\"}},\"scene\":{\"xaxis\":{\"backgroundcolor\":\"#E5ECF6\",\"gridcolor\":\"white\",\"gridwidth\":2,\"linecolor\":\"white\",\"showbackground\":true,\"ticks\":\"\",\"zerolinecolor\":\"white\"},\"yaxis\":{\"backgroundcolor\":\"#E5ECF6\",\"gridcolor\":\"white\",\"gridwidth\":2,\"linecolor\":\"white\",\"showbackground\":true,\"ticks\":\"\",\"zerolinecolor\":\"white\"},\"zaxis\":{\"backgroundcolor\":\"#E5ECF6\",\"gridcolor\":\"white\",\"gridwidth\":2,\"linecolor\":\"white\",\"showbackground\":true,\"ticks\":\"\",\"zerolinecolor\":\"white\"}},\"shapedefaults\":{\"line\":{\"color\":\"#2a3f5f\"}},\"ternary\":{\"aaxis\":{\"gridcolor\":\"white\",\"linecolor\":\"white\",\"ticks\":\"\"},\"baxis\":{\"gridcolor\":\"white\",\"linecolor\":\"white\",\"ticks\":\"\"},\"bgcolor\":\"#E5ECF6\",\"caxis\":{\"gridcolor\":\"white\",\"linecolor\":\"white\",\"ticks\":\"\"}},\"title\":{\"x\":0.05},\"xaxis\":{\"automargin\":true,\"gridcolor\":\"white\",\"linecolor\":\"white\",\"ticks\":\"\",\"title\":{\"standoff\":15},\"zerolinecolor\":\"white\",\"zerolinewidth\":2},\"yaxis\":{\"automargin\":true,\"gridcolor\":\"white\",\"linecolor\":\"white\",\"ticks\":\"\",\"title\":{\"standoff\":15},\"zerolinecolor\":\"white\",\"zerolinewidth\":2}}},\"title\":{\"text\":\"Top 10 Product Sales\",\"x\":0.5},\"width\":700,\"height\":400,\"yaxis\":{\"showgrid\":false,\"ticksuffix\":\" \",\"categoryorder\":\"total ascending\"},\"xaxis\":{\"visible\":false}},                        {\"responsive\": true}                    ).then(function(){\n",
       "                            \n",
       "var gd = document.getElementById('710ebbaf-01e0-4561-a684-beb54629464b');\n",
       "var x = new MutationObserver(function (mutations, observer) {{\n",
       "        var display = window.getComputedStyle(gd).display;\n",
       "        if (!display || display === 'none') {{\n",
       "            console.log([gd, 'removed!']);\n",
       "            Plotly.purge(gd);\n",
       "            observer.disconnect();\n",
       "        }}\n",
       "}});\n",
       "\n",
       "// Listen for the removal of the full notebook cells\n",
       "var notebookContainer = gd.closest('#notebook-container');\n",
       "if (notebookContainer) {{\n",
       "    x.observe(notebookContainer, {childList: true});\n",
       "}}\n",
       "\n",
       "// Listen for the clearing of the current output cell\n",
       "var outputEl = gd.closest('.output');\n",
       "if (outputEl) {{\n",
       "    x.observe(outputEl, {childList: true});\n",
       "}}\n",
       "\n",
       "                        })                };                            </script>        </div>\n",
       "</body>\n",
       "</html>"
      ]
     },
     "metadata": {},
     "output_type": "display_data"
    }
   ],
   "source": [
    "df = train_data.groupby('family').agg({\"sales\" : \"mean\"}).reset_index().sort_values(by='sales',ascending=False)[:15]\n",
    "                                                                                        \n",
    "df['color'] = '#71c7ec'\n",
    "df['color'][2:] = '#107dac'\n",
    "\n",
    "trace= go.Bar(x=df['sales'], y=df['family'],\n",
    "               marker=dict(color= df['color']),\n",
    "               name='Family', orientation='h')\n",
    "\n",
    "fig = go.Figure(data = trace)\n",
    "fig.layout.update({'title': 'Top 10 Product Sales'})\n",
    "fig.layout.update({'width':700,'height':400})\n",
    "fig.update_yaxes(showgrid=False, ticksuffix=' ', categoryorder='total ascending')\n",
    "fig.update_xaxes(visible=False)\n",
    "fig.update_layout(title_x=0.5)\n",
    "fig.show()"
   ]
  },
  {
   "cell_type": "markdown",
   "metadata": {
    "id": "khL6_sXnGQt4"
   },
   "source": [
    "`Observations` :  \n",
    "* Highest sales are made by the products like grocery and beverages."
   ]
  },
  {
   "cell_type": "markdown",
   "metadata": {
    "id": "XxaF7KeAGTR4"
   },
   "source": [
    "### 4. How many items are on promotion at diffrent stores?    "
   ]
  },
  {
   "cell_type": "code",
   "execution_count": 60,
   "metadata": {
    "colab": {
     "base_uri": "https://localhost:8080/",
     "height": 357
    },
    "executionInfo": {
     "elapsed": 1779,
     "status": "ok",
     "timestamp": 1677545130671,
     "user": {
      "displayName": "Rahul Gowda",
      "userId": "07531651890169502464"
     },
     "user_tz": -330
    },
    "id": "nAM7kQstGPLK",
    "outputId": "e16de75d-f325-4962-9eb9-f1da65eb3c6e"
   },
   "outputs": [
    {
     "data": {
      "image/png": "[encoded data removed]",
      "text/plain": [
       "<Figure size 1728x360 with 1 Axes>"
      ]
     },
     "metadata": {
      "needs_background": "light"
     },
     "output_type": "display_data"
    }
   ],
   "source": [
    "promotion_df=train_data[train_data['onpromotion'] > 0]\n",
    "\n",
    "plt.ticklabel_format(style='plain')  \n",
    "ax=promotion_df.groupby('store_nbr')['onpromotion'].count().plot(kind='bar',figsize=(24,5),color='orange')\n",
    "plt.xlabel('Store Number',fontsize=15)\n",
    "plt.title('Number of items onpromotion across different stores',fontsize=15)  \n",
    "plt.ylabel('number of items',fontsize=15)  \n",
    "\n",
    "for p in ax.patches:\n",
    "   ax.annotate('{}'.format(p.get_height()), (p.get_x()+0.1, p.get_height()+6),rotation=45,fontsize=10)\n",
    "\n",
    "plt.show()"
   ]
  },
  {
   "cell_type": "markdown",
   "metadata": {
    "id": "eCFkrIsNGZkZ"
   },
   "source": [
    "`Observations` :    \n",
    "Store number `44`, `45`, `46`, `47`, `48`, `50`  seems to have more number of items on promotion"
   ]
  },
  {
   "cell_type": "markdown",
   "metadata": {
    "id": "FqiPYbUrGbex"
   },
   "source": [
    "### 5. What are the sales accross different states and cities?"
   ]
  },
  {
   "cell_type": "code",
   "execution_count": 61,
   "metadata": {
    "colab": {
     "base_uri": "https://localhost:8080/",
     "height": 542
    },
    "executionInfo": {
     "elapsed": 41809,
     "status": "ok",
     "timestamp": 1677545172451,
     "user": {
      "displayName": "Rahul Gowda",
      "userId": "07531651890169502464"
     },
     "user_tz": -330
    },
    "id": "UPmv1k2SGYBd",
    "outputId": "862c18dd-2e39-4648-8b45-80ebe91106f6"
   },
   "outputs": [
    {
     "data": {
      "text/html": [
       "<html>\n",
       "<head><meta charset=\"utf-8\" /></head>\n",
       "<body>\n",
       "    <div>            <script src=\"https://cdnjs.cloudflare.com/ajax/libs/mathjax/2.7.5/MathJax.js?config=TeX-AMS-MML_SVG\"></script><script type=\"text/javascript\">if (window.MathJax) {MathJax.Hub.Config({SVG: {font: \"STIX-Web\"}});}</script>                <script type=\"text/javascript\">window.PlotlyConfig = {MathJaxConfig: 'local'};</script>\n",
       "        <script src=\"https://cdn.plot.ly/plotly-2.8.3.min.js\"></script>                <div id=\"6c1e83da-d921-4496-80b4-cd26f37d7049\" class=\"plotly-graph-div\" style=\"height:525px; width:100%;\"></div>            <script type=\"text/javascript\">                                    window.PLOTLYENV=window.PLOTLYENV || {};                                    if (document.getElementById(\"6c1e83da-d921-4496-80b4-cd26f37d7049\")) {                    Plotly.newPlot(                        \"6c1e83da-d921-4496-80b4-cd26f37d7049\",                        [{\"branchvalues\":\"total\",\"customdata\":[[2991.6474609375],[2512.298828125],[4161.70166015625],[2670.122802734375],[2275.6220703125],[1955.295654296875],[2551.414306640625],[2107.223388671875],[2635.665771484375],[1639.4630126953125],[1705.6824951171875],[2267.639892578125],[2414.99755859375],[2480.3759765625],[2435.844482421875],[1727.8272705078125],[1436.248291015625],[1877.230224609375],[4977.9912109375],[1633.0865478515625],[1749.748779296875],[1987.1541748046875],[2670.122802734375],[2107.223388671875],[1633.0865478515625],[1705.6824951171875],[2480.3759765625],[2551.414306640625],[2517.54541015625],[1639.4630126953125],[2414.99755859375],[2230.487548828125],[2223.8291015625],[1436.248291015625],[4938.5078125],[1749.748779296875],[1987.1541748046875],[2991.6474609375]],\"domain\":{\"x\":[0.0,1.0],\"y\":[0.0,1.0]},\"hovertemplate\":\"labels=%{label}<br>sales_sum=%{value}<br>parent=%{parent}<br>id=%{id}<br>sales=%{color}<extra></extra>\",\"ids\":[\"Tungurahua/Ambato\",\"Los Rios/Babahoyo\",\"Pichincha/Cayambe\",\"Azuay/Cuenca\",\"Guayas/Daule\",\"Manabi/El Carmen\",\"Esmeraldas/Esmeraldas\",\"Bolivar/Guaranda\",\"Guayas/Guayaquil\",\"Imbabura/Ibarra\",\"Cotopaxi/Latacunga\",\"Guayas/Libertad\",\"Loja/Loja\",\"El Oro/Machala\",\"Manabi/Manta\",\"Guayas/Playas\",\"Pastaza/Puyo\",\"Los Rios/Quevedo\",\"Pichincha/Quito\",\"Chimborazo/Riobamba\",\"Santa Elena/Salinas\",\"Santo Domingo de los Tsachilas/Santo Domingo\",\"Azuay\",\"Bolivar\",\"Chimborazo\",\"Cotopaxi\",\"El Oro\",\"Esmeraldas\",\"Guayas\",\"Imbabura\",\"Loja\",\"Los Rios\",\"Manabi\",\"Pastaza\",\"Pichincha\",\"Santa Elena\",\"Santo Domingo de los Tsachilas\",\"Tungurahua\"],\"labels\":[\"Ambato\",\"Babahoyo\",\"Cayambe\",\"Cuenca\",\"Daule\",\"El Carmen\",\"Esmeraldas\",\"Guaranda\",\"Guayaquil\",\"Ibarra\",\"Latacunga\",\"Libertad\",\"Loja\",\"Machala\",\"Manta\",\"Playas\",\"Puyo\",\"Quevedo\",\"Quito\",\"Riobamba\",\"Salinas\",\"Santo Domingo\",\"Azuay\",\"Bolivar\",\"Chimborazo\",\"Cotopaxi\",\"El Oro\",\"Esmeraldas\",\"Guayas\",\"Imbabura\",\"Loja\",\"Los Rios\",\"Manabi\",\"Pastaza\",\"Pichincha\",\"Santa Elena\",\"Santo Domingo de los Tsachilas\",\"Tungurahua\"],\"marker\":{\"coloraxis\":\"coloraxis\",\"colors\":[2991.6474609375,2512.298828125,4161.70166015625,2670.122802734375,2275.6220703125,1955.295654296875,2551.414306640625,2107.223388671875,2635.665771484375,1639.4630126953125,1705.6824951171875,2267.639892578125,2414.99755859375,2480.3759765625,2435.844482421875,1727.8272705078125,1436.248291015625,1877.230224609375,4977.9912109375,1633.0865478515625,1749.748779296875,1987.1541748046875,2670.122802734375,2107.223388671875,1633.0865478515625,1705.6824951171875,2480.3759765625,2551.414306640625,2517.54541015625,1639.4630126953125,2414.99755859375,2230.487548828125,2223.8291015625,1436.248291015625,4938.5078125,1749.748779296875,1987.1541748046875,2991.6474609375]},\"name\":\"\",\"parents\":[\"Tungurahua\",\"Los Rios\",\"Pichincha\",\"Azuay\",\"Guayas\",\"Manabi\",\"Esmeraldas\",\"Bolivar\",\"Guayas\",\"Imbabura\",\"Cotopaxi\",\"Guayas\",\"Loja\",\"El Oro\",\"Manabi\",\"Guayas\",\"Pastaza\",\"Los Rios\",\"Pichincha\",\"Chimborazo\",\"Santa Elena\",\"Santo Domingo de los Tsachilas\",\"\",\"\",\"\",\"\",\"\",\"\",\"\",\"\",\"\",\"\",\"\",\"\",\"\",\"\",\"\",\"\"],\"values\":[41159772.0,18140256.0,28906534.0,50194044.0,19602762.0,11311366.0,16722039.0,13312011.0,125572184.0,11666913.0,21607778.0,15655978.0,19248172.0,34094664.0,14326674.0,7822669.0,4201150.0,14471382.0,568679360.0,11610443.0,11703430.0,36617572.0,50194044.0,13312011.0,11610443.0,21607778.0,34094664.0,16722039.0,168653600.0,11666913.0,19248172.0,32611638.0,25638040.0,4201150.0,597585856.0,11703430.0,36617572.0,41159772.0],\"type\":\"sunburst\"}],                        {\"template\":{\"data\":{\"bar\":[{\"error_x\":{\"color\":\"#2a3f5f\"},\"error_y\":{\"color\":\"#2a3f5f\"},\"marker\":{\"line\":{\"color\":\"#E5ECF6\",\"width\":0.5},\"pattern\":{\"fillmode\":\"overlay\",\"size\":10,\"solidity\":0.2}},\"type\":\"bar\"}],\"barpolar\":[{\"marker\":{\"line\":{\"color\":\"#E5ECF6\",\"width\":0.5},\"pattern\":{\"fillmode\":\"overlay\",\"size\":10,\"solidity\":0.2}},\"type\":\"barpolar\"}],\"carpet\":[{\"aaxis\":{\"endlinecolor\":\"#2a3f5f\",\"gridcolor\":\"white\",\"linecolor\":\"white\",\"minorgridcolor\":\"white\",\"startlinecolor\":\"#2a3f5f\"},\"baxis\":{\"endlinecolor\":\"#2a3f5f\",\"gridcolor\":\"white\",\"linecolor\":\"white\",\"minorgridcolor\":\"white\",\"startlinecolor\":\"#2a3f5f\"},\"type\":\"carpet\"}],\"choropleth\":[{\"colorbar\":{\"outlinewidth\":0,\"ticks\":\"\"},\"type\":\"choropleth\"}],\"contour\":[{\"colorbar\":{\"outlinewidth\":0,\"ticks\":\"\"},\"colorscale\":[[0.0,\"#0d0887\"],[0.1111111111111111,\"#46039f\"],[0.2222222222222222,\"#7201a8\"],[0.3333333333333333,\"#9c179e\"],[0.4444444444444444,\"#bd3786\"],[0.5555555555555556,\"#d8576b\"],[0.6666666666666666,\"#ed7953\"],[0.7777777777777778,\"#fb9f3a\"],[0.8888888888888888,\"#fdca26\"],[1.0,\"#f0f921\"]],\"type\":\"contour\"}],\"contourcarpet\":[{\"colorbar\":{\"outlinewidth\":0,\"ticks\":\"\"},\"type\":\"contourcarpet\"}],\"heatmap\":[{\"colorbar\":{\"outlinewidth\":0,\"ticks\":\"\"},\"colorscale\":[[0.0,\"#0d0887\"],[0.1111111111111111,\"#46039f\"],[0.2222222222222222,\"#7201a8\"],[0.3333333333333333,\"#9c179e\"],[0.4444444444444444,\"#bd3786\"],[0.5555555555555556,\"#d8576b\"],[0.6666666666666666,\"#ed7953\"],[0.7777777777777778,\"#fb9f3a\"],[0.8888888888888888,\"#fdca26\"],[1.0,\"#f0f921\"]],\"type\":\"heatmap\"}],\"heatmapgl\":[{\"colorbar\":{\"outlinewidth\":0,\"ticks\":\"\"},\"colorscale\":[[0.0,\"#0d0887\"],[0.1111111111111111,\"#46039f\"],[0.2222222222222222,\"#7201a8\"],[0.3333333333333333,\"#9c179e\"],[0.4444444444444444,\"#bd3786\"],[0.5555555555555556,\"#d8576b\"],[0.6666666666666666,\"#ed7953\"],[0.7777777777777778,\"#fb9f3a\"],[0.8888888888888888,\"#fdca26\"],[1.0,\"#f0f921\"]],\"type\":\"heatmapgl\"}],\"histogram\":[{\"marker\":{\"pattern\":{\"fillmode\":\"overlay\",\"size\":10,\"solidity\":0.2}},\"type\":\"histogram\"}],\"histogram2d\":[{\"colorbar\":{\"outlinewidth\":0,\"ticks\":\"\"},\"colorscale\":[[0.0,\"#0d0887\"],[0.1111111111111111,\"#46039f\"],[0.2222222222222222,\"#7201a8\"],[0.3333333333333333,\"#9c179e\"],[0.4444444444444444,\"#bd3786\"],[0.5555555555555556,\"#d8576b\"],[0.6666666666666666,\"#ed7953\"],[0.7777777777777778,\"#fb9f3a\"],[0.8888888888888888,\"#fdca26\"],[1.0,\"#f0f921\"]],\"type\":\"histogram2d\"}],\"histogram2dcontour\":[{\"colorbar\":{\"outlinewidth\":0,\"ticks\":\"\"},\"colorscale\":[[0.0,\"#0d0887\"],[0.1111111111111111,\"#46039f\"],[0.2222222222222222,\"#7201a8\"],[0.3333333333333333,\"#9c179e\"],[0.4444444444444444,\"#bd3786\"],[0.5555555555555556,\"#d8576b\"],[0.6666666666666666,\"#ed7953\"],[0.7777777777777778,\"#fb9f3a\"],[0.8888888888888888,\"#fdca26\"],[1.0,\"#f0f921\"]],\"type\":\"histogram2dcontour\"}],\"mesh3d\":[{\"colorbar\":{\"outlinewidth\":0,\"ticks\":\"\"},\"type\":\"mesh3d\"}],\"parcoords\":[{\"line\":{\"colorbar\":{\"outlinewidth\":0,\"ticks\":\"\"}},\"type\":\"parcoords\"}],\"pie\":[{\"automargin\":true,\"type\":\"pie\"}],\"scatter\":[{\"marker\":{\"colorbar\":{\"outlinewidth\":0,\"ticks\":\"\"}},\"type\":\"scatter\"}],\"scatter3d\":[{\"line\":{\"colorbar\":{\"outlinewidth\":0,\"ticks\":\"\"}},\"marker\":{\"colorbar\":{\"outlinewidth\":0,\"ticks\":\"\"}},\"type\":\"scatter3d\"}],\"scattercarpet\":[{\"marker\":{\"colorbar\":{\"outlinewidth\":0,\"ticks\":\"\"}},\"type\":\"scattercarpet\"}],\"scattergeo\":[{\"marker\":{\"colorbar\":{\"outlinewidth\":0,\"ticks\":\"\"}},\"type\":\"scattergeo\"}],\"scattergl\":[{\"marker\":{\"colorbar\":{\"outlinewidth\":0,\"ticks\":\"\"}},\"type\":\"scattergl\"}],\"scattermapbox\":[{\"marker\":{\"colorbar\":{\"outlinewidth\":0,\"ticks\":\"\"}},\"type\":\"scattermapbox\"}],\"scatterpolar\":[{\"marker\":{\"colorbar\":{\"outlinewidth\":0,\"ticks\":\"\"}},\"type\":\"scatterpolar\"}],\"scatterpolargl\":[{\"marker\":{\"colorbar\":{\"outlinewidth\":0,\"ticks\":\"\"}},\"type\":\"scatterpolargl\"}],\"scatterternary\":[{\"marker\":{\"colorbar\":{\"outlinewidth\":0,\"ticks\":\"\"}},\"type\":\"scatterternary\"}],\"surface\":[{\"colorbar\":{\"outlinewidth\":0,\"ticks\":\"\"},\"colorscale\":[[0.0,\"#0d0887\"],[0.1111111111111111,\"#46039f\"],[0.2222222222222222,\"#7201a8\"],[0.3333333333333333,\"#9c179e\"],[0.4444444444444444,\"#bd3786\"],[0.5555555555555556,\"#d8576b\"],[0.6666666666666666,\"#ed7953\"],[0.7777777777777778,\"#fb9f3a\"],[0.8888888888888888,\"#fdca26\"],[1.0,\"#f0f921\"]],\"type\":\"surface\"}],\"table\":[{\"cells\":{\"fill\":{\"color\":\"#EBF0F8\"},\"line\":{\"color\":\"white\"}},\"header\":{\"fill\":{\"color\":\"#C8D4E3\"},\"line\":{\"color\":\"white\"}},\"type\":\"table\"}]},\"layout\":{\"annotationdefaults\":{\"arrowcolor\":\"#2a3f5f\",\"arrowhead\":0,\"arrowwidth\":1},\"autotypenumbers\":\"strict\",\"coloraxis\":{\"colorbar\":{\"outlinewidth\":0,\"ticks\":\"\"}},\"colorscale\":{\"diverging\":[[0,\"#8e0152\"],[0.1,\"#c51b7d\"],[0.2,\"#de77ae\"],[0.3,\"#f1b6da\"],[0.4,\"#fde0ef\"],[0.5,\"#f7f7f7\"],[0.6,\"#e6f5d0\"],[0.7,\"#b8e186\"],[0.8,\"#7fbc41\"],[0.9,\"#4d9221\"],[1,\"#276419\"]],\"sequential\":[[0.0,\"#0d0887\"],[0.1111111111111111,\"#46039f\"],[0.2222222222222222,\"#7201a8\"],[0.3333333333333333,\"#9c179e\"],[0.4444444444444444,\"#bd3786\"],[0.5555555555555556,\"#d8576b\"],[0.6666666666666666,\"#ed7953\"],[0.7777777777777778,\"#fb9f3a\"],[0.8888888888888888,\"#fdca26\"],[1.0,\"#f0f921\"]],\"sequentialminus\":[[0.0,\"#0d0887\"],[0.1111111111111111,\"#46039f\"],[0.2222222222222222,\"#7201a8\"],[0.3333333333333333,\"#9c179e\"],[0.4444444444444444,\"#bd3786\"],[0.5555555555555556,\"#d8576b\"],[0.6666666666666666,\"#ed7953\"],[0.7777777777777778,\"#fb9f3a\"],[0.8888888888888888,\"#fdca26\"],[1.0,\"#f0f921\"]]},\"colorway\":[\"#636efa\",\"#EF553B\",\"#00cc96\",\"#ab63fa\",\"#FFA15A\",\"#19d3f3\",\"#FF6692\",\"#B6E880\",\"#FF97FF\",\"#FECB52\"],\"font\":{\"color\":\"#2a3f5f\"},\"geo\":{\"bgcolor\":\"white\",\"lakecolor\":\"white\",\"landcolor\":\"#E5ECF6\",\"showlakes\":true,\"showland\":true,\"subunitcolor\":\"white\"},\"hoverlabel\":{\"align\":\"left\"},\"hovermode\":\"closest\",\"mapbox\":{\"style\":\"light\"},\"paper_bgcolor\":\"white\",\"plot_bgcolor\":\"#E5ECF6\",\"polar\":{\"angularaxis\":{\"gridcolor\":\"white\",\"linecolor\":\"white\",\"ticks\":\"\"},\"bgcolor\":\"#E5ECF6\",\"radialaxis\":{\"gridcolor\":\"white\",\"linecolor\":\"white\",\"ticks\":\"\"}},\"scene\":{\"xaxis\":{\"backgroundcolor\":\"#E5ECF6\",\"gridcolor\":\"white\",\"gridwidth\":2,\"linecolor\":\"white\",\"showbackground\":true,\"ticks\":\"\",\"zerolinecolor\":\"white\"},\"yaxis\":{\"backgroundcolor\":\"#E5ECF6\",\"gridcolor\":\"white\",\"gridwidth\":2,\"linecolor\":\"white\",\"showbackground\":true,\"ticks\":\"\",\"zerolinecolor\":\"white\"},\"zaxis\":{\"backgroundcolor\":\"#E5ECF6\",\"gridcolor\":\"white\",\"gridwidth\":2,\"linecolor\":\"white\",\"showbackground\":true,\"ticks\":\"\",\"zerolinecolor\":\"white\"}},\"shapedefaults\":{\"line\":{\"color\":\"#2a3f5f\"}},\"ternary\":{\"aaxis\":{\"gridcolor\":\"white\",\"linecolor\":\"white\",\"ticks\":\"\"},\"baxis\":{\"gridcolor\":\"white\",\"linecolor\":\"white\",\"ticks\":\"\"},\"bgcolor\":\"#E5ECF6\",\"caxis\":{\"gridcolor\":\"white\",\"linecolor\":\"white\",\"ticks\":\"\"}},\"title\":{\"x\":0.05},\"xaxis\":{\"automargin\":true,\"gridcolor\":\"white\",\"linecolor\":\"white\",\"ticks\":\"\",\"title\":{\"standoff\":15},\"zerolinecolor\":\"white\",\"zerolinewidth\":2},\"yaxis\":{\"automargin\":true,\"gridcolor\":\"white\",\"linecolor\":\"white\",\"ticks\":\"\",\"title\":{\"standoff\":15},\"zerolinecolor\":\"white\",\"zerolinewidth\":2}}},\"coloraxis\":{\"colorbar\":{\"title\":{\"text\":\"sales\"}},\"colorscale\":[[0.0,\"#0d0887\"],[0.1111111111111111,\"#46039f\"],[0.2222222222222222,\"#7201a8\"],[0.3333333333333333,\"#9c179e\"],[0.4444444444444444,\"#bd3786\"],[0.5555555555555556,\"#d8576b\"],[0.6666666666666666,\"#ed7953\"],[0.7777777777777778,\"#fb9f3a\"],[0.8888888888888888,\"#fdca26\"],[1.0,\"#f0f921\"]],\"cmid\":3774.006103515625},\"legend\":{\"tracegroupgap\":0},\"title\":{\"text\":\"Sales across Different States and cities\"}},                        {\"responsive\": true}                    ).then(function(){\n",
       "                            \n",
       "var gd = document.getElementById('6c1e83da-d921-4496-80b4-cd26f37d7049');\n",
       "var x = new MutationObserver(function (mutations, observer) {{\n",
       "        var display = window.getComputedStyle(gd).display;\n",
       "        if (!display || display === 'none') {{\n",
       "            console.log([gd, 'removed!']);\n",
       "            Plotly.purge(gd);\n",
       "            observer.disconnect();\n",
       "        }}\n",
       "}});\n",
       "\n",
       "// Listen for the removal of the full notebook cells\n",
       "var notebookContainer = gd.closest('#notebook-container');\n",
       "if (notebookContainer) {{\n",
       "    x.observe(notebookContainer, {childList: true});\n",
       "}}\n",
       "\n",
       "// Listen for the clearing of the current output cell\n",
       "var outputEl = gd.closest('.output');\n",
       "if (outputEl) {{\n",
       "    x.observe(outputEl, {childList: true});\n",
       "}}\n",
       "\n",
       "                        })                };                            </script>        </div>\n",
       "</body>\n",
       "</html>"
      ]
     },
     "metadata": {},
     "output_type": "display_data"
    }
   ],
   "source": [
    "import plotly.express as px\n",
    "  \n",
    "fig = px.sunburst(train_data, path=['state', 'city'], title='Sales across Different States and cities', values='sales', color='sales', color_continuous_midpoint=np.average(train_data['sales'], weights=train_data['sales']))\n",
    "fig.show()"
   ]
  },
  {
   "cell_type": "markdown",
   "metadata": {
    "id": "sKzznNJkGftR"
   },
   "source": [
    "`Observations` :    \n",
    "\n",
    "`State`| `City` | `Total Sales` | `Remark`\n",
    "--- | --- | --- | --- \n",
    "Cotopaxi | Latacung | 21,182,246 | **Lowest sales**\n",
    "Pichincha | Quito | 556,741,824 | **Highest sales**"
   ]
  },
  {
   "cell_type": "markdown",
   "metadata": {
    "id": "qV2Ef6rPGiIx"
   },
   "source": [
    "### 6. What are the trends and distributions of Oil Price and Sales?\n",
    "Ecuador is an oil-dependent country and it's economical health is highly vulnerable to shocks in oil prices.)"
   ]
  },
  {
   "cell_type": "code",
   "execution_count": 62,
   "metadata": {
    "colab": {
     "base_uri": "https://localhost:8080/",
     "height": 421
    },
    "executionInfo": {
     "elapsed": 159159,
     "status": "ok",
     "timestamp": 1677545331564,
     "user": {
      "displayName": "Rahul Gowda",
      "userId": "07531651890169502464"
     },
     "user_tz": -330
    },
    "id": "GWu-7_0JGd4u",
    "outputId": "a4ab9b0a-fa57-44d1-9ea7-7711a63bee16"
   },
   "outputs": [
    {
     "data": {
      "image/png": "[encoded data removed]",
      "text/plain": [
       "<Figure size 1296x432 with 2 Axes>"
      ]
     },
     "metadata": {
      "needs_background": "light"
     },
     "output_type": "display_data"
    }
   ],
   "source": [
    "import matplotlib.dates as mdates\n",
    "\n",
    "fig, axes = plt.subplots(1,2, figsize = (18,6))\n",
    "fig.suptitle(\"Trends for Oil Price and Sales\")\n",
    "\n",
    "chart_features = ['dcoilwtico','sales']\n",
    "years = mdates.YearLocator()   # every year,\n",
    "months = mdates.MonthLocator((1,4,7,10))  # every quarter\n",
    "yearsFmt = mdates.DateFormatter('%b-%Y')\n",
    "\n",
    "\n",
    "for i, ax in enumerate(axes):\n",
    "    sns.lineplot(data= train_data, x='date', y=chart_features[i],ax = axes[i])\n",
    "    ax.set_title(ax.get_ylabel())\n",
    "    ax.xaxis.set_major_locator(months)\n",
    "    ax.xaxis.set_major_formatter(yearsFmt)\n",
    "    ax.set_xticklabels(ax.get_xticklabels(), rotation=45, ha=\"right\", rotation_mode=\"anchor\") # need to figure out labels\n",
    "sns.despine();"
   ]
  },
  {
   "cell_type": "code",
   "execution_count": 63,
   "metadata": {
    "colab": {
     "base_uri": "https://localhost:8080/",
     "height": 431
    },
    "executionInfo": {
     "elapsed": 9182,
     "status": "ok",
     "timestamp": 1677545340738,
     "user": {
      "displayName": "Rahul Gowda",
      "userId": "07531651890169502464"
     },
     "user_tz": -330
    },
    "id": "4gLqLoNlGj69",
    "outputId": "a0d87154-c8a0-4857-962a-5ee1c23f67fe"
   },
   "outputs": [
    {
     "data": {
      "image/png": "[encoded data removed]",
      "text/plain": [
       "<Figure size 1296x432 with 2 Axes>"
      ]
     },
     "metadata": {
      "needs_background": "light"
     },
     "output_type": "display_data"
    }
   ],
   "source": [
    "fig, axes = plt.subplots(1,2, figsize = (18,6))\n",
    "fig.suptitle(\"Distribution of Oil Price, Sales\")\n",
    "\n",
    "plt.ticklabel_format(style='plain')\n",
    "\n",
    "chart_features = ['dcoilwtico','sales']\n",
    "for i, ax in enumerate(axes):\n",
    "    sns.histplot(data= train_data, x=chart_features[i], hue=\"type\", bins= 10, ax= axes[i])\n",
    "\n",
    "sns.despine();"
   ]
  },
  {
   "cell_type": "code",
   "execution_count": 64,
   "metadata": {
    "executionInfo": {
     "elapsed": 76,
     "status": "ok",
     "timestamp": 1677545340739,
     "user": {
      "displayName": "Rahul Gowda",
      "userId": "07531651890169502464"
     },
     "user_tz": -330
    },
    "id": "zbWwVWR7GlxB"
   },
   "outputs": [],
   "source": [
    "check_skew_df=train_data['sales'].copy()"
   ]
  },
  {
   "cell_type": "code",
   "execution_count": 65,
   "metadata": {
    "colab": {
     "base_uri": "https://localhost:8080/"
    },
    "executionInfo": {
     "elapsed": 75,
     "status": "ok",
     "timestamp": 1677545340739,
     "user": {
      "displayName": "Rahul Gowda",
      "userId": "07531651890169502464"
     },
     "user_tz": -330
    },
    "id": "Qmkwl_5XGoHv",
    "outputId": "01af65fa-8b63-41a9-eebc-f76ad06dec2f"
   },
   "outputs": [
    {
     "data": {
      "text/plain": [
       "7.509946"
      ]
     },
     "execution_count": 65,
     "metadata": {},
     "output_type": "execute_result"
    }
   ],
   "source": [
    "check_skew_df.skew()"
   ]
  },
  {
   "cell_type": "markdown",
   "metadata": {
    "id": "vLO0fqYTGrSN"
   },
   "source": [
    "`Observations` :     \n",
    "From the above histogram of Sales column  the distribution Highly right skewed or positively skewed data. \n",
    "No need to apply log transformation to sales column.\n",
    "Keeping the sales column as it is cause the evaluation metric is Mean Squared Logarithmic Error."
   ]
  },
  {
   "cell_type": "markdown",
   "metadata": {
    "id": "PC4BymPfGtci"
   },
   "source": [
    "### 7. What are the Transactions at each Stores ?"
   ]
  },
  {
   "cell_type": "code",
   "execution_count": 66,
   "metadata": {
    "executionInfo": {
     "elapsed": 50,
     "status": "ok",
     "timestamp": 1677545340740,
     "user": {
      "displayName": "Rahul Gowda",
      "userId": "07531651890169502464"
     },
     "user_tz": -330
    },
    "id": "qxakPcO9JGm7"
   },
   "outputs": [],
   "source": [
    "transaction_stores_df = pd.merge(transaction_data, store_data, how = 'outer', on = 'store_nbr')"
   ]
  },
  {
   "cell_type": "code",
   "execution_count": 67,
   "metadata": {
    "colab": {
     "base_uri": "https://localhost:8080/",
     "height": 363
    },
    "executionInfo": {
     "elapsed": 49,
     "status": "ok",
     "timestamp": 1677545340740,
     "user": {
      "displayName": "Rahul Gowda",
      "userId": "07531651890169502464"
     },
     "user_tz": -330
    },
    "id": "HzpMj6KpJIdK",
    "outputId": "4d6d15b7-2b6f-47b3-c0bb-25bb9c0ead14"
   },
   "outputs": [
    {
     "data": {
      "text/html": [
       "\n",
       "  <div id=\"df-b7096590-4345-43e0-8708-0aba5798b2d7\">\n",
       "    <div class=\"colab-df-container\">\n",
       "      <div>\n",
       "<style scoped>\n",
       "    .dataframe tbody tr th:only-of-type {\n",
       "        vertical-align: middle;\n",
       "    }\n",
       "\n",
       "    .dataframe tbody tr th {\n",
       "        vertical-align: top;\n",
       "    }\n",
       "\n",
       "    .dataframe thead th {\n",
       "        text-align: right;\n",
       "    }\n",
       "</style>\n",
       "<table border=\"1\" class=\"dataframe\">\n",
       "  <thead>\n",
       "    <tr style=\"text-align: right;\">\n",
       "      <th></th>\n",
       "      <th>date</th>\n",
       "      <th>store_nbr</th>\n",
       "      <th>transactions</th>\n",
       "      <th>city</th>\n",
       "      <th>state</th>\n",
       "      <th>type</th>\n",
       "      <th>cluster</th>\n",
       "    </tr>\n",
       "  </thead>\n",
       "  <tbody>\n",
       "    <tr>\n",
       "      <th>61301</th>\n",
       "      <td>2016-09-07</td>\n",
       "      <td>43</td>\n",
       "      <td>5</td>\n",
       "      <td>Esmeraldas</td>\n",
       "      <td>Esmeraldas</td>\n",
       "      <td>E</td>\n",
       "      <td>10</td>\n",
       "    </tr>\n",
       "    <tr>\n",
       "      <th>4380</th>\n",
       "      <td>2016-01-02</td>\n",
       "      <td>2</td>\n",
       "      <td>6</td>\n",
       "      <td>Quito</td>\n",
       "      <td>Pichincha</td>\n",
       "      <td>D</td>\n",
       "      <td>13</td>\n",
       "    </tr>\n",
       "    <tr>\n",
       "      <th>2703</th>\n",
       "      <td>2016-01-04</td>\n",
       "      <td>1</td>\n",
       "      <td>10</td>\n",
       "      <td>Quito</td>\n",
       "      <td>Pichincha</td>\n",
       "      <td>D</td>\n",
       "      <td>13</td>\n",
       "    </tr>\n",
       "    <tr>\n",
       "      <th>78964</th>\n",
       "      <td>2016-04-17</td>\n",
       "      <td>53</td>\n",
       "      <td>33</td>\n",
       "      <td>Manta</td>\n",
       "      <td>Manabi</td>\n",
       "      <td>D</td>\n",
       "      <td>13</td>\n",
       "    </tr>\n",
       "    <tr>\n",
       "      <th>78965</th>\n",
       "      <td>2016-04-18</td>\n",
       "      <td>53</td>\n",
       "      <td>54</td>\n",
       "      <td>Manta</td>\n",
       "      <td>Manabi</td>\n",
       "      <td>D</td>\n",
       "      <td>13</td>\n",
       "    </tr>\n",
       "    <tr>\n",
       "      <th>43014</th>\n",
       "      <td>2017-02-20</td>\n",
       "      <td>30</td>\n",
       "      <td>97</td>\n",
       "      <td>Guayaquil</td>\n",
       "      <td>Guayas</td>\n",
       "      <td>C</td>\n",
       "      <td>3</td>\n",
       "    </tr>\n",
       "    <tr>\n",
       "      <th>76277</th>\n",
       "      <td>2016-05-18</td>\n",
       "      <td>54</td>\n",
       "      <td>179</td>\n",
       "      <td>El Carmen</td>\n",
       "      <td>Manabi</td>\n",
       "      <td>C</td>\n",
       "      <td>3</td>\n",
       "    </tr>\n",
       "    <tr>\n",
       "      <th>42066</th>\n",
       "      <td>2014-07-11</td>\n",
       "      <td>30</td>\n",
       "      <td>203</td>\n",
       "      <td>Guayaquil</td>\n",
       "      <td>Guayas</td>\n",
       "      <td>C</td>\n",
       "      <td>3</td>\n",
       "    </tr>\n",
       "    <tr>\n",
       "      <th>27881</th>\n",
       "      <td>2016-05-18</td>\n",
       "      <td>16</td>\n",
       "      <td>238</td>\n",
       "      <td>Santo Domingo</td>\n",
       "      <td>Santo Domingo de los Tsachilas</td>\n",
       "      <td>C</td>\n",
       "      <td>3</td>\n",
       "    </tr>\n",
       "    <tr>\n",
       "      <th>64857</th>\n",
       "      <td>2017-04-03</td>\n",
       "      <td>45</td>\n",
       "      <td>292</td>\n",
       "      <td>Quito</td>\n",
       "      <td>Pichincha</td>\n",
       "      <td>A</td>\n",
       "      <td>11</td>\n",
       "    </tr>\n",
       "  </tbody>\n",
       "</table>\n",
       "</div>\n",
       "      <button class=\"colab-df-convert\" onclick=\"convertToInteractive('df-b7096590-4345-43e0-8708-0aba5798b2d7')\"\n",
       "              title=\"Convert this dataframe to an interactive table.\"\n",
       "              style=\"display:none;\">\n",
       "        \n",
       "  <svg xmlns=\"http://www.w3.org/2000/svg\" height=\"24px\"viewBox=\"0 0 24 24\"\n",
       "       width=\"24px\">\n",
       "    <path d=\"M0 0h24v24H0V0z\" fill=\"none\"/>\n",
       "    <path d=\"M18.56 5.44l.94 2.06.94-2.06 2.06-.94-2.06-.94-.94-2.06-.94 2.06-2.06.94zm-11 1L8.5 8.5l.94-2.06 2.06-.94-2.06-.94L8.5 2.5l-.94 2.06-2.06.94zm10 10l.94 2.06.94-2.06 2.06-.94-2.06-.94-.94-2.06-.94 2.06-2.06.94z\"/><path d=\"M17.41 7.96l-1.37-1.37c-.4-.4-.92-.59-1.43-.59-.52 0-1.04.2-1.43.59L10.3 9.45l-7.72 7.72c-.78.78-.78 2.05 0 2.83L4 21.41c.39.39.9.59 1.41.59.51 0 1.02-.2 1.41-.59l7.78-7.78 2.81-2.81c.8-.78.8-2.07 0-2.86zM5.41 20L4 18.59l7.72-7.72 1.47 1.35L5.41 20z\"/>\n",
       "  </svg>\n",
       "      </button>\n",
       "      \n",
       "  <style>\n",
       "    .colab-df-container {\n",
       "      display:flex;\n",
       "      flex-wrap:wrap;\n",
       "      gap: 12px;\n",
       "    }\n",
       "\n",
       "    .colab-df-convert {\n",
       "      background-color: #E8F0FE;\n",
       "      border: none;\n",
       "      border-radius: 50%;\n",
       "      cursor: pointer;\n",
       "      display: none;\n",
       "      fill: #1967D2;\n",
       "      height: 32px;\n",
       "      padding: 0 0 0 0;\n",
       "      width: 32px;\n",
       "    }\n",
       "\n",
       "    .colab-df-convert:hover {\n",
       "      background-color: #E2EBFA;\n",
       "      box-shadow: 0px 1px 2px rgba(60, 64, 67, 0.3), 0px 1px 3px 1px rgba(60, 64, 67, 0.15);\n",
       "      fill: #174EA6;\n",
       "    }\n",
       "\n",
       "    [theme=dark] .colab-df-convert {\n",
       "      background-color: #3B4455;\n",
       "      fill: #D2E3FC;\n",
       "    }\n",
       "\n",
       "    [theme=dark] .colab-df-convert:hover {\n",
       "      background-color: #434B5C;\n",
       "      box-shadow: 0px 1px 3px 1px rgba(0, 0, 0, 0.15);\n",
       "      filter: drop-shadow(0px 1px 2px rgba(0, 0, 0, 0.3));\n",
       "      fill: #FFFFFF;\n",
       "    }\n",
       "  </style>\n",
       "\n",
       "      <script>\n",
       "        const buttonEl =\n",
       "          document.querySelector('#df-b7096590-4345-43e0-8708-0aba5798b2d7 button.colab-df-convert');\n",
       "        buttonEl.style.display =\n",
       "          google.colab.kernel.accessAllowed ? 'block' : 'none';\n",
       "\n",
       "        async function convertToInteractive(key) {\n",
       "          const element = document.querySelector('#df-b7096590-4345-43e0-8708-0aba5798b2d7');\n",
       "          const dataTable =\n",
       "            await google.colab.kernel.invokeFunction('convertToInteractive',\n",
       "                                                     [key], {});\n",
       "          if (!dataTable) return;\n",
       "\n",
       "          const docLinkHtml = 'Like what you see? Visit the ' +\n",
       "            '<a target=\"_blank\" href=https://colab.research.google.com/notebooks/data_table.ipynb>data table notebook</a>'\n",
       "            + ' to learn more about interactive tables.';\n",
       "          element.innerHTML = '';\n",
       "          dataTable['output_type'] = 'display_data';\n",
       "          await google.colab.output.renderOutput(dataTable, element);\n",
       "          const docLink = document.createElement('div');\n",
       "          docLink.innerHTML = docLinkHtml;\n",
       "          element.appendChild(docLink);\n",
       "        }\n",
       "      </script>\n",
       "    </div>\n",
       "  </div>\n",
       "  "
      ],
      "text/plain": [
       "            date  store_nbr  transactions           city  \\\n",
       "61301 2016-09-07         43             5     Esmeraldas   \n",
       "4380  2016-01-02          2             6          Quito   \n",
       "2703  2016-01-04          1            10          Quito   \n",
       "78964 2016-04-17         53            33          Manta   \n",
       "78965 2016-04-18         53            54          Manta   \n",
       "43014 2017-02-20         30            97      Guayaquil   \n",
       "76277 2016-05-18         54           179      El Carmen   \n",
       "42066 2014-07-11         30           203      Guayaquil   \n",
       "27881 2016-05-18         16           238  Santo Domingo   \n",
       "64857 2017-04-03         45           292          Quito   \n",
       "\n",
       "                                state type  cluster  \n",
       "61301                      Esmeraldas    E       10  \n",
       "4380                        Pichincha    D       13  \n",
       "2703                        Pichincha    D       13  \n",
       "78964                          Manabi    D       13  \n",
       "78965                          Manabi    D       13  \n",
       "43014                          Guayas    C        3  \n",
       "76277                          Manabi    C        3  \n",
       "42066                          Guayas    C        3  \n",
       "27881  Santo Domingo de los Tsachilas    C        3  \n",
       "64857                       Pichincha    A       11  "
      ]
     },
     "execution_count": 67,
     "metadata": {},
     "output_type": "execute_result"
    }
   ],
   "source": [
    "transaction_stores_df.sort_values('transactions', ascending = True, inplace=True)\n",
    "transaction_stores_df.head(10)"
   ]
  },
  {
   "cell_type": "code",
   "execution_count": 68,
   "metadata": {
    "colab": {
     "base_uri": "https://localhost:8080/",
     "height": 542,
     "output_embedded_package_id": "1yDCl5X5qXgodyu_xu0t_OVE_yQ7GzqQR"
    },
    "executionInfo": {
     "elapsed": 2686,
     "status": "ok",
     "timestamp": 1677545343378,
     "user": {
      "displayName": "Rahul Gowda",
      "userId": "07531651890169502464"
     },
     "user_tz": -330
    },
    "id": "61it8iulGp1b",
    "outputId": "349e82a0-b6b7-4a56-d862-430463d533ba"
   },
   "outputs": [
    {
     "data": {
      "text/plain": [
       "Output hidden; open in https://colab.research.google.com to view."
      ]
     },
     "metadata": {},
     "output_type": "display_data"
    }
   ],
   "source": [
    "fig = px.pie( transaction_stores_df,\n",
    "                  values = transaction_stores_df['transactions'],\n",
    "                  names = transaction_stores_df['cluster'],\n",
    "                  color = transaction_stores_df['city'],\n",
    "                  color_discrete_sequence=px.colors.sequential.Plasma_r\n",
    "                  )\n",
    "fig.update_layout( yaxis_title = 'Sum of Transaction',\n",
    "                  xaxis_title = 'City',\n",
    "                  title = 'Total store transactions per City classified as per types'              \n",
    "                  )\n",
    "fig.update_xaxes(dtick=1)\n",
    "fig.show()"
   ]
  },
  {
   "cell_type": "markdown",
   "metadata": {
    "id": "QutRmDvcGzLD"
   },
   "source": [
    "`Observation` :     \n",
    "* As can be seen from this pie chart, highest transaction is done by stores belonging to cluster 6 in Santo Domangio, followed by stores in same city but belonging to cluster 8 Quito. Least transactions is done by stores in city Rhiobamba belonging to cluster 16 Quito."
   ]
  },
  {
   "cell_type": "markdown",
   "metadata": {
    "id": "WHAUPtGGG0qT"
   },
   "source": [
    "### 8. What are the average Sales Distribution across diffrent stores?"
   ]
  },
  {
   "cell_type": "code",
   "execution_count": 69,
   "metadata": {
    "colab": {
     "base_uri": "https://localhost:8080/",
     "height": 717
    },
    "executionInfo": {
     "elapsed": 1057,
     "status": "ok",
     "timestamp": 1677545344392,
     "user": {
      "displayName": "Rahul Gowda",
      "userId": "07531651890169502464"
     },
     "user_tz": -330
    },
    "id": "c4WXOlswGxx5",
    "outputId": "ff327d01-bb91-4f9f-e395-93d04f07949a"
   },
   "outputs": [
    {
     "data": {
      "text/html": [
       "<html>\n",
       "<head><meta charset=\"utf-8\" /></head>\n",
       "<body>\n",
       "    <div>            <script src=\"https://cdnjs.cloudflare.com/ajax/libs/mathjax/2.7.5/MathJax.js?config=TeX-AMS-MML_SVG\"></script><script type=\"text/javascript\">if (window.MathJax) {MathJax.Hub.Config({SVG: {font: \"STIX-Web\"}});}</script>                <script type=\"text/javascript\">window.PlotlyConfig = {MathJaxConfig: 'local'};</script>\n",
       "        <script src=\"https://cdn.plot.ly/plotly-2.8.3.min.js\"></script>                <div id=\"0ec710b2-a49a-414c-af7e-e76568b5538e\" class=\"plotly-graph-div\" style=\"height:700px; width:1000px;\"></div>            <script type=\"text/javascript\">                                    window.PLOTLYENV=window.PLOTLYENV || {};                                    if (document.getElementById(\"0ec710b2-a49a-414c-af7e-e76568b5538e\")) {                    Plotly.newPlot(                        \"0ec710b2-a49a-414c-af7e-e76568b5538e\",                        [{\"alignmentgroup\":\"True\",\"boxpoints\":\"all\",\"hovertemplate\":\"store_type=A<br>sales=%{y}<extra></extra>\",\"legendgroup\":\"A\",\"marker\":{\"color\":\"#636efa\"},\"name\":\"A\",\"notched\":false,\"offsetgroup\":\"A\",\"orientation\":\"v\",\"showlegend\":true,\"x0\":\" \",\"xaxis\":\"x\",\"y\":[434.2176513671875,945.6207275390625,668.5615844726562,851.3489379882812,718.4843139648438],\"y0\":\" \",\"yaxis\":\"y\",\"type\":\"box\"},{\"alignmentgroup\":\"True\",\"boxpoints\":\"all\",\"hovertemplate\":\"store_type=B<br>sales=%{y}<extra></extra>\",\"legendgroup\":\"B\",\"marker\":{\"color\":\"#EF553B\"},\"name\":\"B\",\"notched\":false,\"offsetgroup\":\"B\",\"orientation\":\"v\",\"showlegend\":true,\"x0\":\" \",\"xaxis\":\"x2\",\"y\":[192.10894775390625,457.9324951171875,263.7685241699219,422.2876281738281,347.649169921875],\"y0\":\" \",\"yaxis\":\"y2\",\"type\":\"box\"},{\"alignmentgroup\":\"True\",\"boxpoints\":\"all\",\"hovertemplate\":\"store_type=C<br>sales=%{y}<extra></extra>\",\"legendgroup\":\"C\",\"marker\":{\"color\":\"#00cc96\"},\"name\":\"C\",\"notched\":false,\"offsetgroup\":\"C\",\"orientation\":\"v\",\"showlegend\":true,\"x0\":\" \",\"xaxis\":\"x3\",\"y\":[253.18499755859375,239.6243896484375,204.3817138671875,179.00057983398438,130.0264434814453],\"y0\":\" \",\"yaxis\":\"y3\",\"type\":\"box\"},{\"alignmentgroup\":\"True\",\"boxpoints\":\"all\",\"hovertemplate\":\"store_type=D<br>sales=%{y}<extra></extra>\",\"legendgroup\":\"D\",\"marker\":{\"color\":\"#ab63fa\"},\"name\":\"D\",\"notched\":false,\"offsetgroup\":\"D\",\"orientation\":\"v\",\"showlegend\":true,\"x0\":\" \",\"xaxis\":\"x4\",\"y\":[361.0540771484375,320.824462890625,441.8992919921875,211.30352783203125,459.1457824707031],\"y0\":\" \",\"yaxis\":\"y4\",\"type\":\"box\"},{\"alignmentgroup\":\"True\",\"boxpoints\":\"all\",\"hovertemplate\":\"store_type=E<br>sales=%{y}<extra></extra>\",\"legendgroup\":\"E\",\"marker\":{\"color\":\"#FFA15A\"},\"name\":\"E\",\"notched\":false,\"offsetgroup\":\"E\",\"orientation\":\"v\",\"showlegend\":true,\"x0\":\" \",\"xaxis\":\"x5\",\"y\":[303.1971740722656,202.92588806152344,365.09747314453125,117.82268524169922,409.0313415527344],\"y0\":\" \",\"yaxis\":\"y5\",\"type\":\"box\"}],                        {\"template\":{\"data\":{\"bar\":[{\"error_x\":{\"color\":\"#2a3f5f\"},\"error_y\":{\"color\":\"#2a3f5f\"},\"marker\":{\"line\":{\"color\":\"#E5ECF6\",\"width\":0.5},\"pattern\":{\"fillmode\":\"overlay\",\"size\":10,\"solidity\":0.2}},\"type\":\"bar\"}],\"barpolar\":[{\"marker\":{\"line\":{\"color\":\"#E5ECF6\",\"width\":0.5},\"pattern\":{\"fillmode\":\"overlay\",\"size\":10,\"solidity\":0.2}},\"type\":\"barpolar\"}],\"carpet\":[{\"aaxis\":{\"endlinecolor\":\"#2a3f5f\",\"gridcolor\":\"white\",\"linecolor\":\"white\",\"minorgridcolor\":\"white\",\"startlinecolor\":\"#2a3f5f\"},\"baxis\":{\"endlinecolor\":\"#2a3f5f\",\"gridcolor\":\"white\",\"linecolor\":\"white\",\"minorgridcolor\":\"white\",\"startlinecolor\":\"#2a3f5f\"},\"type\":\"carpet\"}],\"choropleth\":[{\"colorbar\":{\"outlinewidth\":0,\"ticks\":\"\"},\"type\":\"choropleth\"}],\"contour\":[{\"colorbar\":{\"outlinewidth\":0,\"ticks\":\"\"},\"colorscale\":[[0.0,\"#0d0887\"],[0.1111111111111111,\"#46039f\"],[0.2222222222222222,\"#7201a8\"],[0.3333333333333333,\"#9c179e\"],[0.4444444444444444,\"#bd3786\"],[0.5555555555555556,\"#d8576b\"],[0.6666666666666666,\"#ed7953\"],[0.7777777777777778,\"#fb9f3a\"],[0.8888888888888888,\"#fdca26\"],[1.0,\"#f0f921\"]],\"type\":\"contour\"}],\"contourcarpet\":[{\"colorbar\":{\"outlinewidth\":0,\"ticks\":\"\"},\"type\":\"contourcarpet\"}],\"heatmap\":[{\"colorbar\":{\"outlinewidth\":0,\"ticks\":\"\"},\"colorscale\":[[0.0,\"#0d0887\"],[0.1111111111111111,\"#46039f\"],[0.2222222222222222,\"#7201a8\"],[0.3333333333333333,\"#9c179e\"],[0.4444444444444444,\"#bd3786\"],[0.5555555555555556,\"#d8576b\"],[0.6666666666666666,\"#ed7953\"],[0.7777777777777778,\"#fb9f3a\"],[0.8888888888888888,\"#fdca26\"],[1.0,\"#f0f921\"]],\"type\":\"heatmap\"}],\"heatmapgl\":[{\"colorbar\":{\"outlinewidth\":0,\"ticks\":\"\"},\"colorscale\":[[0.0,\"#0d0887\"],[0.1111111111111111,\"#46039f\"],[0.2222222222222222,\"#7201a8\"],[0.3333333333333333,\"#9c179e\"],[0.4444444444444444,\"#bd3786\"],[0.5555555555555556,\"#d8576b\"],[0.6666666666666666,\"#ed7953\"],[0.7777777777777778,\"#fb9f3a\"],[0.8888888888888888,\"#fdca26\"],[1.0,\"#f0f921\"]],\"type\":\"heatmapgl\"}],\"histogram\":[{\"marker\":{\"pattern\":{\"fillmode\":\"overlay\",\"size\":10,\"solidity\":0.2}},\"type\":\"histogram\"}],\"histogram2d\":[{\"colorbar\":{\"outlinewidth\":0,\"ticks\":\"\"},\"colorscale\":[[0.0,\"#0d0887\"],[0.1111111111111111,\"#46039f\"],[0.2222222222222222,\"#7201a8\"],[0.3333333333333333,\"#9c179e\"],[0.4444444444444444,\"#bd3786\"],[0.5555555555555556,\"#d8576b\"],[0.6666666666666666,\"#ed7953\"],[0.7777777777777778,\"#fb9f3a\"],[0.8888888888888888,\"#fdca26\"],[1.0,\"#f0f921\"]],\"type\":\"histogram2d\"}],\"histogram2dcontour\":[{\"colorbar\":{\"outlinewidth\":0,\"ticks\":\"\"},\"colorscale\":[[0.0,\"#0d0887\"],[0.1111111111111111,\"#46039f\"],[0.2222222222222222,\"#7201a8\"],[0.3333333333333333,\"#9c179e\"],[0.4444444444444444,\"#bd3786\"],[0.5555555555555556,\"#d8576b\"],[0.6666666666666666,\"#ed7953\"],[0.7777777777777778,\"#fb9f3a\"],[0.8888888888888888,\"#fdca26\"],[1.0,\"#f0f921\"]],\"type\":\"histogram2dcontour\"}],\"mesh3d\":[{\"colorbar\":{\"outlinewidth\":0,\"ticks\":\"\"},\"type\":\"mesh3d\"}],\"parcoords\":[{\"line\":{\"colorbar\":{\"outlinewidth\":0,\"ticks\":\"\"}},\"type\":\"parcoords\"}],\"pie\":[{\"automargin\":true,\"type\":\"pie\"}],\"scatter\":[{\"marker\":{\"colorbar\":{\"outlinewidth\":0,\"ticks\":\"\"}},\"type\":\"scatter\"}],\"scatter3d\":[{\"line\":{\"colorbar\":{\"outlinewidth\":0,\"ticks\":\"\"}},\"marker\":{\"colorbar\":{\"outlinewidth\":0,\"ticks\":\"\"}},\"type\":\"scatter3d\"}],\"scattercarpet\":[{\"marker\":{\"colorbar\":{\"outlinewidth\":0,\"ticks\":\"\"}},\"type\":\"scattercarpet\"}],\"scattergeo\":[{\"marker\":{\"colorbar\":{\"outlinewidth\":0,\"ticks\":\"\"}},\"type\":\"scattergeo\"}],\"scattergl\":[{\"marker\":{\"colorbar\":{\"outlinewidth\":0,\"ticks\":\"\"}},\"type\":\"scattergl\"}],\"scattermapbox\":[{\"marker\":{\"colorbar\":{\"outlinewidth\":0,\"ticks\":\"\"}},\"type\":\"scattermapbox\"}],\"scatterpolar\":[{\"marker\":{\"colorbar\":{\"outlinewidth\":0,\"ticks\":\"\"}},\"type\":\"scatterpolar\"}],\"scatterpolargl\":[{\"marker\":{\"colorbar\":{\"outlinewidth\":0,\"ticks\":\"\"}},\"type\":\"scatterpolargl\"}],\"scatterternary\":[{\"marker\":{\"colorbar\":{\"outlinewidth\":0,\"ticks\":\"\"}},\"type\":\"scatterternary\"}],\"surface\":[{\"colorbar\":{\"outlinewidth\":0,\"ticks\":\"\"},\"colorscale\":[[0.0,\"#0d0887\"],[0.1111111111111111,\"#46039f\"],[0.2222222222222222,\"#7201a8\"],[0.3333333333333333,\"#9c179e\"],[0.4444444444444444,\"#bd3786\"],[0.5555555555555556,\"#d8576b\"],[0.6666666666666666,\"#ed7953\"],[0.7777777777777778,\"#fb9f3a\"],[0.8888888888888888,\"#fdca26\"],[1.0,\"#f0f921\"]],\"type\":\"surface\"}],\"table\":[{\"cells\":{\"fill\":{\"color\":\"#EBF0F8\"},\"line\":{\"color\":\"white\"}},\"header\":{\"fill\":{\"color\":\"#C8D4E3\"},\"line\":{\"color\":\"white\"}},\"type\":\"table\"}]},\"layout\":{\"annotationdefaults\":{\"arrowcolor\":\"#2a3f5f\",\"arrowhead\":0,\"arrowwidth\":1},\"autotypenumbers\":\"strict\",\"coloraxis\":{\"colorbar\":{\"outlinewidth\":0,\"ticks\":\"\"}},\"colorscale\":{\"diverging\":[[0,\"#8e0152\"],[0.1,\"#c51b7d\"],[0.2,\"#de77ae\"],[0.3,\"#f1b6da\"],[0.4,\"#fde0ef\"],[0.5,\"#f7f7f7\"],[0.6,\"#e6f5d0\"],[0.7,\"#b8e186\"],[0.8,\"#7fbc41\"],[0.9,\"#4d9221\"],[1,\"#276419\"]],\"sequential\":[[0.0,\"#0d0887\"],[0.1111111111111111,\"#46039f\"],[0.2222222222222222,\"#7201a8\"],[0.3333333333333333,\"#9c179e\"],[0.4444444444444444,\"#bd3786\"],[0.5555555555555556,\"#d8576b\"],[0.6666666666666666,\"#ed7953\"],[0.7777777777777778,\"#fb9f3a\"],[0.8888888888888888,\"#fdca26\"],[1.0,\"#f0f921\"]],\"sequentialminus\":[[0.0,\"#0d0887\"],[0.1111111111111111,\"#46039f\"],[0.2222222222222222,\"#7201a8\"],[0.3333333333333333,\"#9c179e\"],[0.4444444444444444,\"#bd3786\"],[0.5555555555555556,\"#d8576b\"],[0.6666666666666666,\"#ed7953\"],[0.7777777777777778,\"#fb9f3a\"],[0.8888888888888888,\"#fdca26\"],[1.0,\"#f0f921\"]]},\"colorway\":[\"#636efa\",\"#EF553B\",\"#00cc96\",\"#ab63fa\",\"#FFA15A\",\"#19d3f3\",\"#FF6692\",\"#B6E880\",\"#FF97FF\",\"#FECB52\"],\"font\":{\"color\":\"#2a3f5f\"},\"geo\":{\"bgcolor\":\"white\",\"lakecolor\":\"white\",\"landcolor\":\"#E5ECF6\",\"showlakes\":true,\"showland\":true,\"subunitcolor\":\"white\"},\"hoverlabel\":{\"align\":\"left\"},\"hovermode\":\"closest\",\"mapbox\":{\"style\":\"light\"},\"paper_bgcolor\":\"white\",\"plot_bgcolor\":\"#E5ECF6\",\"polar\":{\"angularaxis\":{\"gridcolor\":\"white\",\"linecolor\":\"white\",\"ticks\":\"\"},\"bgcolor\":\"#E5ECF6\",\"radialaxis\":{\"gridcolor\":\"white\",\"linecolor\":\"white\",\"ticks\":\"\"}},\"scene\":{\"xaxis\":{\"backgroundcolor\":\"#E5ECF6\",\"gridcolor\":\"white\",\"gridwidth\":2,\"linecolor\":\"white\",\"showbackground\":true,\"ticks\":\"\",\"zerolinecolor\":\"white\"},\"yaxis\":{\"backgroundcolor\":\"#E5ECF6\",\"gridcolor\":\"white\",\"gridwidth\":2,\"linecolor\":\"white\",\"showbackground\":true,\"ticks\":\"\",\"zerolinecolor\":\"white\"},\"zaxis\":{\"backgroundcolor\":\"#E5ECF6\",\"gridcolor\":\"white\",\"gridwidth\":2,\"linecolor\":\"white\",\"showbackground\":true,\"ticks\":\"\",\"zerolinecolor\":\"white\"}},\"shapedefaults\":{\"line\":{\"color\":\"#2a3f5f\"}},\"ternary\":{\"aaxis\":{\"gridcolor\":\"white\",\"linecolor\":\"white\",\"ticks\":\"\"},\"baxis\":{\"gridcolor\":\"white\",\"linecolor\":\"white\",\"ticks\":\"\"},\"bgcolor\":\"#E5ECF6\",\"caxis\":{\"gridcolor\":\"white\",\"linecolor\":\"white\",\"ticks\":\"\"}},\"title\":{\"x\":0.05},\"xaxis\":{\"automargin\":true,\"gridcolor\":\"white\",\"linecolor\":\"white\",\"ticks\":\"\",\"title\":{\"standoff\":15},\"zerolinecolor\":\"white\",\"zerolinewidth\":2},\"yaxis\":{\"automargin\":true,\"gridcolor\":\"white\",\"linecolor\":\"white\",\"ticks\":\"\",\"title\":{\"standoff\":15},\"zerolinecolor\":\"white\",\"zerolinewidth\":2}}},\"xaxis\":{\"anchor\":\"y\",\"domain\":[0.0,0.18400000000000002]},\"yaxis\":{\"anchor\":\"x\",\"domain\":[0.0,1.0],\"title\":{\"text\":\"sales\"}},\"xaxis2\":{\"anchor\":\"y2\",\"domain\":[0.20400000000000001,0.388],\"matches\":\"x\"},\"yaxis2\":{\"anchor\":\"x2\",\"domain\":[0.0,1.0],\"matches\":\"y\",\"showticklabels\":false},\"xaxis3\":{\"anchor\":\"y3\",\"domain\":[0.40800000000000003,0.5920000000000001],\"matches\":\"x\"},\"yaxis3\":{\"anchor\":\"x3\",\"domain\":[0.0,1.0],\"matches\":\"y\",\"showticklabels\":false},\"xaxis4\":{\"anchor\":\"y4\",\"domain\":[0.6120000000000001,0.7960000000000002],\"matches\":\"x\"},\"yaxis4\":{\"anchor\":\"x4\",\"domain\":[0.0,1.0],\"matches\":\"y\",\"showticklabels\":false},\"xaxis5\":{\"anchor\":\"y5\",\"domain\":[0.8160000000000001,1.0],\"matches\":\"x\"},\"yaxis5\":{\"anchor\":\"x5\",\"domain\":[0.0,1.0],\"matches\":\"y\",\"showticklabels\":false},\"annotations\":[{\"font\":{},\"showarrow\":false,\"text\":\"store_type=A\",\"x\":0.09200000000000001,\"xanchor\":\"center\",\"xref\":\"paper\",\"y\":1.0,\"yanchor\":\"bottom\",\"yref\":\"paper\"},{\"font\":{},\"showarrow\":false,\"text\":\"store_type=B\",\"x\":0.29600000000000004,\"xanchor\":\"center\",\"xref\":\"paper\",\"y\":1.0,\"yanchor\":\"bottom\",\"yref\":\"paper\"},{\"font\":{},\"showarrow\":false,\"text\":\"store_type=C\",\"x\":0.5,\"xanchor\":\"center\",\"xref\":\"paper\",\"y\":1.0,\"yanchor\":\"bottom\",\"yref\":\"paper\"},{\"font\":{},\"showarrow\":false,\"text\":\"store_type=D\",\"x\":0.7040000000000002,\"xanchor\":\"center\",\"xref\":\"paper\",\"y\":1.0,\"yanchor\":\"bottom\",\"yref\":\"paper\"},{\"font\":{},\"showarrow\":false,\"text\":\"store_type=E\",\"x\":0.908,\"xanchor\":\"center\",\"xref\":\"paper\",\"y\":1.0,\"yanchor\":\"bottom\",\"yref\":\"paper\"}],\"legend\":{\"title\":{\"text\":\"store_type\"},\"tracegroupgap\":0},\"margin\":{\"t\":60},\"boxmode\":\"overlay\",\"width\":1000,\"height\":700,\"title\":{\"text\":\"Average Sales Distribution\",\"x\":0.3}},                        {\"responsive\": true}                    ).then(function(){\n",
       "                            \n",
       "var gd = document.getElementById('0ec710b2-a49a-414c-af7e-e76568b5538e');\n",
       "var x = new MutationObserver(function (mutations, observer) {{\n",
       "        var display = window.getComputedStyle(gd).display;\n",
       "        if (!display || display === 'none') {{\n",
       "            console.log([gd, 'removed!']);\n",
       "            Plotly.purge(gd);\n",
       "            observer.disconnect();\n",
       "        }}\n",
       "}});\n",
       "\n",
       "// Listen for the removal of the full notebook cells\n",
       "var notebookContainer = gd.closest('#notebook-container');\n",
       "if (notebookContainer) {{\n",
       "    x.observe(notebookContainer, {childList: true});\n",
       "}}\n",
       "\n",
       "// Listen for the clearing of the current output cell\n",
       "var outputEl = gd.closest('.output');\n",
       "if (outputEl) {{\n",
       "    x.observe(outputEl, {childList: true});\n",
       "}}\n",
       "\n",
       "                        })                };                            </script>        </div>\n",
       "</body>\n",
       "</html>"
      ]
     },
     "metadata": {},
     "output_type": "display_data"
    }
   ],
   "source": [
    "avg_sd = train_data.groupby([train_data.date.dt.year, \"store_type\"]).agg({\"sales\":\"mean\"}).sort_values('store_type', ascending=True).reset_index()\n",
    "\n",
    "fig = px.box(avg_sd, y=\"sales\", facet_col=\"store_type\", color= 'store_type', boxmode=\"overlay\", points='all')\n",
    "\n",
    "fig.layout.update({'width':1000,'height':700})\n",
    "fig.update_layout(title = \"Average Sales Distribution\")\n",
    "fig.update_layout(title_x=0.3)\n",
    "fig.show()"
   ]
  },
  {
   "cell_type": "markdown",
   "metadata": {
    "id": "TZMs_SVnG4TM"
   },
   "source": [
    "`Observation` :\n",
    "* Store A has highest sales with the median of 719.7. Store A has the highest sales which is 38%.\n",
    "\n",
    "* A > D > B > E > C this is the ranking of store types considering medians of sales."
   ]
  },
  {
   "cell_type": "markdown",
   "metadata": {
    "id": "0AbyJhczG6wr"
   },
   "source": [
    "# Data preparation"
   ]
  },
  {
   "cell_type": "code",
   "execution_count": 70,
   "metadata": {
    "colab": {
     "base_uri": "https://localhost:8080/"
    },
    "executionInfo": {
     "elapsed": 120,
     "status": "ok",
     "timestamp": 1677545344393,
     "user": {
      "displayName": "Rahul Gowda",
      "userId": "07531651890169502464"
     },
     "user_tz": -330
    },
    "id": "2uy1weccG2nz",
    "outputId": "50345108-7fe3-4e6a-dd3a-18d18f1bc852"
   },
   "outputs": [
    {
     "data": {
      "text/plain": [
       "Index(['id', 'date', 'store_nbr', 'family', 'sales', 'onpromotion', 'city',\n",
       "       'state', 'store_type', 'cluster', 'type', 'locale', 'transferred',\n",
       "       'dcoilwtico', 'year', 'month', 'day', 'weekday', 'is_holiday',\n",
       "       'is_work_day', 'holiday_count', 'pay_day', 'prev_pay_day',\n",
       "       'has_earthquake'],\n",
       "      dtype='object')"
      ]
     },
     "execution_count": 70,
     "metadata": {},
     "output_type": "execute_result"
    }
   ],
   "source": [
    "train_data.columns"
   ]
  },
  {
   "cell_type": "code",
   "execution_count": 71,
   "metadata": {
    "executionInfo": {
     "elapsed": 107,
     "status": "ok",
     "timestamp": 1677545344394,
     "user": {
      "displayName": "Rahul Gowda",
      "userId": "07531651890169502464"
     },
     "user_tz": -330
    },
    "id": "cfnAYO6aG_md"
   },
   "outputs": [],
   "source": [
    "train_data=train_data[['id', 'date', 'store_nbr', 'family', 'onpromotion', 'city',\n",
    "                       'state', 'store_type', 'cluster', 'type', 'locale', 'transferred','dcoilwtico', 'year', 'month', 'day', 'weekday', 'is_holiday',\n",
    "                      'is_work_day', 'holiday_count', 'pay_day', 'prev_pay_day','has_earthquake', 'sales']]"
   ]
  },
  {
   "cell_type": "code",
   "execution_count": 72,
   "metadata": {
    "colab": {
     "base_uri": "https://localhost:8080/",
     "height": 386
    },
    "executionInfo": {
     "elapsed": 107,
     "status": "ok",
     "timestamp": 1677545344395,
     "user": {
      "displayName": "Rahul Gowda",
      "userId": "07531651890169502464"
     },
     "user_tz": -330
    },
    "id": "OGCvyvuYHEFd",
    "outputId": "29b87c09-389d-4771-d6a0-1a7f56fd3b54"
   },
   "outputs": [
    {
     "data": {
      "text/html": [
       "\n",
       "  <div id=\"df-8b015361-721e-47fb-9d69-d6b595b746b0\">\n",
       "    <div class=\"colab-df-container\">\n",
       "      <div>\n",
       "<style scoped>\n",
       "    .dataframe tbody tr th:only-of-type {\n",
       "        vertical-align: middle;\n",
       "    }\n",
       "\n",
       "    .dataframe tbody tr th {\n",
       "        vertical-align: top;\n",
       "    }\n",
       "\n",
       "    .dataframe thead th {\n",
       "        text-align: right;\n",
       "    }\n",
       "</style>\n",
       "<table border=\"1\" class=\"dataframe\">\n",
       "  <thead>\n",
       "    <tr style=\"text-align: right;\">\n",
       "      <th></th>\n",
       "      <th>id</th>\n",
       "      <th>date</th>\n",
       "      <th>store_nbr</th>\n",
       "      <th>family</th>\n",
       "      <th>onpromotion</th>\n",
       "      <th>city</th>\n",
       "      <th>state</th>\n",
       "      <th>store_type</th>\n",
       "      <th>cluster</th>\n",
       "      <th>type</th>\n",
       "      <th>...</th>\n",
       "      <th>month</th>\n",
       "      <th>day</th>\n",
       "      <th>weekday</th>\n",
       "      <th>is_holiday</th>\n",
       "      <th>is_work_day</th>\n",
       "      <th>holiday_count</th>\n",
       "      <th>pay_day</th>\n",
       "      <th>prev_pay_day</th>\n",
       "      <th>has_earthquake</th>\n",
       "      <th>sales</th>\n",
       "    </tr>\n",
       "  </thead>\n",
       "  <tbody>\n",
       "    <tr>\n",
       "      <th>0</th>\n",
       "      <td>0</td>\n",
       "      <td>2013-01-01</td>\n",
       "      <td>1</td>\n",
       "      <td>AUTOMOTIVE</td>\n",
       "      <td>0</td>\n",
       "      <td>Quito</td>\n",
       "      <td>Pichincha</td>\n",
       "      <td>D</td>\n",
       "      <td>13</td>\n",
       "      <td>Holiday</td>\n",
       "      <td>...</td>\n",
       "      <td>1</td>\n",
       "      <td>1</td>\n",
       "      <td>Tuesday</td>\n",
       "      <td>1</td>\n",
       "      <td>0</td>\n",
       "      <td>53460</td>\n",
       "      <td>0</td>\n",
       "      <td>0.0</td>\n",
       "      <td>0</td>\n",
       "      <td>0.0</td>\n",
       "    </tr>\n",
       "    <tr>\n",
       "      <th>1</th>\n",
       "      <td>0</td>\n",
       "      <td>2013-01-01</td>\n",
       "      <td>1</td>\n",
       "      <td>AUTOMOTIVE</td>\n",
       "      <td>0</td>\n",
       "      <td>Quito</td>\n",
       "      <td>Pichincha</td>\n",
       "      <td>D</td>\n",
       "      <td>13</td>\n",
       "      <td>working_day</td>\n",
       "      <td>...</td>\n",
       "      <td>1</td>\n",
       "      <td>1</td>\n",
       "      <td>Tuesday</td>\n",
       "      <td>1</td>\n",
       "      <td>0</td>\n",
       "      <td>53460</td>\n",
       "      <td>0</td>\n",
       "      <td>0.0</td>\n",
       "      <td>0</td>\n",
       "      <td>0.0</td>\n",
       "    </tr>\n",
       "    <tr>\n",
       "      <th>2</th>\n",
       "      <td>1</td>\n",
       "      <td>2013-01-01</td>\n",
       "      <td>1</td>\n",
       "      <td>BABY_CARE</td>\n",
       "      <td>0</td>\n",
       "      <td>Quito</td>\n",
       "      <td>Pichincha</td>\n",
       "      <td>D</td>\n",
       "      <td>13</td>\n",
       "      <td>Holiday</td>\n",
       "      <td>...</td>\n",
       "      <td>1</td>\n",
       "      <td>1</td>\n",
       "      <td>Tuesday</td>\n",
       "      <td>1</td>\n",
       "      <td>0</td>\n",
       "      <td>53460</td>\n",
       "      <td>0</td>\n",
       "      <td>0.0</td>\n",
       "      <td>0</td>\n",
       "      <td>0.0</td>\n",
       "    </tr>\n",
       "    <tr>\n",
       "      <th>3</th>\n",
       "      <td>1</td>\n",
       "      <td>2013-01-01</td>\n",
       "      <td>1</td>\n",
       "      <td>BABY_CARE</td>\n",
       "      <td>0</td>\n",
       "      <td>Quito</td>\n",
       "      <td>Pichincha</td>\n",
       "      <td>D</td>\n",
       "      <td>13</td>\n",
       "      <td>working_day</td>\n",
       "      <td>...</td>\n",
       "      <td>1</td>\n",
       "      <td>1</td>\n",
       "      <td>Tuesday</td>\n",
       "      <td>1</td>\n",
       "      <td>0</td>\n",
       "      <td>53460</td>\n",
       "      <td>0</td>\n",
       "      <td>0.0</td>\n",
       "      <td>0</td>\n",
       "      <td>0.0</td>\n",
       "    </tr>\n",
       "    <tr>\n",
       "      <th>4</th>\n",
       "      <td>2</td>\n",
       "      <td>2013-01-01</td>\n",
       "      <td>1</td>\n",
       "      <td>BEAUTY</td>\n",
       "      <td>0</td>\n",
       "      <td>Quito</td>\n",
       "      <td>Pichincha</td>\n",
       "      <td>D</td>\n",
       "      <td>13</td>\n",
       "      <td>Holiday</td>\n",
       "      <td>...</td>\n",
       "      <td>1</td>\n",
       "      <td>1</td>\n",
       "      <td>Tuesday</td>\n",
       "      <td>1</td>\n",
       "      <td>0</td>\n",
       "      <td>53460</td>\n",
       "      <td>0</td>\n",
       "      <td>0.0</td>\n",
       "      <td>0</td>\n",
       "      <td>0.0</td>\n",
       "    </tr>\n",
       "  </tbody>\n",
       "</table>\n",
       "<p>5 rows × 24 columns</p>\n",
       "</div>\n",
       "      <button class=\"colab-df-convert\" onclick=\"convertToInteractive('df-8b015361-721e-47fb-9d69-d6b595b746b0')\"\n",
       "              title=\"Convert this dataframe to an interactive table.\"\n",
       "              style=\"display:none;\">\n",
       "        \n",
       "  <svg xmlns=\"http://www.w3.org/2000/svg\" height=\"24px\"viewBox=\"0 0 24 24\"\n",
       "       width=\"24px\">\n",
       "    <path d=\"M0 0h24v24H0V0z\" fill=\"none\"/>\n",
       "    <path d=\"M18.56 5.44l.94 2.06.94-2.06 2.06-.94-2.06-.94-.94-2.06-.94 2.06-2.06.94zm-11 1L8.5 8.5l.94-2.06 2.06-.94-2.06-.94L8.5 2.5l-.94 2.06-2.06.94zm10 10l.94 2.06.94-2.06 2.06-.94-2.06-.94-.94-2.06-.94 2.06-2.06.94z\"/><path d=\"M17.41 7.96l-1.37-1.37c-.4-.4-.92-.59-1.43-.59-.52 0-1.04.2-1.43.59L10.3 9.45l-7.72 7.72c-.78.78-.78 2.05 0 2.83L4 21.41c.39.39.9.59 1.41.59.51 0 1.02-.2 1.41-.59l7.78-7.78 2.81-2.81c.8-.78.8-2.07 0-2.86zM5.41 20L4 18.59l7.72-7.72 1.47 1.35L5.41 20z\"/>\n",
       "  </svg>\n",
       "      </button>\n",
       "      \n",
       "  <style>\n",
       "    .colab-df-container {\n",
       "      display:flex;\n",
       "      flex-wrap:wrap;\n",
       "      gap: 12px;\n",
       "    }\n",
       "\n",
       "    .colab-df-convert {\n",
       "      background-color: #E8F0FE;\n",
       "      border: none;\n",
       "      border-radius: 50%;\n",
       "      cursor: pointer;\n",
       "      display: none;\n",
       "      fill: #1967D2;\n",
       "      height: 32px;\n",
       "      padding: 0 0 0 0;\n",
       "      width: 32px;\n",
       "    }\n",
       "\n",
       "    .colab-df-convert:hover {\n",
       "      background-color: #E2EBFA;\n",
       "      box-shadow: 0px 1px 2px rgba(60, 64, 67, 0.3), 0px 1px 3px 1px rgba(60, 64, 67, 0.15);\n",
       "      fill: #174EA6;\n",
       "    }\n",
       "\n",
       "    [theme=dark] .colab-df-convert {\n",
       "      background-color: #3B4455;\n",
       "      fill: #D2E3FC;\n",
       "    }\n",
       "\n",
       "    [theme=dark] .colab-df-convert:hover {\n",
       "      background-color: #434B5C;\n",
       "      box-shadow: 0px 1px 3px 1px rgba(0, 0, 0, 0.15);\n",
       "      filter: drop-shadow(0px 1px 2px rgba(0, 0, 0, 0.3));\n",
       "      fill: #FFFFFF;\n",
       "    }\n",
       "  </style>\n",
       "\n",
       "      <script>\n",
       "        const buttonEl =\n",
       "          document.querySelector('#df-8b015361-721e-47fb-9d69-d6b595b746b0 button.colab-df-convert');\n",
       "        buttonEl.style.display =\n",
       "          google.colab.kernel.accessAllowed ? 'block' : 'none';\n",
       "\n",
       "        async function convertToInteractive(key) {\n",
       "          const element = document.querySelector('#df-8b015361-721e-47fb-9d69-d6b595b746b0');\n",
       "          const dataTable =\n",
       "            await google.colab.kernel.invokeFunction('convertToInteractive',\n",
       "                                                     [key], {});\n",
       "          if (!dataTable) return;\n",
       "\n",
       "          const docLinkHtml = 'Like what you see? Visit the ' +\n",
       "            '<a target=\"_blank\" href=https://colab.research.google.com/notebooks/data_table.ipynb>data table notebook</a>'\n",
       "            + ' to learn more about interactive tables.';\n",
       "          element.innerHTML = '';\n",
       "          dataTable['output_type'] = 'display_data';\n",
       "          await google.colab.output.renderOutput(dataTable, element);\n",
       "          const docLink = document.createElement('div');\n",
       "          docLink.innerHTML = docLinkHtml;\n",
       "          element.appendChild(docLink);\n",
       "        }\n",
       "      </script>\n",
       "    </div>\n",
       "  </div>\n",
       "  "
      ],
      "text/plain": [
       "   id       date  store_nbr      family  onpromotion   city      state  \\\n",
       "0   0 2013-01-01          1  AUTOMOTIVE            0  Quito  Pichincha   \n",
       "1   0 2013-01-01          1  AUTOMOTIVE            0  Quito  Pichincha   \n",
       "2   1 2013-01-01          1   BABY_CARE            0  Quito  Pichincha   \n",
       "3   1 2013-01-01          1   BABY_CARE            0  Quito  Pichincha   \n",
       "4   2 2013-01-01          1      BEAUTY            0  Quito  Pichincha   \n",
       "\n",
       "  store_type  cluster         type  ... month  day  weekday  is_holiday  \\\n",
       "0          D       13      Holiday  ...     1    1  Tuesday           1   \n",
       "1          D       13  working_day  ...     1    1  Tuesday           1   \n",
       "2          D       13      Holiday  ...     1    1  Tuesday           1   \n",
       "3          D       13  working_day  ...     1    1  Tuesday           1   \n",
       "4          D       13      Holiday  ...     1    1  Tuesday           1   \n",
       "\n",
       "   is_work_day  holiday_count pay_day  prev_pay_day  has_earthquake  sales  \n",
       "0            0          53460       0           0.0               0    0.0  \n",
       "1            0          53460       0           0.0               0    0.0  \n",
       "2            0          53460       0           0.0               0    0.0  \n",
       "3            0          53460       0           0.0               0    0.0  \n",
       "4            0          53460       0           0.0               0    0.0  \n",
       "\n",
       "[5 rows x 24 columns]"
      ]
     },
     "execution_count": 72,
     "metadata": {},
     "output_type": "execute_result"
    }
   ],
   "source": [
    "train_data.head()"
   ]
  },
  {
   "cell_type": "code",
   "execution_count": 73,
   "metadata": {
    "colab": {
     "base_uri": "https://localhost:8080/",
     "height": 386
    },
    "executionInfo": {
     "elapsed": 105,
     "status": "ok",
     "timestamp": 1677545344395,
     "user": {
      "displayName": "Rahul Gowda",
      "userId": "07531651890169502464"
     },
     "user_tz": -330
    },
    "id": "nSGPhwUMHFvA",
    "outputId": "c40c631b-7a49-4ec7-9523-8bcdb9bd2752"
   },
   "outputs": [
    {
     "data": {
      "text/html": [
       "\n",
       "  <div id=\"df-1d5dc1f6-c704-4075-ae46-d71c5356e3bc\">\n",
       "    <div class=\"colab-df-container\">\n",
       "      <div>\n",
       "<style scoped>\n",
       "    .dataframe tbody tr th:only-of-type {\n",
       "        vertical-align: middle;\n",
       "    }\n",
       "\n",
       "    .dataframe tbody tr th {\n",
       "        vertical-align: top;\n",
       "    }\n",
       "\n",
       "    .dataframe thead th {\n",
       "        text-align: right;\n",
       "    }\n",
       "</style>\n",
       "<table border=\"1\" class=\"dataframe\">\n",
       "  <thead>\n",
       "    <tr style=\"text-align: right;\">\n",
       "      <th></th>\n",
       "      <th>id</th>\n",
       "      <th>date</th>\n",
       "      <th>store_nbr</th>\n",
       "      <th>family</th>\n",
       "      <th>onpromotion</th>\n",
       "      <th>city</th>\n",
       "      <th>state</th>\n",
       "      <th>store_type</th>\n",
       "      <th>cluster</th>\n",
       "      <th>type</th>\n",
       "      <th>...</th>\n",
       "      <th>year</th>\n",
       "      <th>month</th>\n",
       "      <th>day</th>\n",
       "      <th>weekday</th>\n",
       "      <th>is_holiday</th>\n",
       "      <th>is_work_day</th>\n",
       "      <th>holiday_count</th>\n",
       "      <th>pay_day</th>\n",
       "      <th>prev_pay_day</th>\n",
       "      <th>has_earthquake</th>\n",
       "    </tr>\n",
       "  </thead>\n",
       "  <tbody>\n",
       "    <tr>\n",
       "      <th>0</th>\n",
       "      <td>-13768</td>\n",
       "      <td>2017-08-16</td>\n",
       "      <td>1</td>\n",
       "      <td>AUTOMOTIVE</td>\n",
       "      <td>0</td>\n",
       "      <td>Quito</td>\n",
       "      <td>Pichincha</td>\n",
       "      <td>D</td>\n",
       "      <td>13</td>\n",
       "      <td>working_day</td>\n",
       "      <td>...</td>\n",
       "      <td>2017</td>\n",
       "      <td>8</td>\n",
       "      <td>16</td>\n",
       "      <td>Wednesday</td>\n",
       "      <td>1</td>\n",
       "      <td>0</td>\n",
       "      <td>28512</td>\n",
       "      <td>0</td>\n",
       "      <td>0.0</td>\n",
       "      <td>0</td>\n",
       "    </tr>\n",
       "    <tr>\n",
       "      <th>1</th>\n",
       "      <td>-13767</td>\n",
       "      <td>2017-08-16</td>\n",
       "      <td>1</td>\n",
       "      <td>BABY_CARE</td>\n",
       "      <td>0</td>\n",
       "      <td>Quito</td>\n",
       "      <td>Pichincha</td>\n",
       "      <td>D</td>\n",
       "      <td>13</td>\n",
       "      <td>working_day</td>\n",
       "      <td>...</td>\n",
       "      <td>2017</td>\n",
       "      <td>8</td>\n",
       "      <td>16</td>\n",
       "      <td>Wednesday</td>\n",
       "      <td>1</td>\n",
       "      <td>0</td>\n",
       "      <td>28512</td>\n",
       "      <td>0</td>\n",
       "      <td>0.0</td>\n",
       "      <td>0</td>\n",
       "    </tr>\n",
       "    <tr>\n",
       "      <th>2</th>\n",
       "      <td>-13766</td>\n",
       "      <td>2017-08-16</td>\n",
       "      <td>1</td>\n",
       "      <td>BEAUTY</td>\n",
       "      <td>2</td>\n",
       "      <td>Quito</td>\n",
       "      <td>Pichincha</td>\n",
       "      <td>D</td>\n",
       "      <td>13</td>\n",
       "      <td>working_day</td>\n",
       "      <td>...</td>\n",
       "      <td>2017</td>\n",
       "      <td>8</td>\n",
       "      <td>16</td>\n",
       "      <td>Wednesday</td>\n",
       "      <td>1</td>\n",
       "      <td>0</td>\n",
       "      <td>28512</td>\n",
       "      <td>0</td>\n",
       "      <td>0.0</td>\n",
       "      <td>0</td>\n",
       "    </tr>\n",
       "    <tr>\n",
       "      <th>3</th>\n",
       "      <td>-13765</td>\n",
       "      <td>2017-08-16</td>\n",
       "      <td>1</td>\n",
       "      <td>BEVERAGES</td>\n",
       "      <td>20</td>\n",
       "      <td>Quito</td>\n",
       "      <td>Pichincha</td>\n",
       "      <td>D</td>\n",
       "      <td>13</td>\n",
       "      <td>working_day</td>\n",
       "      <td>...</td>\n",
       "      <td>2017</td>\n",
       "      <td>8</td>\n",
       "      <td>16</td>\n",
       "      <td>Wednesday</td>\n",
       "      <td>1</td>\n",
       "      <td>0</td>\n",
       "      <td>28512</td>\n",
       "      <td>0</td>\n",
       "      <td>0.0</td>\n",
       "      <td>0</td>\n",
       "    </tr>\n",
       "    <tr>\n",
       "      <th>4</th>\n",
       "      <td>-13764</td>\n",
       "      <td>2017-08-16</td>\n",
       "      <td>1</td>\n",
       "      <td>BOOKS</td>\n",
       "      <td>0</td>\n",
       "      <td>Quito</td>\n",
       "      <td>Pichincha</td>\n",
       "      <td>D</td>\n",
       "      <td>13</td>\n",
       "      <td>working_day</td>\n",
       "      <td>...</td>\n",
       "      <td>2017</td>\n",
       "      <td>8</td>\n",
       "      <td>16</td>\n",
       "      <td>Wednesday</td>\n",
       "      <td>1</td>\n",
       "      <td>0</td>\n",
       "      <td>28512</td>\n",
       "      <td>0</td>\n",
       "      <td>0.0</td>\n",
       "      <td>0</td>\n",
       "    </tr>\n",
       "  </tbody>\n",
       "</table>\n",
       "<p>5 rows × 23 columns</p>\n",
       "</div>\n",
       "      <button class=\"colab-df-convert\" onclick=\"convertToInteractive('df-1d5dc1f6-c704-4075-ae46-d71c5356e3bc')\"\n",
       "              title=\"Convert this dataframe to an interactive table.\"\n",
       "              style=\"display:none;\">\n",
       "        \n",
       "  <svg xmlns=\"http://www.w3.org/2000/svg\" height=\"24px\"viewBox=\"0 0 24 24\"\n",
       "       width=\"24px\">\n",
       "    <path d=\"M0 0h24v24H0V0z\" fill=\"none\"/>\n",
       "    <path d=\"M18.56 5.44l.94 2.06.94-2.06 2.06-.94-2.06-.94-.94-2.06-.94 2.06-2.06.94zm-11 1L8.5 8.5l.94-2.06 2.06-.94-2.06-.94L8.5 2.5l-.94 2.06-2.06.94zm10 10l.94 2.06.94-2.06 2.06-.94-2.06-.94-.94-2.06-.94 2.06-2.06.94z\"/><path d=\"M17.41 7.96l-1.37-1.37c-.4-.4-.92-.59-1.43-.59-.52 0-1.04.2-1.43.59L10.3 9.45l-7.72 7.72c-.78.78-.78 2.05 0 2.83L4 21.41c.39.39.9.59 1.41.59.51 0 1.02-.2 1.41-.59l7.78-7.78 2.81-2.81c.8-.78.8-2.07 0-2.86zM5.41 20L4 18.59l7.72-7.72 1.47 1.35L5.41 20z\"/>\n",
       "  </svg>\n",
       "      </button>\n",
       "      \n",
       "  <style>\n",
       "    .colab-df-container {\n",
       "      display:flex;\n",
       "      flex-wrap:wrap;\n",
       "      gap: 12px;\n",
       "    }\n",
       "\n",
       "    .colab-df-convert {\n",
       "      background-color: #E8F0FE;\n",
       "      border: none;\n",
       "      border-radius: 50%;\n",
       "      cursor: pointer;\n",
       "      display: none;\n",
       "      fill: #1967D2;\n",
       "      height: 32px;\n",
       "      padding: 0 0 0 0;\n",
       "      width: 32px;\n",
       "    }\n",
       "\n",
       "    .colab-df-convert:hover {\n",
       "      background-color: #E2EBFA;\n",
       "      box-shadow: 0px 1px 2px rgba(60, 64, 67, 0.3), 0px 1px 3px 1px rgba(60, 64, 67, 0.15);\n",
       "      fill: #174EA6;\n",
       "    }\n",
       "\n",
       "    [theme=dark] .colab-df-convert {\n",
       "      background-color: #3B4455;\n",
       "      fill: #D2E3FC;\n",
       "    }\n",
       "\n",
       "    [theme=dark] .colab-df-convert:hover {\n",
       "      background-color: #434B5C;\n",
       "      box-shadow: 0px 1px 3px 1px rgba(0, 0, 0, 0.15);\n",
       "      filter: drop-shadow(0px 1px 2px rgba(0, 0, 0, 0.3));\n",
       "      fill: #FFFFFF;\n",
       "    }\n",
       "  </style>\n",
       "\n",
       "      <script>\n",
       "        const buttonEl =\n",
       "          document.querySelector('#df-1d5dc1f6-c704-4075-ae46-d71c5356e3bc button.colab-df-convert');\n",
       "        buttonEl.style.display =\n",
       "          google.colab.kernel.accessAllowed ? 'block' : 'none';\n",
       "\n",
       "        async function convertToInteractive(key) {\n",
       "          const element = document.querySelector('#df-1d5dc1f6-c704-4075-ae46-d71c5356e3bc');\n",
       "          const dataTable =\n",
       "            await google.colab.kernel.invokeFunction('convertToInteractive',\n",
       "                                                     [key], {});\n",
       "          if (!dataTable) return;\n",
       "\n",
       "          const docLinkHtml = 'Like what you see? Visit the ' +\n",
       "            '<a target=\"_blank\" href=https://colab.research.google.com/notebooks/data_table.ipynb>data table notebook</a>'\n",
       "            + ' to learn more about interactive tables.';\n",
       "          element.innerHTML = '';\n",
       "          dataTable['output_type'] = 'display_data';\n",
       "          await google.colab.output.renderOutput(dataTable, element);\n",
       "          const docLink = document.createElement('div');\n",
       "          docLink.innerHTML = docLinkHtml;\n",
       "          element.appendChild(docLink);\n",
       "        }\n",
       "      </script>\n",
       "    </div>\n",
       "  </div>\n",
       "  "
      ],
      "text/plain": [
       "      id       date  store_nbr      family  onpromotion   city      state  \\\n",
       "0 -13768 2017-08-16          1  AUTOMOTIVE            0  Quito  Pichincha   \n",
       "1 -13767 2017-08-16          1   BABY_CARE            0  Quito  Pichincha   \n",
       "2 -13766 2017-08-16          1      BEAUTY            2  Quito  Pichincha   \n",
       "3 -13765 2017-08-16          1   BEVERAGES           20  Quito  Pichincha   \n",
       "4 -13764 2017-08-16          1       BOOKS            0  Quito  Pichincha   \n",
       "\n",
       "  store_type  cluster         type  ...  year  month  day    weekday  \\\n",
       "0          D       13  working_day  ...  2017      8   16  Wednesday   \n",
       "1          D       13  working_day  ...  2017      8   16  Wednesday   \n",
       "2          D       13  working_day  ...  2017      8   16  Wednesday   \n",
       "3          D       13  working_day  ...  2017      8   16  Wednesday   \n",
       "4          D       13  working_day  ...  2017      8   16  Wednesday   \n",
       "\n",
       "   is_holiday  is_work_day holiday_count  pay_day  prev_pay_day  \\\n",
       "0           1            0         28512        0           0.0   \n",
       "1           1            0         28512        0           0.0   \n",
       "2           1            0         28512        0           0.0   \n",
       "3           1            0         28512        0           0.0   \n",
       "4           1            0         28512        0           0.0   \n",
       "\n",
       "   has_earthquake  \n",
       "0               0  \n",
       "1               0  \n",
       "2               0  \n",
       "3               0  \n",
       "4               0  \n",
       "\n",
       "[5 rows x 23 columns]"
      ]
     },
     "execution_count": 73,
     "metadata": {},
     "output_type": "execute_result"
    }
   ],
   "source": [
    "test_data.head()"
   ]
  },
  {
   "cell_type": "markdown",
   "metadata": {
    "id": "2e89OJJWHHY1"
   },
   "source": [
    "## **Taking 2% sample of the data**"
   ]
  },
  {
   "cell_type": "code",
   "execution_count": 74,
   "metadata": {
    "executionInfo": {
     "elapsed": 105,
     "status": "ok",
     "timestamp": 1677545344396,
     "user": {
      "displayName": "Rahul Gowda",
      "userId": "07531651890169502464"
     },
     "user_tz": -330
    },
    "id": "sJIBTUYcHIfd"
   },
   "outputs": [],
   "source": [
    "sample_train_data=train_data.sample(frac=0.02,random_state=42).copy()"
   ]
  },
  {
   "cell_type": "code",
   "execution_count": 75,
   "metadata": {
    "executionInfo": {
     "elapsed": 104,
     "status": "ok",
     "timestamp": 1677545344396,
     "user": {
      "displayName": "Rahul Gowda",
      "userId": "07531651890169502464"
     },
     "user_tz": -330
    },
    "id": "s4BxkPkIIlpX"
   },
   "outputs": [],
   "source": [
    "year = pd.to_datetime(sample_train_data.date).dt.year\n",
    "\n",
    "train_df = sample_train_data[year < 2016]\n",
    "val_df = sample_train_data[year == 2017]\n",
    "test_df = test_data"
   ]
  },
  {
   "cell_type": "code",
   "execution_count": 76,
   "metadata": {
    "colab": {
     "base_uri": "https://localhost:8080/"
    },
    "executionInfo": {
     "elapsed": 104,
     "status": "ok",
     "timestamp": 1677545344397,
     "user": {
      "displayName": "Rahul Gowda",
      "userId": "07531651890169502464"
     },
     "user_tz": -330
    },
    "id": "_op7KUrRIo2D",
    "outputId": "a6bf299e-fd25-4716-b199-3ed98b51b6be"
   },
   "outputs": [
    {
     "name": "stdout",
     "output_type": "stream",
     "text": [
      "train_df.shape : (39577, 24)\n",
      "val_df.shape : (8273, 24)\n",
      "test_df.shape : (28512, 23)\n"
     ]
    }
   ],
   "source": [
    "print('train_df.shape :', train_df.shape)\n",
    "print('val_df.shape :', val_df.shape)\n",
    "print('test_df.shape :', test_df.shape)"
   ]
  },
  {
   "cell_type": "markdown",
   "metadata": {
    "id": "sxb1iaEDIrZH"
   },
   "source": [
    "## Input and Target Columns\n",
    "\n",
    "Let's identify the input and target columns."
   ]
  },
  {
   "cell_type": "code",
   "execution_count": 77,
   "metadata": {
    "executionInfo": {
     "elapsed": 97,
     "status": "ok",
     "timestamp": 1677545344397,
     "user": {
      "displayName": "Rahul Gowda",
      "userId": "07531651890169502464"
     },
     "user_tz": -330
    },
    "id": "LV8b72qPIp97"
   },
   "outputs": [],
   "source": [
    "input_cols = list(train_df.columns)[1:-1]\n",
    "target_col = 'sales'"
   ]
  },
  {
   "cell_type": "code",
   "execution_count": 78,
   "metadata": {
    "executionInfo": {
     "elapsed": 97,
     "status": "ok",
     "timestamp": 1677545344398,
     "user": {
      "displayName": "Rahul Gowda",
      "userId": "07531651890169502464"
     },
     "user_tz": -330
    },
    "id": "svTGVNIzItQI"
   },
   "outputs": [],
   "source": [
    "train_inputs = train_df[input_cols].copy()\n",
    "train_targets = train_df[target_col].copy()"
   ]
  },
  {
   "cell_type": "code",
   "execution_count": 79,
   "metadata": {
    "executionInfo": {
     "elapsed": 97,
     "status": "ok",
     "timestamp": 1677545344398,
     "user": {
      "displayName": "Rahul Gowda",
      "userId": "07531651890169502464"
     },
     "user_tz": -330
    },
    "id": "dJ8-ybqFIuzZ"
   },
   "outputs": [],
   "source": [
    "val_inputs = val_df[input_cols].copy()\n",
    "val_targets = val_df[target_col].copy()"
   ]
  },
  {
   "cell_type": "code",
   "execution_count": 80,
   "metadata": {
    "executionInfo": {
     "elapsed": 98,
     "status": "ok",
     "timestamp": 1677545344399,
     "user": {
      "displayName": "Rahul Gowda",
      "userId": "07531651890169502464"
     },
     "user_tz": -330
    },
    "id": "YoHe9YyqIvxA"
   },
   "outputs": [],
   "source": [
    "test_inputs = test_df[input_cols].copy()"
   ]
  },
  {
   "cell_type": "markdown",
   "metadata": {
    "id": "9fwlq9qYIyJh"
   },
   "source": [
    "Let's also identify the numeric and categorical columns."
   ]
  },
  {
   "cell_type": "code",
   "execution_count": 81,
   "metadata": {
    "executionInfo": {
     "elapsed": 97,
     "status": "ok",
     "timestamp": 1677545344399,
     "user": {
      "displayName": "Rahul Gowda",
      "userId": "07531651890169502464"
     },
     "user_tz": -330
    },
    "id": "rhFBhdg7IwxX"
   },
   "outputs": [],
   "source": [
    "numeric_cols = train_inputs.select_dtypes(include=np.number).columns.tolist()\n",
    "categorical_cols = train_inputs.select_dtypes(['object','bool']).columns.tolist()"
   ]
  },
  {
   "cell_type": "code",
   "execution_count": 82,
   "metadata": {
    "colab": {
     "base_uri": "https://localhost:8080/"
    },
    "executionInfo": {
     "elapsed": 98,
     "status": "ok",
     "timestamp": 1677545344400,
     "user": {
      "displayName": "Rahul Gowda",
      "userId": "07531651890169502464"
     },
     "user_tz": -330
    },
    "id": "tX_im1MaIzqY",
    "outputId": "46429e11-ddfb-4d7b-a841-0bedd6077121"
   },
   "outputs": [
    {
     "name": "stdout",
     "output_type": "stream",
     "text": [
      "['store_nbr', 'onpromotion', 'cluster', 'dcoilwtico', 'year', 'month', 'day', 'is_holiday', 'is_work_day', 'holiday_count', 'pay_day', 'prev_pay_day', 'has_earthquake']\n"
     ]
    }
   ],
   "source": [
    "print(numeric_cols)"
   ]
  },
  {
   "cell_type": "code",
   "execution_count": 83,
   "metadata": {
    "colab": {
     "base_uri": "https://localhost:8080/"
    },
    "executionInfo": {
     "elapsed": 90,
     "status": "ok",
     "timestamp": 1677545344400,
     "user": {
      "displayName": "Rahul Gowda",
      "userId": "07531651890169502464"
     },
     "user_tz": -330
    },
    "id": "PB07NfRrI0qN",
    "outputId": "8623bc09-54dd-4751-de42-1650e663116e"
   },
   "outputs": [
    {
     "name": "stdout",
     "output_type": "stream",
     "text": [
      "['family', 'city', 'state', 'store_type', 'type', 'locale', 'transferred', 'weekday']\n"
     ]
    }
   ],
   "source": [
    "print(categorical_cols)"
   ]
  },
  {
   "cell_type": "markdown",
   "metadata": {
    "id": "kG8Rd3_PI3UR"
   },
   "source": [
    "## Scaling Numeric Features"
   ]
  },
  {
   "cell_type": "code",
   "execution_count": 84,
   "metadata": {
    "executionInfo": {
     "elapsed": 85,
     "status": "ok",
     "timestamp": 1677545344401,
     "user": {
      "displayName": "Rahul Gowda",
      "userId": "07531651890169502464"
     },
     "user_tz": -330
    },
    "id": "XNcY-c5ZI1tE"
   },
   "outputs": [],
   "source": [
    "from sklearn.preprocessing import MinMaxScaler"
   ]
  },
  {
   "cell_type": "code",
   "execution_count": 85,
   "metadata": {
    "executionInfo": {
     "elapsed": 85,
     "status": "ok",
     "timestamp": 1677545344401,
     "user": {
      "displayName": "Rahul Gowda",
      "userId": "07531651890169502464"
     },
     "user_tz": -330
    },
    "id": "8rTEc6y-I423"
   },
   "outputs": [],
   "source": [
    "scaler = MinMaxScaler().fit(sample_train_data[numeric_cols])"
   ]
  },
  {
   "cell_type": "code",
   "execution_count": 86,
   "metadata": {
    "executionInfo": {
     "elapsed": 84,
     "status": "ok",
     "timestamp": 1677545344401,
     "user": {
      "displayName": "Rahul Gowda",
      "userId": "07531651890169502464"
     },
     "user_tz": -330
    },
    "id": "xtUT2pbfI6CQ"
   },
   "outputs": [],
   "source": [
    "train_inputs[numeric_cols] = scaler.transform(train_inputs[numeric_cols])\n",
    "val_inputs[numeric_cols] = scaler.transform(val_inputs[numeric_cols])\n",
    "test_inputs[numeric_cols] = scaler.transform(test_inputs[numeric_cols])"
   ]
  },
  {
   "cell_type": "code",
   "execution_count": 87,
   "metadata": {
    "colab": {
     "base_uri": "https://localhost:8080/",
     "height": 112
    },
    "executionInfo": {
     "elapsed": 85,
     "status": "ok",
     "timestamp": 1677545344402,
     "user": {
      "displayName": "Rahul Gowda",
      "userId": "07531651890169502464"
     },
     "user_tz": -330
    },
    "id": "vlYtWFZHI7UW",
    "outputId": "cec0d06d-ed2e-488b-c522-2a076042092a"
   },
   "outputs": [
    {
     "data": {
      "text/html": [
       "\n",
       "  <div id=\"df-5e405600-9f7d-494f-b7a9-62abd7466fd8\">\n",
       "    <div class=\"colab-df-container\">\n",
       "      <div>\n",
       "<style scoped>\n",
       "    .dataframe tbody tr th:only-of-type {\n",
       "        vertical-align: middle;\n",
       "    }\n",
       "\n",
       "    .dataframe tbody tr th {\n",
       "        vertical-align: top;\n",
       "    }\n",
       "\n",
       "    .dataframe thead th {\n",
       "        text-align: right;\n",
       "    }\n",
       "</style>\n",
       "<table border=\"1\" class=\"dataframe\">\n",
       "  <thead>\n",
       "    <tr style=\"text-align: right;\">\n",
       "      <th></th>\n",
       "      <th>store_nbr</th>\n",
       "      <th>onpromotion</th>\n",
       "      <th>cluster</th>\n",
       "      <th>dcoilwtico</th>\n",
       "      <th>year</th>\n",
       "      <th>month</th>\n",
       "      <th>day</th>\n",
       "      <th>is_holiday</th>\n",
       "      <th>is_work_day</th>\n",
       "      <th>holiday_count</th>\n",
       "      <th>pay_day</th>\n",
       "      <th>prev_pay_day</th>\n",
       "      <th>has_earthquake</th>\n",
       "    </tr>\n",
       "  </thead>\n",
       "  <tbody>\n",
       "    <tr>\n",
       "      <th>min</th>\n",
       "      <td>0.0</td>\n",
       "      <td>0.000000</td>\n",
       "      <td>0.0</td>\n",
       "      <td>0.192941</td>\n",
       "      <td>1.0</td>\n",
       "      <td>0.000000</td>\n",
       "      <td>0.0</td>\n",
       "      <td>0.0</td>\n",
       "      <td>0.0</td>\n",
       "      <td>0.0</td>\n",
       "      <td>0.0</td>\n",
       "      <td>0.0</td>\n",
       "      <td>0.0</td>\n",
       "    </tr>\n",
       "    <tr>\n",
       "      <th>max</th>\n",
       "      <td>1.0</td>\n",
       "      <td>0.351551</td>\n",
       "      <td>1.0</td>\n",
       "      <td>0.335070</td>\n",
       "      <td>1.0</td>\n",
       "      <td>0.636364</td>\n",
       "      <td>1.0</td>\n",
       "      <td>1.0</td>\n",
       "      <td>1.0</td>\n",
       "      <td>0.9</td>\n",
       "      <td>1.0</td>\n",
       "      <td>1.0</td>\n",
       "      <td>0.0</td>\n",
       "    </tr>\n",
       "  </tbody>\n",
       "</table>\n",
       "</div>\n",
       "      <button class=\"colab-df-convert\" onclick=\"convertToInteractive('df-5e405600-9f7d-494f-b7a9-62abd7466fd8')\"\n",
       "              title=\"Convert this dataframe to an interactive table.\"\n",
       "              style=\"display:none;\">\n",
       "        \n",
       "  <svg xmlns=\"http://www.w3.org/2000/svg\" height=\"24px\"viewBox=\"0 0 24 24\"\n",
       "       width=\"24px\">\n",
       "    <path d=\"M0 0h24v24H0V0z\" fill=\"none\"/>\n",
       "    <path d=\"M18.56 5.44l.94 2.06.94-2.06 2.06-.94-2.06-.94-.94-2.06-.94 2.06-2.06.94zm-11 1L8.5 8.5l.94-2.06 2.06-.94-2.06-.94L8.5 2.5l-.94 2.06-2.06.94zm10 10l.94 2.06.94-2.06 2.06-.94-2.06-.94-.94-2.06-.94 2.06-2.06.94z\"/><path d=\"M17.41 7.96l-1.37-1.37c-.4-.4-.92-.59-1.43-.59-.52 0-1.04.2-1.43.59L10.3 9.45l-7.72 7.72c-.78.78-.78 2.05 0 2.83L4 21.41c.39.39.9.59 1.41.59.51 0 1.02-.2 1.41-.59l7.78-7.78 2.81-2.81c.8-.78.8-2.07 0-2.86zM5.41 20L4 18.59l7.72-7.72 1.47 1.35L5.41 20z\"/>\n",
       "  </svg>\n",
       "      </button>\n",
       "      \n",
       "  <style>\n",
       "    .colab-df-container {\n",
       "      display:flex;\n",
       "      flex-wrap:wrap;\n",
       "      gap: 12px;\n",
       "    }\n",
       "\n",
       "    .colab-df-convert {\n",
       "      background-color: #E8F0FE;\n",
       "      border: none;\n",
       "      border-radius: 50%;\n",
       "      cursor: pointer;\n",
       "      display: none;\n",
       "      fill: #1967D2;\n",
       "      height: 32px;\n",
       "      padding: 0 0 0 0;\n",
       "      width: 32px;\n",
       "    }\n",
       "\n",
       "    .colab-df-convert:hover {\n",
       "      background-color: #E2EBFA;\n",
       "      box-shadow: 0px 1px 2px rgba(60, 64, 67, 0.3), 0px 1px 3px 1px rgba(60, 64, 67, 0.15);\n",
       "      fill: #174EA6;\n",
       "    }\n",
       "\n",
       "    [theme=dark] .colab-df-convert {\n",
       "      background-color: #3B4455;\n",
       "      fill: #D2E3FC;\n",
       "    }\n",
       "\n",
       "    [theme=dark] .colab-df-convert:hover {\n",
       "      background-color: #434B5C;\n",
       "      box-shadow: 0px 1px 3px 1px rgba(0, 0, 0, 0.15);\n",
       "      filter: drop-shadow(0px 1px 2px rgba(0, 0, 0, 0.3));\n",
       "      fill: #FFFFFF;\n",
       "    }\n",
       "  </style>\n",
       "\n",
       "      <script>\n",
       "        const buttonEl =\n",
       "          document.querySelector('#df-5e405600-9f7d-494f-b7a9-62abd7466fd8 button.colab-df-convert');\n",
       "        buttonEl.style.display =\n",
       "          google.colab.kernel.accessAllowed ? 'block' : 'none';\n",
       "\n",
       "        async function convertToInteractive(key) {\n",
       "          const element = document.querySelector('#df-5e405600-9f7d-494f-b7a9-62abd7466fd8');\n",
       "          const dataTable =\n",
       "            await google.colab.kernel.invokeFunction('convertToInteractive',\n",
       "                                                     [key], {});\n",
       "          if (!dataTable) return;\n",
       "\n",
       "          const docLinkHtml = 'Like what you see? Visit the ' +\n",
       "            '<a target=\"_blank\" href=https://colab.research.google.com/notebooks/data_table.ipynb>data table notebook</a>'\n",
       "            + ' to learn more about interactive tables.';\n",
       "          element.innerHTML = '';\n",
       "          dataTable['output_type'] = 'display_data';\n",
       "          await google.colab.output.renderOutput(dataTable, element);\n",
       "          const docLink = document.createElement('div');\n",
       "          docLink.innerHTML = docLinkHtml;\n",
       "          element.appendChild(docLink);\n",
       "        }\n",
       "      </script>\n",
       "    </div>\n",
       "  </div>\n",
       "  "
      ],
      "text/plain": [
       "     store_nbr  onpromotion  cluster  dcoilwtico  year     month  day  \\\n",
       "min        0.0     0.000000      0.0    0.192941   1.0  0.000000  0.0   \n",
       "max        1.0     0.351551      1.0    0.335070   1.0  0.636364  1.0   \n",
       "\n",
       "     is_holiday  is_work_day  holiday_count  pay_day  prev_pay_day  \\\n",
       "min         0.0          0.0            0.0      0.0           0.0   \n",
       "max         1.0          1.0            0.9      1.0           1.0   \n",
       "\n",
       "     has_earthquake  \n",
       "min             0.0  \n",
       "max             0.0  "
      ]
     },
     "execution_count": 87,
     "metadata": {},
     "output_type": "execute_result"
    }
   ],
   "source": [
    "val_inputs.describe().loc[['min', 'max']]"
   ]
  },
  {
   "cell_type": "markdown",
   "metadata": {
    "id": "TloaVRRII-GS"
   },
   "source": [
    "## Encoding Categorical Data"
   ]
  },
  {
   "cell_type": "code",
   "execution_count": 88,
   "metadata": {
    "executionInfo": {
     "elapsed": 84,
     "status": "ok",
     "timestamp": 1677545344403,
     "user": {
      "displayName": "Rahul Gowda",
      "userId": "07531651890169502464"
     },
     "user_tz": -330
    },
    "id": "aZ2YR8qCJS4_"
   },
   "outputs": [],
   "source": [
    "from sklearn.preprocessing import OneHotEncoder"
   ]
  },
  {
   "cell_type": "code",
   "execution_count": 89,
   "metadata": {
    "executionInfo": {
     "elapsed": 83,
     "status": "ok",
     "timestamp": 1677545344403,
     "user": {
      "displayName": "Rahul Gowda",
      "userId": "07531651890169502464"
     },
     "user_tz": -330
    },
    "id": "J8fXm5emJdoy"
   },
   "outputs": [],
   "source": [
    "encoder = OneHotEncoder(sparse=False, handle_unknown='ignore').fit(sample_train_data[categorical_cols])"
   ]
  },
  {
   "cell_type": "code",
   "execution_count": 90,
   "metadata": {
    "executionInfo": {
     "elapsed": 84,
     "status": "ok",
     "timestamp": 1677545344404,
     "user": {
      "displayName": "Rahul Gowda",
      "userId": "07531651890169502464"
     },
     "user_tz": -330
    },
    "id": "PnONt4ZdJiM0"
   },
   "outputs": [],
   "source": [
    "encoded_cols = list(encoder.get_feature_names_out(categorical_cols))"
   ]
  },
  {
   "cell_type": "code",
   "execution_count": 91,
   "metadata": {
    "executionInfo": {
     "elapsed": 1031,
     "status": "ok",
     "timestamp": 1677545345352,
     "user": {
      "displayName": "Rahul Gowda",
      "userId": "07531651890169502464"
     },
     "user_tz": -330
    },
    "id": "EzhawbHfJfR0"
   },
   "outputs": [],
   "source": [
    "train_inputs[encoded_cols] = encoder.transform(train_inputs[categorical_cols])\n",
    "val_inputs[encoded_cols] = encoder.transform(val_inputs[categorical_cols])\n",
    "test_inputs[encoded_cols] = encoder.transform(test_inputs[categorical_cols])"
   ]
  },
  {
   "cell_type": "markdown",
   "metadata": {
    "id": "irNvMnIPJj-k"
   },
   "source": [
    "As a final step, let's drop the textual categorical columns, so that we're left with just numeric data."
   ]
  },
  {
   "cell_type": "code",
   "execution_count": 92,
   "metadata": {
    "executionInfo": {
     "elapsed": 1032,
     "status": "ok",
     "timestamp": 1677545345353,
     "user": {
      "displayName": "Rahul Gowda",
      "userId": "07531651890169502464"
     },
     "user_tz": -330
    },
    "id": "AHaP31lxJgei"
   },
   "outputs": [],
   "source": [
    "X_train = train_inputs[numeric_cols + encoded_cols]\n",
    "X_val = val_inputs[numeric_cols + encoded_cols]\n",
    "X_test = test_inputs[numeric_cols + encoded_cols]"
   ]
  },
  {
   "cell_type": "markdown",
   "metadata": {
    "id": "A1-yFB4uKMyX"
   },
   "source": [
    "# Kaggle Predict and Submition file"
   ]
  },
  {
   "cell_type": "code",
   "execution_count": 93,
   "metadata": {
    "executionInfo": {
     "elapsed": 30,
     "status": "ok",
     "timestamp": 1677545345354,
     "user": {
      "displayName": "Rahul Gowda",
      "userId": "07531651890169502464"
     },
     "user_tz": -330
    },
    "id": "s9Ib1dCrKKYM"
   },
   "outputs": [],
   "source": [
    "def predict_and_submit(model,fname):\n",
    "  \n",
    "  future_sales = model.fit(X_train, train_targets).predict(X_test)\n",
    "  sub_df = pd.read_csv('/content/store-sales-time-series-forecasting/sample_submission.csv')\n",
    "  sub_df['sales'] = future_sales\n",
    "  sub_df.to_csv(fname, index=None)\n",
    "  return sub_df"
   ]
  },
  {
   "cell_type": "markdown",
   "metadata": {
    "id": "izoY6GigJmoz"
   },
   "source": [
    "# Base Model"
   ]
  },
  {
   "cell_type": "markdown",
   "metadata": {
    "id": "MI-IsZtFY7Jd"
   },
   "source": [
    "## Linear Regressor"
   ]
  },
  {
   "cell_type": "code",
   "execution_count": 94,
   "metadata": {
    "executionInfo": {
     "elapsed": 29,
     "status": "ok",
     "timestamp": 1677545345354,
     "user": {
      "displayName": "Rahul Gowda",
      "userId": "07531651890169502464"
     },
     "user_tz": -330
    },
    "id": "T6l0DIoAJliJ"
   },
   "outputs": [],
   "source": [
    "from sklearn.linear_model import LinearRegression\n",
    "from sklearn.metrics import mean_squared_log_error"
   ]
  },
  {
   "cell_type": "code",
   "execution_count": 95,
   "metadata": {
    "executionInfo": {
     "elapsed": 29,
     "status": "ok",
     "timestamp": 1677545345354,
     "user": {
      "displayName": "Rahul Gowda",
      "userId": "07531651890169502464"
     },
     "user_tz": -330
    },
    "id": "aWBFhe8pJoLJ"
   },
   "outputs": [],
   "source": [
    "reg = LinearRegression().fit(X_train, train_targets)"
   ]
  },
  {
   "cell_type": "code",
   "execution_count": 96,
   "metadata": {
    "executionInfo": {
     "elapsed": 29,
     "status": "ok",
     "timestamp": 1677545345355,
     "user": {
      "displayName": "Rahul Gowda",
      "userId": "07531651890169502464"
     },
     "user_tz": -330
    },
    "id": "EOoxEC2bJpWs"
   },
   "outputs": [],
   "source": [
    "val_preds=reg.predict(X_val)"
   ]
  },
  {
   "cell_type": "code",
   "execution_count": 97,
   "metadata": {
    "executionInfo": {
     "elapsed": 28,
     "status": "ok",
     "timestamp": 1677545345355,
     "user": {
      "displayName": "Rahul Gowda",
      "userId": "07531651890169502464"
     },
     "user_tz": -330
    },
    "id": "4eTNestSJqn1"
   },
   "outputs": [],
   "source": [
    "#The val_predictions have neagtive values , replacing them with zero\n",
    "new_list = [0 if i < 0 else i for i in val_preds]"
   ]
  },
  {
   "cell_type": "code",
   "execution_count": 98,
   "metadata": {
    "colab": {
     "base_uri": "https://localhost:8080/"
    },
    "executionInfo": {
     "elapsed": 29,
     "status": "ok",
     "timestamp": 1677545345356,
     "user": {
      "displayName": "Rahul Gowda",
      "userId": "07531651890169502464"
     },
     "user_tz": -330
    },
    "id": "qgkWRq8RJrwp",
    "outputId": "348ebc68-12ac-4c3c-a866-47df7160b27f"
   },
   "outputs": [
    {
     "data": {
      "text/plain": [
       "2.496478813237759"
      ]
     },
     "execution_count": 98,
     "metadata": {},
     "output_type": "execute_result"
    }
   ],
   "source": [
    "mean_squared_log_error(val_targets, new_list, squared=False)"
   ]
  },
  {
   "cell_type": "markdown",
   "metadata": {
    "id": "33uyZdMWY3kM"
   },
   "source": [
    "## Ridge"
   ]
  },
  {
   "cell_type": "code",
   "execution_count": 100,
   "metadata": {
    "executionInfo": {
     "elapsed": 471,
     "status": "ok",
     "timestamp": 1677545419162,
     "user": {
      "displayName": "Rahul Gowda",
      "userId": "07531651890169502464"
     },
     "user_tz": -330
    },
    "id": "NQ-idTM5fwLp"
   },
   "outputs": [],
   "source": [
    "from sklearn.linear_model import Ridge"
   ]
  },
  {
   "cell_type": "code",
   "execution_count": 101,
   "metadata": {
    "colab": {
     "base_uri": "https://localhost:8080/"
    },
    "executionInfo": {
     "elapsed": 5771,
     "status": "ok",
     "timestamp": 1677545431632,
     "user": {
      "displayName": "Rahul Gowda",
      "userId": "07531651890169502464"
     },
     "user_tz": -330
    },
    "id": "YRIBvYyMXwcU",
    "outputId": "f35f5d97-b173-4d07-dc07-c1ae8ed0d464"
   },
   "outputs": [
    {
     "data": {
      "text/plain": [
       "Ridge()"
      ]
     },
     "execution_count": 101,
     "metadata": {},
     "output_type": "execute_result"
    }
   ],
   "source": [
    "rdg_model = Ridge()\n",
    "rdg_model.fit(X_train, train_targets)"
   ]
  },
  {
   "cell_type": "code",
   "execution_count": 102,
   "metadata": {
    "executionInfo": {
     "elapsed": 16,
     "status": "ok",
     "timestamp": 1677545431633,
     "user": {
      "displayName": "Rahul Gowda",
      "userId": "07531651890169502464"
     },
     "user_tz": -330
    },
    "id": "_meRKWU5YOBE"
   },
   "outputs": [],
   "source": [
    "rdg_v_preds = rdg_model.predict(X_val)"
   ]
  },
  {
   "cell_type": "code",
   "execution_count": 103,
   "metadata": {
    "colab": {
     "base_uri": "https://localhost:8080/"
    },
    "executionInfo": {
     "elapsed": 46,
     "status": "ok",
     "timestamp": 1677545432057,
     "user": {
      "displayName": "Rahul Gowda",
      "userId": "07531651890169502464"
     },
     "user_tz": -330
    },
    "id": "OP16K57pYYJm",
    "outputId": "941720bf-b0b3-481a-c28d-30675a1b243a"
   },
   "outputs": [
    {
     "data": {
      "text/plain": [
       "2.525493944716415"
      ]
     },
     "execution_count": 103,
     "metadata": {},
     "output_type": "execute_result"
    }
   ],
   "source": [
    "#The val_predictions have neagtive values , replacing them with zero\n",
    "rgd_val_predictions = [0 if i < 0 else i for i in rdg_v_preds]\n",
    "\n",
    "mean_squared_log_error(val_targets, rgd_val_predictions, squared=False)"
   ]
  },
  {
   "cell_type": "code",
   "execution_count": 104,
   "metadata": {
    "colab": {
     "base_uri": "https://localhost:8080/",
     "height": 423
    },
    "executionInfo": {
     "elapsed": 46,
     "status": "ok",
     "timestamp": 1677545432059,
     "user": {
      "displayName": "Rahul Gowda",
      "userId": "07531651890169502464"
     },
     "user_tz": -330
    },
    "id": "Dc2qBoDFmcA9",
    "outputId": "8b5847c5-32b7-452b-eafa-f510af6160f8"
   },
   "outputs": [
    {
     "data": {
      "text/html": [
       "\n",
       "  <div id=\"df-5efd7fd5-65b0-4d92-be39-6571f8c184de\">\n",
       "    <div class=\"colab-df-container\">\n",
       "      <div>\n",
       "<style scoped>\n",
       "    .dataframe tbody tr th:only-of-type {\n",
       "        vertical-align: middle;\n",
       "    }\n",
       "\n",
       "    .dataframe tbody tr th {\n",
       "        vertical-align: top;\n",
       "    }\n",
       "\n",
       "    .dataframe thead th {\n",
       "        text-align: right;\n",
       "    }\n",
       "</style>\n",
       "<table border=\"1\" class=\"dataframe\">\n",
       "  <thead>\n",
       "    <tr style=\"text-align: right;\">\n",
       "      <th></th>\n",
       "      <th>id</th>\n",
       "      <th>sales</th>\n",
       "    </tr>\n",
       "  </thead>\n",
       "  <tbody>\n",
       "    <tr>\n",
       "      <th>0</th>\n",
       "      <td>3000888</td>\n",
       "      <td>113.750</td>\n",
       "    </tr>\n",
       "    <tr>\n",
       "      <th>1</th>\n",
       "      <td>3000889</td>\n",
       "      <td>104.250</td>\n",
       "    </tr>\n",
       "    <tr>\n",
       "      <th>2</th>\n",
       "      <td>3000890</td>\n",
       "      <td>157.000</td>\n",
       "    </tr>\n",
       "    <tr>\n",
       "      <th>3</th>\n",
       "      <td>3000891</td>\n",
       "      <td>2461.750</td>\n",
       "    </tr>\n",
       "    <tr>\n",
       "      <th>4</th>\n",
       "      <td>3000892</td>\n",
       "      <td>114.250</td>\n",
       "    </tr>\n",
       "    <tr>\n",
       "      <th>...</th>\n",
       "      <td>...</td>\n",
       "      <td>...</td>\n",
       "    </tr>\n",
       "    <tr>\n",
       "      <th>28507</th>\n",
       "      <td>3029395</td>\n",
       "      <td>409.375</td>\n",
       "    </tr>\n",
       "    <tr>\n",
       "      <th>28508</th>\n",
       "      <td>3029396</td>\n",
       "      <td>184.125</td>\n",
       "    </tr>\n",
       "    <tr>\n",
       "      <th>28509</th>\n",
       "      <td>3029397</td>\n",
       "      <td>808.125</td>\n",
       "    </tr>\n",
       "    <tr>\n",
       "      <th>28510</th>\n",
       "      <td>3029398</td>\n",
       "      <td>294.875</td>\n",
       "    </tr>\n",
       "    <tr>\n",
       "      <th>28511</th>\n",
       "      <td>3029399</td>\n",
       "      <td>104.625</td>\n",
       "    </tr>\n",
       "  </tbody>\n",
       "</table>\n",
       "<p>28512 rows × 2 columns</p>\n",
       "</div>\n",
       "      <button class=\"colab-df-convert\" onclick=\"convertToInteractive('df-5efd7fd5-65b0-4d92-be39-6571f8c184de')\"\n",
       "              title=\"Convert this dataframe to an interactive table.\"\n",
       "              style=\"display:none;\">\n",
       "        \n",
       "  <svg xmlns=\"http://www.w3.org/2000/svg\" height=\"24px\"viewBox=\"0 0 24 24\"\n",
       "       width=\"24px\">\n",
       "    <path d=\"M0 0h24v24H0V0z\" fill=\"none\"/>\n",
       "    <path d=\"M18.56 5.44l.94 2.06.94-2.06 2.06-.94-2.06-.94-.94-2.06-.94 2.06-2.06.94zm-11 1L8.5 8.5l.94-2.06 2.06-.94-2.06-.94L8.5 2.5l-.94 2.06-2.06.94zm10 10l.94 2.06.94-2.06 2.06-.94-2.06-.94-.94-2.06-.94 2.06-2.06.94z\"/><path d=\"M17.41 7.96l-1.37-1.37c-.4-.4-.92-.59-1.43-.59-.52 0-1.04.2-1.43.59L10.3 9.45l-7.72 7.72c-.78.78-.78 2.05 0 2.83L4 21.41c.39.39.9.59 1.41.59.51 0 1.02-.2 1.41-.59l7.78-7.78 2.81-2.81c.8-.78.8-2.07 0-2.86zM5.41 20L4 18.59l7.72-7.72 1.47 1.35L5.41 20z\"/>\n",
       "  </svg>\n",
       "      </button>\n",
       "      \n",
       "  <style>\n",
       "    .colab-df-container {\n",
       "      display:flex;\n",
       "      flex-wrap:wrap;\n",
       "      gap: 12px;\n",
       "    }\n",
       "\n",
       "    .colab-df-convert {\n",
       "      background-color: #E8F0FE;\n",
       "      border: none;\n",
       "      border-radius: 50%;\n",
       "      cursor: pointer;\n",
       "      display: none;\n",
       "      fill: #1967D2;\n",
       "      height: 32px;\n",
       "      padding: 0 0 0 0;\n",
       "      width: 32px;\n",
       "    }\n",
       "\n",
       "    .colab-df-convert:hover {\n",
       "      background-color: #E2EBFA;\n",
       "      box-shadow: 0px 1px 2px rgba(60, 64, 67, 0.3), 0px 1px 3px 1px rgba(60, 64, 67, 0.15);\n",
       "      fill: #174EA6;\n",
       "    }\n",
       "\n",
       "    [theme=dark] .colab-df-convert {\n",
       "      background-color: #3B4455;\n",
       "      fill: #D2E3FC;\n",
       "    }\n",
       "\n",
       "    [theme=dark] .colab-df-convert:hover {\n",
       "      background-color: #434B5C;\n",
       "      box-shadow: 0px 1px 3px 1px rgba(0, 0, 0, 0.15);\n",
       "      filter: drop-shadow(0px 1px 2px rgba(0, 0, 0, 0.3));\n",
       "      fill: #FFFFFF;\n",
       "    }\n",
       "  </style>\n",
       "\n",
       "      <script>\n",
       "        const buttonEl =\n",
       "          document.querySelector('#df-5efd7fd5-65b0-4d92-be39-6571f8c184de button.colab-df-convert');\n",
       "        buttonEl.style.display =\n",
       "          google.colab.kernel.accessAllowed ? 'block' : 'none';\n",
       "\n",
       "        async function convertToInteractive(key) {\n",
       "          const element = document.querySelector('#df-5efd7fd5-65b0-4d92-be39-6571f8c184de');\n",
       "          const dataTable =\n",
       "            await google.colab.kernel.invokeFunction('convertToInteractive',\n",
       "                                                     [key], {});\n",
       "          if (!dataTable) return;\n",
       "\n",
       "          const docLinkHtml = 'Like what you see? Visit the ' +\n",
       "            '<a target=\"_blank\" href=https://colab.research.google.com/notebooks/data_table.ipynb>data table notebook</a>'\n",
       "            + ' to learn more about interactive tables.';\n",
       "          element.innerHTML = '';\n",
       "          dataTable['output_type'] = 'display_data';\n",
       "          await google.colab.output.renderOutput(dataTable, element);\n",
       "          const docLink = document.createElement('div');\n",
       "          docLink.innerHTML = docLinkHtml;\n",
       "          element.appendChild(docLink);\n",
       "        }\n",
       "      </script>\n",
       "    </div>\n",
       "  </div>\n",
       "  "
      ],
      "text/plain": [
       "            id     sales\n",
       "0      3000888   113.750\n",
       "1      3000889   104.250\n",
       "2      3000890   157.000\n",
       "3      3000891  2461.750\n",
       "4      3000892   114.250\n",
       "...        ...       ...\n",
       "28507  3029395   409.375\n",
       "28508  3029396   184.125\n",
       "28509  3029397   808.125\n",
       "28510  3029398   294.875\n",
       "28511  3029399   104.625\n",
       "\n",
       "[28512 rows x 2 columns]"
      ]
     },
     "execution_count": 104,
     "metadata": {},
     "output_type": "execute_result"
    }
   ],
   "source": [
    "predict_and_submit(LinearRegression(),'base_model_forecast.csv')"
   ]
  },
  {
   "cell_type": "markdown",
   "metadata": {
    "id": "hhjtCt73JvNA"
   },
   "source": [
    "# Model Selection"
   ]
  },
  {
   "cell_type": "code",
   "execution_count": 105,
   "metadata": {
    "executionInfo": {
     "elapsed": 44,
     "status": "ok",
     "timestamp": 1677545432059,
     "user": {
      "displayName": "Rahul Gowda",
      "userId": "07531651890169502464"
     },
     "user_tz": -330
    },
    "id": "DALRIbYxJzYz"
   },
   "outputs": [],
   "source": [
    "def try_model(model):\n",
    "\n",
    "    from sklearn.metrics import mean_squared_log_error\n",
    "    # Fit the model\n",
    "    model.fit(X_train, train_targets)\n",
    " \n",
    "    # Generate predictions\n",
    "    train_preds = model.predict(X_train)\n",
    "    val_preds = model.predict(X_val)\n",
    "    \n",
    "    # If the prediciton contains negative vales then they are replaced with zero \n",
    "    train_list = [0 if i < 0 else i for i in train_preds]\n",
    "    val_list = [0 if i < 0 else i for i in val_preds]\n",
    "    \n",
    "    # Compute Errors or loss\n",
    "    train_error = mean_squared_log_error(train_targets, train_list, squared=False)\n",
    "    val_error = mean_squared_log_error(val_targets, val_list, squared=False)\n",
    "\n",
    "    #Feature importance\n",
    "    importance_df = pd.DataFrame({  'feature': X_train.columns, 'importance': model.feature_importances_  }).sort_values('importance', ascending=False)\n",
    "    \n",
    "\n",
    "    return print(\"Train_set Error :\",train_error ),print(\"Validation_set Error :\",val_error ) , sns.barplot(data=importance_df.head(10), x='importance', y='feature').set(title='Feature Importance');"
   ]
  },
  {
   "cell_type": "code",
   "execution_count": 106,
   "metadata": {
    "colab": {
     "base_uri": "https://localhost:8080/",
     "height": 382
    },
    "executionInfo": {
     "elapsed": 496,
     "status": "ok",
     "timestamp": 1677545432511,
     "user": {
      "displayName": "Rahul Gowda",
      "userId": "07531651890169502464"
     },
     "user_tz": -330
    },
    "id": "x1zI1lbkJ0zA",
    "outputId": "bcf5bb72-0bd2-4beb-e9c0-adeb71680be1"
   },
   "outputs": [
    {
     "name": "stdout",
     "output_type": "stream",
     "text": [
      "Train_set Error : 8.914929447982509e-08\n",
      "Validation_set Error : 1.5697862502362578\n",
      "CPU times: user 1.11 s, sys: 649 µs, total: 1.11 s\n",
      "Wall time: 1.13 s\n"
     ]
    },
    {
     "data": {
      "text/plain": [
       "(None, None, [Text(0.5, 1.0, 'Feature Importance')])"
      ]
     },
     "execution_count": 106,
     "metadata": {},
     "output_type": "execute_result"
    },
    {
     "data": {
      "image/png": "[encoded data removed]",
      "text/plain": [
       "<Figure size 432x288 with 1 Axes>"
      ]
     },
     "metadata": {
      "needs_background": "light"
     },
     "output_type": "display_data"
    }
   ],
   "source": [
    "%%time\n",
    "try_model(DecisionTreeRegressor())"
   ]
  },
  {
   "cell_type": "code",
   "execution_count": 107,
   "metadata": {
    "colab": {
     "base_uri": "https://localhost:8080/",
     "height": 399
    },
    "executionInfo": {
     "elapsed": 10861,
     "status": "ok",
     "timestamp": 1677545443349,
     "user": {
      "displayName": "Rahul Gowda",
      "userId": "07531651890169502464"
     },
     "user_tz": -330
    },
    "id": "a48xreuKJ3tH",
    "outputId": "e20c0d6d-fae4-416e-8007-31bab62d21dc"
   },
   "outputs": [
    {
     "name": "stdout",
     "output_type": "stream",
     "text": [
      "[00:50:32] WARNING: /workspace/src/objective/regression_obj.cu:152: reg:linear is now deprecated in favor of reg:squarederror.\n",
      "Train_set Error : 2.524040091444358\n",
      "Validation_set Error : 1.9499956105220513\n",
      "CPU times: user 10.4 s, sys: 156 ms, total: 10.5 s\n",
      "Wall time: 10.6 s\n"
     ]
    },
    {
     "data": {
      "text/plain": [
       "(None, None, [Text(0.5, 1.0, 'Feature Importance')])"
      ]
     },
     "execution_count": 107,
     "metadata": {},
     "output_type": "execute_result"
    },
    {
     "data": {
      "image/png": "[encoded data removed]",
      "text/plain": [
       "<Figure size 432x288 with 1 Axes>"
      ]
     },
     "metadata": {
      "needs_background": "light"
     },
     "output_type": "display_data"
    }
   ],
   "source": [
    "%%time\n",
    "try_model(XGBRegressor())"
   ]
  },
  {
   "cell_type": "code",
   "execution_count": 108,
   "metadata": {
    "colab": {
     "base_uri": "https://localhost:8080/",
     "height": 382
    },
    "executionInfo": {
     "elapsed": 69330,
     "status": "ok",
     "timestamp": 1677545512643,
     "user": {
      "displayName": "Rahul Gowda",
      "userId": "07531651890169502464"
     },
     "user_tz": -330
    },
    "id": "MSTJZcK_J5I3",
    "outputId": "23501f09-3097-4df0-96e1-1b4cc33d873b"
   },
   "outputs": [
    {
     "name": "stdout",
     "output_type": "stream",
     "text": [
      "Train_set Error : 0.7431072289859387\n",
      "Validation_set Error : 1.0864388324530918\n",
      "CPU times: user 1min 7s, sys: 315 ms, total: 1min 8s\n",
      "Wall time: 1min 8s\n"
     ]
    },
    {
     "data": {
      "text/plain": [
       "(None, None, [Text(0.5, 1.0, 'Feature Importance')])"
      ]
     },
     "execution_count": 108,
     "metadata": {},
     "output_type": "execute_result"
    },
    {
     "data": {
      "image/png": "[encoded data removed]",
      "text/plain": [
       "<Figure size 432x288 with 1 Axes>"
      ]
     },
     "metadata": {
      "needs_background": "light"
     },
     "output_type": "display_data"
    }
   ],
   "source": [
    "%%time\n",
    "try_model(RandomForestRegressor())"
   ]
  },
  {
   "cell_type": "markdown",
   "metadata": {
    "id": "KCBTAbzNpGwA"
   },
   "source": [
    "From the above results Random Forest Regressor gives the least error for the Validation set\n"
   ]
  },
  {
   "cell_type": "code",
   "execution_count": 109,
   "metadata": {
    "colab": {
     "base_uri": "https://localhost:8080/",
     "height": 423
    },
    "executionInfo": {
     "elapsed": 63301,
     "status": "ok",
     "timestamp": 1677545575909,
     "user": {
      "displayName": "Rahul Gowda",
      "userId": "07531651890169502464"
     },
     "user_tz": -330
    },
    "id": "6O8Oxrq8uGcA",
    "outputId": "bd950a5b-7aeb-4b70-d077-7567b4cf3f22"
   },
   "outputs": [
    {
     "data": {
      "text/html": [
       "\n",
       "  <div id=\"df-66a3e3e8-7bf8-4db3-8f7c-be9a582dfc64\">\n",
       "    <div class=\"colab-df-container\">\n",
       "      <div>\n",
       "<style scoped>\n",
       "    .dataframe tbody tr th:only-of-type {\n",
       "        vertical-align: middle;\n",
       "    }\n",
       "\n",
       "    .dataframe tbody tr th {\n",
       "        vertical-align: top;\n",
       "    }\n",
       "\n",
       "    .dataframe thead th {\n",
       "        text-align: right;\n",
       "    }\n",
       "</style>\n",
       "<table border=\"1\" class=\"dataframe\">\n",
       "  <thead>\n",
       "    <tr style=\"text-align: right;\">\n",
       "      <th></th>\n",
       "      <th>id</th>\n",
       "      <th>sales</th>\n",
       "    </tr>\n",
       "  </thead>\n",
       "  <tbody>\n",
       "    <tr>\n",
       "      <th>0</th>\n",
       "      <td>3000888</td>\n",
       "      <td>4.640000</td>\n",
       "    </tr>\n",
       "    <tr>\n",
       "      <th>1</th>\n",
       "      <td>3000889</td>\n",
       "      <td>0.100000</td>\n",
       "    </tr>\n",
       "    <tr>\n",
       "      <th>2</th>\n",
       "      <td>3000890</td>\n",
       "      <td>28.516580</td>\n",
       "    </tr>\n",
       "    <tr>\n",
       "      <th>3</th>\n",
       "      <td>3000891</td>\n",
       "      <td>2168.990000</td>\n",
       "    </tr>\n",
       "    <tr>\n",
       "      <th>4</th>\n",
       "      <td>3000892</td>\n",
       "      <td>0.080000</td>\n",
       "    </tr>\n",
       "    <tr>\n",
       "      <th>...</th>\n",
       "      <td>...</td>\n",
       "      <td>...</td>\n",
       "    </tr>\n",
       "    <tr>\n",
       "      <th>28507</th>\n",
       "      <td>3029395</td>\n",
       "      <td>416.015793</td>\n",
       "    </tr>\n",
       "    <tr>\n",
       "      <th>28508</th>\n",
       "      <td>3029396</td>\n",
       "      <td>76.346960</td>\n",
       "    </tr>\n",
       "    <tr>\n",
       "      <th>28509</th>\n",
       "      <td>3029397</td>\n",
       "      <td>1511.334262</td>\n",
       "    </tr>\n",
       "    <tr>\n",
       "      <th>28510</th>\n",
       "      <td>3029398</td>\n",
       "      <td>127.115544</td>\n",
       "    </tr>\n",
       "    <tr>\n",
       "      <th>28511</th>\n",
       "      <td>3029399</td>\n",
       "      <td>21.449030</td>\n",
       "    </tr>\n",
       "  </tbody>\n",
       "</table>\n",
       "<p>28512 rows × 2 columns</p>\n",
       "</div>\n",
       "      <button class=\"colab-df-convert\" onclick=\"convertToInteractive('df-66a3e3e8-7bf8-4db3-8f7c-be9a582dfc64')\"\n",
       "              title=\"Convert this dataframe to an interactive table.\"\n",
       "              style=\"display:none;\">\n",
       "        \n",
       "  <svg xmlns=\"http://www.w3.org/2000/svg\" height=\"24px\"viewBox=\"0 0 24 24\"\n",
       "       width=\"24px\">\n",
       "    <path d=\"M0 0h24v24H0V0z\" fill=\"none\"/>\n",
       "    <path d=\"M18.56 5.44l.94 2.06.94-2.06 2.06-.94-2.06-.94-.94-2.06-.94 2.06-2.06.94zm-11 1L8.5 8.5l.94-2.06 2.06-.94-2.06-.94L8.5 2.5l-.94 2.06-2.06.94zm10 10l.94 2.06.94-2.06 2.06-.94-2.06-.94-.94-2.06-.94 2.06-2.06.94z\"/><path d=\"M17.41 7.96l-1.37-1.37c-.4-.4-.92-.59-1.43-.59-.52 0-1.04.2-1.43.59L10.3 9.45l-7.72 7.72c-.78.78-.78 2.05 0 2.83L4 21.41c.39.39.9.59 1.41.59.51 0 1.02-.2 1.41-.59l7.78-7.78 2.81-2.81c.8-.78.8-2.07 0-2.86zM5.41 20L4 18.59l7.72-7.72 1.47 1.35L5.41 20z\"/>\n",
       "  </svg>\n",
       "      </button>\n",
       "      \n",
       "  <style>\n",
       "    .colab-df-container {\n",
       "      display:flex;\n",
       "      flex-wrap:wrap;\n",
       "      gap: 12px;\n",
       "    }\n",
       "\n",
       "    .colab-df-convert {\n",
       "      background-color: #E8F0FE;\n",
       "      border: none;\n",
       "      border-radius: 50%;\n",
       "      cursor: pointer;\n",
       "      display: none;\n",
       "      fill: #1967D2;\n",
       "      height: 32px;\n",
       "      padding: 0 0 0 0;\n",
       "      width: 32px;\n",
       "    }\n",
       "\n",
       "    .colab-df-convert:hover {\n",
       "      background-color: #E2EBFA;\n",
       "      box-shadow: 0px 1px 2px rgba(60, 64, 67, 0.3), 0px 1px 3px 1px rgba(60, 64, 67, 0.15);\n",
       "      fill: #174EA6;\n",
       "    }\n",
       "\n",
       "    [theme=dark] .colab-df-convert {\n",
       "      background-color: #3B4455;\n",
       "      fill: #D2E3FC;\n",
       "    }\n",
       "\n",
       "    [theme=dark] .colab-df-convert:hover {\n",
       "      background-color: #434B5C;\n",
       "      box-shadow: 0px 1px 3px 1px rgba(0, 0, 0, 0.15);\n",
       "      filter: drop-shadow(0px 1px 2px rgba(0, 0, 0, 0.3));\n",
       "      fill: #FFFFFF;\n",
       "    }\n",
       "  </style>\n",
       "\n",
       "      <script>\n",
       "        const buttonEl =\n",
       "          document.querySelector('#df-66a3e3e8-7bf8-4db3-8f7c-be9a582dfc64 button.colab-df-convert');\n",
       "        buttonEl.style.display =\n",
       "          google.colab.kernel.accessAllowed ? 'block' : 'none';\n",
       "\n",
       "        async function convertToInteractive(key) {\n",
       "          const element = document.querySelector('#df-66a3e3e8-7bf8-4db3-8f7c-be9a582dfc64');\n",
       "          const dataTable =\n",
       "            await google.colab.kernel.invokeFunction('convertToInteractive',\n",
       "                                                     [key], {});\n",
       "          if (!dataTable) return;\n",
       "\n",
       "          const docLinkHtml = 'Like what you see? Visit the ' +\n",
       "            '<a target=\"_blank\" href=https://colab.research.google.com/notebooks/data_table.ipynb>data table notebook</a>'\n",
       "            + ' to learn more about interactive tables.';\n",
       "          element.innerHTML = '';\n",
       "          dataTable['output_type'] = 'display_data';\n",
       "          await google.colab.output.renderOutput(dataTable, element);\n",
       "          const docLink = document.createElement('div');\n",
       "          docLink.innerHTML = docLinkHtml;\n",
       "          element.appendChild(docLink);\n",
       "        }\n",
       "      </script>\n",
       "    </div>\n",
       "  </div>\n",
       "  "
      ],
      "text/plain": [
       "            id        sales\n",
       "0      3000888     4.640000\n",
       "1      3000889     0.100000\n",
       "2      3000890    28.516580\n",
       "3      3000891  2168.990000\n",
       "4      3000892     0.080000\n",
       "...        ...          ...\n",
       "28507  3029395   416.015793\n",
       "28508  3029396    76.346960\n",
       "28509  3029397  1511.334262\n",
       "28510  3029398   127.115544\n",
       "28511  3029399    21.449030\n",
       "\n",
       "[28512 rows x 2 columns]"
      ]
     },
     "execution_count": 109,
     "metadata": {},
     "output_type": "execute_result"
    }
   ],
   "source": [
    "predict_and_submit(RandomForestRegressor(),'Random_Forest_Resgressor_forecast.csv')"
   ]
  },
  {
   "cell_type": "markdown",
   "metadata": {
    "id": "yKo7f7vAJ764"
   },
   "source": [
    "# Hyperparameter Tuning with Random Forests"
   ]
  },
  {
   "cell_type": "code",
   "execution_count": 110,
   "metadata": {
    "executionInfo": {
     "elapsed": 67875,
     "status": "ok",
     "timestamp": 1677545643779,
     "user": {
      "displayName": "Rahul Gowda",
      "userId": "07531651890169502464"
     },
     "user_tz": -330
    },
    "id": "VQl7yYfuaQdO"
   },
   "outputs": [],
   "source": [
    "model = RandomForestRegressor().fit(X_train, train_targets)"
   ]
  },
  {
   "cell_type": "code",
   "execution_count": 111,
   "metadata": {
    "colab": {
     "base_uri": "https://localhost:8080/"
    },
    "executionInfo": {
     "elapsed": 452,
     "status": "ok",
     "timestamp": 1677545644212,
     "user": {
      "displayName": "Rahul Gowda",
      "userId": "07531651890169502464"
     },
     "user_tz": -330
    },
    "id": "krxGK7OTaXmm",
    "outputId": "eb4c6d2b-ca97-4d3e-a8e6-1b3f5cf85d70"
   },
   "outputs": [
    {
     "data": {
      "text/plain": [
       "1.1053873906996705"
      ]
     },
     "execution_count": 111,
     "metadata": {},
     "output_type": "execute_result"
    }
   ],
   "source": [
    "mean_squared_log_error(model.predict(X_val), val_targets, squared=False)"
   ]
  },
  {
   "cell_type": "code",
   "execution_count": 112,
   "metadata": {
    "colab": {
     "base_uri": "https://localhost:8080/"
    },
    "executionInfo": {
     "elapsed": 30,
     "status": "ok",
     "timestamp": 1677545644213,
     "user": {
      "displayName": "Rahul Gowda",
      "userId": "07531651890169502464"
     },
     "user_tz": -330
    },
    "id": "wj2w9q_kZ2kh",
    "outputId": "2f67cee8-f908-46ec-cf78-7cb31a7625f8"
   },
   "outputs": [
    {
     "data": {
      "text/plain": [
       "{'bootstrap': True,\n",
       " 'ccp_alpha': 0.0,\n",
       " 'criterion': 'squared_error',\n",
       " 'max_depth': None,\n",
       " 'max_features': 'auto',\n",
       " 'max_leaf_nodes': None,\n",
       " 'max_samples': None,\n",
       " 'min_impurity_decrease': 0.0,\n",
       " 'min_samples_leaf': 1,\n",
       " 'min_samples_split': 2,\n",
       " 'min_weight_fraction_leaf': 0.0,\n",
       " 'n_estimators': 100,\n",
       " 'n_jobs': None,\n",
       " 'oob_score': False,\n",
       " 'random_state': None,\n",
       " 'verbose': 0,\n",
       " 'warm_start': False}"
      ]
     },
     "execution_count": 112,
     "metadata": {},
     "output_type": "execute_result"
    }
   ],
   "source": [
    "model.get_params(deep=True)"
   ]
  },
  {
   "cell_type": "code",
   "execution_count": 120,
   "metadata": {
    "executionInfo": {
     "elapsed": 414,
     "status": "ok",
     "timestamp": 1677545847759,
     "user": {
      "displayName": "Rahul Gowda",
      "userId": "07531651890169502464"
     },
     "user_tz": -330
    },
    "id": "SUvS7eRd7gax"
   },
   "outputs": [],
   "source": [
    "def test_params(**params):\n",
    "    model = RandomForestRegressor(random_state=42, n_jobs=-1, **params).fit(X_train, train_targets)\n",
    "    train_rmsle = mean_squared_log_error(model.predict(X_train), train_targets, squared=False)\n",
    "    val_rmsle = mean_squared_log_error(model.predict(X_val), val_targets, squared=False)\n",
    "    return train_rmsle, val_rmsle"
   ]
  },
  {
   "cell_type": "code",
   "execution_count": 123,
   "metadata": {
    "executionInfo": {
     "elapsed": 515,
     "status": "ok",
     "timestamp": 1677545890668,
     "user": {
      "displayName": "Rahul Gowda",
      "userId": "07531651890169502464"
     },
     "user_tz": -330
    },
    "id": "rhySeB9j8dvX"
   },
   "outputs": [],
   "source": [
    "def test_param_and_plot(param_name, param_values):\n",
    "    train_errors, val_errors = [], [] \n",
    "    for value in param_values:\n",
    "        params = {param_name: value}\n",
    "        train_rmsle, val_rmsle = test_params(**params)\n",
    "        train_errors.append(train_rmsle)\n",
    "        val_errors.append(val_rmsle)\n",
    "    plt.figure(figsize=(10,6))\n",
    "    plt.title('Overfitting curve: ' + param_name)\n",
    "    plt.plot(param_values, train_errors, 'b-o')\n",
    "    plt.plot(param_values, val_errors, 'r-o')\n",
    "    plt.xlabel(param_name)\n",
    "    plt.ylabel('RMSE')\n",
    "    plt.legend(['Training', 'Validation'])"
   ]
  },
  {
   "cell_type": "code",
   "execution_count": 124,
   "metadata": {
    "colab": {
     "base_uri": "https://localhost:8080/",
     "height": 405
    },
    "executionInfo": {
     "elapsed": 198476,
     "status": "ok",
     "timestamp": 1677546090521,
     "user": {
      "displayName": "Rahul Gowda",
      "userId": "07531651890169502464"
     },
     "user_tz": -330
    },
    "id": "6vHs06cz9ujF",
    "outputId": "dfecee0a-6eeb-4add-87d6-d13e43382514"
   },
   "outputs": [
    {
     "data": {
      "image/png": "[encoded data removed]",
      "text/plain": [
       "<Figure size 720x432 with 1 Axes>"
      ]
     },
     "metadata": {
      "needs_background": "light"
     },
     "output_type": "display_data"
    }
   ],
   "source": [
    "test_param_and_plot('max_depth', [10, 20, 30, 35, 40])"
   ]
  },
  {
   "cell_type": "code",
   "execution_count": 125,
   "metadata": {
    "colab": {
     "base_uri": "https://localhost:8080/",
     "height": 405
    },
    "executionInfo": {
     "elapsed": 517910,
     "status": "ok",
     "timestamp": 1677546608394,
     "user": {
      "displayName": "Rahul Gowda",
      "userId": "07531651890169502464"
     },
     "user_tz": -330
    },
    "id": "QVG1PMkH9ul7",
    "outputId": "d29dd6d2-1f0b-46e3-8f02-e800b4cc9e15"
   },
   "outputs": [
    {
     "data": {
      "image/png": "[encoded data removed]",
      "text/plain": [
       "<Figure size 720x432 with 1 Axes>"
      ]
     },
     "metadata": {
      "needs_background": "light"
     },
     "output_type": "display_data"
    }
   ],
   "source": [
    "test_param_and_plot('n_estimators', [100,200,300,400])"
   ]
  },
  {
   "cell_type": "code",
   "execution_count": 126,
   "metadata": {
    "colab": {
     "base_uri": "https://localhost:8080/",
     "height": 405
    },
    "executionInfo": {
     "elapsed": 129741,
     "status": "ok",
     "timestamp": 1677546738082,
     "user": {
      "displayName": "Rahul Gowda",
      "userId": "07531651890169502464"
     },
     "user_tz": -330
    },
    "id": "QgoX4OLa-BiS",
    "outputId": "49c14079-87b9-4b22-f284-e9356c858813"
   },
   "outputs": [
    {
     "data": {
      "image/png": "[encoded data removed]",
      "text/plain": [
       "<Figure size 720x432 with 1 Axes>"
      ]
     },
     "metadata": {
      "needs_background": "light"
     },
     "output_type": "display_data"
    }
   ],
   "source": [
    "test_param_and_plot('max_features', [0.1,0.2,0.5,0.7,0.9])"
   ]
  },
  {
   "cell_type": "code",
   "execution_count": 127,
   "metadata": {
    "colab": {
     "base_uri": "https://localhost:8080/",
     "height": 405
    },
    "executionInfo": {
     "elapsed": 142985,
     "status": "ok",
     "timestamp": 1677546881061,
     "user": {
      "displayName": "Rahul Gowda",
      "userId": "07531651890169502464"
     },
     "user_tz": -330
    },
    "id": "Z0aKEIcT-ZVk",
    "outputId": "cf1e2717-0d60-4be6-8d92-8c2173d2d06c"
   },
   "outputs": [
    {
     "data": {
      "image/png": "[encoded data removed]",
      "text/plain": [
       "<Figure size 720x432 with 1 Axes>"
      ]
     },
     "metadata": {
      "needs_background": "light"
     },
     "output_type": "display_data"
    }
   ],
   "source": [
    "test_param_and_plot('min_samples_leaf', [1,3,5])"
   ]
  },
  {
   "cell_type": "code",
   "execution_count": 128,
   "metadata": {
    "colab": {
     "base_uri": "https://localhost:8080/"
    },
    "executionInfo": {
     "elapsed": 27894,
     "status": "ok",
     "timestamp": 1677546908949,
     "user": {
      "displayName": "Rahul Gowda",
      "userId": "07531651890169502464"
     },
     "user_tz": -330
    },
    "id": "ETfLDsGjZ2ae",
    "outputId": "1b1751a6-c4f7-474b-af6d-4c34af9e537e"
   },
   "outputs": [
    {
     "data": {
      "text/plain": [
       "(1.0419692291377014, 1.085587731133341)"
      ]
     },
     "execution_count": 128,
     "metadata": {},
     "output_type": "execute_result"
    }
   ],
   "source": [
    "test_params( max_depth= 25, max_features = 0.7, min_samples_leaf =1, min_samples_split= 2)"
   ]
  },
  {
   "cell_type": "code",
   "execution_count": 129,
   "metadata": {
    "colab": {
     "base_uri": "https://localhost:8080/"
    },
    "executionInfo": {
     "elapsed": 45084,
     "status": "ok",
     "timestamp": 1677546954028,
     "user": {
      "displayName": "Rahul Gowda",
      "userId": "07531651890169502464"
     },
     "user_tz": -330
    },
    "id": "6kgukzVTbHfG",
    "outputId": "2d489e1e-fb3d-4259-a7c9-d3fa3f9dfdac"
   },
   "outputs": [
    {
     "data": {
      "text/plain": [
       "(0.8586890399450189, 1.0828163402507482)"
      ]
     },
     "execution_count": 129,
     "metadata": {},
     "output_type": "execute_result"
    }
   ],
   "source": [
    "test_params( max_depth= 30, max_features = 'auto', min_samples_leaf =1, min_samples_split= 2)"
   ]
  },
  {
   "cell_type": "code",
   "execution_count": 130,
   "metadata": {
    "colab": {
     "base_uri": "https://localhost:8080/"
    },
    "executionInfo": {
     "elapsed": 22291,
     "status": "ok",
     "timestamp": 1677546976299,
     "user": {
      "displayName": "Rahul Gowda",
      "userId": "07531651890169502464"
     },
     "user_tz": -330
    },
    "id": "bpbIiYS2cVUw",
    "outputId": "731b14e5-5a35-4bdd-8740-34434e37c178"
   },
   "outputs": [
    {
     "data": {
      "text/plain": [
       "(0.8481939126656336, 1.0892692109537445)"
      ]
     },
     "execution_count": 130,
     "metadata": {},
     "output_type": "execute_result"
    }
   ],
   "source": [
    "test_params( max_depth= 30, n_estimators=50, min_samples_leaf =1, min_samples_split= 2)"
   ]
  },
  {
   "cell_type": "code",
   "execution_count": 131,
   "metadata": {
    "colab": {
     "base_uri": "https://localhost:8080/",
     "height": 423
    },
    "executionInfo": {
     "elapsed": 56236,
     "status": "ok",
     "timestamp": 1677547032502,
     "user": {
      "displayName": "Rahul Gowda",
      "userId": "07531651890169502464"
     },
     "user_tz": -330
    },
    "id": "5fhf6OFGKOcQ",
    "outputId": "a73797cc-6813-4e48-9dfa-0b7ef14da0f9"
   },
   "outputs": [
    {
     "data": {
      "text/html": [
       "\n",
       "  <div id=\"df-9440383a-4e08-4eb8-9b2d-a059da008ddd\">\n",
       "    <div class=\"colab-df-container\">\n",
       "      <div>\n",
       "<style scoped>\n",
       "    .dataframe tbody tr th:only-of-type {\n",
       "        vertical-align: middle;\n",
       "    }\n",
       "\n",
       "    .dataframe tbody tr th {\n",
       "        vertical-align: top;\n",
       "    }\n",
       "\n",
       "    .dataframe thead th {\n",
       "        text-align: right;\n",
       "    }\n",
       "</style>\n",
       "<table border=\"1\" class=\"dataframe\">\n",
       "  <thead>\n",
       "    <tr style=\"text-align: right;\">\n",
       "      <th></th>\n",
       "      <th>id</th>\n",
       "      <th>sales</th>\n",
       "    </tr>\n",
       "  </thead>\n",
       "  <tbody>\n",
       "    <tr>\n",
       "      <th>0</th>\n",
       "      <td>3000888</td>\n",
       "      <td>4.834454</td>\n",
       "    </tr>\n",
       "    <tr>\n",
       "      <th>1</th>\n",
       "      <td>3000889</td>\n",
       "      <td>0.067247</td>\n",
       "    </tr>\n",
       "    <tr>\n",
       "      <th>2</th>\n",
       "      <td>3000890</td>\n",
       "      <td>46.221610</td>\n",
       "    </tr>\n",
       "    <tr>\n",
       "      <th>3</th>\n",
       "      <td>3000891</td>\n",
       "      <td>2333.140000</td>\n",
       "    </tr>\n",
       "    <tr>\n",
       "      <th>4</th>\n",
       "      <td>3000892</td>\n",
       "      <td>0.059318</td>\n",
       "    </tr>\n",
       "    <tr>\n",
       "      <th>...</th>\n",
       "      <td>...</td>\n",
       "      <td>...</td>\n",
       "    </tr>\n",
       "    <tr>\n",
       "      <th>28507</th>\n",
       "      <td>3029395</td>\n",
       "      <td>455.734540</td>\n",
       "    </tr>\n",
       "    <tr>\n",
       "      <th>28508</th>\n",
       "      <td>3029396</td>\n",
       "      <td>73.376100</td>\n",
       "    </tr>\n",
       "    <tr>\n",
       "      <th>28509</th>\n",
       "      <td>3029397</td>\n",
       "      <td>1565.557332</td>\n",
       "    </tr>\n",
       "    <tr>\n",
       "      <th>28510</th>\n",
       "      <td>3029398</td>\n",
       "      <td>187.435494</td>\n",
       "    </tr>\n",
       "    <tr>\n",
       "      <th>28511</th>\n",
       "      <td>3029399</td>\n",
       "      <td>23.912640</td>\n",
       "    </tr>\n",
       "  </tbody>\n",
       "</table>\n",
       "<p>28512 rows × 2 columns</p>\n",
       "</div>\n",
       "      <button class=\"colab-df-convert\" onclick=\"convertToInteractive('df-9440383a-4e08-4eb8-9b2d-a059da008ddd')\"\n",
       "              title=\"Convert this dataframe to an interactive table.\"\n",
       "              style=\"display:none;\">\n",
       "        \n",
       "  <svg xmlns=\"http://www.w3.org/2000/svg\" height=\"24px\"viewBox=\"0 0 24 24\"\n",
       "       width=\"24px\">\n",
       "    <path d=\"M0 0h24v24H0V0z\" fill=\"none\"/>\n",
       "    <path d=\"M18.56 5.44l.94 2.06.94-2.06 2.06-.94-2.06-.94-.94-2.06-.94 2.06-2.06.94zm-11 1L8.5 8.5l.94-2.06 2.06-.94-2.06-.94L8.5 2.5l-.94 2.06-2.06.94zm10 10l.94 2.06.94-2.06 2.06-.94-2.06-.94-.94-2.06-.94 2.06-2.06.94z\"/><path d=\"M17.41 7.96l-1.37-1.37c-.4-.4-.92-.59-1.43-.59-.52 0-1.04.2-1.43.59L10.3 9.45l-7.72 7.72c-.78.78-.78 2.05 0 2.83L4 21.41c.39.39.9.59 1.41.59.51 0 1.02-.2 1.41-.59l7.78-7.78 2.81-2.81c.8-.78.8-2.07 0-2.86zM5.41 20L4 18.59l7.72-7.72 1.47 1.35L5.41 20z\"/>\n",
       "  </svg>\n",
       "      </button>\n",
       "      \n",
       "  <style>\n",
       "    .colab-df-container {\n",
       "      display:flex;\n",
       "      flex-wrap:wrap;\n",
       "      gap: 12px;\n",
       "    }\n",
       "\n",
       "    .colab-df-convert {\n",
       "      background-color: #E8F0FE;\n",
       "      border: none;\n",
       "      border-radius: 50%;\n",
       "      cursor: pointer;\n",
       "      display: none;\n",
       "      fill: #1967D2;\n",
       "      height: 32px;\n",
       "      padding: 0 0 0 0;\n",
       "      width: 32px;\n",
       "    }\n",
       "\n",
       "    .colab-df-convert:hover {\n",
       "      background-color: #E2EBFA;\n",
       "      box-shadow: 0px 1px 2px rgba(60, 64, 67, 0.3), 0px 1px 3px 1px rgba(60, 64, 67, 0.15);\n",
       "      fill: #174EA6;\n",
       "    }\n",
       "\n",
       "    [theme=dark] .colab-df-convert {\n",
       "      background-color: #3B4455;\n",
       "      fill: #D2E3FC;\n",
       "    }\n",
       "\n",
       "    [theme=dark] .colab-df-convert:hover {\n",
       "      background-color: #434B5C;\n",
       "      box-shadow: 0px 1px 3px 1px rgba(0, 0, 0, 0.15);\n",
       "      filter: drop-shadow(0px 1px 2px rgba(0, 0, 0, 0.3));\n",
       "      fill: #FFFFFF;\n",
       "    }\n",
       "  </style>\n",
       "\n",
       "      <script>\n",
       "        const buttonEl =\n",
       "          document.querySelector('#df-9440383a-4e08-4eb8-9b2d-a059da008ddd button.colab-df-convert');\n",
       "        buttonEl.style.display =\n",
       "          google.colab.kernel.accessAllowed ? 'block' : 'none';\n",
       "\n",
       "        async function convertToInteractive(key) {\n",
       "          const element = document.querySelector('#df-9440383a-4e08-4eb8-9b2d-a059da008ddd');\n",
       "          const dataTable =\n",
       "            await google.colab.kernel.invokeFunction('convertToInteractive',\n",
       "                                                     [key], {});\n",
       "          if (!dataTable) return;\n",
       "\n",
       "          const docLinkHtml = 'Like what you see? Visit the ' +\n",
       "            '<a target=\"_blank\" href=https://colab.research.google.com/notebooks/data_table.ipynb>data table notebook</a>'\n",
       "            + ' to learn more about interactive tables.';\n",
       "          element.innerHTML = '';\n",
       "          dataTable['output_type'] = 'display_data';\n",
       "          await google.colab.output.renderOutput(dataTable, element);\n",
       "          const docLink = document.createElement('div');\n",
       "          docLink.innerHTML = docLinkHtml;\n",
       "          element.appendChild(docLink);\n",
       "        }\n",
       "      </script>\n",
       "    </div>\n",
       "  </div>\n",
       "  "
      ],
      "text/plain": [
       "            id        sales\n",
       "0      3000888     4.834454\n",
       "1      3000889     0.067247\n",
       "2      3000890    46.221610\n",
       "3      3000891  2333.140000\n",
       "4      3000892     0.059318\n",
       "...        ...          ...\n",
       "28507  3029395   455.734540\n",
       "28508  3029396    73.376100\n",
       "28509  3029397  1565.557332\n",
       "28510  3029398   187.435494\n",
       "28511  3029399    23.912640\n",
       "\n",
       "[28512 rows x 2 columns]"
      ]
     },
     "execution_count": 131,
     "metadata": {},
     "output_type": "execute_result"
    }
   ],
   "source": [
    "predict_and_submit(RandomForestRegressor(random_state=42,\n",
    "                                         max_depth= 40,\n",
    "                                         max_features = 0.9,\n",
    "                                         min_samples_leaf =1,\n",
    "                                         min_samples_split= 2 ) , 'hyperparameter_randomForestRegressor_forecast.csv')"
   ]
  },
  {
   "cell_type": "markdown",
   "metadata": {
    "id": "tvBmt4Z6uGzY"
   },
   "source": [
    "# Exponential Weighted Moving Average"
   ]
  },
  {
   "cell_type": "markdown",
   "metadata": {
    "id": "ubdwPW6buOkJ"
   },
   "source": [
    "Moving Average (MA) is one of the most and commonly used strategy in marketing analysis. It has two types Simple Moving Average (SMA) and Exponential Moving Average (EMA). To learn more about moving average refer to this [video](https://youtu.be/Kt-6PfYg_II).\n",
    "\n",
    "\n",
    "$$ EMA = [Current Sales * e] + [Previous EMA * (1-e)]$$\n",
    "\n",
    "where:\n",
    "\n",
    "$e = 2/(Totaldays +1)$"
   ]
  },
  {
   "cell_type": "code",
   "execution_count": 132,
   "metadata": {
    "executionInfo": {
     "elapsed": 60,
     "status": "ok",
     "timestamp": 1677547032503,
     "user": {
      "displayName": "Rahul Gowda",
      "userId": "07531651890169502464"
     },
     "user_tz": -330
    },
    "id": "eA3XZyYhuRCg"
   },
   "outputs": [],
   "source": [
    "# Date Features\n",
    "def create_date_features_Date(df):\n",
    "    df['month'] = df.Date.dt.month\n",
    "    df['day_of_month'] = df.Date.dt.day\n",
    "    df['day_of_year'] = df.Date.dt.dayofyear\n",
    "    df['week_of_year'] = df.Date.dt.weekofyear\n",
    "    df['day_of_week'] = df.Date.dt.dayofweek\n",
    "    df['year'] = df.Date.dt.year\n",
    "    return df\n",
    "    \n",
    "# Exponentially Weighted Average Features\n",
    "def ewm_features(dataframe, alphas, lags):\n",
    "    dataframe = dataframe.copy()\n",
    "    for alpha in alphas:\n",
    "        for lag in lags:\n",
    "            dataframe['sales_ewm_alpha_' + str(alpha).replace(\".\", \"\") + \"_lag_\" + str(lag)] = \\\n",
    "                dataframe.groupby([\"store_nbr\", \"family\"])['sales']. \\\n",
    "                    transform(lambda x: x.shift(lag).ewm(alpha=alpha).mean())\n",
    "    return dataframe"
   ]
  },
  {
   "cell_type": "code",
   "execution_count": 133,
   "metadata": {
    "executionInfo": {
     "elapsed": 59,
     "status": "ok",
     "timestamp": 1677547032504,
     "user": {
      "displayName": "Rahul Gowda",
      "userId": "07531651890169502464"
     },
     "user_tz": -330
    },
    "id": "dAWPFXv7uRFL"
   },
   "outputs": [],
   "source": [
    "# Feature Importance\n",
    "def plot_lgb_importances(model, plot=False, num=10):\n",
    "\n",
    "    gain = model.feature_importance('gain')\n",
    "    feature_imp = pd.DataFrame({'feature': model.feature_name(),\n",
    "                             'split': model.feature_importance('split'),\n",
    "                             'gain': 100 * gain / gain.sum()}).sort_values('gain', ascending=False)\n",
    "    if plot:\n",
    "        plt.figure(figsize=(10, 10))\n",
    "        sns.set(font_scale=1)\n",
    "        sns.barplot(x=\"gain\", y=\"feature\", data=feature_imp[0:25])\n",
    "        plt.title('Important Features')\n",
    "        plt.tight_layout()\n",
    "        plt.show()\n",
    "    else:\n",
    "        print(feature_imp.head(num)) "
   ]
  },
  {
   "cell_type": "markdown",
   "metadata": {
    "id": "xtfQPcFAu2rZ"
   },
   "source": [
    "Let's load up the data again and add the EMA features"
   ]
  },
  {
   "cell_type": "code",
   "execution_count": 134,
   "metadata": {
    "executionInfo": {
     "elapsed": 5841,
     "status": "ok",
     "timestamp": 1677547038287,
     "user": {
      "displayName": "Rahul Gowda",
      "userId": "07531651890169502464"
     },
     "user_tz": -330
    },
    "id": "GSfxZ3NFuyY_"
   },
   "outputs": [],
   "source": [
    "df_train = pd.read_csv(\"/content/store-sales-time-series-forecasting/train.csv\",index_col=0)\n",
    "df_test = pd.read_csv(\"/content/store-sales-time-series-forecasting/test.csv\",index_col=0)\n",
    "df_transactions = pd.read_csv(\"/content/store-sales-time-series-forecasting/transactions.csv\")\n",
    "df_stores = pd.read_csv(\"/content/store-sales-time-series-forecasting/stores.csv\")\n",
    "df_holidays = pd.read_csv(\"/content/store-sales-time-series-forecasting/holidays_events.csv\")\n",
    "df_oil = pd.read_csv(\"/content/store-sales-time-series-forecasting/oil.csv\")"
   ]
  },
  {
   "cell_type": "code",
   "execution_count": 135,
   "metadata": {
    "executionInfo": {
     "elapsed": 22,
     "status": "ok",
     "timestamp": 1677547038288,
     "user": {
      "displayName": "Rahul Gowda",
      "userId": "07531651890169502464"
     },
     "user_tz": -330
    },
    "id": "LllckeUZuycO"
   },
   "outputs": [],
   "source": [
    "import numpy as np\n",
    "df_oil.dcoilwtico[0]=93.00\n",
    "\n",
    "for i in list(df_oil[df_oil.dcoilwtico.isna()].index):\n",
    "  p= i-1\n",
    "  c= i+1\n",
    "  mean = np.mean([df_oil.dcoilwtico[p],\n",
    "                  df_oil.dcoilwtico[c]])\n",
    "  df_oil.dcoilwtico[i]=mean\n",
    "\n",
    "df_oil.dcoilwtico[1174]=46.02\n",
    "df_oil.dcoilwtico[1175]=46.02\n",
    "df_oil['date'] = df_oil['date'].astype(\"datetime64\")"
   ]
  },
  {
   "cell_type": "code",
   "execution_count": 136,
   "metadata": {
    "executionInfo": {
     "elapsed": 32501,
     "status": "ok",
     "timestamp": 1677547070768,
     "user": {
      "displayName": "Rahul Gowda",
      "userId": "07531651890169502464"
     },
     "user_tz": -330
    },
    "id": "AV1hEh7tvq6V"
   },
   "outputs": [],
   "source": [
    "df_date = pd.DataFrame(pd.date_range(\"2013-01-01\",\"2017-08-31\"),columns=[\"date\"])\n",
    "df_oil = df_date.merge(df_oil,left_on='date',right_on='date',how='left').fillna(method='ffill').fillna(method='bfill')\n",
    "\n",
    "df_all = df_train.append(df_test)\n",
    "df_all = df_all.merge(df_stores,left_on=\"store_nbr\",right_on=\"store_nbr\",how=\"left\")\n",
    "\n",
    "df_holidays = df_holidays.rename(columns = {\"type\":\"Holiday_type\"})\n",
    "df_all = df_all.merge(df_holidays,left_on=\"date\",right_on=\"date\",how=\"left\")\n",
    "\n",
    "df_all = df_all.merge(df_transactions,left_on=[\"date\",\"store_nbr\"],\n",
    "                      right_on=[\"date\",\"store_nbr\"],how=\"left\")\n",
    "\n",
    "df_all[\"date\"] = df_all[\"date\"].astype(\"datetime64\")\n",
    "df_all = df_all.merge(df_oil,left_on=\"date\",right_on=\"date\",how=\"left\")\n",
    "df_all = df_all.replace(\",\",\"_\",regex=True)\n",
    "\n",
    "#Rename the date column\n",
    "df_all = df_all.rename(columns = {\"date\":\"Date\"})"
   ]
  },
  {
   "cell_type": "code",
   "execution_count": 137,
   "metadata": {
    "executionInfo": {
     "elapsed": 37,
     "status": "ok",
     "timestamp": 1677547070783,
     "user": {
      "displayName": "Rahul Gowda",
      "userId": "07531651890169502464"
     },
     "user_tz": -330
    },
    "id": "B66kMBOyvq9x"
   },
   "outputs": [],
   "source": [
    "col = ['Date','store_nbr','family','sales','onpromotion','city', 'state', 'type', 'locale_name','cluster','Holiday_type','locale','description', 'transferred','dcoilwtico']\n",
    "\n",
    "df = df_all[col]"
   ]
  },
  {
   "cell_type": "code",
   "execution_count": 138,
   "metadata": {
    "executionInfo": {
     "elapsed": 46073,
     "status": "ok",
     "timestamp": 1677547116821,
     "user": {
      "displayName": "Rahul Gowda",
      "userId": "07531651890169502464"
     },
     "user_tz": -330
    },
    "id": "d77ymkBMvrCN"
   },
   "outputs": [],
   "source": [
    "df[\"store_nbr\"] = df[\"store_nbr\"].astype(\"category\")\n",
    "df[\"family\"] = df[\"family\"].astype(\"category\")\n",
    "df[\"onpromotion\"] = df[\"onpromotion\"].astype(\"int64\")\n",
    "df[\"city\"] = df[\"city\"].astype(\"category\")#\n",
    "df[\"state\"] = df[\"state\"].astype(\"category\")#\n",
    "df[\"type\"] = df[\"type\"].astype(\"category\")#\n",
    "df[\"Holiday_type\"] = df[\"Holiday_type\"].astype(\"category\")\n",
    "df[\"locale\"] = df[\"locale\"].astype(\"category\")\n",
    "df[\"locale_name\"] = df[\"locale_name\"].astype(\"category\")#\n",
    "df[\"description\"] = df[\"description\"].astype(\"category\")\n",
    "df[\"transferred\"] = df[\"transferred\"].astype(\"category\")\n",
    "\n",
    "######################### \n",
    "df = create_date_features_Date(df)\n",
    "alphas = [0.95, 0.9, 0.8, 0.5]\n",
    "lags =[1, 6, 7, 8, 30]\n",
    "df = ewm_features(df, alphas, lags)\n",
    "#######################\n",
    "\n",
    "df['sales'] = np.log1p(df[\"sales\"].values) #Logarithmic Conversion "
   ]
  },
  {
   "cell_type": "markdown",
   "metadata": {
    "id": "lfURfPLsv0OS"
   },
   "source": [
    "Now we will split the data in Train/Val/Test using dates.\n",
    "\n",
    "* Train: 1 JAN 2013 - 1 OCT 2017 (99.9%)\n",
    "\n",
    "* Validation : 2 OCT 2017 - 15 OCT 2017 (0.1%)\n",
    "\n",
    "* Test will be having original test dates data."
   ]
  },
  {
   "cell_type": "code",
   "execution_count": 139,
   "metadata": {
    "executionInfo": {
     "elapsed": 1647,
     "status": "ok",
     "timestamp": 1677547118463,
     "user": {
      "displayName": "Rahul Gowda",
      "userId": "07531651890169502464"
     },
     "user_tz": -330
    },
    "id": "LuvnCikdvrRN"
   },
   "outputs": [],
   "source": [
    "#Train Test Split\n",
    "df= df[df[\"Date\"]>\"2012-12-31\"]\n",
    "val = df[(df[\"Date\"]>\"2017-08-01\")&(df[\"Date\"]<=\"2017-08-15\")]\n",
    "train  = df[df[\"Date\"]<=\"2017-08-01\"]\n",
    "test = df[df[\"Date\"]>\"2017-08-15\"]\n",
    "\n",
    "col_X = [col for col in train.columns if col not in ['Date', 'sales','year']]\n",
    "\n",
    "y_train = train[\"sales\"]\n",
    "y_val = val[\"sales\"]\n",
    "X_train = train[col_X]\n",
    "X_val = val[col_X]\n",
    "X_test = test[col_X]\n",
    "y_test = test[\"sales\"] "
   ]
  },
  {
   "cell_type": "markdown",
   "metadata": {
    "id": "GWC1b1jCwq_M"
   },
   "source": [
    "## Training with LightGBM"
   ]
  },
  {
   "cell_type": "code",
   "execution_count": 140,
   "metadata": {
    "executionInfo": {
     "elapsed": 414,
     "status": "ok",
     "timestamp": 1677547118872,
     "user": {
      "displayName": "Rahul Gowda",
      "userId": "07531651890169502464"
     },
     "user_tz": -330
    },
    "id": "-a7l008Ew-pU"
   },
   "outputs": [],
   "source": [
    "import lightgbm as lgb\n"
   ]
  },
  {
   "cell_type": "code",
   "execution_count": 141,
   "metadata": {
    "executionInfo": {
     "elapsed": 5,
     "status": "ok",
     "timestamp": 1677547118872,
     "user": {
      "displayName": "Rahul Gowda",
      "userId": "07531651890169502464"
     },
     "user_tz": -330
    },
    "id": "oXLi6k9dvrUG"
   },
   "outputs": [],
   "source": [
    "# LightGBM parameters\n",
    "lgb_params = {'metric': {'mse'},\n",
    "              'boosting_type' : 'gbdt',\n",
    "              'num_leaves': 8,\n",
    "              'learning_rate': 0.2,\n",
    "              #'feature_fraction': 0.8,\n",
    "              'max_depth': 7,\n",
    "              'verbose': 0,\n",
    "              'num_boost_round': 5000,\n",
    "              'early_stopping_rounds': 200,\n",
    "              'nthread': -1,\n",
    "             'force_col_wise':True}\n",
    "\n",
    "lgbtrain = lgb.Dataset(data=X_train, label=y_train, feature_name=col_X)\n",
    "lgbtest = lgb.Dataset(data=X_val, label=y_val, reference=lgbtrain, feature_name=col_X)"
   ]
  },
  {
   "cell_type": "code",
   "execution_count": 142,
   "metadata": {
    "colab": {
     "base_uri": "https://localhost:8080/"
    },
    "executionInfo": {
     "elapsed": 1724265,
     "status": "ok",
     "timestamp": 1677548843133,
     "user": {
      "displayName": "Rahul Gowda",
      "userId": "07531651890169502464"
     },
     "user_tz": -330
    },
    "id": "uKVVVPPWw9m8",
    "outputId": "f1813466-5c78-4c85-d9bf-16d7147d1261"
   },
   "outputs": [
    {
     "name": "stdout",
     "output_type": "stream",
     "text": [
      "Training until validation scores don't improve for 200 rounds.\n",
      "[200]\ttraining's l2: 0.155706\tvalid_1's l2: 0.162394\n",
      "[400]\ttraining's l2: 0.145758\tvalid_1's l2: 0.155851\n",
      "[600]\ttraining's l2: 0.140009\tvalid_1's l2: 0.152499\n",
      "[800]\ttraining's l2: 0.135889\tvalid_1's l2: 0.149843\n",
      "[1000]\ttraining's l2: 0.13302\tvalid_1's l2: 0.147694\n",
      "[1200]\ttraining's l2: 0.130914\tvalid_1's l2: 0.146494\n",
      "[1400]\ttraining's l2: 0.128992\tvalid_1's l2: 0.145386\n",
      "[1600]\ttraining's l2: 0.12721\tvalid_1's l2: 0.144632\n",
      "[1800]\ttraining's l2: 0.125958\tvalid_1's l2: 0.143559\n",
      "[2000]\ttraining's l2: 0.1248\tvalid_1's l2: 0.142802\n",
      "[2200]\ttraining's l2: 0.123793\tvalid_1's l2: 0.142442\n",
      "[2400]\ttraining's l2: 0.122895\tvalid_1's l2: 0.142212\n",
      "[2600]\ttraining's l2: 0.122081\tvalid_1's l2: 0.141954\n",
      "[2800]\ttraining's l2: 0.12125\tvalid_1's l2: 0.141631\n",
      "[3000]\ttraining's l2: 0.120437\tvalid_1's l2: 0.141492\n",
      "[3200]\ttraining's l2: 0.119748\tvalid_1's l2: 0.141433\n",
      "[3400]\ttraining's l2: 0.119076\tvalid_1's l2: 0.141274\n",
      "[3600]\ttraining's l2: 0.118477\tvalid_1's l2: 0.141341\n",
      "Early stopping, best iteration is:\n",
      "[3558]\ttraining's l2: 0.118597\tvalid_1's l2: 0.141252\n"
     ]
    }
   ],
   "source": [
    "model = lgb.train(lgb_params, lgbtrain,\n",
    "                  valid_sets=[lgbtrain, lgbtest],\n",
    "                  num_boost_round=lgb_params['num_boost_round'],\n",
    "                  early_stopping_rounds=lgb_params['early_stopping_rounds'],\n",
    "                  verbose_eval=200)"
   ]
  },
  {
   "cell_type": "code",
   "execution_count": 143,
   "metadata": {
    "executionInfo": {
     "elapsed": 24,
     "status": "ok",
     "timestamp": 1677548843134,
     "user": {
      "displayName": "Rahul Gowda",
      "userId": "07531651890169502464"
     },
     "user_tz": -330
    },
    "id": "z8pRRhfH3uFD"
   },
   "outputs": [],
   "source": [
    "def rmsle(y_true, y_pred):\n",
    "    return np.sqrt(np.mean(np.square(np.log1p(y_pred) - np.log1p(y_true))))"
   ]
  },
  {
   "cell_type": "code",
   "execution_count": 144,
   "metadata": {
    "executionInfo": {
     "elapsed": 22,
     "status": "ok",
     "timestamp": 1677548843134,
     "user": {
      "displayName": "Rahul Gowda",
      "userId": "07531651890169502464"
     },
     "user_tz": -330
    },
    "id": "NTsfTk3n5RtJ"
   },
   "outputs": [],
   "source": [
    "#Helper function for evaluation metric\n",
    "from sklearn.metrics import mean_squared_log_error\n",
    "pd.options.display.float_format = '{:,.2f}'.format\n",
    "\n",
    "def eval_metrics(targets, pred):\n",
    "\n",
    "  # Targets = Train targets or Val targets (tarin_targets / val_targets)\n",
    "  # pred = model predicts\n",
    "\n",
    "   rmsle = round(mean_squared_log_error(targets, pred, squared= False),3)\n",
    "\n",
    "   return {'RMSLE': rmsle}"
   ]
  },
  {
   "cell_type": "code",
   "execution_count": 145,
   "metadata": {
    "colab": {
     "base_uri": "https://localhost:8080/"
    },
    "executionInfo": {
     "elapsed": 5752,
     "status": "ok",
     "timestamp": 1677548848865,
     "user": {
      "displayName": "Rahul Gowda",
      "userId": "07531651890169502464"
     },
     "user_tz": -330
    },
    "id": "88vNlYxZwx7m",
    "outputId": "ba69ced3-62a4-49ec-a8c8-2ffdc16dba53"
   },
   "outputs": [
    {
     "data": {
      "text/plain": [
       "{'RMSLE': 0.376}"
      ]
     },
     "execution_count": 145,
     "metadata": {},
     "output_type": "execute_result"
    }
   ],
   "source": [
    "y_pred_val = model.predict(X_val, num_iteration=model.best_iteration)\n",
    "y_pred_val[y_pred_val<0]=0\n",
    "eval_metrics(np.expm1(y_val), np.expm1(y_pred_val))"
   ]
  },
  {
   "cell_type": "code",
   "execution_count": 146,
   "metadata": {
    "colab": {
     "base_uri": "https://localhost:8080/",
     "height": 725
    },
    "executionInfo": {
     "elapsed": 958,
     "status": "ok",
     "timestamp": 1677548849804,
     "user": {
      "displayName": "Rahul Gowda",
      "userId": "07531651890169502464"
     },
     "user_tz": -330
    },
    "id": "_rWPDHClwx-f",
    "outputId": "ab57e060-4cca-4d21-f528-28eb283a1993"
   },
   "outputs": [
    {
     "data": {
      "image/png": "[encoded data removed]",
      "text/plain": [
       "<Figure size 720x720 with 1 Axes>"
      ]
     },
     "metadata": {
      "needs_background": "light"
     },
     "output_type": "display_data"
    }
   ],
   "source": [
    "plot_lgb_importances(model, plot=True)"
   ]
  },
  {
   "cell_type": "code",
   "execution_count": 147,
   "metadata": {
    "executionInfo": {
     "elapsed": 5974,
     "status": "ok",
     "timestamp": 1677548855747,
     "user": {
      "displayName": "Rahul Gowda",
      "userId": "07531651890169502464"
     },
     "user_tz": -330
    },
    "id": "Hpwsz5M20gCT"
   },
   "outputs": [],
   "source": [
    "submission = pd.read_csv(\"./store-sales-time-series-forecasting/sample_submission.csv\")\n",
    "y_test = model.predict(X_test, num_iteration=model.best_iteration)\n",
    "y_test[y_test<0]=0\n",
    "submission[\"sales\"] = np.expm1(y_test)"
   ]
  },
  {
   "cell_type": "markdown",
   "metadata": {
    "id": "15BXHFT-5j7K"
   },
   "source": [
    "Writing the results into `final_submission` .csv file"
   ]
  },
  {
   "cell_type": "code",
   "execution_count": 148,
   "metadata": {
    "colab": {
     "base_uri": "https://localhost:8080/",
     "height": 423
    },
    "executionInfo": {
     "elapsed": 56,
     "status": "ok",
     "timestamp": 1677548855765,
     "user": {
      "displayName": "Rahul Gowda",
      "userId": "07531651890169502464"
     },
     "user_tz": -330
    },
    "id": "us9b-_SM5lPC",
    "outputId": "0aa549cc-d16f-4abc-a72a-12af6469628c"
   },
   "outputs": [
    {
     "data": {
      "text/html": [
       "\n",
       "  <div id=\"df-a107ffdf-27c2-4f46-be64-db559ae7467d\">\n",
       "    <div class=\"colab-df-container\">\n",
       "      <div>\n",
       "<style scoped>\n",
       "    .dataframe tbody tr th:only-of-type {\n",
       "        vertical-align: middle;\n",
       "    }\n",
       "\n",
       "    .dataframe tbody tr th {\n",
       "        vertical-align: top;\n",
       "    }\n",
       "\n",
       "    .dataframe thead th {\n",
       "        text-align: right;\n",
       "    }\n",
       "</style>\n",
       "<table border=\"1\" class=\"dataframe\">\n",
       "  <thead>\n",
       "    <tr style=\"text-align: right;\">\n",
       "      <th></th>\n",
       "      <th>id</th>\n",
       "      <th>sales</th>\n",
       "    </tr>\n",
       "  </thead>\n",
       "  <tbody>\n",
       "    <tr>\n",
       "      <th>0</th>\n",
       "      <td>3000888</td>\n",
       "      <td>3.96</td>\n",
       "    </tr>\n",
       "    <tr>\n",
       "      <th>1</th>\n",
       "      <td>3000889</td>\n",
       "      <td>0.00</td>\n",
       "    </tr>\n",
       "    <tr>\n",
       "      <th>2</th>\n",
       "      <td>3000890</td>\n",
       "      <td>5.50</td>\n",
       "    </tr>\n",
       "    <tr>\n",
       "      <th>3</th>\n",
       "      <td>3000891</td>\n",
       "      <td>2,459.76</td>\n",
       "    </tr>\n",
       "    <tr>\n",
       "      <th>4</th>\n",
       "      <td>3000892</td>\n",
       "      <td>0.03</td>\n",
       "    </tr>\n",
       "    <tr>\n",
       "      <th>...</th>\n",
       "      <td>...</td>\n",
       "      <td>...</td>\n",
       "    </tr>\n",
       "    <tr>\n",
       "      <th>28507</th>\n",
       "      <td>3029395</td>\n",
       "      <td>413.16</td>\n",
       "    </tr>\n",
       "    <tr>\n",
       "      <th>28508</th>\n",
       "      <td>3029396</td>\n",
       "      <td>127.94</td>\n",
       "    </tr>\n",
       "    <tr>\n",
       "      <th>28509</th>\n",
       "      <td>3029397</td>\n",
       "      <td>1,790.61</td>\n",
       "    </tr>\n",
       "    <tr>\n",
       "      <th>28510</th>\n",
       "      <td>3029398</td>\n",
       "      <td>114.04</td>\n",
       "    </tr>\n",
       "    <tr>\n",
       "      <th>28511</th>\n",
       "      <td>3029399</td>\n",
       "      <td>14.96</td>\n",
       "    </tr>\n",
       "  </tbody>\n",
       "</table>\n",
       "<p>28512 rows × 2 columns</p>\n",
       "</div>\n",
       "      <button class=\"colab-df-convert\" onclick=\"convertToInteractive('df-a107ffdf-27c2-4f46-be64-db559ae7467d')\"\n",
       "              title=\"Convert this dataframe to an interactive table.\"\n",
       "              style=\"display:none;\">\n",
       "        \n",
       "  <svg xmlns=\"http://www.w3.org/2000/svg\" height=\"24px\"viewBox=\"0 0 24 24\"\n",
       "       width=\"24px\">\n",
       "    <path d=\"M0 0h24v24H0V0z\" fill=\"none\"/>\n",
       "    <path d=\"M18.56 5.44l.94 2.06.94-2.06 2.06-.94-2.06-.94-.94-2.06-.94 2.06-2.06.94zm-11 1L8.5 8.5l.94-2.06 2.06-.94-2.06-.94L8.5 2.5l-.94 2.06-2.06.94zm10 10l.94 2.06.94-2.06 2.06-.94-2.06-.94-.94-2.06-.94 2.06-2.06.94z\"/><path d=\"M17.41 7.96l-1.37-1.37c-.4-.4-.92-.59-1.43-.59-.52 0-1.04.2-1.43.59L10.3 9.45l-7.72 7.72c-.78.78-.78 2.05 0 2.83L4 21.41c.39.39.9.59 1.41.59.51 0 1.02-.2 1.41-.59l7.78-7.78 2.81-2.81c.8-.78.8-2.07 0-2.86zM5.41 20L4 18.59l7.72-7.72 1.47 1.35L5.41 20z\"/>\n",
       "  </svg>\n",
       "      </button>\n",
       "      \n",
       "  <style>\n",
       "    .colab-df-container {\n",
       "      display:flex;\n",
       "      flex-wrap:wrap;\n",
       "      gap: 12px;\n",
       "    }\n",
       "\n",
       "    .colab-df-convert {\n",
       "      background-color: #E8F0FE;\n",
       "      border: none;\n",
       "      border-radius: 50%;\n",
       "      cursor: pointer;\n",
       "      display: none;\n",
       "      fill: #1967D2;\n",
       "      height: 32px;\n",
       "      padding: 0 0 0 0;\n",
       "      width: 32px;\n",
       "    }\n",
       "\n",
       "    .colab-df-convert:hover {\n",
       "      background-color: #E2EBFA;\n",
       "      box-shadow: 0px 1px 2px rgba(60, 64, 67, 0.3), 0px 1px 3px 1px rgba(60, 64, 67, 0.15);\n",
       "      fill: #174EA6;\n",
       "    }\n",
       "\n",
       "    [theme=dark] .colab-df-convert {\n",
       "      background-color: #3B4455;\n",
       "      fill: #D2E3FC;\n",
       "    }\n",
       "\n",
       "    [theme=dark] .colab-df-convert:hover {\n",
       "      background-color: #434B5C;\n",
       "      box-shadow: 0px 1px 3px 1px rgba(0, 0, 0, 0.15);\n",
       "      filter: drop-shadow(0px 1px 2px rgba(0, 0, 0, 0.3));\n",
       "      fill: #FFFFFF;\n",
       "    }\n",
       "  </style>\n",
       "\n",
       "      <script>\n",
       "        const buttonEl =\n",
       "          document.querySelector('#df-a107ffdf-27c2-4f46-be64-db559ae7467d button.colab-df-convert');\n",
       "        buttonEl.style.display =\n",
       "          google.colab.kernel.accessAllowed ? 'block' : 'none';\n",
       "\n",
       "        async function convertToInteractive(key) {\n",
       "          const element = document.querySelector('#df-a107ffdf-27c2-4f46-be64-db559ae7467d');\n",
       "          const dataTable =\n",
       "            await google.colab.kernel.invokeFunction('convertToInteractive',\n",
       "                                                     [key], {});\n",
       "          if (!dataTable) return;\n",
       "\n",
       "          const docLinkHtml = 'Like what you see? Visit the ' +\n",
       "            '<a target=\"_blank\" href=https://colab.research.google.com/notebooks/data_table.ipynb>data table notebook</a>'\n",
       "            + ' to learn more about interactive tables.';\n",
       "          element.innerHTML = '';\n",
       "          dataTable['output_type'] = 'display_data';\n",
       "          await google.colab.output.renderOutput(dataTable, element);\n",
       "          const docLink = document.createElement('div');\n",
       "          docLink.innerHTML = docLinkHtml;\n",
       "          element.appendChild(docLink);\n",
       "        }\n",
       "      </script>\n",
       "    </div>\n",
       "  </div>\n",
       "  "
      ],
      "text/plain": [
       "            id    sales\n",
       "0      3000888     3.96\n",
       "1      3000889     0.00\n",
       "2      3000890     5.50\n",
       "3      3000891 2,459.76\n",
       "4      3000892     0.03\n",
       "...        ...      ...\n",
       "28507  3029395   413.16\n",
       "28508  3029396   127.94\n",
       "28509  3029397 1,790.61\n",
       "28510  3029398   114.04\n",
       "28511  3029399    14.96\n",
       "\n",
       "[28512 rows x 2 columns]"
      ]
     },
     "execution_count": 148,
     "metadata": {},
     "output_type": "execute_result"
    }
   ],
   "source": [
    "submission.to_csv(\"final_submission.csv\",index=False)\n",
    "submission"
   ]
  },
  {
   "cell_type": "markdown",
   "metadata": {
    "id": "C6iiQ8eGKUVi"
   },
   "source": [
    "# Conclusion\n",
    "1. Base Model (Linear Regression)  \n",
    "The private leaderboard score for the Linear Regression model was 2.11573\n",
    "\n",
    "2. Random Forest Regressor    \n",
    "The private leaderboard score for the Random Foerst Regressor model was 0.89513\n",
    "\n",
    "3. Exponential Moving Average:          \n",
    "The public leaderboard score for the EMA was 0.44556 "
   ]
  },
  {
   "cell_type": "markdown",
   "metadata": {
    "id": "4hHhrRrVvBji"
   },
   "source": [
    "<img src='https://drive.google.com/uc?export=view&id=1xVhc7wLwmzkQzaSy5C8ra6RGlLxu4diQ' width=1000px>\n"
   ]
  },
  {
   "cell_type": "markdown",
   "metadata": {
    "id": "uHOMQ_4sKWIU"
   },
   "source": [
    "# Summary & Insights\n",
    "\n",
    "In this project, we have compared Decision tree regressor, Random forest regressor and XGB regressor models. A fraction of training data (0.02 of total training data), was used to train the model because of the low memory issue. Following are the major conclusion of this study.\n",
    "\n",
    "- EDA is an important step to develop insights on the given data.\n",
    "- Feature engineering helps in transforming the data in format that is best fit for fitting into a model.\n",
    "- Its always a good idea to compare two or more models to obtain best results.\n",
    "- It is found that after hypertuning the parameters, the training loss for training and bigger training dataset has significantly improved when measured against the RMSLE loss.\n",
    "- Gradient Boosting gives the best result for validation loss for RMSLE as compared to Decision Tree Regressor or Random Forest Regressor.\n",
    "- Whole training data must be used to get the best Kaggle score."
   ]
  },
  {
   "cell_type": "markdown",
   "metadata": {
    "id": "tHa5rUwo6795"
   },
   "source": [
    "#Future Work\n",
    "\n",
    "1. Implement more models to improve score like ARIMA.\n",
    "\n",
    "2. Can extract features from the target variable such as aggregrate, rolling stats since we have time-series data.\n",
    "\n",
    "3. Will work on Unsupurvised Machine Learning problems.\n",
    "\n",
    "4. Work on Deep learning and NLP projects."
   ]
  },
  {
   "cell_type": "markdown",
   "metadata": {
    "id": "ahc-g0h0KYPj"
   },
   "source": [
    "# References"
   ]
  },
  {
   "cell_type": "markdown",
   "metadata": {
    "id": "hZdwv6q5XBDS"
   },
   "source": [
    "*   Linear Regression : https://jovian.com/learn/zero-to-data-analyst-bootcamp/lesson/linear-regression-with-scikit-learn\n",
    "  \n",
    "*   Decision Trees and Random Forests : https://jovian.com/learn/zero-to-data-analyst-bootcamp/lesson/decision-trees-and-random-forests\n",
    "\n",
    "*   Gradient Boosting Machines with XGBoost : https://jovian.ai/learn/zero-to-data-analyst-bootcamp/lesson/gradient-boosting-machines-with-xgboost\n",
    "\n",
    "*   Stackoverflow and Geeksforgeeks\n",
    "\n",
    "*   https://www.youtube.com/watch?v=Kt-6PfYg_II"
   ]
  },
  {
   "cell_type": "markdown",
   "metadata": {
    "id": "uJPpr1yf7PsN"
   },
   "source": [
    "**Documentaion**\n",
    "\n",
    "[1]. Scikit Learn Supervised Learning [Doc](https://scikit-learn.org/stable/supervised_learning.html#supervised-learning)  \n",
    "\n",
    "[2]. Light GBM [Doc](https://lightgbm.readthedocs.io/en/latest/)  \n",
    "\n",
    "[3]. XGBoost [Doc](https://xgboost.readthedocs.io/en/latest/)\n",
    "\n",
    "[4]. RMSLE [Doc](https://scikit-learn.org/stable/modules/generated/sklearn.metrics.mean_squared_log_error.html)\n",
    "\n",
    "**Tutorials**\n",
    "\n",
    "[5]. How to approach Machine Learning Problems \n",
    "[Jovian Aakash N S](https://jovian.ai/learn/zero-to-data-analyst-bootcamp)\n",
    "\n",
    "[6]. Exponential Moving Average: [Video](https://youtu.be/Kt-6PfYg_II)\n",
    "\n",
    "\n",
    "**Blogs and Kaggle Kernels**\n",
    "\n",
    "[7]. Algorithm to find best moving average, Gianluca Malato: [Link](https://towardsdatascience.com/an-algorithm-to-find-the-best-moving-average-for-stock-trading-1b024672299c)\n",
    "\n",
    "[8]. Store Sales TS Forecasting - A Comprehensive Guide, EKREM BAYAR: [Link](https://www.kaggle.com/code/ekrembayar/store-sales-ts-forecasting-a-comprehensive-guide/notebook#11.-Exponential-Moving-Average)\n",
    "\n",
    "[9]. Time Series Analysis, KASHISH RASTOGI: [Link](https://www.kaggle.com/code/kashishrastogi/store-sales-analysis-time-serie?scriptVersionId=81112640)\n",
    "\n",
    "[10]. More Data Info: [Link](https://rpubs.com/yongks/favorita)\n",
    "\n",
    "[11]. Walmart Store Sales Forecasting, Anushree: [Link](https://jovian.ai/anushree-k/final-walmart-simple-rf-gbm#C0)\n",
    "\n",
    "\n",
    "**Queries**\n",
    "\n",
    "[12]. ChatGPT,StackOverflow, GeekforGeeks"
   ]
  }
 ],
 "metadata": {
  "colab": {
   "provenance": []
  },
  "kernelspec": {
   "display_name": "Python 3",
   "language": "python",
   "name": "python3"
  },
  "language_info": {
   "codemirror_mode": {
    "name": "ipython",
    "version": 3
   },
   "file_extension": ".py",
   "mimetype": "text/x-python",
   "name": "python",
   "nbconvert_exporter": "python",
   "pygments_lexer": "ipython3",
   "version": "3.7.6"
  }
 },
 "nbformat": 4,
 "nbformat_minor": 0
}